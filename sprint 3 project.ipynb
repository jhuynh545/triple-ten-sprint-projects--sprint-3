{
 "cells": [
  {
   "cell_type": "markdown",
   "metadata": {},
   "source": [
    "# Which one is a better plan?\n",
    "\n",
    "Megaline is a telecom comapny. The company offers its clients two prepaid plans, Surf and Ultimate. We are going to load all files and proceed to clean and analyze both plans to see what is the best for revenue going forward. We will carry out a preliminary analysis of the plans based on 500 clients from 2018. Lets go!"
   ]
  },
  {
   "cell_type": "markdown",
   "metadata": {},
   "source": [
    "## Initialization"
   ]
  },
  {
   "cell_type": "markdown",
   "metadata": {},
   "source": []
  },
  {
   "cell_type": "code",
   "execution_count": 1,
   "metadata": {},
   "outputs": [],
   "source": [
    "# Loading all the libraries\n",
    "import pandas as pd\n",
    "import numpy as np\n",
    "import matplotlib.pyplot as plt\n",
    "from scipy import stats as st\n",
    "import seaborn as sns"
   ]
  },
  {
   "cell_type": "markdown",
   "metadata": {},
   "source": [
    "## Load data"
   ]
  },
  {
   "cell_type": "markdown",
   "metadata": {},
   "source": []
  },
  {
   "cell_type": "code",
   "execution_count": 2,
   "metadata": {},
   "outputs": [],
   "source": [
    "# Load the data files into different DataFrames\n",
    "mg_calls = pd.read_csv('/datasets/megaline_calls.csv')\n",
    "mg_internet = pd.read_csv('/datasets/megaline_internet.csv')\n",
    "mg_messages = pd.read_csv('/datasets/megaline_messages.csv')\n",
    "mg_plans = pd.read_csv('/datasets/megaline_plans.csv')\n",
    "mg_users = pd.read_csv('/datasets/megaline_users.csv')"
   ]
  },
  {
   "cell_type": "markdown",
   "metadata": {},
   "source": [
    "Each dataframe is a different table. The table on calls is all data on each call. The internet table tells us the data on web sessions. The messages table tells us data on texts. The plans table consists of data on the plans. The last table is the users dataframe and that is information on the users. "
   ]
  },
  {
   "cell_type": "markdown",
   "metadata": {},
   "source": [
    "## Prepare the data"
   ]
  },
  {
   "cell_type": "markdown",
   "metadata": {},
   "source": [
    "## Plans"
   ]
  },
  {
   "cell_type": "code",
   "execution_count": 3,
   "metadata": {},
   "outputs": [
    {
     "name": "stdout",
     "output_type": "stream",
     "text": [
      "<class 'pandas.core.frame.DataFrame'>\n",
      "RangeIndex: 2 entries, 0 to 1\n",
      "Data columns (total 8 columns):\n",
      " #   Column                 Non-Null Count  Dtype  \n",
      "---  ------                 --------------  -----  \n",
      " 0   messages_included      2 non-null      int64  \n",
      " 1   mb_per_month_included  2 non-null      int64  \n",
      " 2   minutes_included       2 non-null      int64  \n",
      " 3   usd_monthly_pay        2 non-null      int64  \n",
      " 4   usd_per_gb             2 non-null      int64  \n",
      " 5   usd_per_message        2 non-null      float64\n",
      " 6   usd_per_minute         2 non-null      float64\n",
      " 7   plan_name              2 non-null      object \n",
      "dtypes: float64(2), int64(5), object(1)\n",
      "memory usage: 256.0+ bytes\n"
     ]
    }
   ],
   "source": [
    "# Print the general/summary information about the plans' DataFrame\n",
    "# .info() prints out general information on the DF\n",
    "mg_plans.info()"
   ]
  },
  {
   "cell_type": "code",
   "execution_count": 4,
   "metadata": {},
   "outputs": [
    {
     "data": {
      "text/html": [
       "<div>\n",
       "<style scoped>\n",
       "    .dataframe tbody tr th:only-of-type {\n",
       "        vertical-align: middle;\n",
       "    }\n",
       "\n",
       "    .dataframe tbody tr th {\n",
       "        vertical-align: top;\n",
       "    }\n",
       "\n",
       "    .dataframe thead th {\n",
       "        text-align: right;\n",
       "    }\n",
       "</style>\n",
       "<table border=\"1\" class=\"dataframe\">\n",
       "  <thead>\n",
       "    <tr style=\"text-align: right;\">\n",
       "      <th></th>\n",
       "      <th>messages_included</th>\n",
       "      <th>mb_per_month_included</th>\n",
       "      <th>minutes_included</th>\n",
       "      <th>usd_monthly_pay</th>\n",
       "      <th>usd_per_gb</th>\n",
       "      <th>usd_per_message</th>\n",
       "      <th>usd_per_minute</th>\n",
       "      <th>plan_name</th>\n",
       "    </tr>\n",
       "  </thead>\n",
       "  <tbody>\n",
       "    <tr>\n",
       "      <th>0</th>\n",
       "      <td>50</td>\n",
       "      <td>15360</td>\n",
       "      <td>500</td>\n",
       "      <td>20</td>\n",
       "      <td>10</td>\n",
       "      <td>0.03</td>\n",
       "      <td>0.03</td>\n",
       "      <td>surf</td>\n",
       "    </tr>\n",
       "    <tr>\n",
       "      <th>1</th>\n",
       "      <td>1000</td>\n",
       "      <td>30720</td>\n",
       "      <td>3000</td>\n",
       "      <td>70</td>\n",
       "      <td>7</td>\n",
       "      <td>0.01</td>\n",
       "      <td>0.01</td>\n",
       "      <td>ultimate</td>\n",
       "    </tr>\n",
       "  </tbody>\n",
       "</table>\n",
       "</div>"
      ],
      "text/plain": [
       "   messages_included  mb_per_month_included  minutes_included  \\\n",
       "0                 50                  15360               500   \n",
       "1               1000                  30720              3000   \n",
       "\n",
       "   usd_monthly_pay  usd_per_gb  usd_per_message  usd_per_minute plan_name  \n",
       "0               20          10             0.03            0.03      surf  \n",
       "1               70           7             0.01            0.01  ultimate  "
      ]
     },
     "metadata": {},
     "output_type": "display_data"
    }
   ],
   "source": [
    "# Print a sample of data for plans\n",
    "sample_size = min(5, len(mg_plans))\n",
    "display(mg_plans.sample(sample_size))"
   ]
  },
  {
   "cell_type": "markdown",
   "metadata": {},
   "source": [
    "The code above will print a sample up to 5 entries from the DF but no more."
   ]
  },
  {
   "cell_type": "code",
   "execution_count": 5,
   "metadata": {},
   "outputs": [
    {
     "data": {
      "text/html": [
       "<div>\n",
       "<style scoped>\n",
       "    .dataframe tbody tr th:only-of-type {\n",
       "        vertical-align: middle;\n",
       "    }\n",
       "\n",
       "    .dataframe tbody tr th {\n",
       "        vertical-align: top;\n",
       "    }\n",
       "\n",
       "    .dataframe thead th {\n",
       "        text-align: right;\n",
       "    }\n",
       "</style>\n",
       "<table border=\"1\" class=\"dataframe\">\n",
       "  <thead>\n",
       "    <tr style=\"text-align: right;\">\n",
       "      <th></th>\n",
       "      <th>messages_included</th>\n",
       "      <th>mb_per_month_included</th>\n",
       "      <th>minutes_included</th>\n",
       "      <th>usd_monthly_pay</th>\n",
       "      <th>usd_per_gb</th>\n",
       "      <th>usd_per_message</th>\n",
       "      <th>usd_per_minute</th>\n",
       "    </tr>\n",
       "  </thead>\n",
       "  <tbody>\n",
       "    <tr>\n",
       "      <th>count</th>\n",
       "      <td>2.000000</td>\n",
       "      <td>2.000000</td>\n",
       "      <td>2.000000</td>\n",
       "      <td>2.000000</td>\n",
       "      <td>2.00000</td>\n",
       "      <td>2.000000</td>\n",
       "      <td>2.000000</td>\n",
       "    </tr>\n",
       "    <tr>\n",
       "      <th>mean</th>\n",
       "      <td>525.000000</td>\n",
       "      <td>23040.000000</td>\n",
       "      <td>1750.000000</td>\n",
       "      <td>45.000000</td>\n",
       "      <td>8.50000</td>\n",
       "      <td>0.020000</td>\n",
       "      <td>0.020000</td>\n",
       "    </tr>\n",
       "    <tr>\n",
       "      <th>std</th>\n",
       "      <td>671.751442</td>\n",
       "      <td>10861.160159</td>\n",
       "      <td>1767.766953</td>\n",
       "      <td>35.355339</td>\n",
       "      <td>2.12132</td>\n",
       "      <td>0.014142</td>\n",
       "      <td>0.014142</td>\n",
       "    </tr>\n",
       "    <tr>\n",
       "      <th>min</th>\n",
       "      <td>50.000000</td>\n",
       "      <td>15360.000000</td>\n",
       "      <td>500.000000</td>\n",
       "      <td>20.000000</td>\n",
       "      <td>7.00000</td>\n",
       "      <td>0.010000</td>\n",
       "      <td>0.010000</td>\n",
       "    </tr>\n",
       "    <tr>\n",
       "      <th>25%</th>\n",
       "      <td>287.500000</td>\n",
       "      <td>19200.000000</td>\n",
       "      <td>1125.000000</td>\n",
       "      <td>32.500000</td>\n",
       "      <td>7.75000</td>\n",
       "      <td>0.015000</td>\n",
       "      <td>0.015000</td>\n",
       "    </tr>\n",
       "    <tr>\n",
       "      <th>50%</th>\n",
       "      <td>525.000000</td>\n",
       "      <td>23040.000000</td>\n",
       "      <td>1750.000000</td>\n",
       "      <td>45.000000</td>\n",
       "      <td>8.50000</td>\n",
       "      <td>0.020000</td>\n",
       "      <td>0.020000</td>\n",
       "    </tr>\n",
       "    <tr>\n",
       "      <th>75%</th>\n",
       "      <td>762.500000</td>\n",
       "      <td>26880.000000</td>\n",
       "      <td>2375.000000</td>\n",
       "      <td>57.500000</td>\n",
       "      <td>9.25000</td>\n",
       "      <td>0.025000</td>\n",
       "      <td>0.025000</td>\n",
       "    </tr>\n",
       "    <tr>\n",
       "      <th>max</th>\n",
       "      <td>1000.000000</td>\n",
       "      <td>30720.000000</td>\n",
       "      <td>3000.000000</td>\n",
       "      <td>70.000000</td>\n",
       "      <td>10.00000</td>\n",
       "      <td>0.030000</td>\n",
       "      <td>0.030000</td>\n",
       "    </tr>\n",
       "  </tbody>\n",
       "</table>\n",
       "</div>"
      ],
      "text/plain": [
       "       messages_included  mb_per_month_included  minutes_included  \\\n",
       "count           2.000000               2.000000          2.000000   \n",
       "mean          525.000000           23040.000000       1750.000000   \n",
       "std           671.751442           10861.160159       1767.766953   \n",
       "min            50.000000           15360.000000        500.000000   \n",
       "25%           287.500000           19200.000000       1125.000000   \n",
       "50%           525.000000           23040.000000       1750.000000   \n",
       "75%           762.500000           26880.000000       2375.000000   \n",
       "max          1000.000000           30720.000000       3000.000000   \n",
       "\n",
       "       usd_monthly_pay  usd_per_gb  usd_per_message  usd_per_minute  \n",
       "count         2.000000     2.00000         2.000000        2.000000  \n",
       "mean         45.000000     8.50000         0.020000        0.020000  \n",
       "std          35.355339     2.12132         0.014142        0.014142  \n",
       "min          20.000000     7.00000         0.010000        0.010000  \n",
       "25%          32.500000     7.75000         0.015000        0.015000  \n",
       "50%          45.000000     8.50000         0.020000        0.020000  \n",
       "75%          57.500000     9.25000         0.025000        0.025000  \n",
       "max          70.000000    10.00000         0.030000        0.030000  "
      ]
     },
     "execution_count": 5,
     "metadata": {},
     "output_type": "execute_result"
    }
   ],
   "source": [
    "# .describe() method gives a description on this dataframe\n",
    "mg_plans.describe()"
   ]
  },
  {
   "cell_type": "code",
   "execution_count": 6,
   "metadata": {},
   "outputs": [
    {
     "data": {
      "text/plain": [
       "array(['surf', 'ultimate'], dtype=object)"
      ]
     },
     "metadata": {},
     "output_type": "display_data"
    }
   ],
   "source": [
    "# making sure that there are for sure only 2 plan names that exists\n",
    "display(mg_plans['plan_name'].unique())"
   ]
  },
  {
   "cell_type": "markdown",
   "metadata": {},
   "source": [
    " "
   ]
  },
  {
   "cell_type": "markdown",
   "metadata": {},
   "source": [
    "## Fix data"
   ]
  },
  {
   "cell_type": "markdown",
   "metadata": {},
   "source": [
    "From my observation, it looks like there are no issues to fix at this time. "
   ]
  },
  {
   "cell_type": "markdown",
   "metadata": {},
   "source": [
    "## Enrich data\n",
    "For these sections going forward, I put what I thought it was asking and used projects prior to help with what to do. "
   ]
  },
  {
   "cell_type": "code",
   "execution_count": 7,
   "metadata": {},
   "outputs": [
    {
     "data": {
      "text/plain": [
       "0    0.03\n",
       "1    0.01\n",
       "Name: usd_per_message, dtype: float64"
      ]
     },
     "execution_count": 7,
     "metadata": {},
     "output_type": "execute_result"
    }
   ],
   "source": [
    "mg_plans['usd_per_message']"
   ]
  },
  {
   "cell_type": "code",
   "execution_count": 8,
   "metadata": {},
   "outputs": [
    {
     "data": {
      "text/plain": [
       "0    0.03\n",
       "1    0.01\n",
       "Name: usd_per_minute, dtype: float64"
      ]
     },
     "execution_count": 8,
     "metadata": {},
     "output_type": "execute_result"
    }
   ],
   "source": [
    "mg_plans['usd_per_minute']"
   ]
  },
  {
   "cell_type": "code",
   "execution_count": 9,
   "metadata": {},
   "outputs": [
    {
     "data": {
      "text/plain": [
       "0    10\n",
       "1     7\n",
       "Name: usd_per_gb, dtype: int64"
      ]
     },
     "execution_count": 9,
     "metadata": {},
     "output_type": "execute_result"
    }
   ],
   "source": [
    "mg_plans['usd_per_gb']"
   ]
  },
  {
   "cell_type": "code",
   "execution_count": 10,
   "metadata": {},
   "outputs": [
    {
     "data": {
      "text/plain": [
       "messages_included        0\n",
       "mb_per_month_included    0\n",
       "minutes_included         0\n",
       "usd_monthly_pay          0\n",
       "usd_per_gb               0\n",
       "usd_per_message          0\n",
       "usd_per_minute           0\n",
       "plan_name                0\n",
       "dtype: int64"
      ]
     },
     "execution_count": 10,
     "metadata": {},
     "output_type": "execute_result"
    }
   ],
   "source": [
    "# this checks for missing values\n",
    "mg_plans.isna().sum()"
   ]
  },
  {
   "cell_type": "code",
   "execution_count": 11,
   "metadata": {},
   "outputs": [
    {
     "data": {
      "text/plain": [
       "0"
      ]
     },
     "execution_count": 11,
     "metadata": {},
     "output_type": "execute_result"
    }
   ],
   "source": [
    "# this checks for duplicated rows\n",
    "mg_plans.duplicated().sum()"
   ]
  },
  {
   "cell_type": "markdown",
   "metadata": {},
   "source": [
    "Notes for Plans \n",
    "- A general overview of the plans tells you that there are several different datatypes in the dataframe: integers, floats, and objects.\n",
    "- There are 8 columns that give you a synopsis on the plans offered. \n",
    "- There are 2 plans offered. \n",
    "- For the Ultimate plan, you pay 70 USD every month and that includes 3000 call minutes and 1000 messages. \n",
    "- The Surf plan costs 20 USD every month and you get 500 call minutes with 50 messages allowed. \n",
    "- I printed out costs for plans: 0 for surf and 1 for ultimate. The numbers show what it costs when you go over the plan.\n",
    "- All columns are non-null, indicating there are no missing values in this DataFrame.\n",
    "- The .describe() method gives you the count, mean, std, min, 25 percentile, 50 percentile, 75% percentile, and max values. \n",
    "- There are no duplicated rows. "
   ]
  },
  {
   "cell_type": "markdown",
   "metadata": {},
   "source": [
    "## Users"
   ]
  },
  {
   "cell_type": "code",
   "execution_count": 12,
   "metadata": {},
   "outputs": [
    {
     "name": "stdout",
     "output_type": "stream",
     "text": [
      "<class 'pandas.core.frame.DataFrame'>\n",
      "RangeIndex: 500 entries, 0 to 499\n",
      "Data columns (total 8 columns):\n",
      " #   Column      Non-Null Count  Dtype \n",
      "---  ------      --------------  ----- \n",
      " 0   user_id     500 non-null    int64 \n",
      " 1   first_name  500 non-null    object\n",
      " 2   last_name   500 non-null    object\n",
      " 3   age         500 non-null    int64 \n",
      " 4   city        500 non-null    object\n",
      " 5   reg_date    500 non-null    object\n",
      " 6   plan        500 non-null    object\n",
      " 7   churn_date  34 non-null     object\n",
      "dtypes: int64(2), object(6)\n",
      "memory usage: 31.4+ KB\n"
     ]
    }
   ],
   "source": [
    "# Print the general/summary information about the users' DataFrame\n",
    "mg_users.info()"
   ]
  },
  {
   "cell_type": "code",
   "execution_count": 13,
   "metadata": {},
   "outputs": [
    {
     "data": {
      "text/html": [
       "<div>\n",
       "<style scoped>\n",
       "    .dataframe tbody tr th:only-of-type {\n",
       "        vertical-align: middle;\n",
       "    }\n",
       "\n",
       "    .dataframe tbody tr th {\n",
       "        vertical-align: top;\n",
       "    }\n",
       "\n",
       "    .dataframe thead th {\n",
       "        text-align: right;\n",
       "    }\n",
       "</style>\n",
       "<table border=\"1\" class=\"dataframe\">\n",
       "  <thead>\n",
       "    <tr style=\"text-align: right;\">\n",
       "      <th></th>\n",
       "      <th>user_id</th>\n",
       "      <th>first_name</th>\n",
       "      <th>last_name</th>\n",
       "      <th>age</th>\n",
       "      <th>city</th>\n",
       "      <th>reg_date</th>\n",
       "      <th>plan</th>\n",
       "      <th>churn_date</th>\n",
       "    </tr>\n",
       "  </thead>\n",
       "  <tbody>\n",
       "    <tr>\n",
       "      <th>251</th>\n",
       "      <td>1251</td>\n",
       "      <td>Tifany</td>\n",
       "      <td>Mcgee</td>\n",
       "      <td>45</td>\n",
       "      <td>New York-Newark-Jersey City, NY-NJ-PA MSA</td>\n",
       "      <td>2018-01-01</td>\n",
       "      <td>surf</td>\n",
       "      <td>NaN</td>\n",
       "    </tr>\n",
       "    <tr>\n",
       "      <th>359</th>\n",
       "      <td>1359</td>\n",
       "      <td>Sherley</td>\n",
       "      <td>Norris</td>\n",
       "      <td>33</td>\n",
       "      <td>Colorado Springs, CO MSA</td>\n",
       "      <td>2018-02-08</td>\n",
       "      <td>surf</td>\n",
       "      <td>NaN</td>\n",
       "    </tr>\n",
       "    <tr>\n",
       "      <th>113</th>\n",
       "      <td>1113</td>\n",
       "      <td>Spencer</td>\n",
       "      <td>Powers</td>\n",
       "      <td>27</td>\n",
       "      <td>New York-Newark-Jersey City, NY-NJ-PA MSA</td>\n",
       "      <td>2018-06-04</td>\n",
       "      <td>ultimate</td>\n",
       "      <td>NaN</td>\n",
       "    </tr>\n",
       "    <tr>\n",
       "      <th>432</th>\n",
       "      <td>1432</td>\n",
       "      <td>Azucena</td>\n",
       "      <td>Goodwin</td>\n",
       "      <td>59</td>\n",
       "      <td>Salt Lake City, UT MSA</td>\n",
       "      <td>2018-10-03</td>\n",
       "      <td>ultimate</td>\n",
       "      <td>NaN</td>\n",
       "    </tr>\n",
       "    <tr>\n",
       "      <th>39</th>\n",
       "      <td>1039</td>\n",
       "      <td>Flo</td>\n",
       "      <td>Hicks</td>\n",
       "      <td>56</td>\n",
       "      <td>Columbus, OH MSA</td>\n",
       "      <td>2018-05-30</td>\n",
       "      <td>ultimate</td>\n",
       "      <td>NaN</td>\n",
       "    </tr>\n",
       "  </tbody>\n",
       "</table>\n",
       "</div>"
      ],
      "text/plain": [
       "     user_id first_name last_name  age  \\\n",
       "251     1251     Tifany     Mcgee   45   \n",
       "359     1359    Sherley    Norris   33   \n",
       "113     1113    Spencer    Powers   27   \n",
       "432     1432    Azucena   Goodwin   59   \n",
       "39      1039        Flo     Hicks   56   \n",
       "\n",
       "                                          city    reg_date      plan  \\\n",
       "251  New York-Newark-Jersey City, NY-NJ-PA MSA  2018-01-01      surf   \n",
       "359                   Colorado Springs, CO MSA  2018-02-08      surf   \n",
       "113  New York-Newark-Jersey City, NY-NJ-PA MSA  2018-06-04  ultimate   \n",
       "432                     Salt Lake City, UT MSA  2018-10-03  ultimate   \n",
       "39                            Columbus, OH MSA  2018-05-30  ultimate   \n",
       "\n",
       "    churn_date  \n",
       "251        NaN  \n",
       "359        NaN  \n",
       "113        NaN  \n",
       "432        NaN  \n",
       "39         NaN  "
      ]
     },
     "execution_count": 13,
     "metadata": {},
     "output_type": "execute_result"
    }
   ],
   "source": [
    "# Print a sample of data for users\n",
    "# .sample() used to create a random sample without replacement of a specified length\n",
    "mg_users.sample(5)"
   ]
  },
  {
   "cell_type": "code",
   "execution_count": 14,
   "metadata": {},
   "outputs": [
    {
     "data": {
      "text/html": [
       "<div>\n",
       "<style scoped>\n",
       "    .dataframe tbody tr th:only-of-type {\n",
       "        vertical-align: middle;\n",
       "    }\n",
       "\n",
       "    .dataframe tbody tr th {\n",
       "        vertical-align: top;\n",
       "    }\n",
       "\n",
       "    .dataframe thead th {\n",
       "        text-align: right;\n",
       "    }\n",
       "</style>\n",
       "<table border=\"1\" class=\"dataframe\">\n",
       "  <thead>\n",
       "    <tr style=\"text-align: right;\">\n",
       "      <th></th>\n",
       "      <th>user_id</th>\n",
       "      <th>age</th>\n",
       "    </tr>\n",
       "  </thead>\n",
       "  <tbody>\n",
       "    <tr>\n",
       "      <th>count</th>\n",
       "      <td>500.000000</td>\n",
       "      <td>500.000000</td>\n",
       "    </tr>\n",
       "    <tr>\n",
       "      <th>mean</th>\n",
       "      <td>1249.500000</td>\n",
       "      <td>45.486000</td>\n",
       "    </tr>\n",
       "    <tr>\n",
       "      <th>std</th>\n",
       "      <td>144.481833</td>\n",
       "      <td>16.972269</td>\n",
       "    </tr>\n",
       "    <tr>\n",
       "      <th>min</th>\n",
       "      <td>1000.000000</td>\n",
       "      <td>18.000000</td>\n",
       "    </tr>\n",
       "    <tr>\n",
       "      <th>25%</th>\n",
       "      <td>1124.750000</td>\n",
       "      <td>30.000000</td>\n",
       "    </tr>\n",
       "    <tr>\n",
       "      <th>50%</th>\n",
       "      <td>1249.500000</td>\n",
       "      <td>46.000000</td>\n",
       "    </tr>\n",
       "    <tr>\n",
       "      <th>75%</th>\n",
       "      <td>1374.250000</td>\n",
       "      <td>61.000000</td>\n",
       "    </tr>\n",
       "    <tr>\n",
       "      <th>max</th>\n",
       "      <td>1499.000000</td>\n",
       "      <td>75.000000</td>\n",
       "    </tr>\n",
       "  </tbody>\n",
       "</table>\n",
       "</div>"
      ],
      "text/plain": [
       "           user_id         age\n",
       "count   500.000000  500.000000\n",
       "mean   1249.500000   45.486000\n",
       "std     144.481833   16.972269\n",
       "min    1000.000000   18.000000\n",
       "25%    1124.750000   30.000000\n",
       "50%    1249.500000   46.000000\n",
       "75%    1374.250000   61.000000\n",
       "max    1499.000000   75.000000"
      ]
     },
     "execution_count": 14,
     "metadata": {},
     "output_type": "execute_result"
    }
   ],
   "source": [
    "mg_users.describe()"
   ]
  },
  {
   "cell_type": "markdown",
   "metadata": {},
   "source": [
    " "
   ]
  },
  {
   "cell_type": "markdown",
   "metadata": {},
   "source": [
    "### Fix Data"
   ]
  },
  {
   "cell_type": "markdown",
   "metadata": {},
   "source": [
    "From what I can tell, I don't think there is anything to fix here. "
   ]
  },
  {
   "cell_type": "markdown",
   "metadata": {},
   "source": [
    "### Enrich Data"
   ]
  },
  {
   "cell_type": "code",
   "execution_count": 15,
   "metadata": {},
   "outputs": [
    {
     "data": {
      "text/plain": [
       "0          Atlanta-Sandy Springs-Roswell, GA MSA\n",
       "1                Seattle-Tacoma-Bellevue, WA MSA\n",
       "2           Las Vegas-Henderson-Paradise, NV MSA\n",
       "3                                  Tulsa, OK MSA\n",
       "4                Seattle-Tacoma-Bellevue, WA MSA\n",
       "                         ...                    \n",
       "495    New York-Newark-Jersey City, NY-NJ-PA MSA\n",
       "496                 New Orleans-Metairie, LA MSA\n",
       "497       Los Angeles-Long Beach-Anaheim, CA MSA\n",
       "498    New York-Newark-Jersey City, NY-NJ-PA MSA\n",
       "499            Orlando-Kissimmee-Sanford, FL MSA\n",
       "Name: city, Length: 500, dtype: object"
      ]
     },
     "execution_count": 15,
     "metadata": {},
     "output_type": "execute_result"
    }
   ],
   "source": [
    "mg_users['city']"
   ]
  },
  {
   "cell_type": "code",
   "execution_count": 16,
   "metadata": {},
   "outputs": [
    {
     "data": {
      "text/plain": [
       "0      45\n",
       "1      28\n",
       "2      36\n",
       "3      52\n",
       "4      40\n",
       "       ..\n",
       "495    67\n",
       "496    49\n",
       "497    49\n",
       "498    51\n",
       "499    37\n",
       "Name: age, Length: 500, dtype: int64"
      ]
     },
     "execution_count": 16,
     "metadata": {},
     "output_type": "execute_result"
    }
   ],
   "source": [
    "mg_users['age']"
   ]
  },
  {
   "cell_type": "code",
   "execution_count": 17,
   "metadata": {},
   "outputs": [
    {
     "data": {
      "text/plain": [
       "user_id         0\n",
       "first_name      0\n",
       "last_name       0\n",
       "age             0\n",
       "city            0\n",
       "reg_date        0\n",
       "plan            0\n",
       "churn_date    466\n",
       "dtype: int64"
      ]
     },
     "execution_count": 17,
     "metadata": {},
     "output_type": "execute_result"
    }
   ],
   "source": [
    "# this checks for missing values\n",
    "mg_users.isna().sum()"
   ]
  },
  {
   "cell_type": "code",
   "execution_count": 18,
   "metadata": {},
   "outputs": [
    {
     "data": {
      "text/plain": [
       "0"
      ]
     },
     "execution_count": 18,
     "metadata": {},
     "output_type": "execute_result"
    }
   ],
   "source": [
    "# this checks for duplicate rows\n",
    "mg_users.duplicated().sum()"
   ]
  },
  {
   "cell_type": "code",
   "execution_count": 19,
   "metadata": {},
   "outputs": [
    {
     "data": {
      "text/html": [
       "<div>\n",
       "<style scoped>\n",
       "    .dataframe tbody tr th:only-of-type {\n",
       "        vertical-align: middle;\n",
       "    }\n",
       "\n",
       "    .dataframe tbody tr th {\n",
       "        vertical-align: top;\n",
       "    }\n",
       "\n",
       "    .dataframe thead th {\n",
       "        text-align: right;\n",
       "    }\n",
       "</style>\n",
       "<table border=\"1\" class=\"dataframe\">\n",
       "  <thead>\n",
       "    <tr style=\"text-align: right;\">\n",
       "      <th></th>\n",
       "      <th>user_id</th>\n",
       "      <th>first_name</th>\n",
       "      <th>last_name</th>\n",
       "      <th>age</th>\n",
       "      <th>city</th>\n",
       "      <th>reg_date</th>\n",
       "      <th>plan</th>\n",
       "      <th>churn_date</th>\n",
       "    </tr>\n",
       "  </thead>\n",
       "  <tbody>\n",
       "  </tbody>\n",
       "</table>\n",
       "</div>"
      ],
      "text/plain": [
       "Empty DataFrame\n",
       "Columns: [user_id, first_name, last_name, age, city, reg_date, plan, churn_date]\n",
       "Index: []"
      ]
     },
     "metadata": {},
     "output_type": "display_data"
    }
   ],
   "source": [
    "duplicate_ids = mg_users[mg_users.duplicated('user_id')]\n",
    "display(duplicate_ids)"
   ]
  },
  {
   "cell_type": "markdown",
   "metadata": {},
   "source": [
    "Notes for Users\n",
    "- There are 8 columns in the users dataframe.\n",
    "- All columns are non-null, indicating there are no missing values in this DataFrame.\n",
    "- There are two datatypes in this table: integers and objects.\n",
    "- All columns names are easy to understand.\n",
    "- The churn_date column is the date the user stopped using the service (if the value is missing, the calling plan was being used when this database was extracted). Based on that, you see that there 466 values missing.\n",
    "- There are 0 duplicate rows. \n",
    "- From looking at the data that was already ran, you see that there are 500 users and they are all over the states.\n",
    "- The minimum age is 18 and the maximum age is 75."
   ]
  },
  {
   "cell_type": "markdown",
   "metadata": {},
   "source": [
    "## Calls"
   ]
  },
  {
   "cell_type": "code",
   "execution_count": 20,
   "metadata": {},
   "outputs": [
    {
     "name": "stdout",
     "output_type": "stream",
     "text": [
      "<class 'pandas.core.frame.DataFrame'>\n",
      "RangeIndex: 137735 entries, 0 to 137734\n",
      "Data columns (total 4 columns):\n",
      " #   Column     Non-Null Count   Dtype  \n",
      "---  ------     --------------   -----  \n",
      " 0   id         137735 non-null  object \n",
      " 1   user_id    137735 non-null  int64  \n",
      " 2   call_date  137735 non-null  object \n",
      " 3   duration   137735 non-null  float64\n",
      "dtypes: float64(1), int64(1), object(2)\n",
      "memory usage: 4.2+ MB\n"
     ]
    }
   ],
   "source": [
    "# Print the general/summary information about the calls' DataFrame\n",
    "mg_calls.info()"
   ]
  },
  {
   "cell_type": "code",
   "execution_count": 21,
   "metadata": {},
   "outputs": [
    {
     "data": {
      "text/html": [
       "<div>\n",
       "<style scoped>\n",
       "    .dataframe tbody tr th:only-of-type {\n",
       "        vertical-align: middle;\n",
       "    }\n",
       "\n",
       "    .dataframe tbody tr th {\n",
       "        vertical-align: top;\n",
       "    }\n",
       "\n",
       "    .dataframe thead th {\n",
       "        text-align: right;\n",
       "    }\n",
       "</style>\n",
       "<table border=\"1\" class=\"dataframe\">\n",
       "  <thead>\n",
       "    <tr style=\"text-align: right;\">\n",
       "      <th></th>\n",
       "      <th>id</th>\n",
       "      <th>user_id</th>\n",
       "      <th>call_date</th>\n",
       "      <th>duration</th>\n",
       "    </tr>\n",
       "  </thead>\n",
       "  <tbody>\n",
       "    <tr>\n",
       "      <th>35859</th>\n",
       "      <td>1134_262</td>\n",
       "      <td>1134</td>\n",
       "      <td>2018-12-17</td>\n",
       "      <td>3.12</td>\n",
       "    </tr>\n",
       "    <tr>\n",
       "      <th>26455</th>\n",
       "      <td>1100_12</td>\n",
       "      <td>1100</td>\n",
       "      <td>2018-10-27</td>\n",
       "      <td>4.78</td>\n",
       "    </tr>\n",
       "    <tr>\n",
       "      <th>9140</th>\n",
       "      <td>1042_66</td>\n",
       "      <td>1042</td>\n",
       "      <td>2018-11-06</td>\n",
       "      <td>3.70</td>\n",
       "    </tr>\n",
       "    <tr>\n",
       "      <th>59708</th>\n",
       "      <td>1215_93</td>\n",
       "      <td>1215</td>\n",
       "      <td>2018-10-20</td>\n",
       "      <td>12.37</td>\n",
       "    </tr>\n",
       "    <tr>\n",
       "      <th>35019</th>\n",
       "      <td>1132_367</td>\n",
       "      <td>1132</td>\n",
       "      <td>2018-07-14</td>\n",
       "      <td>7.42</td>\n",
       "    </tr>\n",
       "  </tbody>\n",
       "</table>\n",
       "</div>"
      ],
      "text/plain": [
       "             id  user_id   call_date  duration\n",
       "35859  1134_262     1134  2018-12-17      3.12\n",
       "26455   1100_12     1100  2018-10-27      4.78\n",
       "9140    1042_66     1042  2018-11-06      3.70\n",
       "59708   1215_93     1215  2018-10-20     12.37\n",
       "35019  1132_367     1132  2018-07-14      7.42"
      ]
     },
     "execution_count": 21,
     "metadata": {},
     "output_type": "execute_result"
    }
   ],
   "source": [
    "# Print a sample of data for calls\n",
    "mg_calls.sample(5)"
   ]
  },
  {
   "cell_type": "markdown",
   "metadata": {},
   "source": [
    " "
   ]
  },
  {
   "cell_type": "markdown",
   "metadata": {},
   "source": [
    "### Fix data"
   ]
  },
  {
   "cell_type": "markdown",
   "metadata": {},
   "source": [
    "There are no obvious issues to fix."
   ]
  },
  {
   "cell_type": "markdown",
   "metadata": {},
   "source": [
    "### Enrich data"
   ]
  },
  {
   "cell_type": "code",
   "execution_count": 22,
   "metadata": {},
   "outputs": [
    {
     "data": {
      "text/plain": [
       "0          8.52\n",
       "1         13.66\n",
       "2         14.48\n",
       "3          5.76\n",
       "4          4.22\n",
       "          ...  \n",
       "137730     8.72\n",
       "137731    10.89\n",
       "137732     8.12\n",
       "137733     0.37\n",
       "137734    13.86\n",
       "Name: duration, Length: 137735, dtype: float64"
      ]
     },
     "execution_count": 22,
     "metadata": {},
     "output_type": "execute_result"
    }
   ],
   "source": [
    "mg_calls['duration']"
   ]
  },
  {
   "cell_type": "code",
   "execution_count": 23,
   "metadata": {},
   "outputs": [
    {
     "data": {
      "text/plain": [
       "id           0\n",
       "user_id      0\n",
       "call_date    0\n",
       "duration     0\n",
       "dtype: int64"
      ]
     },
     "execution_count": 23,
     "metadata": {},
     "output_type": "execute_result"
    }
   ],
   "source": [
    "# check for missing values\n",
    "mg_calls.isna().sum()"
   ]
  },
  {
   "cell_type": "code",
   "execution_count": 24,
   "metadata": {},
   "outputs": [
    {
     "data": {
      "text/plain": [
       "0"
      ]
     },
     "execution_count": 24,
     "metadata": {},
     "output_type": "execute_result"
    }
   ],
   "source": [
    "# check for duplicate rows\n",
    "mg_calls.duplicated().sum()"
   ]
  },
  {
   "cell_type": "code",
   "execution_count": 25,
   "metadata": {},
   "outputs": [
    {
     "data": {
      "text/html": [
       "<div>\n",
       "<style scoped>\n",
       "    .dataframe tbody tr th:only-of-type {\n",
       "        vertical-align: middle;\n",
       "    }\n",
       "\n",
       "    .dataframe tbody tr th {\n",
       "        vertical-align: top;\n",
       "    }\n",
       "\n",
       "    .dataframe thead th {\n",
       "        text-align: right;\n",
       "    }\n",
       "</style>\n",
       "<table border=\"1\" class=\"dataframe\">\n",
       "  <thead>\n",
       "    <tr style=\"text-align: right;\">\n",
       "      <th></th>\n",
       "      <th>id</th>\n",
       "      <th>user_id</th>\n",
       "      <th>call_date</th>\n",
       "      <th>duration</th>\n",
       "    </tr>\n",
       "  </thead>\n",
       "  <tbody>\n",
       "    <tr>\n",
       "      <th>0</th>\n",
       "      <td>1000_93</td>\n",
       "      <td>1000</td>\n",
       "      <td>2018-12-27</td>\n",
       "      <td>8.52</td>\n",
       "    </tr>\n",
       "    <tr>\n",
       "      <th>1</th>\n",
       "      <td>1000_145</td>\n",
       "      <td>1000</td>\n",
       "      <td>2018-12-27</td>\n",
       "      <td>13.66</td>\n",
       "    </tr>\n",
       "    <tr>\n",
       "      <th>2</th>\n",
       "      <td>1000_247</td>\n",
       "      <td>1000</td>\n",
       "      <td>2018-12-27</td>\n",
       "      <td>14.48</td>\n",
       "    </tr>\n",
       "    <tr>\n",
       "      <th>3</th>\n",
       "      <td>1000_309</td>\n",
       "      <td>1000</td>\n",
       "      <td>2018-12-28</td>\n",
       "      <td>5.76</td>\n",
       "    </tr>\n",
       "    <tr>\n",
       "      <th>4</th>\n",
       "      <td>1000_380</td>\n",
       "      <td>1000</td>\n",
       "      <td>2018-12-30</td>\n",
       "      <td>4.22</td>\n",
       "    </tr>\n",
       "  </tbody>\n",
       "</table>\n",
       "</div>"
      ],
      "text/plain": [
       "         id  user_id   call_date  duration\n",
       "0   1000_93     1000  2018-12-27      8.52\n",
       "1  1000_145     1000  2018-12-27     13.66\n",
       "2  1000_247     1000  2018-12-27     14.48\n",
       "3  1000_309     1000  2018-12-28      5.76\n",
       "4  1000_380     1000  2018-12-30      4.22"
      ]
     },
     "execution_count": 25,
     "metadata": {},
     "output_type": "execute_result"
    }
   ],
   "source": [
    "# displays the first 5 rows\n",
    "mg_calls.head()"
   ]
  },
  {
   "cell_type": "markdown",
   "metadata": {},
   "source": [
    "Notes for Calls\n",
    "- There are no missing values.\n",
    "- This dataframe doesn't have any duplicate rows. \n",
    "- There are 4 columns in the dateframe:id, user_id, call_date, and duration.\n",
    "- Object, integers, and floats are all the datatypes in this. \n",
    "- We know that call duration rounds up in either plans. \n",
    "- When you look at the sample and the displayed first 5 rows, you see that the duration for calls can be a minute and some go up to 16 minutes. \n",
    "- I added the preview on durations so that we could see extra data."
   ]
  },
  {
   "cell_type": "markdown",
   "metadata": {},
   "source": [
    "## Messages"
   ]
  },
  {
   "cell_type": "code",
   "execution_count": 26,
   "metadata": {},
   "outputs": [
    {
     "name": "stdout",
     "output_type": "stream",
     "text": [
      "<class 'pandas.core.frame.DataFrame'>\n",
      "RangeIndex: 76051 entries, 0 to 76050\n",
      "Data columns (total 3 columns):\n",
      " #   Column        Non-Null Count  Dtype \n",
      "---  ------        --------------  ----- \n",
      " 0   id            76051 non-null  object\n",
      " 1   user_id       76051 non-null  int64 \n",
      " 2   message_date  76051 non-null  object\n",
      "dtypes: int64(1), object(2)\n",
      "memory usage: 1.7+ MB\n"
     ]
    }
   ],
   "source": [
    "# Print the general/summary information about the messages' DataFrame\n",
    "mg_messages.info()"
   ]
  },
  {
   "cell_type": "code",
   "execution_count": 27,
   "metadata": {},
   "outputs": [
    {
     "data": {
      "text/html": [
       "<div>\n",
       "<style scoped>\n",
       "    .dataframe tbody tr th:only-of-type {\n",
       "        vertical-align: middle;\n",
       "    }\n",
       "\n",
       "    .dataframe tbody tr th {\n",
       "        vertical-align: top;\n",
       "    }\n",
       "\n",
       "    .dataframe thead th {\n",
       "        text-align: right;\n",
       "    }\n",
       "</style>\n",
       "<table border=\"1\" class=\"dataframe\">\n",
       "  <thead>\n",
       "    <tr style=\"text-align: right;\">\n",
       "      <th></th>\n",
       "      <th>id</th>\n",
       "      <th>user_id</th>\n",
       "      <th>message_date</th>\n",
       "    </tr>\n",
       "  </thead>\n",
       "  <tbody>\n",
       "    <tr>\n",
       "      <th>163</th>\n",
       "      <td>1001_323</td>\n",
       "      <td>1001</td>\n",
       "      <td>2018-11-27</td>\n",
       "    </tr>\n",
       "    <tr>\n",
       "      <th>72531</th>\n",
       "      <td>1470_159</td>\n",
       "      <td>1470</td>\n",
       "      <td>2018-07-21</td>\n",
       "    </tr>\n",
       "    <tr>\n",
       "      <th>71588</th>\n",
       "      <td>1466_240</td>\n",
       "      <td>1466</td>\n",
       "      <td>2018-07-08</td>\n",
       "    </tr>\n",
       "    <tr>\n",
       "      <th>65340</th>\n",
       "      <td>1419_149</td>\n",
       "      <td>1419</td>\n",
       "      <td>2018-11-25</td>\n",
       "    </tr>\n",
       "    <tr>\n",
       "      <th>47446</th>\n",
       "      <td>1324_160</td>\n",
       "      <td>1324</td>\n",
       "      <td>2018-06-18</td>\n",
       "    </tr>\n",
       "  </tbody>\n",
       "</table>\n",
       "</div>"
      ],
      "text/plain": [
       "             id  user_id message_date\n",
       "163    1001_323     1001   2018-11-27\n",
       "72531  1470_159     1470   2018-07-21\n",
       "71588  1466_240     1466   2018-07-08\n",
       "65340  1419_149     1419   2018-11-25\n",
       "47446  1324_160     1324   2018-06-18"
      ]
     },
     "execution_count": 27,
     "metadata": {},
     "output_type": "execute_result"
    }
   ],
   "source": [
    "# Print a sample of data for messages\n",
    "mg_messages.sample(5)"
   ]
  },
  {
   "cell_type": "markdown",
   "metadata": {},
   "source": [
    " "
   ]
  },
  {
   "cell_type": "markdown",
   "metadata": {},
   "source": [
    "### Fix data"
   ]
  },
  {
   "cell_type": "markdown",
   "metadata": {},
   "source": [
    "I don't see any issues to be fixed."
   ]
  },
  {
   "cell_type": "markdown",
   "metadata": {},
   "source": [
    "### Enrich data"
   ]
  },
  {
   "cell_type": "code",
   "execution_count": 28,
   "metadata": {},
   "outputs": [
    {
     "data": {
      "text/plain": [
       "id              0\n",
       "user_id         0\n",
       "message_date    0\n",
       "dtype: int64"
      ]
     },
     "execution_count": 28,
     "metadata": {},
     "output_type": "execute_result"
    }
   ],
   "source": [
    "# check for missing values\n",
    "mg_messages.isna().sum()"
   ]
  },
  {
   "cell_type": "code",
   "execution_count": 29,
   "metadata": {},
   "outputs": [
    {
     "data": {
      "text/plain": [
       "0"
      ]
     },
     "execution_count": 29,
     "metadata": {},
     "output_type": "execute_result"
    }
   ],
   "source": [
    "# check for duplicate rows\n",
    "mg_messages.duplicated().sum()"
   ]
  },
  {
   "cell_type": "code",
   "execution_count": 30,
   "metadata": {},
   "outputs": [
    {
     "data": {
      "text/html": [
       "<div>\n",
       "<style scoped>\n",
       "    .dataframe tbody tr th:only-of-type {\n",
       "        vertical-align: middle;\n",
       "    }\n",
       "\n",
       "    .dataframe tbody tr th {\n",
       "        vertical-align: top;\n",
       "    }\n",
       "\n",
       "    .dataframe thead th {\n",
       "        text-align: right;\n",
       "    }\n",
       "</style>\n",
       "<table border=\"1\" class=\"dataframe\">\n",
       "  <thead>\n",
       "    <tr style=\"text-align: right;\">\n",
       "      <th></th>\n",
       "      <th>id</th>\n",
       "      <th>user_id</th>\n",
       "      <th>message_date</th>\n",
       "    </tr>\n",
       "  </thead>\n",
       "  <tbody>\n",
       "    <tr>\n",
       "      <th>0</th>\n",
       "      <td>1000_125</td>\n",
       "      <td>1000</td>\n",
       "      <td>2018-12-27</td>\n",
       "    </tr>\n",
       "    <tr>\n",
       "      <th>1</th>\n",
       "      <td>1000_160</td>\n",
       "      <td>1000</td>\n",
       "      <td>2018-12-31</td>\n",
       "    </tr>\n",
       "    <tr>\n",
       "      <th>2</th>\n",
       "      <td>1000_223</td>\n",
       "      <td>1000</td>\n",
       "      <td>2018-12-31</td>\n",
       "    </tr>\n",
       "    <tr>\n",
       "      <th>3</th>\n",
       "      <td>1000_251</td>\n",
       "      <td>1000</td>\n",
       "      <td>2018-12-27</td>\n",
       "    </tr>\n",
       "    <tr>\n",
       "      <th>4</th>\n",
       "      <td>1000_255</td>\n",
       "      <td>1000</td>\n",
       "      <td>2018-12-26</td>\n",
       "    </tr>\n",
       "  </tbody>\n",
       "</table>\n",
       "</div>"
      ],
      "text/plain": [
       "         id  user_id message_date\n",
       "0  1000_125     1000   2018-12-27\n",
       "1  1000_160     1000   2018-12-31\n",
       "2  1000_223     1000   2018-12-31\n",
       "3  1000_251     1000   2018-12-27\n",
       "4  1000_255     1000   2018-12-26"
      ]
     },
     "execution_count": 30,
     "metadata": {},
     "output_type": "execute_result"
    }
   ],
   "source": [
    "# displays the first 5 rows\n",
    "mg_messages.head()"
   ]
  },
  {
   "cell_type": "markdown",
   "metadata": {},
   "source": [
    "Notes for Messages\n",
    "- There are 3 total columns: id, user_id, and message_date.\n",
    "- The datatypes are objects and integers.\n",
    "- There are no missing values.\n",
    "- There are no duplicate rows. "
   ]
  },
  {
   "cell_type": "markdown",
   "metadata": {},
   "source": [
    "## Internet"
   ]
  },
  {
   "cell_type": "code",
   "execution_count": 31,
   "metadata": {},
   "outputs": [
    {
     "name": "stdout",
     "output_type": "stream",
     "text": [
      "<class 'pandas.core.frame.DataFrame'>\n",
      "RangeIndex: 104825 entries, 0 to 104824\n",
      "Data columns (total 4 columns):\n",
      " #   Column        Non-Null Count   Dtype  \n",
      "---  ------        --------------   -----  \n",
      " 0   id            104825 non-null  object \n",
      " 1   user_id       104825 non-null  int64  \n",
      " 2   session_date  104825 non-null  object \n",
      " 3   mb_used       104825 non-null  float64\n",
      "dtypes: float64(1), int64(1), object(2)\n",
      "memory usage: 3.2+ MB\n"
     ]
    }
   ],
   "source": [
    "# Print the general/summary information about the internet DataFrame\n",
    "mg_internet.info()"
   ]
  },
  {
   "cell_type": "code",
   "execution_count": 32,
   "metadata": {},
   "outputs": [
    {
     "data": {
      "text/html": [
       "<div>\n",
       "<style scoped>\n",
       "    .dataframe tbody tr th:only-of-type {\n",
       "        vertical-align: middle;\n",
       "    }\n",
       "\n",
       "    .dataframe tbody tr th {\n",
       "        vertical-align: top;\n",
       "    }\n",
       "\n",
       "    .dataframe thead th {\n",
       "        text-align: right;\n",
       "    }\n",
       "</style>\n",
       "<table border=\"1\" class=\"dataframe\">\n",
       "  <thead>\n",
       "    <tr style=\"text-align: right;\">\n",
       "      <th></th>\n",
       "      <th>id</th>\n",
       "      <th>user_id</th>\n",
       "      <th>session_date</th>\n",
       "      <th>mb_used</th>\n",
       "    </tr>\n",
       "  </thead>\n",
       "  <tbody>\n",
       "    <tr>\n",
       "      <th>93609</th>\n",
       "      <td>1436_435</td>\n",
       "      <td>1436</td>\n",
       "      <td>2018-12-30</td>\n",
       "      <td>129.57</td>\n",
       "    </tr>\n",
       "    <tr>\n",
       "      <th>36043</th>\n",
       "      <td>1163_24</td>\n",
       "      <td>1163</td>\n",
       "      <td>2018-10-05</td>\n",
       "      <td>308.77</td>\n",
       "    </tr>\n",
       "    <tr>\n",
       "      <th>49352</th>\n",
       "      <td>1220_383</td>\n",
       "      <td>1220</td>\n",
       "      <td>2018-12-16</td>\n",
       "      <td>0.00</td>\n",
       "    </tr>\n",
       "    <tr>\n",
       "      <th>90874</th>\n",
       "      <td>1418_138</td>\n",
       "      <td>1418</td>\n",
       "      <td>2018-10-16</td>\n",
       "      <td>632.87</td>\n",
       "    </tr>\n",
       "    <tr>\n",
       "      <th>36273</th>\n",
       "      <td>1163_254</td>\n",
       "      <td>1163</td>\n",
       "      <td>2018-10-13</td>\n",
       "      <td>271.13</td>\n",
       "    </tr>\n",
       "  </tbody>\n",
       "</table>\n",
       "</div>"
      ],
      "text/plain": [
       "             id  user_id session_date  mb_used\n",
       "93609  1436_435     1436   2018-12-30   129.57\n",
       "36043   1163_24     1163   2018-10-05   308.77\n",
       "49352  1220_383     1220   2018-12-16     0.00\n",
       "90874  1418_138     1418   2018-10-16   632.87\n",
       "36273  1163_254     1163   2018-10-13   271.13"
      ]
     },
     "execution_count": 32,
     "metadata": {},
     "output_type": "execute_result"
    }
   ],
   "source": [
    "# Print a sample of data for the internet traffic\n",
    "mg_internet.sample(5)"
   ]
  },
  {
   "cell_type": "markdown",
   "metadata": {},
   "source": [
    " "
   ]
  },
  {
   "cell_type": "markdown",
   "metadata": {},
   "source": [
    "### Fix data"
   ]
  },
  {
   "cell_type": "markdown",
   "metadata": {},
   "source": [
    "Everything looks good to me."
   ]
  },
  {
   "cell_type": "markdown",
   "metadata": {},
   "source": [
    "### Enrich data"
   ]
  },
  {
   "cell_type": "code",
   "execution_count": 33,
   "metadata": {},
   "outputs": [
    {
     "data": {
      "text/plain": [
       "0          89.86\n",
       "1           0.00\n",
       "2         660.40\n",
       "3         270.99\n",
       "4         880.22\n",
       "           ...  \n",
       "104820    218.06\n",
       "104821    304.72\n",
       "104822    292.75\n",
       "104823      0.00\n",
       "104824    758.31\n",
       "Name: mb_used, Length: 104825, dtype: float64"
      ]
     },
     "execution_count": 33,
     "metadata": {},
     "output_type": "execute_result"
    }
   ],
   "source": [
    "mg_internet['mb_used']"
   ]
  },
  {
   "cell_type": "code",
   "execution_count": 34,
   "metadata": {},
   "outputs": [
    {
     "data": {
      "text/plain": [
       "id              0\n",
       "user_id         0\n",
       "session_date    0\n",
       "mb_used         0\n",
       "dtype: int64"
      ]
     },
     "execution_count": 34,
     "metadata": {},
     "output_type": "execute_result"
    }
   ],
   "source": [
    "# check for missing values\n",
    "mg_internet.isna().sum()"
   ]
  },
  {
   "cell_type": "code",
   "execution_count": 35,
   "metadata": {},
   "outputs": [
    {
     "data": {
      "text/plain": [
       "0"
      ]
     },
     "execution_count": 35,
     "metadata": {},
     "output_type": "execute_result"
    }
   ],
   "source": [
    "# check for duplicate rows\n",
    "mg_internet.duplicated().sum()"
   ]
  },
  {
   "cell_type": "code",
   "execution_count": 36,
   "metadata": {},
   "outputs": [
    {
     "data": {
      "text/html": [
       "<div>\n",
       "<style scoped>\n",
       "    .dataframe tbody tr th:only-of-type {\n",
       "        vertical-align: middle;\n",
       "    }\n",
       "\n",
       "    .dataframe tbody tr th {\n",
       "        vertical-align: top;\n",
       "    }\n",
       "\n",
       "    .dataframe thead th {\n",
       "        text-align: right;\n",
       "    }\n",
       "</style>\n",
       "<table border=\"1\" class=\"dataframe\">\n",
       "  <thead>\n",
       "    <tr style=\"text-align: right;\">\n",
       "      <th></th>\n",
       "      <th>id</th>\n",
       "      <th>user_id</th>\n",
       "      <th>session_date</th>\n",
       "      <th>mb_used</th>\n",
       "    </tr>\n",
       "  </thead>\n",
       "  <tbody>\n",
       "    <tr>\n",
       "      <th>0</th>\n",
       "      <td>1000_13</td>\n",
       "      <td>1000</td>\n",
       "      <td>2018-12-29</td>\n",
       "      <td>89.86</td>\n",
       "    </tr>\n",
       "    <tr>\n",
       "      <th>1</th>\n",
       "      <td>1000_204</td>\n",
       "      <td>1000</td>\n",
       "      <td>2018-12-31</td>\n",
       "      <td>0.00</td>\n",
       "    </tr>\n",
       "    <tr>\n",
       "      <th>2</th>\n",
       "      <td>1000_379</td>\n",
       "      <td>1000</td>\n",
       "      <td>2018-12-28</td>\n",
       "      <td>660.40</td>\n",
       "    </tr>\n",
       "    <tr>\n",
       "      <th>3</th>\n",
       "      <td>1000_413</td>\n",
       "      <td>1000</td>\n",
       "      <td>2018-12-26</td>\n",
       "      <td>270.99</td>\n",
       "    </tr>\n",
       "    <tr>\n",
       "      <th>4</th>\n",
       "      <td>1000_442</td>\n",
       "      <td>1000</td>\n",
       "      <td>2018-12-27</td>\n",
       "      <td>880.22</td>\n",
       "    </tr>\n",
       "  </tbody>\n",
       "</table>\n",
       "</div>"
      ],
      "text/plain": [
       "         id  user_id session_date  mb_used\n",
       "0   1000_13     1000   2018-12-29    89.86\n",
       "1  1000_204     1000   2018-12-31     0.00\n",
       "2  1000_379     1000   2018-12-28   660.40\n",
       "3  1000_413     1000   2018-12-26   270.99\n",
       "4  1000_442     1000   2018-12-27   880.22"
      ]
     },
     "execution_count": 36,
     "metadata": {},
     "output_type": "execute_result"
    }
   ],
   "source": [
    "# displays the first 5 rows\n",
    "mg_internet.head()"
   ]
  },
  {
   "cell_type": "markdown",
   "metadata": {},
   "source": [
    "Notes for Internet\n",
    "- There are 104825 entries for this dataframe.\n",
    "- The columns consist of id, user_id, session_date, and mb_used.\n",
    "- There are integers, floats, and objects in this file. \n",
    "- There are no missing values. \n",
    "- There are no duplicate rows. \n",
    "- Just by looking at the sample and the displayed first 5 rows, people's data usage are all over. \n",
    "- I added the mb_used for additonal insight before diving in."
   ]
  },
  {
   "cell_type": "markdown",
   "metadata": {},
   "source": [
    "## Study plan conditions"
   ]
  },
  {
   "cell_type": "code",
   "execution_count": 37,
   "metadata": {},
   "outputs": [
    {
     "data": {
      "text/html": [
       "<div>\n",
       "<style scoped>\n",
       "    .dataframe tbody tr th:only-of-type {\n",
       "        vertical-align: middle;\n",
       "    }\n",
       "\n",
       "    .dataframe tbody tr th {\n",
       "        vertical-align: top;\n",
       "    }\n",
       "\n",
       "    .dataframe thead th {\n",
       "        text-align: right;\n",
       "    }\n",
       "</style>\n",
       "<table border=\"1\" class=\"dataframe\">\n",
       "  <thead>\n",
       "    <tr style=\"text-align: right;\">\n",
       "      <th></th>\n",
       "      <th>messages_included</th>\n",
       "      <th>mb_per_month_included</th>\n",
       "      <th>minutes_included</th>\n",
       "      <th>usd_monthly_pay</th>\n",
       "      <th>usd_per_gb</th>\n",
       "      <th>usd_per_message</th>\n",
       "      <th>usd_per_minute</th>\n",
       "      <th>plan_name</th>\n",
       "    </tr>\n",
       "  </thead>\n",
       "  <tbody>\n",
       "    <tr>\n",
       "      <th>0</th>\n",
       "      <td>50</td>\n",
       "      <td>15360</td>\n",
       "      <td>500</td>\n",
       "      <td>20</td>\n",
       "      <td>10</td>\n",
       "      <td>0.03</td>\n",
       "      <td>0.03</td>\n",
       "      <td>surf</td>\n",
       "    </tr>\n",
       "    <tr>\n",
       "      <th>1</th>\n",
       "      <td>1000</td>\n",
       "      <td>30720</td>\n",
       "      <td>3000</td>\n",
       "      <td>70</td>\n",
       "      <td>7</td>\n",
       "      <td>0.01</td>\n",
       "      <td>0.01</td>\n",
       "      <td>ultimate</td>\n",
       "    </tr>\n",
       "  </tbody>\n",
       "</table>\n",
       "</div>"
      ],
      "text/plain": [
       "   messages_included  mb_per_month_included  minutes_included  \\\n",
       "0                 50                  15360               500   \n",
       "1               1000                  30720              3000   \n",
       "\n",
       "   usd_monthly_pay  usd_per_gb  usd_per_message  usd_per_minute plan_name  \n",
       "0               20          10             0.03            0.03      surf  \n",
       "1               70           7             0.01            0.01  ultimate  "
      ]
     },
     "metadata": {},
     "output_type": "display_data"
    }
   ],
   "source": [
    "# Print out the plan conditions and make sure they are clear for you\n",
    "display(mg_plans)"
   ]
  },
  {
   "cell_type": "markdown",
   "metadata": {},
   "source": [
    "A simple breakdown of both plans are displayed. Biggest things to know are the messages included per month, minutes included per month, and data included each month. Another factor is how much it costs each month. Surf is 20 dollars every month for the base plan, and with the ultimate plan you pay 70 dollars."
   ]
  },
  {
   "cell_type": "code",
   "execution_count": 38,
   "metadata": {},
   "outputs": [
    {
     "data": {
      "text/html": [
       "<div>\n",
       "<style scoped>\n",
       "    .dataframe tbody tr th:only-of-type {\n",
       "        vertical-align: middle;\n",
       "    }\n",
       "\n",
       "    .dataframe tbody tr th {\n",
       "        vertical-align: top;\n",
       "    }\n",
       "\n",
       "    .dataframe thead th {\n",
       "        text-align: right;\n",
       "    }\n",
       "</style>\n",
       "<table border=\"1\" class=\"dataframe\">\n",
       "  <thead>\n",
       "    <tr style=\"text-align: right;\">\n",
       "      <th></th>\n",
       "      <th>user_id</th>\n",
       "      <th>month</th>\n",
       "      <th>year</th>\n",
       "      <th>number_of_calls</th>\n",
       "    </tr>\n",
       "  </thead>\n",
       "  <tbody>\n",
       "    <tr>\n",
       "      <th>0</th>\n",
       "      <td>1000</td>\n",
       "      <td>12</td>\n",
       "      <td>2018</td>\n",
       "      <td>16</td>\n",
       "    </tr>\n",
       "    <tr>\n",
       "      <th>1</th>\n",
       "      <td>1001</td>\n",
       "      <td>8</td>\n",
       "      <td>2018</td>\n",
       "      <td>27</td>\n",
       "    </tr>\n",
       "    <tr>\n",
       "      <th>2</th>\n",
       "      <td>1001</td>\n",
       "      <td>9</td>\n",
       "      <td>2018</td>\n",
       "      <td>49</td>\n",
       "    </tr>\n",
       "    <tr>\n",
       "      <th>3</th>\n",
       "      <td>1001</td>\n",
       "      <td>10</td>\n",
       "      <td>2018</td>\n",
       "      <td>65</td>\n",
       "    </tr>\n",
       "    <tr>\n",
       "      <th>4</th>\n",
       "      <td>1001</td>\n",
       "      <td>11</td>\n",
       "      <td>2018</td>\n",
       "      <td>64</td>\n",
       "    </tr>\n",
       "    <tr>\n",
       "      <th>...</th>\n",
       "      <td>...</td>\n",
       "      <td>...</td>\n",
       "      <td>...</td>\n",
       "      <td>...</td>\n",
       "    </tr>\n",
       "    <tr>\n",
       "      <th>2253</th>\n",
       "      <td>1498</td>\n",
       "      <td>12</td>\n",
       "      <td>2018</td>\n",
       "      <td>39</td>\n",
       "    </tr>\n",
       "    <tr>\n",
       "      <th>2254</th>\n",
       "      <td>1499</td>\n",
       "      <td>9</td>\n",
       "      <td>2018</td>\n",
       "      <td>41</td>\n",
       "    </tr>\n",
       "    <tr>\n",
       "      <th>2255</th>\n",
       "      <td>1499</td>\n",
       "      <td>10</td>\n",
       "      <td>2018</td>\n",
       "      <td>53</td>\n",
       "    </tr>\n",
       "    <tr>\n",
       "      <th>2256</th>\n",
       "      <td>1499</td>\n",
       "      <td>11</td>\n",
       "      <td>2018</td>\n",
       "      <td>45</td>\n",
       "    </tr>\n",
       "    <tr>\n",
       "      <th>2257</th>\n",
       "      <td>1499</td>\n",
       "      <td>12</td>\n",
       "      <td>2018</td>\n",
       "      <td>65</td>\n",
       "    </tr>\n",
       "  </tbody>\n",
       "</table>\n",
       "<p>2258 rows × 4 columns</p>\n",
       "</div>"
      ],
      "text/plain": [
       "      user_id  month  year  number_of_calls\n",
       "0        1000     12  2018               16\n",
       "1        1001      8  2018               27\n",
       "2        1001      9  2018               49\n",
       "3        1001     10  2018               65\n",
       "4        1001     11  2018               64\n",
       "...       ...    ...   ...              ...\n",
       "2253     1498     12  2018               39\n",
       "2254     1499      9  2018               41\n",
       "2255     1499     10  2018               53\n",
       "2256     1499     11  2018               45\n",
       "2257     1499     12  2018               65\n",
       "\n",
       "[2258 rows x 4 columns]"
      ]
     },
     "metadata": {},
     "output_type": "display_data"
    }
   ],
   "source": [
    "# Calculate the number of calls made by each user per month. Save the result.\n",
    "# ensure that 'call_date' is in datetime format\n",
    "mg_calls['call_date'] = pd.to_datetime(mg_calls['call_date'])\n",
    "# extract month and year from the call date\n",
    "mg_calls['month'] = mg_calls['call_date'].dt.month\n",
    "mg_calls['year'] = mg_calls['call_date'].dt.year\n",
    "# group the data by 'user_id' and 'month'; count number of calls\n",
    "calls_per_month = mg_calls.groupby(['user_id', 'month', 'year']).size().reset_index(name='number_of_calls')\n",
    "# showing first 5 and last 5 rows\n",
    "display(calls_per_month)\n",
    "# saving results\n",
    "calls_per_month.to_csv('calls_per_month.csv', index=False)"
   ]
  },
  {
   "cell_type": "code",
   "execution_count": 39,
   "metadata": {},
   "outputs": [
    {
     "data": {
      "text/html": [
       "<div>\n",
       "<style scoped>\n",
       "    .dataframe tbody tr th:only-of-type {\n",
       "        vertical-align: middle;\n",
       "    }\n",
       "\n",
       "    .dataframe tbody tr th {\n",
       "        vertical-align: top;\n",
       "    }\n",
       "\n",
       "    .dataframe thead th {\n",
       "        text-align: right;\n",
       "    }\n",
       "</style>\n",
       "<table border=\"1\" class=\"dataframe\">\n",
       "  <thead>\n",
       "    <tr style=\"text-align: right;\">\n",
       "      <th></th>\n",
       "      <th>user_id</th>\n",
       "      <th>year</th>\n",
       "      <th>month</th>\n",
       "      <th>duration_rounded</th>\n",
       "    </tr>\n",
       "  </thead>\n",
       "  <tbody>\n",
       "    <tr>\n",
       "      <th>0</th>\n",
       "      <td>1000</td>\n",
       "      <td>2018</td>\n",
       "      <td>12</td>\n",
       "      <td>124.0</td>\n",
       "    </tr>\n",
       "    <tr>\n",
       "      <th>1</th>\n",
       "      <td>1001</td>\n",
       "      <td>2018</td>\n",
       "      <td>8</td>\n",
       "      <td>182.0</td>\n",
       "    </tr>\n",
       "    <tr>\n",
       "      <th>2</th>\n",
       "      <td>1001</td>\n",
       "      <td>2018</td>\n",
       "      <td>9</td>\n",
       "      <td>315.0</td>\n",
       "    </tr>\n",
       "    <tr>\n",
       "      <th>3</th>\n",
       "      <td>1001</td>\n",
       "      <td>2018</td>\n",
       "      <td>10</td>\n",
       "      <td>393.0</td>\n",
       "    </tr>\n",
       "    <tr>\n",
       "      <th>4</th>\n",
       "      <td>1001</td>\n",
       "      <td>2018</td>\n",
       "      <td>11</td>\n",
       "      <td>426.0</td>\n",
       "    </tr>\n",
       "    <tr>\n",
       "      <th>...</th>\n",
       "      <td>...</td>\n",
       "      <td>...</td>\n",
       "      <td>...</td>\n",
       "      <td>...</td>\n",
       "    </tr>\n",
       "    <tr>\n",
       "      <th>2253</th>\n",
       "      <td>1498</td>\n",
       "      <td>2018</td>\n",
       "      <td>12</td>\n",
       "      <td>339.0</td>\n",
       "    </tr>\n",
       "    <tr>\n",
       "      <th>2254</th>\n",
       "      <td>1499</td>\n",
       "      <td>2018</td>\n",
       "      <td>9</td>\n",
       "      <td>346.0</td>\n",
       "    </tr>\n",
       "    <tr>\n",
       "      <th>2255</th>\n",
       "      <td>1499</td>\n",
       "      <td>2018</td>\n",
       "      <td>10</td>\n",
       "      <td>385.0</td>\n",
       "    </tr>\n",
       "    <tr>\n",
       "      <th>2256</th>\n",
       "      <td>1499</td>\n",
       "      <td>2018</td>\n",
       "      <td>11</td>\n",
       "      <td>308.0</td>\n",
       "    </tr>\n",
       "    <tr>\n",
       "      <th>2257</th>\n",
       "      <td>1499</td>\n",
       "      <td>2018</td>\n",
       "      <td>12</td>\n",
       "      <td>496.0</td>\n",
       "    </tr>\n",
       "  </tbody>\n",
       "</table>\n",
       "<p>2258 rows × 4 columns</p>\n",
       "</div>"
      ],
      "text/plain": [
       "      user_id  year  month  duration_rounded\n",
       "0        1000  2018     12             124.0\n",
       "1        1001  2018      8             182.0\n",
       "2        1001  2018      9             315.0\n",
       "3        1001  2018     10             393.0\n",
       "4        1001  2018     11             426.0\n",
       "...       ...   ...    ...               ...\n",
       "2253     1498  2018     12             339.0\n",
       "2254     1499  2018      9             346.0\n",
       "2255     1499  2018     10             385.0\n",
       "2256     1499  2018     11             308.0\n",
       "2257     1499  2018     12             496.0\n",
       "\n",
       "[2258 rows x 4 columns]"
      ]
     },
     "metadata": {},
     "output_type": "display_data"
    }
   ],
   "source": [
    "# Calculate the amount of minutes spent by each user per month. Save the result.\n",
    "\n",
    "\n",
    "# ensure call_date is in datetime format\n",
    "mg_calls['call_date'] = pd.to_datetime(mg_calls['call_date'])\n",
    "# extract year and month from call_date\n",
    "mg_calls['year'] = mg_calls['call_date'].dt.year\n",
    "mg_calls['month'] = mg_calls['call_date'].dt.month\n",
    "# rounding duration up to the nearest whole number\n",
    "mg_calls['duration_rounded'] = np.ceil(mg_calls['duration'])\n",
    "# rounding duration for aggregation\n",
    "minutes_per_month = mg_calls.groupby(['user_id', 'year', 'month'])['duration_rounded'].sum().reset_index()\n",
    "\n",
    "display(minutes_per_month)\n",
    "#save results\n",
    "minutes_per_month.to_csv('minutes_per_month.csv', index=False)"
   ]
  },
  {
   "cell_type": "code",
   "execution_count": 40,
   "metadata": {},
   "outputs": [
    {
     "data": {
      "text/html": [
       "<div>\n",
       "<style scoped>\n",
       "    .dataframe tbody tr th:only-of-type {\n",
       "        vertical-align: middle;\n",
       "    }\n",
       "\n",
       "    .dataframe tbody tr th {\n",
       "        vertical-align: top;\n",
       "    }\n",
       "\n",
       "    .dataframe thead th {\n",
       "        text-align: right;\n",
       "    }\n",
       "</style>\n",
       "<table border=\"1\" class=\"dataframe\">\n",
       "  <thead>\n",
       "    <tr style=\"text-align: right;\">\n",
       "      <th></th>\n",
       "      <th>user_id</th>\n",
       "      <th>year</th>\n",
       "      <th>month</th>\n",
       "      <th>message_count</th>\n",
       "    </tr>\n",
       "  </thead>\n",
       "  <tbody>\n",
       "    <tr>\n",
       "      <th>0</th>\n",
       "      <td>1000</td>\n",
       "      <td>2018</td>\n",
       "      <td>12</td>\n",
       "      <td>11</td>\n",
       "    </tr>\n",
       "    <tr>\n",
       "      <th>1</th>\n",
       "      <td>1001</td>\n",
       "      <td>2018</td>\n",
       "      <td>8</td>\n",
       "      <td>30</td>\n",
       "    </tr>\n",
       "    <tr>\n",
       "      <th>2</th>\n",
       "      <td>1001</td>\n",
       "      <td>2018</td>\n",
       "      <td>9</td>\n",
       "      <td>44</td>\n",
       "    </tr>\n",
       "    <tr>\n",
       "      <th>3</th>\n",
       "      <td>1001</td>\n",
       "      <td>2018</td>\n",
       "      <td>10</td>\n",
       "      <td>53</td>\n",
       "    </tr>\n",
       "    <tr>\n",
       "      <th>4</th>\n",
       "      <td>1001</td>\n",
       "      <td>2018</td>\n",
       "      <td>11</td>\n",
       "      <td>36</td>\n",
       "    </tr>\n",
       "    <tr>\n",
       "      <th>...</th>\n",
       "      <td>...</td>\n",
       "      <td>...</td>\n",
       "      <td>...</td>\n",
       "      <td>...</td>\n",
       "    </tr>\n",
       "    <tr>\n",
       "      <th>1801</th>\n",
       "      <td>1496</td>\n",
       "      <td>2018</td>\n",
       "      <td>9</td>\n",
       "      <td>21</td>\n",
       "    </tr>\n",
       "    <tr>\n",
       "      <th>1802</th>\n",
       "      <td>1496</td>\n",
       "      <td>2018</td>\n",
       "      <td>10</td>\n",
       "      <td>18</td>\n",
       "    </tr>\n",
       "    <tr>\n",
       "      <th>1803</th>\n",
       "      <td>1496</td>\n",
       "      <td>2018</td>\n",
       "      <td>11</td>\n",
       "      <td>13</td>\n",
       "    </tr>\n",
       "    <tr>\n",
       "      <th>1804</th>\n",
       "      <td>1496</td>\n",
       "      <td>2018</td>\n",
       "      <td>12</td>\n",
       "      <td>11</td>\n",
       "    </tr>\n",
       "    <tr>\n",
       "      <th>1805</th>\n",
       "      <td>1497</td>\n",
       "      <td>2018</td>\n",
       "      <td>12</td>\n",
       "      <td>50</td>\n",
       "    </tr>\n",
       "  </tbody>\n",
       "</table>\n",
       "<p>1806 rows × 4 columns</p>\n",
       "</div>"
      ],
      "text/plain": [
       "      user_id  year  month  message_count\n",
       "0        1000  2018     12             11\n",
       "1        1001  2018      8             30\n",
       "2        1001  2018      9             44\n",
       "3        1001  2018     10             53\n",
       "4        1001  2018     11             36\n",
       "...       ...   ...    ...            ...\n",
       "1801     1496  2018      9             21\n",
       "1802     1496  2018     10             18\n",
       "1803     1496  2018     11             13\n",
       "1804     1496  2018     12             11\n",
       "1805     1497  2018     12             50\n",
       "\n",
       "[1806 rows x 4 columns]"
      ]
     },
     "metadata": {},
     "output_type": "display_data"
    }
   ],
   "source": [
    "# Calculate the number of messages sent by each user per month. Save the result.\n",
    "# make sure 'message_date' is in datetime format\n",
    "mg_messages['message_date'] = pd.to_datetime(mg_messages['message_date'])\n",
    "# extract 'year' and 'month' from 'message_date'\n",
    "mg_messages['year'] = mg_messages['message_date'].dt.year\n",
    "mg_messages['month'] = mg_messages['message_date'].dt.month\n",
    "# group by 'user_id', 'year', and 'month' then count messages\n",
    "messages_per_month = mg_messages.groupby(['user_id', 'year', 'month']).size().reset_index(name='message_count')\n",
    "#show results to verify\n",
    "display(messages_per_month)"
   ]
  },
  {
   "cell_type": "code",
   "execution_count": 41,
   "metadata": {},
   "outputs": [
    {
     "data": {
      "text/html": [
       "<div>\n",
       "<style scoped>\n",
       "    .dataframe tbody tr th:only-of-type {\n",
       "        vertical-align: middle;\n",
       "    }\n",
       "\n",
       "    .dataframe tbody tr th {\n",
       "        vertical-align: top;\n",
       "    }\n",
       "\n",
       "    .dataframe thead th {\n",
       "        text-align: right;\n",
       "    }\n",
       "</style>\n",
       "<table border=\"1\" class=\"dataframe\">\n",
       "  <thead>\n",
       "    <tr style=\"text-align: right;\">\n",
       "      <th></th>\n",
       "      <th>user_id</th>\n",
       "      <th>year</th>\n",
       "      <th>month</th>\n",
       "      <th>total_mb_used</th>\n",
       "    </tr>\n",
       "  </thead>\n",
       "  <tbody>\n",
       "    <tr>\n",
       "      <th>0</th>\n",
       "      <td>1000</td>\n",
       "      <td>2018</td>\n",
       "      <td>12</td>\n",
       "      <td>1901.47</td>\n",
       "    </tr>\n",
       "    <tr>\n",
       "      <th>1</th>\n",
       "      <td>1001</td>\n",
       "      <td>2018</td>\n",
       "      <td>8</td>\n",
       "      <td>6919.15</td>\n",
       "    </tr>\n",
       "    <tr>\n",
       "      <th>2</th>\n",
       "      <td>1001</td>\n",
       "      <td>2018</td>\n",
       "      <td>9</td>\n",
       "      <td>13314.82</td>\n",
       "    </tr>\n",
       "    <tr>\n",
       "      <th>3</th>\n",
       "      <td>1001</td>\n",
       "      <td>2018</td>\n",
       "      <td>10</td>\n",
       "      <td>22330.49</td>\n",
       "    </tr>\n",
       "    <tr>\n",
       "      <th>4</th>\n",
       "      <td>1001</td>\n",
       "      <td>2018</td>\n",
       "      <td>11</td>\n",
       "      <td>18504.30</td>\n",
       "    </tr>\n",
       "    <tr>\n",
       "      <th>...</th>\n",
       "      <td>...</td>\n",
       "      <td>...</td>\n",
       "      <td>...</td>\n",
       "      <td>...</td>\n",
       "    </tr>\n",
       "    <tr>\n",
       "      <th>2272</th>\n",
       "      <td>1498</td>\n",
       "      <td>2018</td>\n",
       "      <td>12</td>\n",
       "      <td>23137.69</td>\n",
       "    </tr>\n",
       "    <tr>\n",
       "      <th>2273</th>\n",
       "      <td>1499</td>\n",
       "      <td>2018</td>\n",
       "      <td>9</td>\n",
       "      <td>12984.76</td>\n",
       "    </tr>\n",
       "    <tr>\n",
       "      <th>2274</th>\n",
       "      <td>1499</td>\n",
       "      <td>2018</td>\n",
       "      <td>10</td>\n",
       "      <td>19492.43</td>\n",
       "    </tr>\n",
       "    <tr>\n",
       "      <th>2275</th>\n",
       "      <td>1499</td>\n",
       "      <td>2018</td>\n",
       "      <td>11</td>\n",
       "      <td>16813.83</td>\n",
       "    </tr>\n",
       "    <tr>\n",
       "      <th>2276</th>\n",
       "      <td>1499</td>\n",
       "      <td>2018</td>\n",
       "      <td>12</td>\n",
       "      <td>22059.21</td>\n",
       "    </tr>\n",
       "  </tbody>\n",
       "</table>\n",
       "<p>2277 rows × 4 columns</p>\n",
       "</div>"
      ],
      "text/plain": [
       "      user_id  year  month  total_mb_used\n",
       "0        1000  2018     12        1901.47\n",
       "1        1001  2018      8        6919.15\n",
       "2        1001  2018      9       13314.82\n",
       "3        1001  2018     10       22330.49\n",
       "4        1001  2018     11       18504.30\n",
       "...       ...   ...    ...            ...\n",
       "2272     1498  2018     12       23137.69\n",
       "2273     1499  2018      9       12984.76\n",
       "2274     1499  2018     10       19492.43\n",
       "2275     1499  2018     11       16813.83\n",
       "2276     1499  2018     12       22059.21\n",
       "\n",
       "[2277 rows x 4 columns]"
      ]
     },
     "metadata": {},
     "output_type": "display_data"
    }
   ],
   "source": [
    "# Calculate the volume of internet traffic used by each user per month. Save the result.\n",
    "#convert 'session_date' to datetime format\n",
    "mg_internet['session_date'] = pd.to_datetime(mg_internet['session_date'])\n",
    "#extract 'year' and 'month' from 'session_date'\n",
    "mg_internet['year'] = mg_internet['session_date'].dt.year\n",
    "mg_internet['month'] = mg_internet['session_date'].dt.month\n",
    "# group by 'user_id, 'year', and 'month'; sub 'mb_used' for volume\n",
    "internet_per_month = mg_internet.groupby(['user_id', 'year', 'month'])['mb_used'].sum().reset_index()\n",
    "# rename 'mb_used' to 'total_mb'\n",
    "internet_per_month.rename(columns={'mb_used': 'total_mb_used'}, inplace=True)\n",
    "# save result\n",
    "internet_per_month.to_csv('internet_per_month.csv', index=False)\n",
    "# display to verify\n",
    "display(internet_per_month)\n",
    "\n",
    "#save results\n",
    "internet_per_month.to_csv('internet_per_month.csv', index=False)"
   ]
  },
  {
   "cell_type": "code",
   "execution_count": 42,
   "metadata": {},
   "outputs": [
    {
     "data": {
      "text/html": [
       "<div>\n",
       "<style scoped>\n",
       "    .dataframe tbody tr th:only-of-type {\n",
       "        vertical-align: middle;\n",
       "    }\n",
       "\n",
       "    .dataframe tbody tr th {\n",
       "        vertical-align: top;\n",
       "    }\n",
       "\n",
       "    .dataframe thead th {\n",
       "        text-align: right;\n",
       "    }\n",
       "</style>\n",
       "<table border=\"1\" class=\"dataframe\">\n",
       "  <thead>\n",
       "    <tr style=\"text-align: right;\">\n",
       "      <th></th>\n",
       "      <th>user_id</th>\n",
       "      <th>year</th>\n",
       "      <th>month</th>\n",
       "      <th>duration_rounded</th>\n",
       "      <th>number_of_calls</th>\n",
       "      <th>message_count</th>\n",
       "      <th>total_mb_used</th>\n",
       "    </tr>\n",
       "  </thead>\n",
       "  <tbody>\n",
       "    <tr>\n",
       "      <th>0</th>\n",
       "      <td>1000</td>\n",
       "      <td>2018</td>\n",
       "      <td>12</td>\n",
       "      <td>124.0</td>\n",
       "      <td>16.0</td>\n",
       "      <td>11.0</td>\n",
       "      <td>1901.47</td>\n",
       "    </tr>\n",
       "    <tr>\n",
       "      <th>1</th>\n",
       "      <td>1001</td>\n",
       "      <td>2018</td>\n",
       "      <td>8</td>\n",
       "      <td>182.0</td>\n",
       "      <td>27.0</td>\n",
       "      <td>30.0</td>\n",
       "      <td>6919.15</td>\n",
       "    </tr>\n",
       "    <tr>\n",
       "      <th>2</th>\n",
       "      <td>1001</td>\n",
       "      <td>2018</td>\n",
       "      <td>9</td>\n",
       "      <td>315.0</td>\n",
       "      <td>49.0</td>\n",
       "      <td>44.0</td>\n",
       "      <td>13314.82</td>\n",
       "    </tr>\n",
       "    <tr>\n",
       "      <th>3</th>\n",
       "      <td>1001</td>\n",
       "      <td>2018</td>\n",
       "      <td>10</td>\n",
       "      <td>393.0</td>\n",
       "      <td>65.0</td>\n",
       "      <td>53.0</td>\n",
       "      <td>22330.49</td>\n",
       "    </tr>\n",
       "    <tr>\n",
       "      <th>4</th>\n",
       "      <td>1001</td>\n",
       "      <td>2018</td>\n",
       "      <td>11</td>\n",
       "      <td>426.0</td>\n",
       "      <td>64.0</td>\n",
       "      <td>36.0</td>\n",
       "      <td>18504.30</td>\n",
       "    </tr>\n",
       "    <tr>\n",
       "      <th>...</th>\n",
       "      <td>...</td>\n",
       "      <td>...</td>\n",
       "      <td>...</td>\n",
       "      <td>...</td>\n",
       "      <td>...</td>\n",
       "      <td>...</td>\n",
       "      <td>...</td>\n",
       "    </tr>\n",
       "    <tr>\n",
       "      <th>2288</th>\n",
       "      <td>1349</td>\n",
       "      <td>2018</td>\n",
       "      <td>12</td>\n",
       "      <td>0.0</td>\n",
       "      <td>0.0</td>\n",
       "      <td>61.0</td>\n",
       "      <td>13039.91</td>\n",
       "    </tr>\n",
       "    <tr>\n",
       "      <th>2289</th>\n",
       "      <td>1361</td>\n",
       "      <td>2018</td>\n",
       "      <td>5</td>\n",
       "      <td>0.0</td>\n",
       "      <td>0.0</td>\n",
       "      <td>2.0</td>\n",
       "      <td>1519.69</td>\n",
       "    </tr>\n",
       "    <tr>\n",
       "      <th>2290</th>\n",
       "      <td>1482</td>\n",
       "      <td>2018</td>\n",
       "      <td>10</td>\n",
       "      <td>0.0</td>\n",
       "      <td>0.0</td>\n",
       "      <td>2.0</td>\n",
       "      <td>0.00</td>\n",
       "    </tr>\n",
       "    <tr>\n",
       "      <th>2291</th>\n",
       "      <td>1108</td>\n",
       "      <td>2018</td>\n",
       "      <td>12</td>\n",
       "      <td>0.0</td>\n",
       "      <td>0.0</td>\n",
       "      <td>0.0</td>\n",
       "      <td>233.17</td>\n",
       "    </tr>\n",
       "    <tr>\n",
       "      <th>2292</th>\n",
       "      <td>1311</td>\n",
       "      <td>2018</td>\n",
       "      <td>6</td>\n",
       "      <td>0.0</td>\n",
       "      <td>0.0</td>\n",
       "      <td>0.0</td>\n",
       "      <td>1498.83</td>\n",
       "    </tr>\n",
       "  </tbody>\n",
       "</table>\n",
       "<p>2293 rows × 7 columns</p>\n",
       "</div>"
      ],
      "text/plain": [
       "      user_id  year  month  duration_rounded  number_of_calls  message_count  \\\n",
       "0        1000  2018     12             124.0             16.0           11.0   \n",
       "1        1001  2018      8             182.0             27.0           30.0   \n",
       "2        1001  2018      9             315.0             49.0           44.0   \n",
       "3        1001  2018     10             393.0             65.0           53.0   \n",
       "4        1001  2018     11             426.0             64.0           36.0   \n",
       "...       ...   ...    ...               ...              ...            ...   \n",
       "2288     1349  2018     12               0.0              0.0           61.0   \n",
       "2289     1361  2018      5               0.0              0.0            2.0   \n",
       "2290     1482  2018     10               0.0              0.0            2.0   \n",
       "2291     1108  2018     12               0.0              0.0            0.0   \n",
       "2292     1311  2018      6               0.0              0.0            0.0   \n",
       "\n",
       "      total_mb_used  \n",
       "0           1901.47  \n",
       "1           6919.15  \n",
       "2          13314.82  \n",
       "3          22330.49  \n",
       "4          18504.30  \n",
       "...             ...  \n",
       "2288       13039.91  \n",
       "2289        1519.69  \n",
       "2290           0.00  \n",
       "2291         233.17  \n",
       "2292        1498.83  \n",
       "\n",
       "[2293 rows x 7 columns]"
      ]
     },
     "metadata": {},
     "output_type": "display_data"
    }
   ],
   "source": [
    "# Merge the data for calls, minutes, messages, internet based on user_id and month\n",
    "#merge minutes_per_month with calls_per_month\n",
    "df_merged = pd.merge(minutes_per_month, calls_per_month, on=['user_id', 'year', 'month'], how='outer')\n",
    "# merge the result with messages_per_month\n",
    "df_merged = pd.merge(df_merged, messages_per_month, on=['user_id', 'year', 'month'], how='outer')\n",
    "# merge the result with internet_per_month\n",
    "df_merged = pd.merge(df_merged, internet_per_month, on=['user_id', 'year', 'month'], how='outer')\n",
    "# handling NaN values that could result from the merge (assuming 0 where data is missing)\n",
    "df_merged.fillna(0, inplace=True)\n",
    "#checking final merge\n",
    "display(df_merged)"
   ]
  },
  {
   "cell_type": "code",
   "execution_count": 43,
   "metadata": {},
   "outputs": [
    {
     "data": {
      "text/html": [
       "<div>\n",
       "<style scoped>\n",
       "    .dataframe tbody tr th:only-of-type {\n",
       "        vertical-align: middle;\n",
       "    }\n",
       "\n",
       "    .dataframe tbody tr th {\n",
       "        vertical-align: top;\n",
       "    }\n",
       "\n",
       "    .dataframe thead th {\n",
       "        text-align: right;\n",
       "    }\n",
       "</style>\n",
       "<table border=\"1\" class=\"dataframe\">\n",
       "  <thead>\n",
       "    <tr style=\"text-align: right;\">\n",
       "      <th></th>\n",
       "      <th>user_id</th>\n",
       "      <th>year</th>\n",
       "      <th>month</th>\n",
       "      <th>duration_rounded</th>\n",
       "      <th>number_of_calls</th>\n",
       "      <th>message_count</th>\n",
       "      <th>total_mb_used</th>\n",
       "      <th>plan</th>\n",
       "    </tr>\n",
       "  </thead>\n",
       "  <tbody>\n",
       "    <tr>\n",
       "      <th>0</th>\n",
       "      <td>1000</td>\n",
       "      <td>2018</td>\n",
       "      <td>12</td>\n",
       "      <td>124.0</td>\n",
       "      <td>16.0</td>\n",
       "      <td>11.0</td>\n",
       "      <td>1901.47</td>\n",
       "      <td>ultimate</td>\n",
       "    </tr>\n",
       "    <tr>\n",
       "      <th>1</th>\n",
       "      <td>1001</td>\n",
       "      <td>2018</td>\n",
       "      <td>8</td>\n",
       "      <td>182.0</td>\n",
       "      <td>27.0</td>\n",
       "      <td>30.0</td>\n",
       "      <td>6919.15</td>\n",
       "      <td>surf</td>\n",
       "    </tr>\n",
       "    <tr>\n",
       "      <th>2</th>\n",
       "      <td>1001</td>\n",
       "      <td>2018</td>\n",
       "      <td>9</td>\n",
       "      <td>315.0</td>\n",
       "      <td>49.0</td>\n",
       "      <td>44.0</td>\n",
       "      <td>13314.82</td>\n",
       "      <td>surf</td>\n",
       "    </tr>\n",
       "    <tr>\n",
       "      <th>3</th>\n",
       "      <td>1001</td>\n",
       "      <td>2018</td>\n",
       "      <td>10</td>\n",
       "      <td>393.0</td>\n",
       "      <td>65.0</td>\n",
       "      <td>53.0</td>\n",
       "      <td>22330.49</td>\n",
       "      <td>surf</td>\n",
       "    </tr>\n",
       "    <tr>\n",
       "      <th>4</th>\n",
       "      <td>1001</td>\n",
       "      <td>2018</td>\n",
       "      <td>11</td>\n",
       "      <td>426.0</td>\n",
       "      <td>64.0</td>\n",
       "      <td>36.0</td>\n",
       "      <td>18504.30</td>\n",
       "      <td>surf</td>\n",
       "    </tr>\n",
       "    <tr>\n",
       "      <th>...</th>\n",
       "      <td>...</td>\n",
       "      <td>...</td>\n",
       "      <td>...</td>\n",
       "      <td>...</td>\n",
       "      <td>...</td>\n",
       "      <td>...</td>\n",
       "      <td>...</td>\n",
       "      <td>...</td>\n",
       "    </tr>\n",
       "    <tr>\n",
       "      <th>2288</th>\n",
       "      <td>1349</td>\n",
       "      <td>2018</td>\n",
       "      <td>12</td>\n",
       "      <td>0.0</td>\n",
       "      <td>0.0</td>\n",
       "      <td>61.0</td>\n",
       "      <td>13039.91</td>\n",
       "      <td>surf</td>\n",
       "    </tr>\n",
       "    <tr>\n",
       "      <th>2289</th>\n",
       "      <td>1361</td>\n",
       "      <td>2018</td>\n",
       "      <td>5</td>\n",
       "      <td>0.0</td>\n",
       "      <td>0.0</td>\n",
       "      <td>2.0</td>\n",
       "      <td>1519.69</td>\n",
       "      <td>surf</td>\n",
       "    </tr>\n",
       "    <tr>\n",
       "      <th>2290</th>\n",
       "      <td>1482</td>\n",
       "      <td>2018</td>\n",
       "      <td>10</td>\n",
       "      <td>0.0</td>\n",
       "      <td>0.0</td>\n",
       "      <td>2.0</td>\n",
       "      <td>0.00</td>\n",
       "      <td>ultimate</td>\n",
       "    </tr>\n",
       "    <tr>\n",
       "      <th>2291</th>\n",
       "      <td>1108</td>\n",
       "      <td>2018</td>\n",
       "      <td>12</td>\n",
       "      <td>0.0</td>\n",
       "      <td>0.0</td>\n",
       "      <td>0.0</td>\n",
       "      <td>233.17</td>\n",
       "      <td>ultimate</td>\n",
       "    </tr>\n",
       "    <tr>\n",
       "      <th>2292</th>\n",
       "      <td>1311</td>\n",
       "      <td>2018</td>\n",
       "      <td>6</td>\n",
       "      <td>0.0</td>\n",
       "      <td>0.0</td>\n",
       "      <td>0.0</td>\n",
       "      <td>1498.83</td>\n",
       "      <td>ultimate</td>\n",
       "    </tr>\n",
       "  </tbody>\n",
       "</table>\n",
       "<p>2293 rows × 8 columns</p>\n",
       "</div>"
      ],
      "text/plain": [
       "      user_id  year  month  duration_rounded  number_of_calls  message_count  \\\n",
       "0        1000  2018     12             124.0             16.0           11.0   \n",
       "1        1001  2018      8             182.0             27.0           30.0   \n",
       "2        1001  2018      9             315.0             49.0           44.0   \n",
       "3        1001  2018     10             393.0             65.0           53.0   \n",
       "4        1001  2018     11             426.0             64.0           36.0   \n",
       "...       ...   ...    ...               ...              ...            ...   \n",
       "2288     1349  2018     12               0.0              0.0           61.0   \n",
       "2289     1361  2018      5               0.0              0.0            2.0   \n",
       "2290     1482  2018     10               0.0              0.0            2.0   \n",
       "2291     1108  2018     12               0.0              0.0            0.0   \n",
       "2292     1311  2018      6               0.0              0.0            0.0   \n",
       "\n",
       "      total_mb_used      plan  \n",
       "0           1901.47  ultimate  \n",
       "1           6919.15      surf  \n",
       "2          13314.82      surf  \n",
       "3          22330.49      surf  \n",
       "4          18504.30      surf  \n",
       "...             ...       ...  \n",
       "2288       13039.91      surf  \n",
       "2289        1519.69      surf  \n",
       "2290           0.00  ultimate  \n",
       "2291         233.17  ultimate  \n",
       "2292        1498.83  ultimate  \n",
       "\n",
       "[2293 rows x 8 columns]"
      ]
     },
     "metadata": {},
     "output_type": "display_data"
    }
   ],
   "source": [
    "# Add the plan information\n",
    "# merging plan info from mg_users into df_merged\n",
    "df_final_with_plan = pd.merge(df_merged, mg_users[['user_id', 'plan']], on='user_id', how='left')\n",
    "# verify merge\n",
    "display(df_final_with_plan)"
   ]
  },
  {
   "cell_type": "code",
   "execution_count": 44,
   "metadata": {},
   "outputs": [
    {
     "data": {
      "text/html": [
       "<div>\n",
       "<style scoped>\n",
       "    .dataframe tbody tr th:only-of-type {\n",
       "        vertical-align: middle;\n",
       "    }\n",
       "\n",
       "    .dataframe tbody tr th {\n",
       "        vertical-align: top;\n",
       "    }\n",
       "\n",
       "    .dataframe thead th {\n",
       "        text-align: right;\n",
       "    }\n",
       "</style>\n",
       "<table border=\"1\" class=\"dataframe\">\n",
       "  <thead>\n",
       "    <tr style=\"text-align: right;\">\n",
       "      <th></th>\n",
       "      <th>user_id</th>\n",
       "      <th>year</th>\n",
       "      <th>month</th>\n",
       "      <th>duration_rounded</th>\n",
       "      <th>number_of_calls</th>\n",
       "      <th>message_count</th>\n",
       "      <th>total_mb_used</th>\n",
       "      <th>plan</th>\n",
       "      <th>usd_monthly_pay</th>\n",
       "      <th>minutes_included</th>\n",
       "      <th>messages_included</th>\n",
       "      <th>mb_per_month_included</th>\n",
       "      <th>usd_per_minute</th>\n",
       "      <th>usd_per_message</th>\n",
       "      <th>usd_per_gb</th>\n",
       "      <th>city</th>\n",
       "    </tr>\n",
       "  </thead>\n",
       "  <tbody>\n",
       "    <tr>\n",
       "      <th>0</th>\n",
       "      <td>1000</td>\n",
       "      <td>2018</td>\n",
       "      <td>12</td>\n",
       "      <td>124.0</td>\n",
       "      <td>16.0</td>\n",
       "      <td>11.0</td>\n",
       "      <td>1901.47</td>\n",
       "      <td>ultimate</td>\n",
       "      <td>70</td>\n",
       "      <td>3000</td>\n",
       "      <td>1000</td>\n",
       "      <td>30720</td>\n",
       "      <td>0.01</td>\n",
       "      <td>0.01</td>\n",
       "      <td>7</td>\n",
       "      <td>Atlanta-Sandy Springs-Roswell, GA MSA</td>\n",
       "    </tr>\n",
       "    <tr>\n",
       "      <th>1</th>\n",
       "      <td>1001</td>\n",
       "      <td>2018</td>\n",
       "      <td>8</td>\n",
       "      <td>182.0</td>\n",
       "      <td>27.0</td>\n",
       "      <td>30.0</td>\n",
       "      <td>6919.15</td>\n",
       "      <td>surf</td>\n",
       "      <td>20</td>\n",
       "      <td>500</td>\n",
       "      <td>50</td>\n",
       "      <td>15360</td>\n",
       "      <td>0.03</td>\n",
       "      <td>0.03</td>\n",
       "      <td>10</td>\n",
       "      <td>Seattle-Tacoma-Bellevue, WA MSA</td>\n",
       "    </tr>\n",
       "    <tr>\n",
       "      <th>2</th>\n",
       "      <td>1001</td>\n",
       "      <td>2018</td>\n",
       "      <td>9</td>\n",
       "      <td>315.0</td>\n",
       "      <td>49.0</td>\n",
       "      <td>44.0</td>\n",
       "      <td>13314.82</td>\n",
       "      <td>surf</td>\n",
       "      <td>20</td>\n",
       "      <td>500</td>\n",
       "      <td>50</td>\n",
       "      <td>15360</td>\n",
       "      <td>0.03</td>\n",
       "      <td>0.03</td>\n",
       "      <td>10</td>\n",
       "      <td>Seattle-Tacoma-Bellevue, WA MSA</td>\n",
       "    </tr>\n",
       "    <tr>\n",
       "      <th>3</th>\n",
       "      <td>1001</td>\n",
       "      <td>2018</td>\n",
       "      <td>10</td>\n",
       "      <td>393.0</td>\n",
       "      <td>65.0</td>\n",
       "      <td>53.0</td>\n",
       "      <td>22330.49</td>\n",
       "      <td>surf</td>\n",
       "      <td>20</td>\n",
       "      <td>500</td>\n",
       "      <td>50</td>\n",
       "      <td>15360</td>\n",
       "      <td>0.03</td>\n",
       "      <td>0.03</td>\n",
       "      <td>10</td>\n",
       "      <td>Seattle-Tacoma-Bellevue, WA MSA</td>\n",
       "    </tr>\n",
       "    <tr>\n",
       "      <th>4</th>\n",
       "      <td>1001</td>\n",
       "      <td>2018</td>\n",
       "      <td>11</td>\n",
       "      <td>426.0</td>\n",
       "      <td>64.0</td>\n",
       "      <td>36.0</td>\n",
       "      <td>18504.30</td>\n",
       "      <td>surf</td>\n",
       "      <td>20</td>\n",
       "      <td>500</td>\n",
       "      <td>50</td>\n",
       "      <td>15360</td>\n",
       "      <td>0.03</td>\n",
       "      <td>0.03</td>\n",
       "      <td>10</td>\n",
       "      <td>Seattle-Tacoma-Bellevue, WA MSA</td>\n",
       "    </tr>\n",
       "    <tr>\n",
       "      <th>...</th>\n",
       "      <td>...</td>\n",
       "      <td>...</td>\n",
       "      <td>...</td>\n",
       "      <td>...</td>\n",
       "      <td>...</td>\n",
       "      <td>...</td>\n",
       "      <td>...</td>\n",
       "      <td>...</td>\n",
       "      <td>...</td>\n",
       "      <td>...</td>\n",
       "      <td>...</td>\n",
       "      <td>...</td>\n",
       "      <td>...</td>\n",
       "      <td>...</td>\n",
       "      <td>...</td>\n",
       "      <td>...</td>\n",
       "    </tr>\n",
       "    <tr>\n",
       "      <th>2288</th>\n",
       "      <td>1349</td>\n",
       "      <td>2018</td>\n",
       "      <td>12</td>\n",
       "      <td>0.0</td>\n",
       "      <td>0.0</td>\n",
       "      <td>61.0</td>\n",
       "      <td>13039.91</td>\n",
       "      <td>surf</td>\n",
       "      <td>20</td>\n",
       "      <td>500</td>\n",
       "      <td>50</td>\n",
       "      <td>15360</td>\n",
       "      <td>0.03</td>\n",
       "      <td>0.03</td>\n",
       "      <td>10</td>\n",
       "      <td>Boston-Cambridge-Newton, MA-NH MSA</td>\n",
       "    </tr>\n",
       "    <tr>\n",
       "      <th>2289</th>\n",
       "      <td>1361</td>\n",
       "      <td>2018</td>\n",
       "      <td>5</td>\n",
       "      <td>0.0</td>\n",
       "      <td>0.0</td>\n",
       "      <td>2.0</td>\n",
       "      <td>1519.69</td>\n",
       "      <td>surf</td>\n",
       "      <td>20</td>\n",
       "      <td>500</td>\n",
       "      <td>50</td>\n",
       "      <td>15360</td>\n",
       "      <td>0.03</td>\n",
       "      <td>0.03</td>\n",
       "      <td>10</td>\n",
       "      <td>Birmingham-Hoover, AL MSA</td>\n",
       "    </tr>\n",
       "    <tr>\n",
       "      <th>2290</th>\n",
       "      <td>1482</td>\n",
       "      <td>2018</td>\n",
       "      <td>10</td>\n",
       "      <td>0.0</td>\n",
       "      <td>0.0</td>\n",
       "      <td>2.0</td>\n",
       "      <td>0.00</td>\n",
       "      <td>ultimate</td>\n",
       "      <td>70</td>\n",
       "      <td>3000</td>\n",
       "      <td>1000</td>\n",
       "      <td>30720</td>\n",
       "      <td>0.01</td>\n",
       "      <td>0.01</td>\n",
       "      <td>7</td>\n",
       "      <td>New York-Newark-Jersey City, NY-NJ-PA MSA</td>\n",
       "    </tr>\n",
       "    <tr>\n",
       "      <th>2291</th>\n",
       "      <td>1108</td>\n",
       "      <td>2018</td>\n",
       "      <td>12</td>\n",
       "      <td>0.0</td>\n",
       "      <td>0.0</td>\n",
       "      <td>0.0</td>\n",
       "      <td>233.17</td>\n",
       "      <td>ultimate</td>\n",
       "      <td>70</td>\n",
       "      <td>3000</td>\n",
       "      <td>1000</td>\n",
       "      <td>30720</td>\n",
       "      <td>0.01</td>\n",
       "      <td>0.01</td>\n",
       "      <td>7</td>\n",
       "      <td>Salt Lake City, UT MSA</td>\n",
       "    </tr>\n",
       "    <tr>\n",
       "      <th>2292</th>\n",
       "      <td>1311</td>\n",
       "      <td>2018</td>\n",
       "      <td>6</td>\n",
       "      <td>0.0</td>\n",
       "      <td>0.0</td>\n",
       "      <td>0.0</td>\n",
       "      <td>1498.83</td>\n",
       "      <td>ultimate</td>\n",
       "      <td>70</td>\n",
       "      <td>3000</td>\n",
       "      <td>1000</td>\n",
       "      <td>30720</td>\n",
       "      <td>0.01</td>\n",
       "      <td>0.01</td>\n",
       "      <td>7</td>\n",
       "      <td>Memphis, TN-MS-AR MSA</td>\n",
       "    </tr>\n",
       "  </tbody>\n",
       "</table>\n",
       "<p>2293 rows × 16 columns</p>\n",
       "</div>"
      ],
      "text/plain": [
       "      user_id  year  month  duration_rounded  number_of_calls  message_count  \\\n",
       "0        1000  2018     12             124.0             16.0           11.0   \n",
       "1        1001  2018      8             182.0             27.0           30.0   \n",
       "2        1001  2018      9             315.0             49.0           44.0   \n",
       "3        1001  2018     10             393.0             65.0           53.0   \n",
       "4        1001  2018     11             426.0             64.0           36.0   \n",
       "...       ...   ...    ...               ...              ...            ...   \n",
       "2288     1349  2018     12               0.0              0.0           61.0   \n",
       "2289     1361  2018      5               0.0              0.0            2.0   \n",
       "2290     1482  2018     10               0.0              0.0            2.0   \n",
       "2291     1108  2018     12               0.0              0.0            0.0   \n",
       "2292     1311  2018      6               0.0              0.0            0.0   \n",
       "\n",
       "      total_mb_used      plan  usd_monthly_pay  minutes_included  \\\n",
       "0           1901.47  ultimate               70              3000   \n",
       "1           6919.15      surf               20               500   \n",
       "2          13314.82      surf               20               500   \n",
       "3          22330.49      surf               20               500   \n",
       "4          18504.30      surf               20               500   \n",
       "...             ...       ...              ...               ...   \n",
       "2288       13039.91      surf               20               500   \n",
       "2289        1519.69      surf               20               500   \n",
       "2290           0.00  ultimate               70              3000   \n",
       "2291         233.17  ultimate               70              3000   \n",
       "2292        1498.83  ultimate               70              3000   \n",
       "\n",
       "      messages_included  mb_per_month_included  usd_per_minute  \\\n",
       "0                  1000                  30720            0.01   \n",
       "1                    50                  15360            0.03   \n",
       "2                    50                  15360            0.03   \n",
       "3                    50                  15360            0.03   \n",
       "4                    50                  15360            0.03   \n",
       "...                 ...                    ...             ...   \n",
       "2288                 50                  15360            0.03   \n",
       "2289                 50                  15360            0.03   \n",
       "2290               1000                  30720            0.01   \n",
       "2291               1000                  30720            0.01   \n",
       "2292               1000                  30720            0.01   \n",
       "\n",
       "      usd_per_message  usd_per_gb                                       city  \n",
       "0                0.01           7      Atlanta-Sandy Springs-Roswell, GA MSA  \n",
       "1                0.03          10            Seattle-Tacoma-Bellevue, WA MSA  \n",
       "2                0.03          10            Seattle-Tacoma-Bellevue, WA MSA  \n",
       "3                0.03          10            Seattle-Tacoma-Bellevue, WA MSA  \n",
       "4                0.03          10            Seattle-Tacoma-Bellevue, WA MSA  \n",
       "...               ...         ...                                        ...  \n",
       "2288             0.03          10         Boston-Cambridge-Newton, MA-NH MSA  \n",
       "2289             0.03          10                  Birmingham-Hoover, AL MSA  \n",
       "2290             0.01           7  New York-Newark-Jersey City, NY-NJ-PA MSA  \n",
       "2291             0.01           7                     Salt Lake City, UT MSA  \n",
       "2292             0.01           7                      Memphis, TN-MS-AR MSA  \n",
       "\n",
       "[2293 rows x 16 columns]"
      ]
     },
     "metadata": {},
     "output_type": "display_data"
    }
   ],
   "source": [
    "# making sure the merging keys are correctly identified\n",
    "df_user_plans = pd.merge(mg_users, mg_plans, left_on='plan', right_on='plan_name', how='left')\n",
    "# merging the detailed user_plan info into df_merged\n",
    "df_final_detailed = pd.merge(df_merged, df_user_plans[['user_id', 'plan', 'usd_monthly_pay', 'minutes_included', 'messages_included', 'mb_per_month_included', 'usd_per_minute','usd_per_message', 'usd_per_gb', 'city']], on='user_id', how='left')\n",
    "# verify merge\n",
    "display(df_final_detailed)"
   ]
  },
  {
   "cell_type": "code",
   "execution_count": 45,
   "metadata": {
    "scrolled": true
   },
   "outputs": [
    {
     "data": {
      "text/html": [
       "<div>\n",
       "<style scoped>\n",
       "    .dataframe tbody tr th:only-of-type {\n",
       "        vertical-align: middle;\n",
       "    }\n",
       "\n",
       "    .dataframe tbody tr th {\n",
       "        vertical-align: top;\n",
       "    }\n",
       "\n",
       "    .dataframe thead th {\n",
       "        text-align: right;\n",
       "    }\n",
       "</style>\n",
       "<table border=\"1\" class=\"dataframe\">\n",
       "  <thead>\n",
       "    <tr style=\"text-align: right;\">\n",
       "      <th></th>\n",
       "      <th>user_id</th>\n",
       "      <th>month</th>\n",
       "      <th>monthly_revenue</th>\n",
       "    </tr>\n",
       "  </thead>\n",
       "  <tbody>\n",
       "    <tr>\n",
       "      <th>0</th>\n",
       "      <td>1000</td>\n",
       "      <td>12</td>\n",
       "      <td>70.00</td>\n",
       "    </tr>\n",
       "    <tr>\n",
       "      <th>1</th>\n",
       "      <td>1001</td>\n",
       "      <td>8</td>\n",
       "      <td>20.00</td>\n",
       "    </tr>\n",
       "    <tr>\n",
       "      <th>2</th>\n",
       "      <td>1001</td>\n",
       "      <td>9</td>\n",
       "      <td>20.00</td>\n",
       "    </tr>\n",
       "    <tr>\n",
       "      <th>3</th>\n",
       "      <td>1001</td>\n",
       "      <td>10</td>\n",
       "      <td>90.09</td>\n",
       "    </tr>\n",
       "    <tr>\n",
       "      <th>4</th>\n",
       "      <td>1001</td>\n",
       "      <td>11</td>\n",
       "      <td>60.00</td>\n",
       "    </tr>\n",
       "    <tr>\n",
       "      <th>5</th>\n",
       "      <td>1001</td>\n",
       "      <td>12</td>\n",
       "      <td>60.00</td>\n",
       "    </tr>\n",
       "    <tr>\n",
       "      <th>6</th>\n",
       "      <td>1002</td>\n",
       "      <td>10</td>\n",
       "      <td>20.00</td>\n",
       "    </tr>\n",
       "    <tr>\n",
       "      <th>7</th>\n",
       "      <td>1002</td>\n",
       "      <td>11</td>\n",
       "      <td>60.00</td>\n",
       "    </tr>\n",
       "    <tr>\n",
       "      <th>8</th>\n",
       "      <td>1002</td>\n",
       "      <td>12</td>\n",
       "      <td>20.00</td>\n",
       "    </tr>\n",
       "    <tr>\n",
       "      <th>9</th>\n",
       "      <td>1003</td>\n",
       "      <td>12</td>\n",
       "      <td>12220.00</td>\n",
       "    </tr>\n",
       "    <tr>\n",
       "      <th>10</th>\n",
       "      <td>1004</td>\n",
       "      <td>5</td>\n",
       "      <td>20.00</td>\n",
       "    </tr>\n",
       "    <tr>\n",
       "      <th>11</th>\n",
       "      <td>1004</td>\n",
       "      <td>6</td>\n",
       "      <td>80.00</td>\n",
       "    </tr>\n",
       "    <tr>\n",
       "      <th>12</th>\n",
       "      <td>1004</td>\n",
       "      <td>7</td>\n",
       "      <td>110.00</td>\n",
       "    </tr>\n",
       "    <tr>\n",
       "      <th>13</th>\n",
       "      <td>1004</td>\n",
       "      <td>8</td>\n",
       "      <td>150.00</td>\n",
       "    </tr>\n",
       "    <tr>\n",
       "      <th>14</th>\n",
       "      <td>1004</td>\n",
       "      <td>9</td>\n",
       "      <td>60.00</td>\n",
       "    </tr>\n",
       "    <tr>\n",
       "      <th>15</th>\n",
       "      <td>1004</td>\n",
       "      <td>10</td>\n",
       "      <td>20.00</td>\n",
       "    </tr>\n",
       "    <tr>\n",
       "      <th>16</th>\n",
       "      <td>1004</td>\n",
       "      <td>11</td>\n",
       "      <td>90.00</td>\n",
       "    </tr>\n",
       "    <tr>\n",
       "      <th>17</th>\n",
       "      <td>1004</td>\n",
       "      <td>12</td>\n",
       "      <td>80.00</td>\n",
       "    </tr>\n",
       "    <tr>\n",
       "      <th>18</th>\n",
       "      <td>1005</td>\n",
       "      <td>12</td>\n",
       "      <td>40.00</td>\n",
       "    </tr>\n",
       "    <tr>\n",
       "      <th>19</th>\n",
       "      <td>1006</td>\n",
       "      <td>11</td>\n",
       "      <td>70.00</td>\n",
       "    </tr>\n",
       "    <tr>\n",
       "      <th>20</th>\n",
       "      <td>1006</td>\n",
       "      <td>12</td>\n",
       "      <td>84.00</td>\n",
       "    </tr>\n",
       "    <tr>\n",
       "      <th>21</th>\n",
       "      <td>1007</td>\n",
       "      <td>8</td>\n",
       "      <td>110.03</td>\n",
       "    </tr>\n",
       "    <tr>\n",
       "      <th>22</th>\n",
       "      <td>1007</td>\n",
       "      <td>9</td>\n",
       "      <td>150.00</td>\n",
       "    </tr>\n",
       "    <tr>\n",
       "      <th>23</th>\n",
       "      <td>1007</td>\n",
       "      <td>10</td>\n",
       "      <td>3140.27</td>\n",
       "    </tr>\n",
       "    <tr>\n",
       "      <th>24</th>\n",
       "      <td>1007</td>\n",
       "      <td>11</td>\n",
       "      <td>590.00</td>\n",
       "    </tr>\n",
       "  </tbody>\n",
       "</table>\n",
       "</div>"
      ],
      "text/plain": [
       "    user_id  month  monthly_revenue\n",
       "0      1000     12            70.00\n",
       "1      1001      8            20.00\n",
       "2      1001      9            20.00\n",
       "3      1001     10            90.09\n",
       "4      1001     11            60.00\n",
       "5      1001     12            60.00\n",
       "6      1002     10            20.00\n",
       "7      1002     11            60.00\n",
       "8      1002     12            20.00\n",
       "9      1003     12         12220.00\n",
       "10     1004      5            20.00\n",
       "11     1004      6            80.00\n",
       "12     1004      7           110.00\n",
       "13     1004      8           150.00\n",
       "14     1004      9            60.00\n",
       "15     1004     10            20.00\n",
       "16     1004     11            90.00\n",
       "17     1004     12            80.00\n",
       "18     1005     12            40.00\n",
       "19     1006     11            70.00\n",
       "20     1006     12            84.00\n",
       "21     1007      8           110.03\n",
       "22     1007      9           150.00\n",
       "23     1007     10          3140.27\n",
       "24     1007     11           590.00"
      ]
     },
     "metadata": {},
     "output_type": "display_data"
    }
   ],
   "source": [
    "# Calculate the monthly revenue for each user\n",
    "\n",
    "# define function and calculate charges for calls, messages, and data\n",
    "def calculate_monthly_revenue(row):\n",
    "    monthly_charge = row['usd_monthly_pay']\n",
    "    if row['duration_rounded'] > row['minutes_included']:\n",
    "        monthly_charge += (row['duration_rounded'] - row['minutes_included']) * row['usd_monthly_pay']\n",
    "    if row['message_count'] > row['messages_included']:\n",
    "        monthly_charge += (row['message_count'] - row['messages_included']) * row['usd_per_message']\n",
    "    if row['total_mb_used'] > row['mb_per_month_included']:\n",
    "        #converting mb to gb incase it is needed\n",
    "        extra_gb = np.ceil((row['total_mb_used'] - row['mb_per_month_included']) / 1024)\n",
    "        monthly_charge += extra_gb * row['usd_per_gb']\n",
    "    return monthly_charge\n",
    "    \n",
    "# apply the function to each row in df_final_detailed\n",
    "df_final_detailed['monthly_revenue'] = df_final_detailed.apply(calculate_monthly_revenue, axis=1)\n",
    "# check results\n",
    "display(df_final_detailed[['user_id', 'month', 'monthly_revenue']].head(25))"
   ]
  },
  {
   "cell_type": "code",
   "execution_count": 46,
   "metadata": {},
   "outputs": [
    {
     "data": {
      "text/html": [
       "<div>\n",
       "<style scoped>\n",
       "    .dataframe tbody tr th:only-of-type {\n",
       "        vertical-align: middle;\n",
       "    }\n",
       "\n",
       "    .dataframe tbody tr th {\n",
       "        vertical-align: top;\n",
       "    }\n",
       "\n",
       "    .dataframe thead th {\n",
       "        text-align: right;\n",
       "    }\n",
       "</style>\n",
       "<table border=\"1\" class=\"dataframe\">\n",
       "  <thead>\n",
       "    <tr style=\"text-align: right;\">\n",
       "      <th></th>\n",
       "      <th>Plan</th>\n",
       "      <th>Total Revenue</th>\n",
       "    </tr>\n",
       "  </thead>\n",
       "  <tbody>\n",
       "    <tr>\n",
       "      <th>0</th>\n",
       "      <td>surf</td>\n",
       "      <td>2026090.93</td>\n",
       "    </tr>\n",
       "    <tr>\n",
       "      <th>1</th>\n",
       "      <td>ultimate</td>\n",
       "      <td>52066.00</td>\n",
       "    </tr>\n",
       "  </tbody>\n",
       "</table>\n",
       "</div>"
      ],
      "text/plain": [
       "       Plan  Total Revenue\n",
       "0      surf     2026090.93\n",
       "1  ultimate       52066.00"
      ]
     },
     "metadata": {},
     "output_type": "display_data"
    }
   ],
   "source": [
    "# calculating revenue for each individual plan\n",
    "total_revenue_by_plan = df_final_detailed.groupby('plan')['monthly_revenue'].sum().reset_index()\n",
    "\n",
    "# renaming columns for clarity\n",
    "total_revenue_by_plan.columns = ['Plan', 'Total Revenue']\n",
    "\n",
    "# displaying the results\n",
    "display(total_revenue_by_plan)\n"
   ]
  },
  {
   "cell_type": "code",
   "execution_count": 47,
   "metadata": {},
   "outputs": [
    {
     "data": {
      "text/html": [
       "<div>\n",
       "<style scoped>\n",
       "    .dataframe tbody tr th:only-of-type {\n",
       "        vertical-align: middle;\n",
       "    }\n",
       "\n",
       "    .dataframe tbody tr th {\n",
       "        vertical-align: top;\n",
       "    }\n",
       "\n",
       "    .dataframe thead th {\n",
       "        text-align: right;\n",
       "    }\n",
       "</style>\n",
       "<table border=\"1\" class=\"dataframe\">\n",
       "  <thead>\n",
       "    <tr style=\"text-align: right;\">\n",
       "      <th>plan</th>\n",
       "      <th>year</th>\n",
       "      <th>month</th>\n",
       "      <th>surf</th>\n",
       "      <th>ultimate</th>\n",
       "    </tr>\n",
       "  </thead>\n",
       "  <tbody>\n",
       "    <tr>\n",
       "      <th>0</th>\n",
       "      <td>2018</td>\n",
       "      <td>1</td>\n",
       "      <td>40.00</td>\n",
       "      <td>280.0</td>\n",
       "    </tr>\n",
       "    <tr>\n",
       "      <th>1</th>\n",
       "      <td>2018</td>\n",
       "      <td>2</td>\n",
       "      <td>6520.24</td>\n",
       "      <td>490.0</td>\n",
       "    </tr>\n",
       "    <tr>\n",
       "      <th>2</th>\n",
       "      <td>2018</td>\n",
       "      <td>3</td>\n",
       "      <td>11880.39</td>\n",
       "      <td>896.0</td>\n",
       "    </tr>\n",
       "    <tr>\n",
       "      <th>3</th>\n",
       "      <td>2018</td>\n",
       "      <td>4</td>\n",
       "      <td>37262.61</td>\n",
       "      <td>1533.0</td>\n",
       "    </tr>\n",
       "    <tr>\n",
       "      <th>4</th>\n",
       "      <td>2018</td>\n",
       "      <td>5</td>\n",
       "      <td>88679.66</td>\n",
       "      <td>2051.0</td>\n",
       "    </tr>\n",
       "    <tr>\n",
       "      <th>5</th>\n",
       "      <td>2018</td>\n",
       "      <td>6</td>\n",
       "      <td>108164.49</td>\n",
       "      <td>3367.0</td>\n",
       "    </tr>\n",
       "    <tr>\n",
       "      <th>6</th>\n",
       "      <td>2018</td>\n",
       "      <td>7</td>\n",
       "      <td>184637.58</td>\n",
       "      <td>4242.0</td>\n",
       "    </tr>\n",
       "    <tr>\n",
       "      <th>7</th>\n",
       "      <td>2018</td>\n",
       "      <td>8</td>\n",
       "      <td>188529.19</td>\n",
       "      <td>5173.0</td>\n",
       "    </tr>\n",
       "    <tr>\n",
       "      <th>8</th>\n",
       "      <td>2018</td>\n",
       "      <td>9</td>\n",
       "      <td>196746.09</td>\n",
       "      <td>6195.0</td>\n",
       "    </tr>\n",
       "    <tr>\n",
       "      <th>9</th>\n",
       "      <td>2018</td>\n",
       "      <td>10</td>\n",
       "      <td>298579.58</td>\n",
       "      <td>7665.0</td>\n",
       "    </tr>\n",
       "    <tr>\n",
       "      <th>10</th>\n",
       "      <td>2018</td>\n",
       "      <td>11</td>\n",
       "      <td>346299.64</td>\n",
       "      <td>9107.0</td>\n",
       "    </tr>\n",
       "    <tr>\n",
       "      <th>11</th>\n",
       "      <td>2018</td>\n",
       "      <td>12</td>\n",
       "      <td>558751.46</td>\n",
       "      <td>11067.0</td>\n",
       "    </tr>\n",
       "  </tbody>\n",
       "</table>\n",
       "</div>"
      ],
      "text/plain": [
       "plan  year  month       surf  ultimate\n",
       "0     2018      1      40.00     280.0\n",
       "1     2018      2    6520.24     490.0\n",
       "2     2018      3   11880.39     896.0\n",
       "3     2018      4   37262.61    1533.0\n",
       "4     2018      5   88679.66    2051.0\n",
       "5     2018      6  108164.49    3367.0\n",
       "6     2018      7  184637.58    4242.0\n",
       "7     2018      8  188529.19    5173.0\n",
       "8     2018      9  196746.09    6195.0\n",
       "9     2018     10  298579.58    7665.0\n",
       "10    2018     11  346299.64    9107.0\n",
       "11    2018     12  558751.46   11067.0"
      ]
     },
     "metadata": {},
     "output_type": "display_data"
    }
   ],
   "source": [
    "# calculating monthly revenue for each plan\n",
    "# group by 'year_month' and 'plan' and sum up 'monthly_revenue', then unstack the 'plan' level to create separate columns\n",
    "monthly_revenue_by_plan = df_final_detailed.groupby(['year', 'month', 'plan'])['monthly_revenue'].sum().unstack('plan').reset_index()\n",
    "\n",
    "# resetting index if you prefer a clean DataFrame without hierarchical indexing\n",
    "monthly_revenue_by_plan.reset_index(drop=True, inplace=True)\n",
    "\n",
    "# displaying the results\n",
    "display(monthly_revenue_by_plan)\n"
   ]
  },
  {
   "cell_type": "code",
   "execution_count": 48,
   "metadata": {},
   "outputs": [
    {
     "data": {
      "text/html": [
       "<div>\n",
       "<style scoped>\n",
       "    .dataframe tbody tr th:only-of-type {\n",
       "        vertical-align: middle;\n",
       "    }\n",
       "\n",
       "    .dataframe tbody tr th {\n",
       "        vertical-align: top;\n",
       "    }\n",
       "\n",
       "    .dataframe thead th {\n",
       "        text-align: right;\n",
       "    }\n",
       "</style>\n",
       "<table border=\"1\" class=\"dataframe\">\n",
       "  <thead>\n",
       "    <tr style=\"text-align: right;\">\n",
       "      <th></th>\n",
       "      <th>City</th>\n",
       "      <th>Total Revenue</th>\n",
       "    </tr>\n",
       "  </thead>\n",
       "  <tbody>\n",
       "    <tr>\n",
       "      <th>43</th>\n",
       "      <td>New York-Newark-Jersey City, NY-NJ-PA MSA</td>\n",
       "      <td>361341.46</td>\n",
       "    </tr>\n",
       "    <tr>\n",
       "      <th>39</th>\n",
       "      <td>Minneapolis-St. Paul-Bloomington, MN-WI MSA</td>\n",
       "      <td>164522.38</td>\n",
       "    </tr>\n",
       "    <tr>\n",
       "      <th>34</th>\n",
       "      <td>Los Angeles-Long Beach-Anaheim, CA MSA</td>\n",
       "      <td>139795.01</td>\n",
       "    </tr>\n",
       "    <tr>\n",
       "      <th>6</th>\n",
       "      <td>Baton Rouge, LA MSA</td>\n",
       "      <td>112650.03</td>\n",
       "    </tr>\n",
       "    <tr>\n",
       "      <th>26</th>\n",
       "      <td>Grand Rapids-Kentwood, MI MSA</td>\n",
       "      <td>101563.30</td>\n",
       "    </tr>\n",
       "    <tr>\n",
       "      <th>...</th>\n",
       "      <td>...</td>\n",
       "      <td>...</td>\n",
       "    </tr>\n",
       "    <tr>\n",
       "      <th>30</th>\n",
       "      <td>Jacksonville, FL MSA</td>\n",
       "      <td>172.34</td>\n",
       "    </tr>\n",
       "    <tr>\n",
       "      <th>66</th>\n",
       "      <td>Stockton, CA MSA</td>\n",
       "      <td>140.00</td>\n",
       "    </tr>\n",
       "    <tr>\n",
       "      <th>11</th>\n",
       "      <td>Cape Coral-Fort Myers, FL MSA</td>\n",
       "      <td>70.00</td>\n",
       "    </tr>\n",
       "    <tr>\n",
       "      <th>46</th>\n",
       "      <td>Omaha-Council Bluffs, NE-IA MSA</td>\n",
       "      <td>60.00</td>\n",
       "    </tr>\n",
       "    <tr>\n",
       "      <th>54</th>\n",
       "      <td>Raleigh-Cary, NC MSA</td>\n",
       "      <td>40.00</td>\n",
       "    </tr>\n",
       "  </tbody>\n",
       "</table>\n",
       "<p>73 rows × 2 columns</p>\n",
       "</div>"
      ],
      "text/plain": [
       "                                           City  Total Revenue\n",
       "43    New York-Newark-Jersey City, NY-NJ-PA MSA      361341.46\n",
       "39  Minneapolis-St. Paul-Bloomington, MN-WI MSA      164522.38\n",
       "34       Los Angeles-Long Beach-Anaheim, CA MSA      139795.01\n",
       "6                           Baton Rouge, LA MSA      112650.03\n",
       "26                Grand Rapids-Kentwood, MI MSA      101563.30\n",
       "..                                          ...            ...\n",
       "30                         Jacksonville, FL MSA         172.34\n",
       "66                             Stockton, CA MSA         140.00\n",
       "11                Cape Coral-Fort Myers, FL MSA          70.00\n",
       "46              Omaha-Council Bluffs, NE-IA MSA          60.00\n",
       "54                         Raleigh-Cary, NC MSA          40.00\n",
       "\n",
       "[73 rows x 2 columns]"
      ]
     },
     "metadata": {},
     "output_type": "display_data"
    }
   ],
   "source": [
    "# calculating total revenue by city\n",
    "total_revenue_by_city = df_final_detailed.groupby('city')['monthly_revenue'].sum().reset_index()\n",
    "\n",
    "# renaming columns for clarity\n",
    "total_revenue_by_city.columns = ['City', 'Total Revenue']\n",
    "\n",
    "# Ssrting the result by revenue for better readability\n",
    "total_revenue_by_city = total_revenue_by_city.sort_values(by='Total Revenue', ascending=False)\n",
    "\n",
    "# Displaying the results\n",
    "display(total_revenue_by_city)"
   ]
  },
  {
   "cell_type": "markdown",
   "metadata": {},
   "source": [
    "Aggregate data per users - notes\n",
    "- I calculated the number of calls made by each user per month. It looks like the number of calls range all over. \n",
    "- From my calculations, I see that the minutes spent by each user are in the hundreds. You do have to keep in mind that the minutes round up.\n",
    "- From the data that I ran, it looks like the amount of calls are higher than the amount of messages being sent.\n",
    "- I calculated the internet usage and from what I can tell, it looks pretty average. If you think about how often you’re on your phone browsing on the internet, it is probably also sky high. \n",
    "- I merged all of the data frames together to make one large table. It includes everything about the user and their plans along with the base and additional charges that accrue. \n",
    "- I did the math to get how much each user is paying monthly. Some people go over their plan limits, but most stay within it. "
   ]
  },
  {
   "cell_type": "markdown",
   "metadata": {},
   "source": [
    "## Study user behaviour"
   ]
  },
  {
   "cell_type": "markdown",
   "metadata": {},
   "source": [
    "### Calls"
   ]
  },
  {
   "cell_type": "code",
   "execution_count": 49,
   "metadata": {},
   "outputs": [
    {
     "data": {
      "image/png": "[encoded data removed]",
      "text/plain": [
       "<Figure size 1000x600 with 1 Axes>"
      ]
     },
     "metadata": {},
     "output_type": "display_data"
    }
   ],
   "source": [
    "# Compare average duration of calls per each plan per each distinct month. Plot a bar plat to visualize it.\n",
    "\n",
    "#  example step for merging calls data with user plan - assuming this hasn't been done yet\n",
    "df_calls_with_plan = pd.merge(mg_calls, mg_users[['user_id', 'plan']], on='user_id', how='left')\n",
    "\n",
    "# aggregate data to calculate average call duration per plan per month\n",
    "# assuming 'month' is already in 'df_calls_with_plan' and formatted as 'YYYY-MM' or similar\n",
    "average_call_duration = df_calls_with_plan.groupby(['plan', 'month'])['duration'].mean().reset_index()\n",
    "\n",
    "# plotting\n",
    "plt.figure(figsize=(10, 6))\n",
    "sns.barplot(x='month', y='duration', hue='plan', data=average_call_duration)\n",
    "plt.title('Average Call Duration per Plan per Month')\n",
    "plt.xlabel('Month')\n",
    "plt.ylabel('Average Duration (minutes)')\n",
    "plt.xticks(rotation=45)  # rotate month labels \n",
    "plt.tight_layout()  # adjust layout to make room for the rotated x-axis labels\n",
    "plt.show()\n"
   ]
  },
  {
   "cell_type": "code",
   "execution_count": 50,
   "metadata": {},
   "outputs": [
    {
     "data": {
      "image/png": "[encoded data removed]",
      "text/plain": [
       "<Figure size 1200x600 with 1 Axes>"
      ]
     },
     "metadata": {},
     "output_type": "display_data"
    }
   ],
   "source": [
    "# Compare the number of minutes users of each plan require each month. Plot a histogram.\n",
    "\n",
    "# filter data by plan for visualization\n",
    "surf_users = df_final_detailed[df_final_detailed['plan'] == 'surf']['duration_rounded']\n",
    "ultimate_users = df_final_detailed[df_final_detailed['plan'] == 'ultimate']['duration_rounded']\n",
    "\n",
    "# set up the matplotlib figure\n",
    "plt.figure(figsize=(12, 6))\n",
    "\n",
    "# plot a histogram for each plan\n",
    "sns.histplot(surf_users, color=\"skyblue\", label='Surf Plan', kde=True, linewidth=0)\n",
    "sns.histplot(ultimate_users, color=\"red\", label='Ultimate Plan', kde=True, linewidth=0)\n",
    "\n",
    "plt.title('Distribution of Total Monthly Minutes Usage by Plan')\n",
    "plt.xlabel('Total Monthly Minutes')\n",
    "plt.ylabel('Users')\n",
    "plt.legend()\n",
    "plt.show()"
   ]
  },
  {
   "cell_type": "code",
   "execution_count": 51,
   "metadata": {},
   "outputs": [
    {
     "data": {
      "text/html": [
       "<div>\n",
       "<style scoped>\n",
       "    .dataframe tbody tr th:only-of-type {\n",
       "        vertical-align: middle;\n",
       "    }\n",
       "\n",
       "    .dataframe tbody tr th {\n",
       "        vertical-align: top;\n",
       "    }\n",
       "\n",
       "    .dataframe thead th {\n",
       "        text-align: right;\n",
       "    }\n",
       "</style>\n",
       "<table border=\"1\" class=\"dataframe\">\n",
       "  <thead>\n",
       "    <tr style=\"text-align: right;\">\n",
       "      <th></th>\n",
       "      <th>Plan</th>\n",
       "      <th>Mean Duration</th>\n",
       "      <th>Variance of Duration</th>\n",
       "      <th>STD of Duration</th>\n",
       "    </tr>\n",
       "  </thead>\n",
       "  <tbody>\n",
       "    <tr>\n",
       "      <th>0</th>\n",
       "      <td>surf</td>\n",
       "      <td>428.749523</td>\n",
       "      <td>54968.279461</td>\n",
       "      <td>234.453150</td>\n",
       "    </tr>\n",
       "    <tr>\n",
       "      <th>1</th>\n",
       "      <td>ultimate</td>\n",
       "      <td>430.450000</td>\n",
       "      <td>57844.464812</td>\n",
       "      <td>240.508762</td>\n",
       "    </tr>\n",
       "  </tbody>\n",
       "</table>\n",
       "</div>"
      ],
      "text/plain": [
       "       Plan  Mean Duration  Variance of Duration  STD of Duration\n",
       "0      surf     428.749523          54968.279461       234.453150\n",
       "1  ultimate     430.450000          57844.464812       240.508762"
      ]
     },
     "metadata": {},
     "output_type": "display_data"
    }
   ],
   "source": [
    "# Calculate the mean and the variance of the monthly call duration\n",
    "\n",
    "# calculate mean, variance, and std of monthly call duration_rounded per plan\n",
    "stats_per_plan = df_final_detailed.groupby('plan')['duration_rounded'].agg(['mean', 'var', 'std']).reset_index()\n",
    "\n",
    "# rename columns for clarity\n",
    "stats_per_plan.columns = ['Plan', 'Mean Duration', 'Variance of Duration', 'STD of Duration']\n",
    "\n",
    "# display the statistics for each plan\n",
    "display(stats_per_plan)\n"
   ]
  },
  {
   "cell_type": "code",
   "execution_count": 52,
   "metadata": {},
   "outputs": [
    {
     "data": {
      "image/png": "[encoded data removed]",
      "text/plain": [
       "<Figure size 1200x800 with 1 Axes>"
      ]
     },
     "metadata": {},
     "output_type": "display_data"
    }
   ],
   "source": [
    "# histogram for monthly call duration per plan\n",
    "plt.figure(figsize=(12, 8))\n",
    "sns.histplot(data=df_final_detailed, x='duration_rounded', hue='plan', multiple='stack', bins=30, kde=True)\n",
    "plt.title('Histogram: Distribution of Monthly Call Duration by Plan')\n",
    "plt.xlabel('Monthly Call Duration (minutes)')\n",
    "plt.ylabel('Frequency')\n",
    "\n",
    "plt.show()"
   ]
  },
  {
   "cell_type": "code",
   "execution_count": 53,
   "metadata": {},
   "outputs": [
    {
     "data": {
      "image/png": "[encoded data removed]",
      "text/plain": [
       "<Figure size 1000x600 with 1 Axes>"
      ]
     },
     "metadata": {},
     "output_type": "display_data"
    }
   ],
   "source": [
    "# Plot a boxplot to visualize the distribution of the monthly call duration\n",
    "\n",
    "# Set up the matplotlib figure\n",
    "plt.figure(figsize=(10, 6))\n",
    "# Draw a box plot to show distributions with respect to categories\n",
    "sns.boxplot(x='plan', y='duration_rounded', data=df_final_detailed)\n",
    "# Set the plot title and labels\n",
    "plt.title('Monthly Call Duration Distribution by Plan')\n",
    "plt.xlabel('Plan Name')\n",
    "plt.ylabel('Call Duration (minutes)')\n",
    "# Display the plot\n",
    "plt.show()"
   ]
  },
  {
   "cell_type": "markdown",
   "metadata": {},
   "source": [
    "Notes on study user behavior - Calls\n",
    "- It looks pretty average for the call duration each month. It looks like 8 months out of the year, users on the surf plan are on the phone longer than the users on the ultimate plan on average. It looks like in November, the average duration for both plans are even.\n",
    "- I plotted the distribution of total mostly minutes usage by plan and you can see that the ultimate plan users are on the phone more than the surf plan users. \n",
    "- I calculated the mean and the variance of the monthly call duration. The mean is 405 minutes (not rounded up) and the variance of monthly call duration is 49900 minutes (not rounded up). A high variance indicates that the call durations are spread out over a wider range of values."
   ]
  },
  {
   "cell_type": "markdown",
   "metadata": {},
   "source": [
    " "
   ]
  },
  {
   "cell_type": "markdown",
   "metadata": {},
   "source": [
    "### Messages"
   ]
  },
  {
   "cell_type": "code",
   "execution_count": 54,
   "metadata": {
    "scrolled": true
   },
   "outputs": [
    {
     "data": {
      "image/png": "[encoded data removed]",
      "text/plain": [
       "<Figure size 1000x600 with 1 Axes>"
      ]
     },
     "metadata": {},
     "output_type": "display_data"
    }
   ],
   "source": [
    "# Compare the number of messages users of each plan tend to send each month\n",
    "\n",
    "# boxplot\n",
    "# Assuming df_final already includes 'message_count' per month per user, and their 'plan'\n",
    "plt.figure(figsize=(10, 6))\n",
    "sns.boxplot(x='plan', y='message_count', data=df_final_detailed)\n",
    "plt.title('Distribution of Monthly Messages Sent by Plan')\n",
    "plt.xlabel('Plan')\n",
    "plt.ylabel('Monthly Messages Count')\n",
    "plt.show()"
   ]
  },
  {
   "cell_type": "code",
   "execution_count": 55,
   "metadata": {},
   "outputs": [
    {
     "data": {
      "image/png": "[encoded data removed]",
      "text/plain": [
       "<Figure size 1000x600 with 1 Axes>"
      ]
     },
     "metadata": {},
     "output_type": "display_data"
    }
   ],
   "source": [
    "# histogram \n",
    "plt.figure(figsize=(10, 6))\n",
    "sns.histplot(data=df_final_detailed, x='message_count', hue='plan', multiple='stack', bins=20)\n",
    "plt.title('Histogram: Distribution of Monthly Messages Sent by Plan')\n",
    "plt.xlabel('Monthly Messages Count')\n",
    "plt.ylabel('Frequency')\n",
    "plt.show()"
   ]
  },
  {
   "cell_type": "code",
   "execution_count": 56,
   "metadata": {},
   "outputs": [
    {
     "data": {
      "text/html": [
       "<div>\n",
       "<style scoped>\n",
       "    .dataframe tbody tr th:only-of-type {\n",
       "        vertical-align: middle;\n",
       "    }\n",
       "\n",
       "    .dataframe tbody tr th {\n",
       "        vertical-align: top;\n",
       "    }\n",
       "\n",
       "    .dataframe thead th {\n",
       "        text-align: right;\n",
       "    }\n",
       "</style>\n",
       "<table border=\"1\" class=\"dataframe\">\n",
       "  <thead>\n",
       "    <tr style=\"text-align: right;\">\n",
       "      <th></th>\n",
       "      <th>Plan</th>\n",
       "      <th>Mean Monthly Messages</th>\n",
       "      <th>Variance of Monthly Messages</th>\n",
       "      <th>STD of Monthly Messages</th>\n",
       "    </tr>\n",
       "  </thead>\n",
       "  <tbody>\n",
       "    <tr>\n",
       "      <th>0</th>\n",
       "      <td>surf</td>\n",
       "      <td>31.159568</td>\n",
       "      <td>1126.724522</td>\n",
       "      <td>33.566717</td>\n",
       "    </tr>\n",
       "    <tr>\n",
       "      <th>1</th>\n",
       "      <td>ultimate</td>\n",
       "      <td>37.551389</td>\n",
       "      <td>1208.756744</td>\n",
       "      <td>34.767179</td>\n",
       "    </tr>\n",
       "  </tbody>\n",
       "</table>\n",
       "</div>"
      ],
      "text/plain": [
       "       Plan  Mean Monthly Messages  Variance of Monthly Messages  \\\n",
       "0      surf              31.159568                   1126.724522   \n",
       "1  ultimate              37.551389                   1208.756744   \n",
       "\n",
       "   STD of Monthly Messages  \n",
       "0                33.566717  \n",
       "1                34.767179  "
      ]
     },
     "metadata": {},
     "output_type": "display_data"
    }
   ],
   "source": [
    "# grouping by 'plan' and calculating mean, variance, and std for 'message_count'\n",
    "messages_stats = df_final_detailed.groupby('plan')['message_count'].agg(['mean', 'var', 'std']).reset_index()\n",
    "\n",
    "# renaming columns for clarity\n",
    "messages_stats.columns = ['Plan', 'Mean Monthly Messages', 'Variance of Monthly Messages', 'STD of Monthly Messages']\n",
    "\n",
    "# displaying the results\n",
    "display(messages_stats)"
   ]
  },
  {
   "cell_type": "markdown",
   "metadata": {},
   "source": [
    "Notes on study user behavior - Messages \n",
    "- Overall, it looks like ultimate plan users send out more messages than surf plan users. "
   ]
  },
  {
   "cell_type": "markdown",
   "metadata": {},
   "source": [
    " "
   ]
  },
  {
   "cell_type": "markdown",
   "metadata": {},
   "source": [
    "### Internet"
   ]
  },
  {
   "cell_type": "code",
   "execution_count": 57,
   "metadata": {},
   "outputs": [
    {
     "data": {
      "image/png": "[encoded data removed]",
      "text/plain": [
       "<Figure size 1000x600 with 1 Axes>"
      ]
     },
     "metadata": {},
     "output_type": "display_data"
    }
   ],
   "source": [
    "# Compare the amount of internet traffic consumed by users per plan\n",
    "\n",
    "# Boxplot for internet usage comparison\n",
    "plt.figure(figsize=(10, 6))\n",
    "sns.boxplot(x='plan', y='total_mb_used', data=df_final_detailed)\n",
    "plt.title('Distribution of Monthly Internet Traffic by Plan')\n",
    "plt.xlabel('Plan')\n",
    "plt.ylabel('Monthly Internet Traffic (MB)')\n",
    "plt.show()"
   ]
  },
  {
   "cell_type": "code",
   "execution_count": 58,
   "metadata": {},
   "outputs": [
    {
     "data": {
      "image/png": "[encoded data removed]",
      "text/plain": [
       "<Figure size 1000x600 with 1 Axes>"
      ]
     },
     "metadata": {},
     "output_type": "display_data"
    }
   ],
   "source": [
    "# histogram\n",
    "plt.figure(figsize=(10, 6))\n",
    "sns.histplot(data=df_final_detailed, x='total_mb_used', hue='plan', multiple='stack', bins=30, kde=False)\n",
    "plt.title('Histogram: Distribution of Monthly Internet Traffic by Plan')\n",
    "plt.xlabel('Monthly Internet Traffic (MB)')\n",
    "plt.ylabel('Frequency')\n",
    "plt.show()"
   ]
  },
  {
   "cell_type": "code",
   "execution_count": 59,
   "metadata": {},
   "outputs": [
    {
     "data": {
      "text/html": [
       "<div>\n",
       "<style scoped>\n",
       "    .dataframe tbody tr th:only-of-type {\n",
       "        vertical-align: middle;\n",
       "    }\n",
       "\n",
       "    .dataframe tbody tr th {\n",
       "        vertical-align: top;\n",
       "    }\n",
       "\n",
       "    .dataframe thead th {\n",
       "        text-align: right;\n",
       "    }\n",
       "</style>\n",
       "<table border=\"1\" class=\"dataframe\">\n",
       "  <thead>\n",
       "    <tr style=\"text-align: right;\">\n",
       "      <th></th>\n",
       "      <th>Plan</th>\n",
       "      <th>Mean Monthly Internet Traffic</th>\n",
       "      <th>Variance of Monthly Internet Traffic</th>\n",
       "      <th>STD of Internet Trafffic</th>\n",
       "    </tr>\n",
       "  </thead>\n",
       "  <tbody>\n",
       "    <tr>\n",
       "      <th>0</th>\n",
       "      <td>surf</td>\n",
       "      <td>16558.283490</td>\n",
       "      <td>6.421640e+07</td>\n",
       "      <td>8013.513327</td>\n",
       "    </tr>\n",
       "    <tr>\n",
       "      <th>1</th>\n",
       "      <td>ultimate</td>\n",
       "      <td>17214.699694</td>\n",
       "      <td>6.165229e+07</td>\n",
       "      <td>7851.897435</td>\n",
       "    </tr>\n",
       "  </tbody>\n",
       "</table>\n",
       "</div>"
      ],
      "text/plain": [
       "       Plan  Mean Monthly Internet Traffic  \\\n",
       "0      surf                   16558.283490   \n",
       "1  ultimate                   17214.699694   \n",
       "\n",
       "   Variance of Monthly Internet Traffic  STD of Internet Trafffic  \n",
       "0                          6.421640e+07               8013.513327  \n",
       "1                          6.165229e+07               7851.897435  "
      ]
     },
     "metadata": {},
     "output_type": "display_data"
    }
   ],
   "source": [
    "# assuming 'df_final_detailed' has the columns 'plan' and 'total_mb_used'\n",
    "# group by 'plan' and calculate mean, variance, and std for 'total_mb_used'\n",
    "internet_stats = df_final_detailed.groupby('plan')['total_mb_used'].agg(['mean', 'var', 'std']).reset_index()\n",
    "\n",
    "# Renaming columns for clarity\n",
    "internet_stats.columns = ['Plan', 'Mean Monthly Internet Traffic', 'Variance of Monthly Internet Traffic', 'STD of Internet Trafffic']\n",
    "\n",
    "# Displaying the results\n",
    "display(internet_stats)"
   ]
  },
  {
   "cell_type": "markdown",
   "metadata": {},
   "source": [
    "Notes on study user behavior - Internet\n",
    "- It looks like users on the ultimate plan browse on the internet more than surf plan users. "
   ]
  },
  {
   "cell_type": "markdown",
   "metadata": {},
   "source": [
    "## Revenue"
   ]
  },
  {
   "cell_type": "markdown",
   "metadata": {},
   "source": [
    "Notes on study user behavior - Revenue\n",
    "- Both plans have different cost. Ultimate is 70 dollars per month and surf is 20 dollars per month. If I had to make a hypothesis on which plan brings in more revenue, I would say ultimate. You pay 70 dollars a month and say you have have 10 users that buy that plan, then your revenue is automatically 700 dollars. Let's say we take another 10 users and have them all buy the surf plan. That's only 200 dollars. \n",
    "- Most people stay within plan limits, but some do go over and have a large bill each month."
   ]
  },
  {
   "cell_type": "markdown",
   "metadata": {},
   "source": [
    " "
   ]
  },
  {
   "cell_type": "markdown",
   "metadata": {},
   "source": [
    "## Test statistical hypotheses"
   ]
  },
  {
   "cell_type": "markdown",
   "metadata": {},
   "source": [
    "- My hypothesis for revenue between both plans is that the ultimate plan brings in more revenue based off of the monthly fee alone.\n",
    "- H0 (Null Hypothesis): There is no significant difference in average monthly revenue between users on the Ultimate plan and users on the Surf plan.\n",
    "- H1 (Alternative Hypothesis): There is a significant difference in average monthly revenue between users on the Ultimate plan and users on the Surf plan.\n",
    "- A two-sample t-test with unequal variances is utilized to test the equality of means between two groups. The significance level is set to 0.05 to assess the statistical significance of any observed differences."
   ]
  },
  {
   "cell_type": "code",
   "execution_count": 60,
   "metadata": {},
   "outputs": [
    {
     "data": {
      "text/plain": [
       "'T-statistic: -19.12249409969674, P-value: 1.8781824625652306e-73'"
      ]
     },
     "metadata": {},
     "output_type": "display_data"
    },
    {
     "name": "stdout",
     "output_type": "stream",
     "text": [
      "Reject the null hypothesis: There is a significant difference in average revenue between the Ultimate and Surf plans.\n"
     ]
    }
   ],
   "source": [
    "# Test the hypotheses\n",
    "\n",
    "# extration of relevant data; selecting monthly revenue for users on the ultimate plan\n",
    "ultimate_revenue = df_final_detailed[df_final_detailed['plan'] == 'ultimate']['monthly_revenue']\n",
    "# selecting monthly revenue for users on the surf plan\n",
    "surf_revenue = df_final_detailed[df_final_detailed['plan'] == 'surf']['monthly_revenue']\n",
    "# conducting the two-sample t-test; using equal_var=False for Welch's t-test, which does not assume equal population variance\n",
    "t_stat, p_value = st.ttest_ind(ultimate_revenue, surf_revenue, equal_var=False)\n",
    "# display the test statistic and p-value for evaluation; format p value for clarity\n",
    "display(f\"T-statistic: {t_stat}, P-value: {p_value}\")\n",
    "# decision rule based on alpha; alpha set to 0.05 because thats the norm and it means there is a 5% chance or less of the results occurring under the null hypothesis\n",
    "alpha = 0.05\n",
    "if p_value < alpha:\n",
    "    print(\"Reject the null hypothesis: There is a significant difference in average revenue between the Ultimate and Surf plans.\")\n",
    "else:\n",
    "    print(\"Fail to reject the null hypothesis: There is no significant difference in average revenue between the plans.\")"
   ]
  },
  {
   "cell_type": "code",
   "execution_count": 61,
   "metadata": {},
   "outputs": [
    {
     "data": {
      "text/plain": [
       "0        70.0\n",
       "19       70.0\n",
       "20       84.0\n",
       "26       70.0\n",
       "27       70.0\n",
       "        ...  \n",
       "2284    112.0\n",
       "2285     70.0\n",
       "2290     70.0\n",
       "2291     70.0\n",
       "2292     70.0\n",
       "Name: monthly_revenue, Length: 720, dtype: float64"
      ]
     },
     "execution_count": 61,
     "metadata": {},
     "output_type": "execute_result"
    }
   ],
   "source": [
    "# Reviewer's code 2\n",
    "\n",
    "ultimate_revenue"
   ]
  },
  {
   "cell_type": "markdown",
   "metadata": {},
   "source": [
    "- My hypothesis for who brings in more revenue, New York/ New Jersey versus other cities, it would be other cities. If you take in the population for both, you would think they bring in more revenue because there are so many people there; however, not everyone that uses these plans are strictly out of these two cities. There spread all over the ocuntry. \n",
    "- H0 (Null Hypothesis): The average monthly revenue for users in the NY-NJ area is equal to the average monthly revenue for users in other regions.\n",
    "- H1 (Alternative Hypothesis): The average monthly revenue for users in the NY-NJ area is different from the average monthly revenue for users in other regions.\n",
    "- A two-sample t-test with unequal variances is utilized. This test is suitable for comparing means of two independent samples. Alpha is set to 0.05. This significance level is commonly chosen in hypothesis testing to control the probability of Type I errors while allowing for a reasonable chance of detecting meaningful differences if they exist."
   ]
  },
  {
   "cell_type": "code",
   "execution_count": 62,
   "metadata": {},
   "outputs": [
    {
     "data": {
      "text/plain": [
       "'T-statistic: 0.5600655810739135, P-value: 0.5756485247845854'"
      ]
     },
     "metadata": {},
     "output_type": "display_data"
    },
    {
     "name": "stdout",
     "output_type": "stream",
     "text": [
      "Fail to reject the null hypothesis: There is no statistically significant difference in the average revenue based on region.\n"
     ]
    }
   ],
   "source": [
    "# Test the hypotheses\n",
    "\n",
    "# example extraction of relevant data; selecting monthly revenue for NY and NJ\n",
    "ny_nj_revenue = df_final_detailed[df_final_detailed['city'].str.contains('NY-NJ')]['monthly_revenue']\n",
    "# anything that isn't NY and NJ\n",
    "other_revenue = df_final_detailed[~df_final_detailed['city'].str.contains('NY-NJ')]['monthly_revenue']\n",
    "\n",
    "# conducting the two-sample t-test; using equal_var=False for Welch's t-test, which does not assume equal population variance\n",
    "t_stat, p_value = st.ttest_ind(ny_nj_revenue, other_revenue, equal_var=False)\n",
    "\n",
    "# display the test statistic and p-value for evaluation; format p value for clarity\n",
    "display(f\"T-statistic: {t_stat}, P-value: {p_value}\")\n",
    "\n",
    "# decision rule based on alpha; alpha set to 0.05 because thats the norm and it means there is a 5% chance or less of the results occurring under the null hypothesis\n",
    "alpha = 0.05\n",
    "if p_value < alpha:\n",
    "    print(\"Reject the null hypothesis: The average revenue from users in the NY-NJ area is different from that of users in other regions.\")\n",
    "else:\n",
    "    print(\"Fail to reject the null hypothesis: There is no statistically significant difference in the average revenue based on region.\")\n"
   ]
  },
  {
   "cell_type": "code",
   "execution_count": 63,
   "metadata": {},
   "outputs": [
    {
     "data": {
      "text/plain": [
       "56         20.00\n",
       "57      12300.42\n",
       "75         20.00\n",
       "76        100.00\n",
       "77         20.00\n",
       "          ...   \n",
       "2260      120.42\n",
       "2261      170.27\n",
       "2262      200.00\n",
       "2263      110.33\n",
       "2290       70.00\n",
       "Name: monthly_revenue, Length: 377, dtype: float64"
      ]
     },
     "execution_count": 63,
     "metadata": {},
     "output_type": "execute_result"
    }
   ],
   "source": [
    "ny_nj_revenue"
   ]
  },
  {
   "cell_type": "markdown",
   "metadata": {},
   "source": [
    "Test statistical hypotheses - notes\n",
    "- There is a significant difference in average revenue between the plans. \n",
    "- There are no significant differences in average revenue between New York and New Jersey."
   ]
  },
  {
   "cell_type": "markdown",
   "metadata": {},
   "source": [
    " "
   ]
  },
  {
   "cell_type": "markdown",
   "metadata": {},
   "source": [
    "# Conclusion\n",
    "Overall, Megaline seems like a great company providing great plans. The surf plan does the bare minimun for users that don't use their phone often, but it is only 20 dollars and very affordable. The ultimate plan has plenty of minutes, messages, and usage, but it is 70 dollars a month and not everyone can afford that. From the commercial department standpoint, it is worth putting more advertising dollars into the surf plan. The surf plan brings in more money than the ultimate plan. "
   ]
  }
 ],
 "metadata": {
  "ExecuteTimeLog": [
   {
    "duration": 828,
    "start_time": "2021-11-16T09:21:11.304Z"
   },
   {
    "duration": 893,
    "start_time": "2021-11-16T09:21:17.728Z"
   },
   {
    "duration": 1150,
    "start_time": "2021-11-16T09:21:29.568Z"
   },
   {
    "duration": 3,
    "start_time": "2021-11-16T09:24:14.495Z"
   },
   {
    "duration": 120,
    "start_time": "2021-11-16T09:24:46.630Z"
   },
   {
    "duration": 3,
    "start_time": "2021-11-16T09:28:27.882Z"
   },
   {
    "duration": 4,
    "start_time": "2021-11-16T09:29:54.281Z"
   },
   {
    "duration": 3,
    "start_time": "2021-11-16T09:30:45.936Z"
   },
   {
    "duration": 4,
    "start_time": "2021-11-16T09:31:06.300Z"
   },
   {
    "duration": 113,
    "start_time": "2021-11-16T09:31:37.208Z"
   },
   {
    "duration": 143,
    "start_time": "2021-11-16T09:31:48.656Z"
   },
   {
    "duration": 98,
    "start_time": "2021-11-16T09:31:55.678Z"
   },
   {
    "duration": 3,
    "start_time": "2021-11-16T09:32:08.535Z"
   },
   {
    "duration": 111,
    "start_time": "2021-11-16T09:32:10.120Z"
   },
   {
    "duration": 3,
    "start_time": "2021-11-16T09:32:15.732Z"
   },
   {
    "duration": 4,
    "start_time": "2021-11-16T09:32:29.423Z"
   },
   {
    "duration": 3,
    "start_time": "2021-11-16T10:03:03.074Z"
   },
   {
    "duration": 3,
    "start_time": "2021-11-16T10:10:01.288Z"
   },
   {
    "duration": 3,
    "start_time": "2021-11-16T10:10:46.923Z"
   },
   {
    "duration": 121,
    "start_time": "2021-11-16T10:37:46.494Z"
   },
   {
    "duration": 125,
    "start_time": "2021-11-16T10:38:20.632Z"
   },
   {
    "duration": 112,
    "start_time": "2021-11-16T10:46:53.001Z"
   },
   {
    "duration": 110,
    "start_time": "2021-11-16T10:48:25.775Z"
   },
   {
    "duration": 3,
    "start_time": "2021-11-16T10:50:18.720Z"
   },
   {
    "duration": 4,
    "start_time": "2021-11-16T10:50:37.649Z"
   },
   {
    "duration": 2,
    "start_time": "2021-11-16T10:50:51.884Z"
   },
   {
    "duration": 3,
    "start_time": "2021-11-16T10:51:56.237Z"
   },
   {
    "duration": 101,
    "start_time": "2021-11-16T10:53:13.791Z"
   },
   {
    "duration": 3,
    "start_time": "2021-11-16T10:55:59.186Z"
   },
   {
    "duration": 3,
    "start_time": "2021-11-16T10:56:10.751Z"
   },
   {
    "duration": 3,
    "start_time": "2021-11-16T10:56:49.038Z"
   },
   {
    "duration": 3,
    "start_time": "2021-11-16T10:56:49.174Z"
   },
   {
    "duration": 4,
    "start_time": "2021-11-16T10:56:49.414Z"
   },
   {
    "duration": 3,
    "start_time": "2021-11-16T10:56:49.680Z"
   },
   {
    "duration": 3,
    "start_time": "2021-11-16T10:56:50.370Z"
   },
   {
    "duration": 114,
    "start_time": "2021-11-16T10:59:34.518Z"
   },
   {
    "duration": 3,
    "start_time": "2021-11-16T11:01:41.201Z"
   },
   {
    "duration": 116,
    "start_time": "2021-11-16T11:01:48.754Z"
   },
   {
    "duration": 3,
    "start_time": "2021-11-16T11:02:16.685Z"
   },
   {
    "duration": 3,
    "start_time": "2021-11-16T11:02:19.479Z"
   },
   {
    "duration": 3,
    "start_time": "2021-11-16T11:02:47.067Z"
   },
   {
    "duration": 3,
    "start_time": "2021-11-16T11:02:49.353Z"
   },
   {
    "duration": 3,
    "start_time": "2021-11-16T11:03:07.835Z"
   },
   {
    "duration": 3,
    "start_time": "2021-11-16T11:03:07.953Z"
   },
   {
    "duration": 112,
    "start_time": "2021-11-16T11:07:52.072Z"
   },
   {
    "duration": 187,
    "start_time": "2021-11-16T11:09:23.468Z"
   },
   {
    "duration": 4,
    "start_time": "2021-11-16T11:10:01.455Z"
   },
   {
    "duration": 3,
    "start_time": "2021-11-16T11:10:05.069Z"
   },
   {
    "duration": 4,
    "start_time": "2021-11-16T11:10:13.376Z"
   },
   {
    "duration": 3,
    "start_time": "2021-11-16T11:10:14.434Z"
   },
   {
    "duration": 3,
    "start_time": "2021-11-16T11:10:22.853Z"
   },
   {
    "duration": 4,
    "start_time": "2021-11-16T11:27:29.279Z"
   },
   {
    "duration": 4,
    "start_time": "2021-11-16T11:29:08.919Z"
   },
   {
    "duration": 118,
    "start_time": "2021-11-16T11:29:46.703Z"
   },
   {
    "duration": 437,
    "start_time": "2021-11-16T11:36:02.181Z"
   },
   {
    "duration": 157,
    "start_time": "2021-11-16T11:36:14.388Z"
   },
   {
    "duration": 207,
    "start_time": "2021-11-16T11:47:15.898Z"
   },
   {
    "duration": 3,
    "start_time": "2021-11-16T11:53:52.092Z"
   },
   {
    "duration": 3,
    "start_time": "2021-11-16T11:53:52.236Z"
   },
   {
    "duration": 3,
    "start_time": "2021-11-16T11:59:12.005Z"
   },
   {
    "duration": 112,
    "start_time": "2021-11-16T12:00:33.446Z"
   },
   {
    "duration": 3,
    "start_time": "2021-11-16T12:02:14.453Z"
   },
   {
    "duration": 3,
    "start_time": "2021-11-16T12:02:39.512Z"
   },
   {
    "duration": 106,
    "start_time": "2021-11-16T12:03:03.460Z"
   },
   {
    "duration": 3,
    "start_time": "2021-11-17T20:37:21.139Z"
   },
   {
    "duration": 3,
    "start_time": "2021-11-17T20:37:22.229Z"
   },
   {
    "duration": 3,
    "start_time": "2021-11-17T20:38:38.806Z"
   },
   {
    "duration": 3,
    "start_time": "2021-11-17T20:38:41.958Z"
   },
   {
    "duration": 3,
    "start_time": "2021-11-17T20:43:46.551Z"
   },
   {
    "duration": 4,
    "start_time": "2021-11-17T20:58:21.835Z"
   },
   {
    "duration": 3,
    "start_time": "2021-11-17T20:59:21.872Z"
   },
   {
    "duration": 4,
    "start_time": "2021-11-17T20:59:45.352Z"
   },
   {
    "duration": 4,
    "start_time": "2021-11-17T20:59:49.646Z"
   },
   {
    "duration": 159,
    "start_time": "2021-11-17T21:02:26.949Z"
   },
   {
    "duration": 3,
    "start_time": "2021-11-17T21:03:53.461Z"
   },
   {
    "duration": 3,
    "start_time": "2021-11-17T21:03:53.694Z"
   },
   {
    "duration": 3,
    "start_time": "2021-11-17T21:05:28.145Z"
   },
   {
    "duration": 116,
    "start_time": "2021-11-17T21:05:57.787Z"
   },
   {
    "duration": 3,
    "start_time": "2021-11-17T21:06:37.993Z"
   },
   {
    "duration": 3,
    "start_time": "2021-11-17T21:06:38.261Z"
   },
   {
    "duration": 3,
    "start_time": "2021-11-17T21:11:54.358Z"
   },
   {
    "duration": 3,
    "start_time": "2021-11-17T21:12:43.846Z"
   },
   {
    "duration": 4,
    "start_time": "2021-11-17T21:13:08.773Z"
   },
   {
    "duration": 3,
    "start_time": "2021-11-17T21:14:44.441Z"
   },
   {
    "duration": 3,
    "start_time": "2021-11-17T21:15:42.059Z"
   },
   {
    "duration": 4,
    "start_time": "2021-11-17T21:15:51.995Z"
   },
   {
    "duration": 3,
    "start_time": "2021-11-17T21:15:53.923Z"
   },
   {
    "duration": 3,
    "start_time": "2021-11-17T21:15:55.282Z"
   },
   {
    "duration": 3,
    "start_time": "2021-11-17T21:16:28.492Z"
   },
   {
    "duration": 3,
    "start_time": "2021-11-17T21:16:32.603Z"
   },
   {
    "duration": 3,
    "start_time": "2021-11-17T21:17:06.941Z"
   },
   {
    "duration": 98,
    "start_time": "2021-11-17T21:18:05.733Z"
   },
   {
    "duration": 4,
    "start_time": "2021-11-17T21:21:35.255Z"
   },
   {
    "duration": 3,
    "start_time": "2021-11-17T21:21:37.804Z"
   },
   {
    "duration": 4,
    "start_time": "2021-11-17T21:23:06.071Z"
   },
   {
    "duration": 3,
    "start_time": "2021-11-17T21:23:24.799Z"
   },
   {
    "duration": 3,
    "start_time": "2021-11-17T21:23:32.591Z"
   },
   {
    "duration": 98,
    "start_time": "2021-11-17T21:28:31.559Z"
   },
   {
    "duration": 3,
    "start_time": "2021-11-17T21:28:45.448Z"
   },
   {
    "duration": 3,
    "start_time": "2021-11-17T21:29:17.303Z"
   },
   {
    "duration": 3,
    "start_time": "2021-11-17T21:29:29.617Z"
   },
   {
    "duration": 3,
    "start_time": "2021-11-17T21:29:32.681Z"
   },
   {
    "duration": 3,
    "start_time": "2021-11-17T21:36:11.474Z"
   },
   {
    "duration": 3,
    "start_time": "2021-11-17T21:36:14.791Z"
   },
   {
    "duration": 3,
    "start_time": "2021-11-17T21:36:53.943Z"
   },
   {
    "duration": 3,
    "start_time": "2021-11-17T21:36:56.165Z"
   },
   {
    "duration": 4,
    "start_time": "2021-11-17T21:37:16.590Z"
   },
   {
    "duration": 3,
    "start_time": "2021-11-17T21:37:22.702Z"
   },
   {
    "duration": 4,
    "start_time": "2021-11-17T21:38:03.479Z"
   },
   {
    "duration": 3,
    "start_time": "2021-11-17T21:38:08.601Z"
   },
   {
    "duration": 3,
    "start_time": "2021-11-17T21:38:12.928Z"
   },
   {
    "duration": 3,
    "start_time": "2021-11-17T21:38:48.896Z"
   },
   {
    "duration": 2,
    "start_time": "2021-11-17T21:38:49.171Z"
   },
   {
    "duration": 4,
    "start_time": "2021-11-17T21:39:57.889Z"
   },
   {
    "duration": 3,
    "start_time": "2021-11-17T21:39:58.057Z"
   },
   {
    "duration": 3,
    "start_time": "2021-11-17T21:41:20.108Z"
   },
   {
    "duration": 3,
    "start_time": "2021-11-17T21:41:20.629Z"
   },
   {
    "duration": 3,
    "start_time": "2021-11-17T21:42:49.136Z"
   },
   {
    "duration": 3,
    "start_time": "2021-11-17T21:43:15.137Z"
   },
   {
    "duration": 4,
    "start_time": "2021-11-17T21:43:16.766Z"
   },
   {
    "duration": 4,
    "start_time": "2021-11-17T21:43:31.711Z"
   },
   {
    "duration": 3,
    "start_time": "2021-11-17T21:43:36.312Z"
   },
   {
    "duration": 4,
    "start_time": "2021-11-17T21:45:08.825Z"
   },
   {
    "duration": 4,
    "start_time": "2021-11-17T21:45:10.119Z"
   },
   {
    "duration": 4,
    "start_time": "2021-11-17T21:45:13.748Z"
   },
   {
    "duration": 3,
    "start_time": "2021-11-17T21:45:22.219Z"
   },
   {
    "duration": 3,
    "start_time": "2021-11-17T21:45:33.412Z"
   },
   {
    "duration": 2,
    "start_time": "2021-11-17T21:46:01.885Z"
   },
   {
    "duration": 3,
    "start_time": "2021-11-17T21:46:03.628Z"
   },
   {
    "duration": 107,
    "start_time": "2021-11-17T21:47:32.512Z"
   },
   {
    "duration": 103,
    "start_time": "2021-11-17T21:50:36.243Z"
   },
   {
    "duration": 3,
    "start_time": "2021-11-18T06:28:31.440Z"
   },
   {
    "duration": 3,
    "start_time": "2021-11-18T06:29:00.168Z"
   },
   {
    "duration": 3,
    "start_time": "2021-11-18T06:31:27.008Z"
   },
   {
    "duration": 2,
    "start_time": "2021-11-18T06:35:34.288Z"
   },
   {
    "duration": 2,
    "start_time": "2021-11-18T06:38:04.527Z"
   },
   {
    "duration": 356,
    "start_time": "2024-05-16T16:40:30.624Z"
   },
   {
    "duration": 28,
    "start_time": "2024-05-16T16:40:59.458Z"
   },
   {
    "duration": 5108,
    "start_time": "2024-05-16T16:41:05.602Z"
   },
   {
    "duration": 399,
    "start_time": "2024-05-16T16:41:10.714Z"
   },
   {
    "duration": 19,
    "start_time": "2024-05-16T16:41:11.117Z"
   },
   {
    "duration": 18,
    "start_time": "2024-05-16T16:41:11.142Z"
   },
   {
    "duration": 71,
    "start_time": "2024-05-16T16:41:11.163Z"
   },
   {
    "duration": 7,
    "start_time": "2024-05-16T16:41:11.237Z"
   },
   {
    "duration": 9,
    "start_time": "2024-05-16T16:41:11.247Z"
   },
   {
    "duration": 8,
    "start_time": "2024-05-16T16:41:11.260Z"
   },
   {
    "duration": 60,
    "start_time": "2024-05-16T16:41:11.273Z"
   },
   {
    "duration": 14,
    "start_time": "2024-05-16T16:41:11.339Z"
   },
   {
    "duration": 12,
    "start_time": "2024-05-16T16:41:11.356Z"
   },
   {
    "duration": 10,
    "start_time": "2024-05-16T16:41:11.373Z"
   },
   {
    "duration": 16,
    "start_time": "2024-05-16T16:41:11.427Z"
   },
   {
    "duration": 30,
    "start_time": "2024-05-16T16:41:11.446Z"
   },
   {
    "duration": 52,
    "start_time": "2024-05-16T16:41:11.482Z"
   },
   {
    "duration": 21,
    "start_time": "2024-05-16T16:41:11.538Z"
   },
   {
    "duration": 92,
    "start_time": "2024-05-16T16:41:11.563Z"
   },
   {
    "duration": 12,
    "start_time": "2024-05-16T16:41:11.659Z"
   },
   {
    "duration": 51,
    "start_time": "2024-05-16T16:41:11.675Z"
   },
   {
    "duration": 14,
    "start_time": "2024-05-16T16:41:11.729Z"
   },
   {
    "duration": 15,
    "start_time": "2024-05-16T16:41:11.749Z"
   },
   {
    "duration": 68,
    "start_time": "2024-05-16T16:41:11.767Z"
   },
   {
    "duration": 12,
    "start_time": "2024-05-16T16:41:11.839Z"
   },
   {
    "duration": 25,
    "start_time": "2024-05-16T16:41:11.854Z"
   },
   {
    "duration": 51,
    "start_time": "2024-05-16T16:41:11.882Z"
   },
   {
    "duration": 20,
    "start_time": "2024-05-16T16:41:11.937Z"
   },
   {
    "duration": 102,
    "start_time": "2024-05-16T16:41:11.960Z"
   },
   {
    "duration": 12,
    "start_time": "2024-05-16T16:41:12.071Z"
   },
   {
    "duration": 13,
    "start_time": "2024-05-16T16:41:12.086Z"
   },
   {
    "duration": 101,
    "start_time": "2024-05-16T16:41:12.128Z"
   },
   {
    "duration": 54,
    "start_time": "2024-05-16T16:41:12.232Z"
   },
   {
    "duration": 76,
    "start_time": "2024-05-16T16:41:12.290Z"
   },
   {
    "duration": 110,
    "start_time": "2024-05-16T16:41:12.370Z"
   },
   {
    "duration": 48,
    "start_time": "2024-05-16T16:41:12.483Z"
   },
   {
    "duration": 31,
    "start_time": "2024-05-16T16:41:12.535Z"
   },
   {
    "duration": 74,
    "start_time": "2024-05-16T16:41:12.570Z"
   },
   {
    "duration": 1644,
    "start_time": "2024-05-16T16:41:12.648Z"
   },
   {
    "duration": 0,
    "start_time": "2024-05-16T16:41:14.295Z"
   },
   {
    "duration": 0,
    "start_time": "2024-05-16T16:41:14.297Z"
   },
   {
    "duration": 0,
    "start_time": "2024-05-16T16:41:14.299Z"
   },
   {
    "duration": 0,
    "start_time": "2024-05-16T16:41:14.302Z"
   },
   {
    "duration": 0,
    "start_time": "2024-05-16T16:41:14.304Z"
   },
   {
    "duration": 0,
    "start_time": "2024-05-16T16:41:14.329Z"
   },
   {
    "duration": 0,
    "start_time": "2024-05-16T16:41:14.332Z"
   },
   {
    "duration": 0,
    "start_time": "2024-05-16T16:41:14.334Z"
   },
   {
    "duration": 768,
    "start_time": "2024-05-16T16:41:43.508Z"
   },
   {
    "duration": 141,
    "start_time": "2024-05-16T16:41:46.976Z"
   },
   {
    "duration": 1337,
    "start_time": "2024-05-16T16:43:15.574Z"
   },
   {
    "duration": 297,
    "start_time": "2024-05-16T16:43:16.915Z"
   },
   {
    "duration": 18,
    "start_time": "2024-05-16T16:43:17.215Z"
   },
   {
    "duration": 19,
    "start_time": "2024-05-16T16:43:17.237Z"
   },
   {
    "duration": 70,
    "start_time": "2024-05-16T16:43:17.259Z"
   },
   {
    "duration": 7,
    "start_time": "2024-05-16T16:43:17.333Z"
   },
   {
    "duration": 10,
    "start_time": "2024-05-16T16:43:17.343Z"
   },
   {
    "duration": 8,
    "start_time": "2024-05-16T16:43:17.356Z"
   },
   {
    "duration": 63,
    "start_time": "2024-05-16T16:43:17.368Z"
   },
   {
    "duration": 13,
    "start_time": "2024-05-16T16:43:17.437Z"
   },
   {
    "duration": 9,
    "start_time": "2024-05-16T16:43:17.453Z"
   },
   {
    "duration": 13,
    "start_time": "2024-05-16T16:43:17.466Z"
   },
   {
    "duration": 66,
    "start_time": "2024-05-16T16:43:17.482Z"
   },
   {
    "duration": 31,
    "start_time": "2024-05-16T16:43:17.554Z"
   },
   {
    "duration": 43,
    "start_time": "2024-05-16T16:43:17.588Z"
   },
   {
    "duration": 26,
    "start_time": "2024-05-16T16:43:17.635Z"
   },
   {
    "duration": 101,
    "start_time": "2024-05-16T16:43:17.664Z"
   },
   {
    "duration": 12,
    "start_time": "2024-05-16T16:43:17.767Z"
   },
   {
    "duration": 46,
    "start_time": "2024-05-16T16:43:17.783Z"
   },
   {
    "duration": 16,
    "start_time": "2024-05-16T16:43:17.833Z"
   },
   {
    "duration": 17,
    "start_time": "2024-05-16T16:43:17.852Z"
   },
   {
    "duration": 73,
    "start_time": "2024-05-16T16:43:17.872Z"
   },
   {
    "duration": 11,
    "start_time": "2024-05-16T16:43:17.948Z"
   },
   {
    "duration": 24,
    "start_time": "2024-05-16T16:43:17.963Z"
   },
   {
    "duration": 50,
    "start_time": "2024-05-16T16:43:17.990Z"
   },
   {
    "duration": 18,
    "start_time": "2024-05-16T16:43:18.043Z"
   },
   {
    "duration": 95,
    "start_time": "2024-05-16T16:43:18.064Z"
   },
   {
    "duration": 11,
    "start_time": "2024-05-16T16:43:18.167Z"
   },
   {
    "duration": 13,
    "start_time": "2024-05-16T16:43:18.182Z"
   },
   {
    "duration": 86,
    "start_time": "2024-05-16T16:43:18.225Z"
   },
   {
    "duration": 62,
    "start_time": "2024-05-16T16:43:18.314Z"
   },
   {
    "duration": 79,
    "start_time": "2024-05-16T16:43:18.379Z"
   },
   {
    "duration": 112,
    "start_time": "2024-05-16T16:43:18.461Z"
   },
   {
    "duration": 52,
    "start_time": "2024-05-16T16:43:18.576Z"
   },
   {
    "duration": 31,
    "start_time": "2024-05-16T16:43:18.631Z"
   },
   {
    "duration": 63,
    "start_time": "2024-05-16T16:43:18.665Z"
   },
   {
    "duration": 1716,
    "start_time": "2024-05-16T16:43:18.731Z"
   },
   {
    "duration": 0,
    "start_time": "2024-05-16T16:43:20.452Z"
   },
   {
    "duration": 0,
    "start_time": "2024-05-16T16:43:20.456Z"
   },
   {
    "duration": 0,
    "start_time": "2024-05-16T16:43:20.459Z"
   },
   {
    "duration": 0,
    "start_time": "2024-05-16T16:43:20.461Z"
   },
   {
    "duration": 0,
    "start_time": "2024-05-16T16:43:20.464Z"
   },
   {
    "duration": 0,
    "start_time": "2024-05-16T16:43:20.467Z"
   },
   {
    "duration": 0,
    "start_time": "2024-05-16T16:43:20.469Z"
   },
   {
    "duration": 0,
    "start_time": "2024-05-16T16:43:20.471Z"
   },
   {
    "duration": 9,
    "start_time": "2024-05-16T16:48:23.923Z"
   },
   {
    "duration": 25,
    "start_time": "2024-05-16T16:49:36.066Z"
   },
   {
    "duration": 25,
    "start_time": "2024-05-16T16:49:49.936Z"
   },
   {
    "duration": 52,
    "start_time": "2024-05-16T16:49:59.643Z"
   },
   {
    "duration": 1380,
    "start_time": "2024-05-16T16:50:07.834Z"
   },
   {
    "duration": 312,
    "start_time": "2024-05-16T16:50:09.226Z"
   },
   {
    "duration": 18,
    "start_time": "2024-05-16T16:50:09.542Z"
   },
   {
    "duration": 20,
    "start_time": "2024-05-16T16:50:09.565Z"
   },
   {
    "duration": 73,
    "start_time": "2024-05-16T16:50:09.588Z"
   },
   {
    "duration": 7,
    "start_time": "2024-05-16T16:50:09.664Z"
   },
   {
    "duration": 12,
    "start_time": "2024-05-16T16:50:09.676Z"
   },
   {
    "duration": 42,
    "start_time": "2024-05-16T16:50:09.691Z"
   },
   {
    "duration": 16,
    "start_time": "2024-05-16T16:50:09.736Z"
   },
   {
    "duration": 13,
    "start_time": "2024-05-16T16:50:09.760Z"
   },
   {
    "duration": 55,
    "start_time": "2024-05-16T16:50:09.776Z"
   },
   {
    "duration": 16,
    "start_time": "2024-05-16T16:50:09.835Z"
   },
   {
    "duration": 20,
    "start_time": "2024-05-16T16:50:09.861Z"
   },
   {
    "duration": 59,
    "start_time": "2024-05-16T16:50:09.885Z"
   },
   {
    "duration": 18,
    "start_time": "2024-05-16T16:50:09.948Z"
   },
   {
    "duration": 56,
    "start_time": "2024-05-16T16:50:09.970Z"
   },
   {
    "duration": 61,
    "start_time": "2024-05-16T16:50:10.029Z"
   },
   {
    "duration": 33,
    "start_time": "2024-05-16T16:50:10.094Z"
   },
   {
    "duration": 22,
    "start_time": "2024-05-16T16:50:10.131Z"
   },
   {
    "duration": 15,
    "start_time": "2024-05-16T16:50:10.155Z"
   },
   {
    "duration": 55,
    "start_time": "2024-05-16T16:50:10.173Z"
   },
   {
    "duration": 33,
    "start_time": "2024-05-16T16:50:10.232Z"
   },
   {
    "duration": 11,
    "start_time": "2024-05-16T16:50:10.268Z"
   },
   {
    "duration": 56,
    "start_time": "2024-05-16T16:50:10.282Z"
   },
   {
    "duration": 18,
    "start_time": "2024-05-16T16:50:10.341Z"
   },
   {
    "duration": 17,
    "start_time": "2024-05-16T16:50:10.363Z"
   },
   {
    "duration": 113,
    "start_time": "2024-05-16T16:50:10.384Z"
   },
   {
    "duration": 28,
    "start_time": "2024-05-16T16:50:10.506Z"
   },
   {
    "duration": 14,
    "start_time": "2024-05-16T16:50:10.538Z"
   },
   {
    "duration": 115,
    "start_time": "2024-05-16T16:50:10.555Z"
   },
   {
    "duration": 66,
    "start_time": "2024-05-16T16:50:10.674Z"
   },
   {
    "duration": 51,
    "start_time": "2024-05-16T16:50:10.745Z"
   },
   {
    "duration": 116,
    "start_time": "2024-05-16T16:50:10.799Z"
   },
   {
    "duration": 49,
    "start_time": "2024-05-16T16:50:10.922Z"
   },
   {
    "duration": 254,
    "start_time": "2024-05-16T16:50:10.975Z"
   },
   {
    "duration": 0,
    "start_time": "2024-05-16T16:50:11.232Z"
   },
   {
    "duration": 0,
    "start_time": "2024-05-16T16:50:11.235Z"
   },
   {
    "duration": 0,
    "start_time": "2024-05-16T16:50:11.239Z"
   },
   {
    "duration": 0,
    "start_time": "2024-05-16T16:50:11.243Z"
   },
   {
    "duration": 0,
    "start_time": "2024-05-16T16:50:11.246Z"
   },
   {
    "duration": 0,
    "start_time": "2024-05-16T16:50:11.248Z"
   },
   {
    "duration": 0,
    "start_time": "2024-05-16T16:50:11.250Z"
   },
   {
    "duration": 0,
    "start_time": "2024-05-16T16:50:11.254Z"
   },
   {
    "duration": 0,
    "start_time": "2024-05-16T16:50:11.256Z"
   },
   {
    "duration": 0,
    "start_time": "2024-05-16T16:50:11.258Z"
   },
   {
    "duration": 4,
    "start_time": "2024-05-16T16:50:22.857Z"
   },
   {
    "duration": 4,
    "start_time": "2024-05-16T16:50:30.552Z"
   },
   {
    "duration": 84,
    "start_time": "2024-05-16T16:55:15.867Z"
   },
   {
    "duration": 9,
    "start_time": "2024-05-16T16:59:33.178Z"
   },
   {
    "duration": 334,
    "start_time": "2024-05-16T16:59:42.960Z"
   },
   {
    "duration": 1333,
    "start_time": "2024-05-16T16:59:59.669Z"
   },
   {
    "duration": 275,
    "start_time": "2024-05-16T17:00:01.006Z"
   },
   {
    "duration": 19,
    "start_time": "2024-05-16T17:00:01.284Z"
   },
   {
    "duration": 31,
    "start_time": "2024-05-16T17:00:01.306Z"
   },
   {
    "duration": 39,
    "start_time": "2024-05-16T17:00:01.340Z"
   },
   {
    "duration": 12,
    "start_time": "2024-05-16T17:00:01.382Z"
   },
   {
    "duration": 11,
    "start_time": "2024-05-16T17:00:01.428Z"
   },
   {
    "duration": 14,
    "start_time": "2024-05-16T17:00:01.443Z"
   },
   {
    "duration": 19,
    "start_time": "2024-05-16T17:00:01.461Z"
   },
   {
    "duration": 50,
    "start_time": "2024-05-16T17:00:01.487Z"
   },
   {
    "duration": 13,
    "start_time": "2024-05-16T17:00:01.540Z"
   },
   {
    "duration": 12,
    "start_time": "2024-05-16T17:00:01.556Z"
   },
   {
    "duration": 56,
    "start_time": "2024-05-16T17:00:01.572Z"
   },
   {
    "duration": 31,
    "start_time": "2024-05-16T17:00:01.631Z"
   },
   {
    "duration": 19,
    "start_time": "2024-05-16T17:00:01.666Z"
   },
   {
    "duration": 23,
    "start_time": "2024-05-16T17:00:01.727Z"
   },
   {
    "duration": 79,
    "start_time": "2024-05-16T17:00:01.753Z"
   },
   {
    "duration": 12,
    "start_time": "2024-05-16T17:00:01.835Z"
   },
   {
    "duration": 22,
    "start_time": "2024-05-16T17:00:01.851Z"
   },
   {
    "duration": 52,
    "start_time": "2024-05-16T17:00:01.876Z"
   },
   {
    "duration": 15,
    "start_time": "2024-05-16T17:00:01.931Z"
   },
   {
    "duration": 30,
    "start_time": "2024-05-16T17:00:01.949Z"
   },
   {
    "duration": 47,
    "start_time": "2024-05-16T17:00:01.982Z"
   },
   {
    "duration": 24,
    "start_time": "2024-05-16T17:00:02.033Z"
   },
   {
    "duration": 16,
    "start_time": "2024-05-16T17:00:02.060Z"
   },
   {
    "duration": 54,
    "start_time": "2024-05-16T17:00:02.080Z"
   },
   {
    "duration": 90,
    "start_time": "2024-05-16T17:00:02.137Z"
   },
   {
    "duration": 11,
    "start_time": "2024-05-16T17:00:02.236Z"
   },
   {
    "duration": 12,
    "start_time": "2024-05-16T17:00:02.251Z"
   },
   {
    "duration": 670,
    "start_time": "2024-05-16T17:00:02.267Z"
   },
   {
    "duration": 94,
    "start_time": "2024-05-16T17:00:02.940Z"
   },
   {
    "duration": 51,
    "start_time": "2024-05-16T17:00:03.037Z"
   },
   {
    "duration": 108,
    "start_time": "2024-05-16T17:00:03.091Z"
   },
   {
    "duration": 466,
    "start_time": "2024-05-16T17:00:03.202Z"
   },
   {
    "duration": 0,
    "start_time": "2024-05-16T17:00:03.671Z"
   },
   {
    "duration": 1,
    "start_time": "2024-05-16T17:00:03.673Z"
   },
   {
    "duration": 0,
    "start_time": "2024-05-16T17:00:03.676Z"
   },
   {
    "duration": 0,
    "start_time": "2024-05-16T17:00:03.678Z"
   },
   {
    "duration": 0,
    "start_time": "2024-05-16T17:00:03.680Z"
   },
   {
    "duration": 0,
    "start_time": "2024-05-16T17:00:03.684Z"
   },
   {
    "duration": 0,
    "start_time": "2024-05-16T17:00:03.685Z"
   },
   {
    "duration": 0,
    "start_time": "2024-05-16T17:00:03.687Z"
   },
   {
    "duration": 0,
    "start_time": "2024-05-16T17:00:03.689Z"
   },
   {
    "duration": 0,
    "start_time": "2024-05-16T17:00:03.692Z"
   },
   {
    "duration": 52,
    "start_time": "2024-05-16T17:03:44.817Z"
   },
   {
    "duration": 1330,
    "start_time": "2024-05-16T17:04:19.928Z"
   },
   {
    "duration": 292,
    "start_time": "2024-05-16T17:04:21.261Z"
   },
   {
    "duration": 17,
    "start_time": "2024-05-16T17:04:21.555Z"
   },
   {
    "duration": 20,
    "start_time": "2024-05-16T17:04:21.577Z"
   },
   {
    "duration": 37,
    "start_time": "2024-05-16T17:04:21.627Z"
   },
   {
    "duration": 7,
    "start_time": "2024-05-16T17:04:21.667Z"
   },
   {
    "duration": 10,
    "start_time": "2024-05-16T17:04:21.677Z"
   },
   {
    "duration": 11,
    "start_time": "2024-05-16T17:04:21.727Z"
   },
   {
    "duration": 15,
    "start_time": "2024-05-16T17:04:21.741Z"
   },
   {
    "duration": 13,
    "start_time": "2024-05-16T17:04:21.764Z"
   },
   {
    "duration": 50,
    "start_time": "2024-05-16T17:04:21.781Z"
   },
   {
    "duration": 9,
    "start_time": "2024-05-16T17:04:21.834Z"
   },
   {
    "duration": 17,
    "start_time": "2024-05-16T17:04:21.846Z"
   },
   {
    "duration": 63,
    "start_time": "2024-05-16T17:04:21.866Z"
   },
   {
    "duration": 17,
    "start_time": "2024-05-16T17:04:21.932Z"
   },
   {
    "duration": 20,
    "start_time": "2024-05-16T17:04:21.953Z"
   },
   {
    "duration": 97,
    "start_time": "2024-05-16T17:04:21.977Z"
   },
   {
    "duration": 12,
    "start_time": "2024-05-16T17:04:22.078Z"
   },
   {
    "duration": 43,
    "start_time": "2024-05-16T17:04:22.094Z"
   },
   {
    "duration": 13,
    "start_time": "2024-05-16T17:04:22.140Z"
   },
   {
    "duration": 15,
    "start_time": "2024-05-16T17:04:22.156Z"
   },
   {
    "duration": 69,
    "start_time": "2024-05-16T17:04:22.175Z"
   },
   {
    "duration": 14,
    "start_time": "2024-05-16T17:04:22.247Z"
   },
   {
    "duration": 62,
    "start_time": "2024-05-16T17:04:22.265Z"
   },
   {
    "duration": 16,
    "start_time": "2024-05-16T17:04:22.331Z"
   },
   {
    "duration": 18,
    "start_time": "2024-05-16T17:04:22.350Z"
   },
   {
    "duration": 109,
    "start_time": "2024-05-16T17:04:22.371Z"
   },
   {
    "duration": 13,
    "start_time": "2024-05-16T17:04:22.488Z"
   },
   {
    "duration": 30,
    "start_time": "2024-05-16T17:04:22.504Z"
   },
   {
    "duration": 130,
    "start_time": "2024-05-16T17:04:22.537Z"
   },
   {
    "duration": 99,
    "start_time": "2024-05-16T17:04:22.670Z"
   },
   {
    "duration": 53,
    "start_time": "2024-05-16T17:04:22.772Z"
   },
   {
    "duration": 93,
    "start_time": "2024-05-16T17:04:22.828Z"
   },
   {
    "duration": 41,
    "start_time": "2024-05-16T17:04:22.924Z"
   },
   {
    "duration": 4,
    "start_time": "2024-05-16T17:04:22.968Z"
   },
   {
    "duration": 5,
    "start_time": "2024-05-16T17:04:22.982Z"
   },
   {
    "duration": 826,
    "start_time": "2024-05-16T17:04:22.991Z"
   },
   {
    "duration": 3,
    "start_time": "2024-05-16T17:04:23.825Z"
   },
   {
    "duration": 3,
    "start_time": "2024-05-16T17:04:23.832Z"
   },
   {
    "duration": 4,
    "start_time": "2024-05-16T17:04:23.839Z"
   },
   {
    "duration": 4,
    "start_time": "2024-05-16T17:04:23.846Z"
   },
   {
    "duration": 4,
    "start_time": "2024-05-16T17:04:23.854Z"
   },
   {
    "duration": 3,
    "start_time": "2024-05-16T17:04:23.862Z"
   },
   {
    "duration": 4,
    "start_time": "2024-05-16T17:04:23.925Z"
   },
   {
    "duration": 125,
    "start_time": "2024-05-16T17:06:13.564Z"
   },
   {
    "duration": 40,
    "start_time": "2024-05-16T17:07:44.954Z"
   },
   {
    "duration": 55,
    "start_time": "2024-05-16T17:09:11.401Z"
   },
   {
    "duration": 1285,
    "start_time": "2024-05-16T17:09:31.931Z"
   },
   {
    "duration": 287,
    "start_time": "2024-05-16T17:09:33.221Z"
   },
   {
    "duration": 19,
    "start_time": "2024-05-16T17:09:33.511Z"
   },
   {
    "duration": 20,
    "start_time": "2024-05-16T17:09:33.535Z"
   },
   {
    "duration": 70,
    "start_time": "2024-05-16T17:09:33.559Z"
   },
   {
    "duration": 5,
    "start_time": "2024-05-16T17:09:33.634Z"
   },
   {
    "duration": 8,
    "start_time": "2024-05-16T17:09:33.643Z"
   },
   {
    "duration": 8,
    "start_time": "2024-05-16T17:09:33.654Z"
   },
   {
    "duration": 14,
    "start_time": "2024-05-16T17:09:33.666Z"
   },
   {
    "duration": 13,
    "start_time": "2024-05-16T17:09:33.730Z"
   },
   {
    "duration": 9,
    "start_time": "2024-05-16T17:09:33.747Z"
   },
   {
    "duration": 8,
    "start_time": "2024-05-16T17:09:33.759Z"
   },
   {
    "duration": 56,
    "start_time": "2024-05-16T17:09:33.771Z"
   },
   {
    "duration": 28,
    "start_time": "2024-05-16T17:09:33.831Z"
   },
   {
    "duration": 17,
    "start_time": "2024-05-16T17:09:33.862Z"
   },
   {
    "duration": 56,
    "start_time": "2024-05-16T17:09:33.882Z"
   },
   {
    "duration": 57,
    "start_time": "2024-05-16T17:09:33.942Z"
   },
   {
    "duration": 33,
    "start_time": "2024-05-16T17:09:34.002Z"
   },
   {
    "duration": 21,
    "start_time": "2024-05-16T17:09:34.038Z"
   },
   {
    "duration": 14,
    "start_time": "2024-05-16T17:09:34.062Z"
   },
   {
    "duration": 60,
    "start_time": "2024-05-16T17:09:34.079Z"
   },
   {
    "duration": 34,
    "start_time": "2024-05-16T17:09:34.142Z"
   },
   {
    "duration": 10,
    "start_time": "2024-05-16T17:09:34.179Z"
   },
   {
    "duration": 54,
    "start_time": "2024-05-16T17:09:34.192Z"
   },
   {
    "duration": 18,
    "start_time": "2024-05-16T17:09:34.248Z"
   },
   {
    "duration": 18,
    "start_time": "2024-05-16T17:09:34.270Z"
   },
   {
    "duration": 69,
    "start_time": "2024-05-16T17:09:34.325Z"
   },
   {
    "duration": 26,
    "start_time": "2024-05-16T17:09:34.402Z"
   },
   {
    "duration": 12,
    "start_time": "2024-05-16T17:09:34.431Z"
   },
   {
    "duration": 127,
    "start_time": "2024-05-16T17:09:34.446Z"
   },
   {
    "duration": 104,
    "start_time": "2024-05-16T17:09:34.577Z"
   },
   {
    "duration": 60,
    "start_time": "2024-05-16T17:09:34.688Z"
   },
   {
    "duration": 123,
    "start_time": "2024-05-16T17:09:34.752Z"
   },
   {
    "duration": 484,
    "start_time": "2024-05-16T17:09:34.878Z"
   },
   {
    "duration": 0,
    "start_time": "2024-05-16T17:09:35.365Z"
   },
   {
    "duration": 0,
    "start_time": "2024-05-16T17:09:35.367Z"
   },
   {
    "duration": 0,
    "start_time": "2024-05-16T17:09:35.369Z"
   },
   {
    "duration": 0,
    "start_time": "2024-05-16T17:09:35.371Z"
   },
   {
    "duration": 0,
    "start_time": "2024-05-16T17:09:35.373Z"
   },
   {
    "duration": 0,
    "start_time": "2024-05-16T17:09:35.375Z"
   },
   {
    "duration": 0,
    "start_time": "2024-05-16T17:09:35.376Z"
   },
   {
    "duration": 0,
    "start_time": "2024-05-16T17:09:35.379Z"
   },
   {
    "duration": 0,
    "start_time": "2024-05-16T17:09:35.381Z"
   },
   {
    "duration": 0,
    "start_time": "2024-05-16T17:09:35.383Z"
   },
   {
    "duration": 1354,
    "start_time": "2024-05-16T17:10:01.392Z"
   },
   {
    "duration": 310,
    "start_time": "2024-05-16T17:10:02.750Z"
   },
   {
    "duration": 16,
    "start_time": "2024-05-16T17:10:03.063Z"
   },
   {
    "duration": 18,
    "start_time": "2024-05-16T17:10:03.084Z"
   },
   {
    "duration": 40,
    "start_time": "2024-05-16T17:10:03.127Z"
   },
   {
    "duration": 6,
    "start_time": "2024-05-16T17:10:03.170Z"
   },
   {
    "duration": 9,
    "start_time": "2024-05-16T17:10:03.180Z"
   },
   {
    "duration": 7,
    "start_time": "2024-05-16T17:10:03.228Z"
   },
   {
    "duration": 16,
    "start_time": "2024-05-16T17:10:03.239Z"
   },
   {
    "duration": 15,
    "start_time": "2024-05-16T17:10:03.260Z"
   },
   {
    "duration": 54,
    "start_time": "2024-05-16T17:10:03.278Z"
   },
   {
    "duration": 9,
    "start_time": "2024-05-16T17:10:03.336Z"
   },
   {
    "duration": 15,
    "start_time": "2024-05-16T17:10:03.348Z"
   },
   {
    "duration": 69,
    "start_time": "2024-05-16T17:10:03.366Z"
   },
   {
    "duration": 20,
    "start_time": "2024-05-16T17:10:03.438Z"
   },
   {
    "duration": 24,
    "start_time": "2024-05-16T17:10:03.461Z"
   },
   {
    "duration": 93,
    "start_time": "2024-05-16T17:10:03.488Z"
   },
   {
    "duration": 11,
    "start_time": "2024-05-16T17:10:03.585Z"
   },
   {
    "duration": 43,
    "start_time": "2024-05-16T17:10:03.601Z"
   },
   {
    "duration": 14,
    "start_time": "2024-05-16T17:10:03.647Z"
   },
   {
    "duration": 15,
    "start_time": "2024-05-16T17:10:03.665Z"
   },
   {
    "duration": 69,
    "start_time": "2024-05-16T17:10:03.683Z"
   },
   {
    "duration": 12,
    "start_time": "2024-05-16T17:10:03.756Z"
   },
   {
    "duration": 59,
    "start_time": "2024-05-16T17:10:03.771Z"
   },
   {
    "duration": 18,
    "start_time": "2024-05-16T17:10:03.833Z"
   },
   {
    "duration": 25,
    "start_time": "2024-05-16T17:10:03.854Z"
   },
   {
    "duration": 108,
    "start_time": "2024-05-16T17:10:03.882Z"
   },
   {
    "duration": 29,
    "start_time": "2024-05-16T17:10:03.997Z"
   },
   {
    "duration": 13,
    "start_time": "2024-05-16T17:10:04.029Z"
   },
   {
    "duration": 131,
    "start_time": "2024-05-16T17:10:04.045Z"
   },
   {
    "duration": 99,
    "start_time": "2024-05-16T17:10:04.180Z"
   },
   {
    "duration": 53,
    "start_time": "2024-05-16T17:10:04.282Z"
   },
   {
    "duration": 123,
    "start_time": "2024-05-16T17:10:04.338Z"
   },
   {
    "duration": 41,
    "start_time": "2024-05-16T17:10:04.464Z"
   },
   {
    "duration": 3,
    "start_time": "2024-05-16T17:10:04.508Z"
   },
   {
    "duration": 3,
    "start_time": "2024-05-16T17:10:04.515Z"
   },
   {
    "duration": 1008,
    "start_time": "2024-05-16T17:10:04.527Z"
   },
   {
    "duration": 7,
    "start_time": "2024-05-16T17:10:05.540Z"
   },
   {
    "duration": 6,
    "start_time": "2024-05-16T17:10:05.556Z"
   },
   {
    "duration": 4,
    "start_time": "2024-05-16T17:10:05.566Z"
   },
   {
    "duration": 8,
    "start_time": "2024-05-16T17:10:05.574Z"
   },
   {
    "duration": 4,
    "start_time": "2024-05-16T17:10:05.586Z"
   },
   {
    "duration": 8,
    "start_time": "2024-05-16T17:10:05.631Z"
   },
   {
    "duration": 4,
    "start_time": "2024-05-16T17:10:05.642Z"
   },
   {
    "duration": 32,
    "start_time": "2024-05-16T17:12:41.643Z"
   },
   {
    "duration": 478,
    "start_time": "2024-05-16T17:15:28.184Z"
   },
   {
    "duration": 28,
    "start_time": "2024-05-16T17:16:15.031Z"
   },
   {
    "duration": 702,
    "start_time": "2024-05-16T17:16:21.139Z"
   },
   {
    "duration": 1325,
    "start_time": "2024-05-16T17:16:40.897Z"
   },
   {
    "duration": 287,
    "start_time": "2024-05-16T17:16:42.228Z"
   },
   {
    "duration": 19,
    "start_time": "2024-05-16T17:16:42.518Z"
   },
   {
    "duration": 21,
    "start_time": "2024-05-16T17:16:42.541Z"
   },
   {
    "duration": 63,
    "start_time": "2024-05-16T17:16:42.565Z"
   },
   {
    "duration": 7,
    "start_time": "2024-05-16T17:16:42.631Z"
   },
   {
    "duration": 10,
    "start_time": "2024-05-16T17:16:42.642Z"
   },
   {
    "duration": 9,
    "start_time": "2024-05-16T17:16:42.655Z"
   },
   {
    "duration": 64,
    "start_time": "2024-05-16T17:16:42.668Z"
   },
   {
    "duration": 17,
    "start_time": "2024-05-16T17:16:42.738Z"
   },
   {
    "duration": 11,
    "start_time": "2024-05-16T17:16:42.759Z"
   },
   {
    "duration": 9,
    "start_time": "2024-05-16T17:16:42.773Z"
   },
   {
    "duration": 14,
    "start_time": "2024-05-16T17:16:42.826Z"
   },
   {
    "duration": 26,
    "start_time": "2024-05-16T17:16:42.843Z"
   },
   {
    "duration": 55,
    "start_time": "2024-05-16T17:16:42.872Z"
   },
   {
    "duration": 21,
    "start_time": "2024-05-16T17:16:42.930Z"
   },
   {
    "duration": 85,
    "start_time": "2024-05-16T17:16:42.953Z"
   },
   {
    "duration": 12,
    "start_time": "2024-05-16T17:16:43.040Z"
   },
   {
    "duration": 21,
    "start_time": "2024-05-16T17:16:43.056Z"
   },
   {
    "duration": 51,
    "start_time": "2024-05-16T17:16:43.080Z"
   },
   {
    "duration": 16,
    "start_time": "2024-05-16T17:16:43.133Z"
   },
   {
    "duration": 31,
    "start_time": "2024-05-16T17:16:43.152Z"
   },
   {
    "duration": 43,
    "start_time": "2024-05-16T17:16:43.186Z"
   },
   {
    "duration": 23,
    "start_time": "2024-05-16T17:16:43.233Z"
   },
   {
    "duration": 18,
    "start_time": "2024-05-16T17:16:43.258Z"
   },
   {
    "duration": 59,
    "start_time": "2024-05-16T17:16:43.279Z"
   },
   {
    "duration": 86,
    "start_time": "2024-05-16T17:16:43.340Z"
   },
   {
    "duration": 12,
    "start_time": "2024-05-16T17:16:43.433Z"
   },
   {
    "duration": 14,
    "start_time": "2024-05-16T17:16:43.448Z"
   },
   {
    "duration": 146,
    "start_time": "2024-05-16T17:16:43.466Z"
   },
   {
    "duration": 100,
    "start_time": "2024-05-16T17:16:43.614Z"
   },
   {
    "duration": 54,
    "start_time": "2024-05-16T17:16:43.716Z"
   },
   {
    "duration": 136,
    "start_time": "2024-05-16T17:16:43.773Z"
   },
   {
    "duration": 42,
    "start_time": "2024-05-16T17:16:43.912Z"
   },
   {
    "duration": 26,
    "start_time": "2024-05-16T17:16:43.957Z"
   },
   {
    "duration": 58,
    "start_time": "2024-05-16T17:16:43.986Z"
   },
   {
    "duration": 3,
    "start_time": "2024-05-16T17:16:44.048Z"
   },
   {
    "duration": 774,
    "start_time": "2024-05-16T17:16:44.054Z"
   },
   {
    "duration": 3,
    "start_time": "2024-05-16T17:16:44.831Z"
   },
   {
    "duration": 3,
    "start_time": "2024-05-16T17:16:44.838Z"
   },
   {
    "duration": 3,
    "start_time": "2024-05-16T17:16:44.845Z"
   },
   {
    "duration": 4,
    "start_time": "2024-05-16T17:16:44.852Z"
   },
   {
    "duration": 4,
    "start_time": "2024-05-16T17:16:44.859Z"
   },
   {
    "duration": 3,
    "start_time": "2024-05-16T17:16:44.866Z"
   },
   {
    "duration": 5,
    "start_time": "2024-05-16T17:16:44.927Z"
   },
   {
    "duration": 10,
    "start_time": "2024-05-16T17:29:39.488Z"
   },
   {
    "duration": 420,
    "start_time": "2024-05-16T17:29:48.433Z"
   },
   {
    "duration": 1286,
    "start_time": "2024-05-16T17:30:40.449Z"
   },
   {
    "duration": 301,
    "start_time": "2024-05-16T17:30:41.738Z"
   },
   {
    "duration": 16,
    "start_time": "2024-05-16T17:30:42.042Z"
   },
   {
    "duration": 18,
    "start_time": "2024-05-16T17:30:42.063Z"
   },
   {
    "duration": 63,
    "start_time": "2024-05-16T17:30:42.084Z"
   },
   {
    "duration": 7,
    "start_time": "2024-05-16T17:30:42.149Z"
   },
   {
    "duration": 9,
    "start_time": "2024-05-16T17:30:42.159Z"
   },
   {
    "duration": 9,
    "start_time": "2024-05-16T17:30:42.171Z"
   },
   {
    "duration": 56,
    "start_time": "2024-05-16T17:30:42.183Z"
   },
   {
    "duration": 16,
    "start_time": "2024-05-16T17:30:42.245Z"
   },
   {
    "duration": 18,
    "start_time": "2024-05-16T17:30:42.264Z"
   },
   {
    "duration": 43,
    "start_time": "2024-05-16T17:30:42.285Z"
   },
   {
    "duration": 15,
    "start_time": "2024-05-16T17:30:42.331Z"
   },
   {
    "duration": 25,
    "start_time": "2024-05-16T17:30:42.349Z"
   },
   {
    "duration": 53,
    "start_time": "2024-05-16T17:30:42.378Z"
   },
   {
    "duration": 21,
    "start_time": "2024-05-16T17:30:42.434Z"
   },
   {
    "duration": 93,
    "start_time": "2024-05-16T17:30:42.458Z"
   },
   {
    "duration": 11,
    "start_time": "2024-05-16T17:30:42.555Z"
   },
   {
    "duration": 22,
    "start_time": "2024-05-16T17:30:42.570Z"
   },
   {
    "duration": 42,
    "start_time": "2024-05-16T17:30:42.595Z"
   },
   {
    "duration": 15,
    "start_time": "2024-05-16T17:30:42.640Z"
   },
   {
    "duration": 31,
    "start_time": "2024-05-16T17:30:42.657Z"
   },
   {
    "duration": 13,
    "start_time": "2024-05-16T17:30:42.727Z"
   },
   {
    "duration": 24,
    "start_time": "2024-05-16T17:30:42.743Z"
   },
   {
    "duration": 15,
    "start_time": "2024-05-16T17:30:42.770Z"
   },
   {
    "duration": 17,
    "start_time": "2024-05-16T17:30:42.826Z"
   },
   {
    "duration": 96,
    "start_time": "2024-05-16T17:30:42.846Z"
   },
   {
    "duration": 12,
    "start_time": "2024-05-16T17:30:42.949Z"
   },
   {
    "duration": 13,
    "start_time": "2024-05-16T17:30:42.965Z"
   },
   {
    "duration": 140,
    "start_time": "2024-05-16T17:30:42.981Z"
   },
   {
    "duration": 98,
    "start_time": "2024-05-16T17:30:43.124Z"
   },
   {
    "duration": 53,
    "start_time": "2024-05-16T17:30:43.225Z"
   },
   {
    "duration": 579,
    "start_time": "2024-05-16T17:30:43.281Z"
   },
   {
    "duration": 41,
    "start_time": "2024-05-16T17:30:43.862Z"
   },
   {
    "duration": 34,
    "start_time": "2024-05-16T17:30:43.906Z"
   },
   {
    "duration": 36,
    "start_time": "2024-05-16T17:30:43.942Z"
   },
   {
    "duration": 498,
    "start_time": "2024-05-16T17:30:43.982Z"
   },
   {
    "duration": 0,
    "start_time": "2024-05-16T17:30:44.483Z"
   },
   {
    "duration": 0,
    "start_time": "2024-05-16T17:30:44.485Z"
   },
   {
    "duration": 0,
    "start_time": "2024-05-16T17:30:44.493Z"
   },
   {
    "duration": 0,
    "start_time": "2024-05-16T17:30:44.495Z"
   },
   {
    "duration": 0,
    "start_time": "2024-05-16T17:30:44.498Z"
   },
   {
    "duration": 0,
    "start_time": "2024-05-16T17:30:44.500Z"
   },
   {
    "duration": 0,
    "start_time": "2024-05-16T17:30:44.526Z"
   },
   {
    "duration": 0,
    "start_time": "2024-05-16T17:30:44.529Z"
   },
   {
    "duration": 1183,
    "start_time": "2024-05-16T17:31:45.928Z"
   },
   {
    "duration": 1279,
    "start_time": "2024-05-16T17:32:47.760Z"
   },
   {
    "duration": 285,
    "start_time": "2024-05-16T17:32:49.043Z"
   },
   {
    "duration": 16,
    "start_time": "2024-05-16T17:32:49.331Z"
   },
   {
    "duration": 18,
    "start_time": "2024-05-16T17:32:49.352Z"
   },
   {
    "duration": 74,
    "start_time": "2024-05-16T17:32:49.373Z"
   },
   {
    "duration": 7,
    "start_time": "2024-05-16T17:32:49.451Z"
   },
   {
    "duration": 10,
    "start_time": "2024-05-16T17:32:49.462Z"
   },
   {
    "duration": 8,
    "start_time": "2024-05-16T17:32:49.475Z"
   },
   {
    "duration": 51,
    "start_time": "2024-05-16T17:32:49.486Z"
   },
   {
    "duration": 13,
    "start_time": "2024-05-16T17:32:49.545Z"
   },
   {
    "duration": 9,
    "start_time": "2024-05-16T17:32:49.561Z"
   },
   {
    "duration": 7,
    "start_time": "2024-05-16T17:32:49.573Z"
   },
   {
    "duration": 17,
    "start_time": "2024-05-16T17:32:49.627Z"
   },
   {
    "duration": 27,
    "start_time": "2024-05-16T17:32:49.648Z"
   },
   {
    "duration": 53,
    "start_time": "2024-05-16T17:32:49.678Z"
   },
   {
    "duration": 23,
    "start_time": "2024-05-16T17:32:49.734Z"
   },
   {
    "duration": 93,
    "start_time": "2024-05-16T17:32:49.761Z"
   },
   {
    "duration": 19,
    "start_time": "2024-05-16T17:32:49.857Z"
   },
   {
    "duration": 50,
    "start_time": "2024-05-16T17:32:49.879Z"
   },
   {
    "duration": 15,
    "start_time": "2024-05-16T17:32:49.932Z"
   },
   {
    "duration": 15,
    "start_time": "2024-05-16T17:32:49.950Z"
   },
   {
    "duration": 67,
    "start_time": "2024-05-16T17:32:49.968Z"
   },
   {
    "duration": 11,
    "start_time": "2024-05-16T17:32:50.038Z"
   },
   {
    "duration": 24,
    "start_time": "2024-05-16T17:32:50.052Z"
   },
   {
    "duration": 50,
    "start_time": "2024-05-16T17:32:50.078Z"
   },
   {
    "duration": 18,
    "start_time": "2024-05-16T17:32:50.132Z"
   },
   {
    "duration": 103,
    "start_time": "2024-05-16T17:32:50.153Z"
   },
   {
    "duration": 14,
    "start_time": "2024-05-16T17:32:50.263Z"
   },
   {
    "duration": 14,
    "start_time": "2024-05-16T17:32:50.280Z"
   },
   {
    "duration": 102,
    "start_time": "2024-05-16T17:32:50.325Z"
   },
   {
    "duration": 97,
    "start_time": "2024-05-16T17:32:50.430Z"
   },
   {
    "duration": 51,
    "start_time": "2024-05-16T17:32:50.530Z"
   },
   {
    "duration": 139,
    "start_time": "2024-05-16T17:32:50.583Z"
   },
   {
    "duration": 40,
    "start_time": "2024-05-16T17:32:50.725Z"
   },
   {
    "duration": 26,
    "start_time": "2024-05-16T17:32:50.768Z"
   },
   {
    "duration": 59,
    "start_time": "2024-05-16T17:32:50.797Z"
   },
   {
    "duration": 1649,
    "start_time": "2024-05-16T17:32:50.858Z"
   },
   {
    "duration": 0,
    "start_time": "2024-05-16T17:32:52.510Z"
   },
   {
    "duration": 0,
    "start_time": "2024-05-16T17:32:52.511Z"
   },
   {
    "duration": 12,
    "start_time": "2024-05-16T17:32:52.513Z"
   },
   {
    "duration": 0,
    "start_time": "2024-05-16T17:32:52.528Z"
   },
   {
    "duration": 0,
    "start_time": "2024-05-16T17:32:52.529Z"
   },
   {
    "duration": 0,
    "start_time": "2024-05-16T17:32:52.531Z"
   },
   {
    "duration": 0,
    "start_time": "2024-05-16T17:32:52.533Z"
   },
   {
    "duration": 0,
    "start_time": "2024-05-16T17:32:52.535Z"
   },
   {
    "duration": 150,
    "start_time": "2024-05-16T17:33:08.639Z"
   },
   {
    "duration": 702,
    "start_time": "2024-05-16T17:46:50.785Z"
   },
   {
    "duration": 32,
    "start_time": "2024-05-16T17:47:33.200Z"
   },
   {
    "duration": 30,
    "start_time": "2024-05-16T17:47:47.151Z"
   },
   {
    "duration": 139,
    "start_time": "2024-05-16T17:48:03.417Z"
   },
   {
    "duration": 1361,
    "start_time": "2024-05-16T17:48:14.112Z"
   },
   {
    "duration": 298,
    "start_time": "2024-05-16T17:48:15.478Z"
   },
   {
    "duration": 17,
    "start_time": "2024-05-16T17:48:15.779Z"
   },
   {
    "duration": 31,
    "start_time": "2024-05-16T17:48:15.799Z"
   },
   {
    "duration": 38,
    "start_time": "2024-05-16T17:48:15.836Z"
   },
   {
    "duration": 7,
    "start_time": "2024-05-16T17:48:15.877Z"
   },
   {
    "duration": 44,
    "start_time": "2024-05-16T17:48:15.888Z"
   },
   {
    "duration": 8,
    "start_time": "2024-05-16T17:48:15.935Z"
   },
   {
    "duration": 17,
    "start_time": "2024-05-16T17:48:15.947Z"
   },
   {
    "duration": 14,
    "start_time": "2024-05-16T17:48:15.967Z"
   },
   {
    "duration": 9,
    "start_time": "2024-05-16T17:48:16.028Z"
   },
   {
    "duration": 9,
    "start_time": "2024-05-16T17:48:16.041Z"
   },
   {
    "duration": 15,
    "start_time": "2024-05-16T17:48:16.053Z"
   },
   {
    "duration": 69,
    "start_time": "2024-05-16T17:48:16.075Z"
   },
   {
    "duration": 17,
    "start_time": "2024-05-16T17:48:16.147Z"
   },
   {
    "duration": 21,
    "start_time": "2024-05-16T17:48:16.168Z"
   },
   {
    "duration": 63,
    "start_time": "2024-05-16T17:48:16.228Z"
   },
   {
    "duration": 33,
    "start_time": "2024-05-16T17:48:16.296Z"
   },
   {
    "duration": 20,
    "start_time": "2024-05-16T17:48:16.334Z"
   },
   {
    "duration": 14,
    "start_time": "2024-05-16T17:48:16.357Z"
   },
   {
    "duration": 57,
    "start_time": "2024-05-16T17:48:16.375Z"
   },
   {
    "duration": 29,
    "start_time": "2024-05-16T17:48:16.434Z"
   },
   {
    "duration": 12,
    "start_time": "2024-05-16T17:48:16.467Z"
   },
   {
    "duration": 60,
    "start_time": "2024-05-16T17:48:16.482Z"
   },
   {
    "duration": 16,
    "start_time": "2024-05-16T17:48:16.545Z"
   },
   {
    "duration": 17,
    "start_time": "2024-05-16T17:48:16.564Z"
   },
   {
    "duration": 108,
    "start_time": "2024-05-16T17:48:16.584Z"
   },
   {
    "duration": 30,
    "start_time": "2024-05-16T17:48:16.696Z"
   },
   {
    "duration": 13,
    "start_time": "2024-05-16T17:48:16.730Z"
   },
   {
    "duration": 131,
    "start_time": "2024-05-16T17:48:16.746Z"
   },
   {
    "duration": 98,
    "start_time": "2024-05-16T17:48:16.880Z"
   },
   {
    "duration": 52,
    "start_time": "2024-05-16T17:48:16.980Z"
   },
   {
    "duration": 119,
    "start_time": "2024-05-16T17:48:17.035Z"
   },
   {
    "duration": 39,
    "start_time": "2024-05-16T17:48:17.157Z"
   },
   {
    "duration": 30,
    "start_time": "2024-05-16T17:48:17.199Z"
   },
   {
    "duration": 35,
    "start_time": "2024-05-16T17:48:17.232Z"
   },
   {
    "duration": 1696,
    "start_time": "2024-05-16T17:48:17.270Z"
   },
   {
    "duration": 0,
    "start_time": "2024-05-16T17:48:18.970Z"
   },
   {
    "duration": 0,
    "start_time": "2024-05-16T17:48:18.972Z"
   },
   {
    "duration": 0,
    "start_time": "2024-05-16T17:48:18.974Z"
   },
   {
    "duration": 0,
    "start_time": "2024-05-16T17:48:18.976Z"
   },
   {
    "duration": 0,
    "start_time": "2024-05-16T17:48:18.978Z"
   },
   {
    "duration": 0,
    "start_time": "2024-05-16T17:48:18.980Z"
   },
   {
    "duration": 0,
    "start_time": "2024-05-16T17:48:18.981Z"
   },
   {
    "duration": 0,
    "start_time": "2024-05-16T17:48:18.984Z"
   },
   {
    "duration": 766,
    "start_time": "2024-05-16T17:48:35.284Z"
   },
   {
    "duration": 141,
    "start_time": "2024-05-16T17:48:38.253Z"
   },
   {
    "duration": 166,
    "start_time": "2024-05-16T18:01:41.093Z"
   },
   {
    "duration": 3,
    "start_time": "2024-05-16T18:16:40.295Z"
   },
   {
    "duration": 24,
    "start_time": "2024-05-16T18:21:39.669Z"
   },
   {
    "duration": 25,
    "start_time": "2024-05-16T18:21:43.443Z"
   },
   {
    "duration": 8,
    "start_time": "2024-05-16T18:27:49.339Z"
   },
   {
    "duration": 10,
    "start_time": "2024-05-16T18:30:22.771Z"
   },
   {
    "duration": 7,
    "start_time": "2024-05-16T18:37:39.045Z"
   },
   {
    "duration": 6,
    "start_time": "2024-05-16T18:37:58.274Z"
   },
   {
    "duration": 8,
    "start_time": "2024-05-16T18:38:19.799Z"
   },
   {
    "duration": 7,
    "start_time": "2024-05-16T18:38:45.281Z"
   },
   {
    "duration": 15,
    "start_time": "2024-05-16T18:41:23.290Z"
   },
   {
    "duration": 7,
    "start_time": "2024-05-16T18:45:09.577Z"
   },
   {
    "duration": 8,
    "start_time": "2024-05-16T18:46:00.213Z"
   },
   {
    "duration": 17,
    "start_time": "2024-05-16T18:48:27.486Z"
   },
   {
    "duration": 84,
    "start_time": "2024-05-16T20:19:39.974Z"
   },
   {
    "duration": 1333,
    "start_time": "2024-05-16T20:19:51.755Z"
   },
   {
    "duration": 308,
    "start_time": "2024-05-16T20:19:53.092Z"
   },
   {
    "duration": 18,
    "start_time": "2024-05-16T20:19:53.403Z"
   },
   {
    "duration": 18,
    "start_time": "2024-05-16T20:19:53.430Z"
   },
   {
    "duration": 38,
    "start_time": "2024-05-16T20:19:53.451Z"
   },
   {
    "duration": 35,
    "start_time": "2024-05-16T20:19:53.493Z"
   },
   {
    "duration": 7,
    "start_time": "2024-05-16T20:19:53.531Z"
   },
   {
    "duration": 7,
    "start_time": "2024-05-16T20:19:53.542Z"
   },
   {
    "duration": 6,
    "start_time": "2024-05-16T20:19:53.553Z"
   },
   {
    "duration": 9,
    "start_time": "2024-05-16T20:19:53.566Z"
   },
   {
    "duration": 8,
    "start_time": "2024-05-16T20:19:53.627Z"
   },
   {
    "duration": 15,
    "start_time": "2024-05-16T20:19:53.639Z"
   },
   {
    "duration": 16,
    "start_time": "2024-05-16T20:19:53.657Z"
   },
   {
    "duration": 60,
    "start_time": "2024-05-16T20:19:53.676Z"
   },
   {
    "duration": 9,
    "start_time": "2024-05-16T20:19:53.739Z"
   },
   {
    "duration": 8,
    "start_time": "2024-05-16T20:19:53.752Z"
   },
   {
    "duration": 9,
    "start_time": "2024-05-16T20:19:53.763Z"
   },
   {
    "duration": 52,
    "start_time": "2024-05-16T20:19:53.776Z"
   },
   {
    "duration": 26,
    "start_time": "2024-05-16T20:19:53.831Z"
   },
   {
    "duration": 17,
    "start_time": "2024-05-16T20:19:53.862Z"
   },
   {
    "duration": 47,
    "start_time": "2024-05-16T20:19:53.883Z"
   },
   {
    "duration": 21,
    "start_time": "2024-05-16T20:19:53.933Z"
   },
   {
    "duration": 88,
    "start_time": "2024-05-16T20:19:53.957Z"
   },
   {
    "duration": 11,
    "start_time": "2024-05-16T20:19:54.049Z"
   },
   {
    "duration": 21,
    "start_time": "2024-05-16T20:19:54.064Z"
   },
   {
    "duration": 49,
    "start_time": "2024-05-16T20:19:54.088Z"
   },
   {
    "duration": 17,
    "start_time": "2024-05-16T20:19:54.140Z"
   },
   {
    "duration": 60,
    "start_time": "2024-05-16T20:19:54.167Z"
   },
   {
    "duration": 13,
    "start_time": "2024-05-16T20:19:54.230Z"
   },
   {
    "duration": 25,
    "start_time": "2024-05-16T20:19:54.246Z"
   },
   {
    "duration": 56,
    "start_time": "2024-05-16T20:19:54.274Z"
   },
   {
    "duration": 9,
    "start_time": "2024-05-16T20:19:54.333Z"
   },
   {
    "duration": 20,
    "start_time": "2024-05-16T20:19:54.346Z"
   },
   {
    "duration": 109,
    "start_time": "2024-05-16T20:19:54.370Z"
   },
   {
    "duration": 12,
    "start_time": "2024-05-16T20:19:54.482Z"
   },
   {
    "duration": 30,
    "start_time": "2024-05-16T20:19:54.497Z"
   },
   {
    "duration": 117,
    "start_time": "2024-05-16T20:19:54.530Z"
   },
   {
    "duration": 117,
    "start_time": "2024-05-16T20:19:54.650Z"
   },
   {
    "duration": 54,
    "start_time": "2024-05-16T20:19:54.770Z"
   },
   {
    "duration": 131,
    "start_time": "2024-05-16T20:19:54.827Z"
   },
   {
    "duration": 40,
    "start_time": "2024-05-16T20:19:54.961Z"
   },
   {
    "duration": 31,
    "start_time": "2024-05-16T20:19:55.006Z"
   },
   {
    "duration": 37,
    "start_time": "2024-05-16T20:19:55.040Z"
   },
   {
    "duration": 1380,
    "start_time": "2024-05-16T20:19:55.081Z"
   },
   {
    "duration": 0,
    "start_time": "2024-05-16T20:19:56.465Z"
   },
   {
    "duration": 0,
    "start_time": "2024-05-16T20:19:56.469Z"
   },
   {
    "duration": 0,
    "start_time": "2024-05-16T20:19:56.472Z"
   },
   {
    "duration": 0,
    "start_time": "2024-05-16T20:19:56.474Z"
   },
   {
    "duration": 0,
    "start_time": "2024-05-16T20:19:56.477Z"
   },
   {
    "duration": 0,
    "start_time": "2024-05-16T20:19:56.479Z"
   },
   {
    "duration": 0,
    "start_time": "2024-05-16T20:19:56.482Z"
   },
   {
    "duration": 0,
    "start_time": "2024-05-16T20:19:56.485Z"
   },
   {
    "duration": 0,
    "start_time": "2024-05-16T20:19:56.488Z"
   },
   {
    "duration": 1411,
    "start_time": "2024-05-16T20:20:09.905Z"
   },
   {
    "duration": 302,
    "start_time": "2024-05-16T20:20:11.320Z"
   },
   {
    "duration": 20,
    "start_time": "2024-05-16T20:20:11.624Z"
   },
   {
    "duration": 20,
    "start_time": "2024-05-16T20:20:11.648Z"
   },
   {
    "duration": 74,
    "start_time": "2024-05-16T20:20:11.673Z"
   },
   {
    "duration": 7,
    "start_time": "2024-05-16T20:20:11.751Z"
   },
   {
    "duration": 8,
    "start_time": "2024-05-16T20:20:11.762Z"
   },
   {
    "duration": 8,
    "start_time": "2024-05-16T20:20:11.773Z"
   },
   {
    "duration": 7,
    "start_time": "2024-05-16T20:20:11.826Z"
   },
   {
    "duration": 10,
    "start_time": "2024-05-16T20:20:11.837Z"
   },
   {
    "duration": 9,
    "start_time": "2024-05-16T20:20:11.850Z"
   },
   {
    "duration": 65,
    "start_time": "2024-05-16T20:20:11.862Z"
   },
   {
    "duration": 15,
    "start_time": "2024-05-16T20:20:11.930Z"
   },
   {
    "duration": 19,
    "start_time": "2024-05-16T20:20:11.954Z"
   },
   {
    "duration": 11,
    "start_time": "2024-05-16T20:20:11.976Z"
   },
   {
    "duration": 21,
    "start_time": "2024-05-16T20:20:12.027Z"
   },
   {
    "duration": 9,
    "start_time": "2024-05-16T20:20:12.051Z"
   },
   {
    "duration": 8,
    "start_time": "2024-05-16T20:20:12.064Z"
   },
   {
    "duration": 55,
    "start_time": "2024-05-16T20:20:12.075Z"
   },
   {
    "duration": 21,
    "start_time": "2024-05-16T20:20:12.134Z"
   },
   {
    "duration": 9,
    "start_time": "2024-05-16T20:20:12.158Z"
   },
   {
    "duration": 65,
    "start_time": "2024-05-16T20:20:12.171Z"
   },
   {
    "duration": 85,
    "start_time": "2024-05-16T20:20:12.240Z"
   },
   {
    "duration": 12,
    "start_time": "2024-05-16T20:20:12.329Z"
   },
   {
    "duration": 20,
    "start_time": "2024-05-16T20:20:12.344Z"
   },
   {
    "duration": 14,
    "start_time": "2024-05-16T20:20:12.368Z"
   },
   {
    "duration": 14,
    "start_time": "2024-05-16T20:20:12.426Z"
   },
   {
    "duration": 30,
    "start_time": "2024-05-16T20:20:12.443Z"
   },
   {
    "duration": 11,
    "start_time": "2024-05-16T20:20:12.476Z"
   },
   {
    "duration": 57,
    "start_time": "2024-05-16T20:20:12.490Z"
   },
   {
    "duration": 16,
    "start_time": "2024-05-16T20:20:12.552Z"
   },
   {
    "duration": 9,
    "start_time": "2024-05-16T20:20:12.571Z"
   },
   {
    "duration": 57,
    "start_time": "2024-05-16T20:20:12.584Z"
   },
   {
    "duration": 95,
    "start_time": "2024-05-16T20:20:12.645Z"
   },
   {
    "duration": 12,
    "start_time": "2024-05-16T20:20:12.743Z"
   },
   {
    "duration": 13,
    "start_time": "2024-05-16T20:20:12.759Z"
   },
   {
    "duration": 142,
    "start_time": "2024-05-16T20:20:12.776Z"
   },
   {
    "duration": 101,
    "start_time": "2024-05-16T20:20:12.921Z"
   },
   {
    "duration": 53,
    "start_time": "2024-05-16T20:20:13.025Z"
   },
   {
    "duration": 140,
    "start_time": "2024-05-16T20:20:13.082Z"
   },
   {
    "duration": 42,
    "start_time": "2024-05-16T20:20:13.231Z"
   },
   {
    "duration": 59,
    "start_time": "2024-05-16T20:20:13.276Z"
   },
   {
    "duration": 38,
    "start_time": "2024-05-16T20:20:13.342Z"
   },
   {
    "duration": 1357,
    "start_time": "2024-05-16T20:20:13.384Z"
   },
   {
    "duration": 0,
    "start_time": "2024-05-16T20:20:14.744Z"
   },
   {
    "duration": 0,
    "start_time": "2024-05-16T20:20:14.747Z"
   },
   {
    "duration": 0,
    "start_time": "2024-05-16T20:20:14.750Z"
   },
   {
    "duration": 0,
    "start_time": "2024-05-16T20:20:14.752Z"
   },
   {
    "duration": 0,
    "start_time": "2024-05-16T20:20:14.756Z"
   },
   {
    "duration": 0,
    "start_time": "2024-05-16T20:20:14.759Z"
   },
   {
    "duration": 0,
    "start_time": "2024-05-16T20:20:14.763Z"
   },
   {
    "duration": 0,
    "start_time": "2024-05-16T20:20:14.765Z"
   },
   {
    "duration": 0,
    "start_time": "2024-05-16T20:20:14.768Z"
   },
   {
    "duration": 783,
    "start_time": "2024-05-16T20:20:29.811Z"
   },
   {
    "duration": 478,
    "start_time": "2024-05-16T20:20:40.954Z"
   },
   {
    "duration": 32,
    "start_time": "2024-05-16T20:23:14.338Z"
   },
   {
    "duration": 3,
    "start_time": "2024-05-16T20:23:28.462Z"
   },
   {
    "duration": 160,
    "start_time": "2024-05-16T20:23:51.199Z"
   },
   {
    "duration": 2,
    "start_time": "2024-05-16T20:34:00.084Z"
   },
   {
    "duration": 27,
    "start_time": "2024-05-16T20:36:27.913Z"
   },
   {
    "duration": 25,
    "start_time": "2024-05-16T20:36:56.394Z"
   },
   {
    "duration": 25,
    "start_time": "2024-05-16T20:38:00.536Z"
   },
   {
    "duration": 31,
    "start_time": "2024-05-16T20:38:48.654Z"
   },
   {
    "duration": 30,
    "start_time": "2024-05-16T20:38:58.718Z"
   },
   {
    "duration": 7,
    "start_time": "2024-05-16T20:39:54.870Z"
   },
   {
    "duration": 45,
    "start_time": "2024-05-16T20:40:02.620Z"
   },
   {
    "duration": 1314,
    "start_time": "2024-05-16T20:40:11.489Z"
   },
   {
    "duration": 302,
    "start_time": "2024-05-16T20:40:12.807Z"
   },
   {
    "duration": 19,
    "start_time": "2024-05-16T20:40:13.112Z"
   },
   {
    "duration": 20,
    "start_time": "2024-05-16T20:40:13.136Z"
   },
   {
    "duration": 72,
    "start_time": "2024-05-16T20:40:13.159Z"
   },
   {
    "duration": 6,
    "start_time": "2024-05-16T20:40:13.234Z"
   },
   {
    "duration": 8,
    "start_time": "2024-05-16T20:40:13.243Z"
   },
   {
    "duration": 7,
    "start_time": "2024-05-16T20:40:13.254Z"
   },
   {
    "duration": 6,
    "start_time": "2024-05-16T20:40:13.265Z"
   },
   {
    "duration": 11,
    "start_time": "2024-05-16T20:40:13.329Z"
   },
   {
    "duration": 8,
    "start_time": "2024-05-16T20:40:13.343Z"
   },
   {
    "duration": 18,
    "start_time": "2024-05-16T20:40:13.355Z"
   },
   {
    "duration": 57,
    "start_time": "2024-05-16T20:40:13.378Z"
   },
   {
    "duration": 24,
    "start_time": "2024-05-16T20:40:13.439Z"
   },
   {
    "duration": 8,
    "start_time": "2024-05-16T20:40:13.467Z"
   },
   {
    "duration": 48,
    "start_time": "2024-05-16T20:40:13.480Z"
   },
   {
    "duration": 9,
    "start_time": "2024-05-16T20:40:13.531Z"
   },
   {
    "duration": 8,
    "start_time": "2024-05-16T20:40:13.544Z"
   },
   {
    "duration": 70,
    "start_time": "2024-05-16T20:40:13.556Z"
   },
   {
    "duration": 18,
    "start_time": "2024-05-16T20:40:13.629Z"
   },
   {
    "duration": 9,
    "start_time": "2024-05-16T20:40:13.650Z"
   },
   {
    "duration": 20,
    "start_time": "2024-05-16T20:40:13.664Z"
   },
   {
    "duration": 96,
    "start_time": "2024-05-16T20:40:13.687Z"
   },
   {
    "duration": 41,
    "start_time": "2024-05-16T20:40:13.786Z"
   },
   {
    "duration": 22,
    "start_time": "2024-05-16T20:40:13.830Z"
   },
   {
    "duration": 13,
    "start_time": "2024-05-16T20:40:13.855Z"
   },
   {
    "duration": 21,
    "start_time": "2024-05-16T20:40:13.871Z"
   },
   {
    "duration": 30,
    "start_time": "2024-05-16T20:40:13.932Z"
   },
   {
    "duration": 11,
    "start_time": "2024-05-16T20:40:13.965Z"
   },
   {
    "duration": 56,
    "start_time": "2024-05-16T20:40:13.980Z"
   },
   {
    "duration": 16,
    "start_time": "2024-05-16T20:40:14.040Z"
   },
   {
    "duration": 8,
    "start_time": "2024-05-16T20:40:14.060Z"
   },
   {
    "duration": 57,
    "start_time": "2024-05-16T20:40:14.072Z"
   },
   {
    "duration": 94,
    "start_time": "2024-05-16T20:40:14.133Z"
   },
   {
    "duration": 13,
    "start_time": "2024-05-16T20:40:14.230Z"
   },
   {
    "duration": 13,
    "start_time": "2024-05-16T20:40:14.247Z"
   },
   {
    "duration": 137,
    "start_time": "2024-05-16T20:40:14.263Z"
   },
   {
    "duration": 111,
    "start_time": "2024-05-16T20:40:14.403Z"
   },
   {
    "duration": 61,
    "start_time": "2024-05-16T20:40:14.518Z"
   },
   {
    "duration": 139,
    "start_time": "2024-05-16T20:40:14.583Z"
   },
   {
    "duration": 40,
    "start_time": "2024-05-16T20:40:14.724Z"
   },
   {
    "duration": 27,
    "start_time": "2024-05-16T20:40:14.767Z"
   },
   {
    "duration": 35,
    "start_time": "2024-05-16T20:40:14.825Z"
   },
   {
    "duration": 234,
    "start_time": "2024-05-16T20:40:14.863Z"
   },
   {
    "duration": 0,
    "start_time": "2024-05-16T20:40:15.100Z"
   },
   {
    "duration": 0,
    "start_time": "2024-05-16T20:40:15.102Z"
   },
   {
    "duration": 0,
    "start_time": "2024-05-16T20:40:15.107Z"
   },
   {
    "duration": 0,
    "start_time": "2024-05-16T20:40:15.108Z"
   },
   {
    "duration": 0,
    "start_time": "2024-05-16T20:40:15.126Z"
   },
   {
    "duration": 0,
    "start_time": "2024-05-16T20:40:15.128Z"
   },
   {
    "duration": 0,
    "start_time": "2024-05-16T20:40:15.132Z"
   },
   {
    "duration": 0,
    "start_time": "2024-05-16T20:40:15.135Z"
   },
   {
    "duration": 1,
    "start_time": "2024-05-16T20:40:15.137Z"
   },
   {
    "duration": 46,
    "start_time": "2024-05-16T20:42:38.196Z"
   },
   {
    "duration": 1321,
    "start_time": "2024-05-16T20:42:58.156Z"
   },
   {
    "duration": 282,
    "start_time": "2024-05-16T20:42:59.480Z"
   },
   {
    "duration": 15,
    "start_time": "2024-05-16T20:42:59.766Z"
   },
   {
    "duration": 40,
    "start_time": "2024-05-16T20:42:59.786Z"
   },
   {
    "duration": 49,
    "start_time": "2024-05-16T20:42:59.829Z"
   },
   {
    "duration": 7,
    "start_time": "2024-05-16T20:42:59.881Z"
   },
   {
    "duration": 34,
    "start_time": "2024-05-16T20:42:59.891Z"
   },
   {
    "duration": 7,
    "start_time": "2024-05-16T20:42:59.929Z"
   },
   {
    "duration": 8,
    "start_time": "2024-05-16T20:42:59.939Z"
   },
   {
    "duration": 8,
    "start_time": "2024-05-16T20:42:59.953Z"
   },
   {
    "duration": 11,
    "start_time": "2024-05-16T20:42:59.965Z"
   },
   {
    "duration": 17,
    "start_time": "2024-05-16T20:43:00.027Z"
   },
   {
    "duration": 19,
    "start_time": "2024-05-16T20:43:00.048Z"
   },
   {
    "duration": 64,
    "start_time": "2024-05-16T20:43:00.070Z"
   },
   {
    "duration": 8,
    "start_time": "2024-05-16T20:43:00.137Z"
   },
   {
    "duration": 8,
    "start_time": "2024-05-16T20:43:00.148Z"
   },
   {
    "duration": 11,
    "start_time": "2024-05-16T20:43:00.159Z"
   },
   {
    "duration": 8,
    "start_time": "2024-05-16T20:43:00.173Z"
   },
   {
    "duration": 25,
    "start_time": "2024-05-16T20:43:00.227Z"
   },
   {
    "duration": 23,
    "start_time": "2024-05-16T20:43:00.256Z"
   },
   {
    "duration": 14,
    "start_time": "2024-05-16T20:43:00.284Z"
   },
   {
    "duration": 22,
    "start_time": "2024-05-16T20:43:00.327Z"
   },
   {
    "duration": 82,
    "start_time": "2024-05-16T20:43:00.352Z"
   },
   {
    "duration": 11,
    "start_time": "2024-05-16T20:43:00.437Z"
   },
   {
    "duration": 21,
    "start_time": "2024-05-16T20:43:00.452Z"
   },
   {
    "duration": 14,
    "start_time": "2024-05-16T20:43:00.475Z"
   },
   {
    "duration": 16,
    "start_time": "2024-05-16T20:43:00.527Z"
   },
   {
    "duration": 29,
    "start_time": "2024-05-16T20:43:00.552Z"
   },
   {
    "duration": 43,
    "start_time": "2024-05-16T20:43:00.584Z"
   },
   {
    "duration": 23,
    "start_time": "2024-05-16T20:43:00.631Z"
   },
   {
    "duration": 16,
    "start_time": "2024-05-16T20:43:00.657Z"
   },
   {
    "duration": 8,
    "start_time": "2024-05-16T20:43:00.676Z"
   },
   {
    "duration": 17,
    "start_time": "2024-05-16T20:43:00.727Z"
   },
   {
    "duration": 92,
    "start_time": "2024-05-16T20:43:00.747Z"
   },
   {
    "duration": 12,
    "start_time": "2024-05-16T20:43:00.842Z"
   },
   {
    "duration": 13,
    "start_time": "2024-05-16T20:43:00.857Z"
   },
   {
    "duration": 145,
    "start_time": "2024-05-16T20:43:00.873Z"
   },
   {
    "duration": 106,
    "start_time": "2024-05-16T20:43:01.020Z"
   },
   {
    "duration": 57,
    "start_time": "2024-05-16T20:43:01.130Z"
   },
   {
    "duration": 137,
    "start_time": "2024-05-16T20:43:01.190Z"
   },
   {
    "duration": 43,
    "start_time": "2024-05-16T20:43:01.330Z"
   },
   {
    "duration": 31,
    "start_time": "2024-05-16T20:43:01.375Z"
   },
   {
    "duration": 51,
    "start_time": "2024-05-16T20:43:01.427Z"
   },
   {
    "duration": 1646,
    "start_time": "2024-05-16T20:43:01.484Z"
   },
   {
    "duration": 0,
    "start_time": "2024-05-16T20:43:03.133Z"
   },
   {
    "duration": 0,
    "start_time": "2024-05-16T20:43:03.135Z"
   },
   {
    "duration": 0,
    "start_time": "2024-05-16T20:43:03.139Z"
   },
   {
    "duration": 0,
    "start_time": "2024-05-16T20:43:03.141Z"
   },
   {
    "duration": 0,
    "start_time": "2024-05-16T20:43:03.143Z"
   },
   {
    "duration": 0,
    "start_time": "2024-05-16T20:43:03.145Z"
   },
   {
    "duration": 0,
    "start_time": "2024-05-16T20:43:03.148Z"
   },
   {
    "duration": 0,
    "start_time": "2024-05-16T20:43:03.151Z"
   },
   {
    "duration": 142,
    "start_time": "2024-05-16T20:44:12.458Z"
   },
   {
    "duration": 1385,
    "start_time": "2024-05-16T20:44:27.312Z"
   },
   {
    "duration": 392,
    "start_time": "2024-05-16T20:44:28.703Z"
   },
   {
    "duration": 29,
    "start_time": "2024-05-16T20:44:29.098Z"
   },
   {
    "duration": 22,
    "start_time": "2024-05-16T20:44:29.134Z"
   },
   {
    "duration": 66,
    "start_time": "2024-05-16T20:44:29.160Z"
   },
   {
    "duration": 7,
    "start_time": "2024-05-16T20:44:29.230Z"
   },
   {
    "duration": 6,
    "start_time": "2024-05-16T20:44:29.241Z"
   },
   {
    "duration": 7,
    "start_time": "2024-05-16T20:44:29.251Z"
   },
   {
    "duration": 7,
    "start_time": "2024-05-16T20:44:29.261Z"
   },
   {
    "duration": 10,
    "start_time": "2024-05-16T20:44:29.325Z"
   },
   {
    "duration": 8,
    "start_time": "2024-05-16T20:44:29.338Z"
   },
   {
    "duration": 16,
    "start_time": "2024-05-16T20:44:29.349Z"
   },
   {
    "duration": 58,
    "start_time": "2024-05-16T20:44:29.368Z"
   },
   {
    "duration": 20,
    "start_time": "2024-05-16T20:44:29.430Z"
   },
   {
    "duration": 9,
    "start_time": "2024-05-16T20:44:29.453Z"
   },
   {
    "duration": 7,
    "start_time": "2024-05-16T20:44:29.466Z"
   },
   {
    "duration": 55,
    "start_time": "2024-05-16T20:44:29.477Z"
   },
   {
    "duration": 8,
    "start_time": "2024-05-16T20:44:29.536Z"
   },
   {
    "duration": 27,
    "start_time": "2024-05-16T20:44:29.547Z"
   },
   {
    "duration": 55,
    "start_time": "2024-05-16T20:44:29.578Z"
   },
   {
    "duration": 8,
    "start_time": "2024-05-16T20:44:29.637Z"
   },
   {
    "duration": 20,
    "start_time": "2024-05-16T20:44:29.649Z"
   },
   {
    "duration": 95,
    "start_time": "2024-05-16T20:44:29.672Z"
   },
   {
    "duration": 12,
    "start_time": "2024-05-16T20:44:29.770Z"
   },
   {
    "duration": 45,
    "start_time": "2024-05-16T20:44:29.785Z"
   },
   {
    "duration": 13,
    "start_time": "2024-05-16T20:44:29.833Z"
   },
   {
    "duration": 17,
    "start_time": "2024-05-16T20:44:29.849Z"
   },
   {
    "duration": 67,
    "start_time": "2024-05-16T20:44:29.876Z"
   },
   {
    "duration": 11,
    "start_time": "2024-05-16T20:44:29.947Z"
   },
   {
    "duration": 23,
    "start_time": "2024-05-16T20:44:29.961Z"
   },
   {
    "duration": 50,
    "start_time": "2024-05-16T20:44:29.987Z"
   },
   {
    "duration": 14,
    "start_time": "2024-05-16T20:44:30.040Z"
   },
   {
    "duration": 22,
    "start_time": "2024-05-16T20:44:30.058Z"
   },
   {
    "duration": 104,
    "start_time": "2024-05-16T20:44:30.084Z"
   },
   {
    "duration": 13,
    "start_time": "2024-05-16T20:44:30.191Z"
   },
   {
    "duration": 15,
    "start_time": "2024-05-16T20:44:30.228Z"
   },
   {
    "duration": 126,
    "start_time": "2024-05-16T20:44:30.247Z"
   },
   {
    "duration": 105,
    "start_time": "2024-05-16T20:44:30.375Z"
   },
   {
    "duration": 55,
    "start_time": "2024-05-16T20:44:30.483Z"
   },
   {
    "duration": 124,
    "start_time": "2024-05-16T20:44:30.542Z"
   },
   {
    "duration": 52,
    "start_time": "2024-05-16T20:44:30.670Z"
   },
   {
    "duration": 27,
    "start_time": "2024-05-16T20:44:30.725Z"
   },
   {
    "duration": 80,
    "start_time": "2024-05-16T20:44:30.756Z"
   },
   {
    "duration": 226,
    "start_time": "2024-05-16T20:44:30.840Z"
   },
   {
    "duration": 949,
    "start_time": "2024-05-16T20:44:31.070Z"
   },
   {
    "duration": 6,
    "start_time": "2024-05-16T20:44:32.027Z"
   },
   {
    "duration": 5,
    "start_time": "2024-05-16T20:44:32.037Z"
   },
   {
    "duration": 4,
    "start_time": "2024-05-16T20:44:32.046Z"
   },
   {
    "duration": 3,
    "start_time": "2024-05-16T20:44:32.054Z"
   },
   {
    "duration": 7,
    "start_time": "2024-05-16T20:44:32.060Z"
   },
   {
    "duration": 5,
    "start_time": "2024-05-16T20:44:32.070Z"
   },
   {
    "duration": 48,
    "start_time": "2024-05-16T20:44:32.079Z"
   },
   {
    "duration": 404,
    "start_time": "2024-05-16T20:47:36.641Z"
   },
   {
    "duration": 905,
    "start_time": "2024-05-16T20:48:20.437Z"
   },
   {
    "duration": 786,
    "start_time": "2024-05-16T20:48:42.785Z"
   },
   {
    "duration": 6,
    "start_time": "2024-05-16T20:49:34.675Z"
   },
   {
    "duration": 218,
    "start_time": "2024-05-16T20:50:25.695Z"
   },
   {
    "duration": 251,
    "start_time": "2024-05-16T20:50:49.444Z"
   },
   {
    "duration": 7,
    "start_time": "2024-05-16T20:52:04.269Z"
   },
   {
    "duration": 31,
    "start_time": "2024-05-16T20:52:22.305Z"
   },
   {
    "duration": 29,
    "start_time": "2024-05-16T20:52:41.044Z"
   },
   {
    "duration": 2,
    "start_time": "2024-05-16T20:53:28.352Z"
   },
   {
    "duration": 1294,
    "start_time": "2024-05-16T20:53:35.797Z"
   },
   {
    "duration": 286,
    "start_time": "2024-05-16T20:53:37.095Z"
   },
   {
    "duration": 16,
    "start_time": "2024-05-16T20:53:37.383Z"
   },
   {
    "duration": 27,
    "start_time": "2024-05-16T20:53:37.403Z"
   },
   {
    "duration": 41,
    "start_time": "2024-05-16T20:53:37.433Z"
   },
   {
    "duration": 7,
    "start_time": "2024-05-16T20:53:37.476Z"
   },
   {
    "duration": 45,
    "start_time": "2024-05-16T20:53:37.486Z"
   },
   {
    "duration": 9,
    "start_time": "2024-05-16T20:53:37.534Z"
   },
   {
    "duration": 11,
    "start_time": "2024-05-16T20:53:37.546Z"
   },
   {
    "duration": 9,
    "start_time": "2024-05-16T20:53:37.565Z"
   },
   {
    "duration": 48,
    "start_time": "2024-05-16T20:53:37.578Z"
   },
   {
    "duration": 23,
    "start_time": "2024-05-16T20:53:37.629Z"
   },
   {
    "duration": 14,
    "start_time": "2024-05-16T20:53:37.655Z"
   },
   {
    "duration": 56,
    "start_time": "2024-05-16T20:53:37.672Z"
   },
   {
    "duration": 8,
    "start_time": "2024-05-16T20:53:37.731Z"
   },
   {
    "duration": 9,
    "start_time": "2024-05-16T20:53:37.742Z"
   },
   {
    "duration": 10,
    "start_time": "2024-05-16T20:53:37.754Z"
   },
   {
    "duration": 62,
    "start_time": "2024-05-16T20:53:37.767Z"
   },
   {
    "duration": 28,
    "start_time": "2024-05-16T20:53:37.834Z"
   },
   {
    "duration": 17,
    "start_time": "2024-05-16T20:53:37.866Z"
   },
   {
    "duration": 44,
    "start_time": "2024-05-16T20:53:37.885Z"
   },
   {
    "duration": 26,
    "start_time": "2024-05-16T20:53:37.933Z"
   },
   {
    "duration": 98,
    "start_time": "2024-05-16T20:53:37.963Z"
   },
   {
    "duration": 12,
    "start_time": "2024-05-16T20:53:38.064Z"
   },
   {
    "duration": 21,
    "start_time": "2024-05-16T20:53:38.079Z"
   },
   {
    "duration": 15,
    "start_time": "2024-05-16T20:53:38.125Z"
   },
   {
    "duration": 16,
    "start_time": "2024-05-16T20:53:38.144Z"
   },
   {
    "duration": 69,
    "start_time": "2024-05-16T20:53:38.169Z"
   },
   {
    "duration": 10,
    "start_time": "2024-05-16T20:53:38.241Z"
   },
   {
    "duration": 23,
    "start_time": "2024-05-16T20:53:38.254Z"
   },
   {
    "duration": 52,
    "start_time": "2024-05-16T20:53:38.280Z"
   },
   {
    "duration": 9,
    "start_time": "2024-05-16T20:53:38.335Z"
   },
   {
    "duration": 18,
    "start_time": "2024-05-16T20:53:38.347Z"
   },
   {
    "duration": 107,
    "start_time": "2024-05-16T20:53:38.368Z"
   },
   {
    "duration": 11,
    "start_time": "2024-05-16T20:53:38.478Z"
   },
   {
    "duration": 33,
    "start_time": "2024-05-16T20:53:38.493Z"
   },
   {
    "duration": 106,
    "start_time": "2024-05-16T20:53:38.530Z"
   },
   {
    "duration": 97,
    "start_time": "2024-05-16T20:53:38.639Z"
   },
   {
    "duration": 53,
    "start_time": "2024-05-16T20:53:38.738Z"
   },
   {
    "duration": 140,
    "start_time": "2024-05-16T20:53:38.794Z"
   },
   {
    "duration": 40,
    "start_time": "2024-05-16T20:53:38.937Z"
   },
   {
    "duration": 25,
    "start_time": "2024-05-16T20:53:38.980Z"
   },
   {
    "duration": 59,
    "start_time": "2024-05-16T20:53:39.008Z"
   },
   {
    "duration": 164,
    "start_time": "2024-05-16T20:53:39.070Z"
   },
   {
    "duration": 835,
    "start_time": "2024-05-16T20:53:39.237Z"
   },
   {
    "duration": 775,
    "start_time": "2024-05-16T20:53:40.076Z"
   },
   {
    "duration": 7,
    "start_time": "2024-05-16T20:53:40.854Z"
   },
   {
    "duration": 4,
    "start_time": "2024-05-16T20:53:40.865Z"
   },
   {
    "duration": 230,
    "start_time": "2024-05-16T20:53:40.871Z"
   },
   {
    "duration": 246,
    "start_time": "2024-05-16T20:53:41.104Z"
   },
   {
    "duration": 4,
    "start_time": "2024-05-16T20:53:41.354Z"
   },
   {
    "duration": 4,
    "start_time": "2024-05-16T20:53:41.363Z"
   },
   {
    "duration": 408,
    "start_time": "2024-05-16T20:54:44.332Z"
   },
   {
    "duration": 31,
    "start_time": "2024-05-16T20:55:14.140Z"
   },
   {
    "duration": 914,
    "start_time": "2024-05-16T20:55:35.119Z"
   },
   {
    "duration": 30,
    "start_time": "2024-05-16T20:56:57.562Z"
   },
   {
    "duration": 1305,
    "start_time": "2024-05-16T20:57:04.479Z"
   },
   {
    "duration": 284,
    "start_time": "2024-05-16T20:57:05.788Z"
   },
   {
    "duration": 21,
    "start_time": "2024-05-16T20:57:06.075Z"
   },
   {
    "duration": 33,
    "start_time": "2024-05-16T20:57:06.101Z"
   },
   {
    "duration": 36,
    "start_time": "2024-05-16T20:57:06.138Z"
   },
   {
    "duration": 7,
    "start_time": "2024-05-16T20:57:06.176Z"
   },
   {
    "duration": 41,
    "start_time": "2024-05-16T20:57:06.186Z"
   },
   {
    "duration": 7,
    "start_time": "2024-05-16T20:57:06.230Z"
   },
   {
    "duration": 7,
    "start_time": "2024-05-16T20:57:06.241Z"
   },
   {
    "duration": 10,
    "start_time": "2024-05-16T20:57:06.256Z"
   },
   {
    "duration": 57,
    "start_time": "2024-05-16T20:57:06.269Z"
   },
   {
    "duration": 18,
    "start_time": "2024-05-16T20:57:06.330Z"
   },
   {
    "duration": 19,
    "start_time": "2024-05-16T20:57:06.352Z"
   },
   {
    "duration": 55,
    "start_time": "2024-05-16T20:57:06.375Z"
   },
   {
    "duration": 10,
    "start_time": "2024-05-16T20:57:06.434Z"
   },
   {
    "duration": 7,
    "start_time": "2024-05-16T20:57:06.448Z"
   },
   {
    "duration": 9,
    "start_time": "2024-05-16T20:57:06.458Z"
   },
   {
    "duration": 8,
    "start_time": "2024-05-16T20:57:06.470Z"
   },
   {
    "duration": 26,
    "start_time": "2024-05-16T20:57:06.528Z"
   },
   {
    "duration": 17,
    "start_time": "2024-05-16T20:57:06.556Z"
   },
   {
    "duration": 8,
    "start_time": "2024-05-16T20:57:06.576Z"
   },
   {
    "duration": 58,
    "start_time": "2024-05-16T20:57:06.587Z"
   },
   {
    "duration": 87,
    "start_time": "2024-05-16T20:57:06.647Z"
   },
   {
    "duration": 12,
    "start_time": "2024-05-16T20:57:06.737Z"
   },
   {
    "duration": 20,
    "start_time": "2024-05-16T20:57:06.753Z"
   },
   {
    "duration": 13,
    "start_time": "2024-05-16T20:57:06.777Z"
   },
   {
    "duration": 17,
    "start_time": "2024-05-16T20:57:06.827Z"
   },
   {
    "duration": 29,
    "start_time": "2024-05-16T20:57:06.853Z"
   },
   {
    "duration": 43,
    "start_time": "2024-05-16T20:57:06.884Z"
   },
   {
    "duration": 23,
    "start_time": "2024-05-16T20:57:06.931Z"
   },
   {
    "duration": 15,
    "start_time": "2024-05-16T20:57:06.957Z"
   },
   {
    "duration": 8,
    "start_time": "2024-05-16T20:57:06.975Z"
   },
   {
    "duration": 19,
    "start_time": "2024-05-16T20:57:07.028Z"
   },
   {
    "duration": 90,
    "start_time": "2024-05-16T20:57:07.050Z"
   },
   {
    "duration": 11,
    "start_time": "2024-05-16T20:57:07.143Z"
   },
   {
    "duration": 13,
    "start_time": "2024-05-16T20:57:07.157Z"
   },
   {
    "duration": 137,
    "start_time": "2024-05-16T20:57:07.172Z"
   },
   {
    "duration": 103,
    "start_time": "2024-05-16T20:57:07.312Z"
   },
   {
    "duration": 63,
    "start_time": "2024-05-16T20:57:07.418Z"
   },
   {
    "duration": 158,
    "start_time": "2024-05-16T20:57:07.484Z"
   },
   {
    "duration": 39,
    "start_time": "2024-05-16T20:57:07.644Z"
   },
   {
    "duration": 44,
    "start_time": "2024-05-16T20:57:07.685Z"
   },
   {
    "duration": 42,
    "start_time": "2024-05-16T20:57:07.734Z"
   },
   {
    "duration": 174,
    "start_time": "2024-05-16T20:57:07.780Z"
   },
   {
    "duration": 842,
    "start_time": "2024-05-16T20:57:07.956Z"
   },
   {
    "duration": 770,
    "start_time": "2024-05-16T20:57:08.801Z"
   },
   {
    "duration": 8,
    "start_time": "2024-05-16T20:57:09.574Z"
   },
   {
    "duration": 430,
    "start_time": "2024-05-16T20:57:09.585Z"
   },
   {
    "duration": 0,
    "start_time": "2024-05-16T20:57:10.018Z"
   },
   {
    "duration": 0,
    "start_time": "2024-05-16T20:57:10.026Z"
   },
   {
    "duration": 0,
    "start_time": "2024-05-16T20:57:10.028Z"
   },
   {
    "duration": 0,
    "start_time": "2024-05-16T20:57:10.031Z"
   },
   {
    "duration": 3,
    "start_time": "2024-05-16T20:57:19.467Z"
   },
   {
    "duration": 221,
    "start_time": "2024-05-16T20:57:22.186Z"
   },
   {
    "duration": 254,
    "start_time": "2024-05-16T20:57:25.130Z"
   },
   {
    "duration": 31,
    "start_time": "2024-05-16T20:59:06.326Z"
   },
   {
    "duration": 457,
    "start_time": "2024-05-16T20:59:25.762Z"
   },
   {
    "duration": 1335,
    "start_time": "2024-05-16T20:59:53.858Z"
   },
   {
    "duration": 306,
    "start_time": "2024-05-16T20:59:55.197Z"
   },
   {
    "duration": 27,
    "start_time": "2024-05-16T20:59:55.506Z"
   },
   {
    "duration": 22,
    "start_time": "2024-05-16T20:59:55.536Z"
   },
   {
    "duration": 73,
    "start_time": "2024-05-16T20:59:55.563Z"
   },
   {
    "duration": 6,
    "start_time": "2024-05-16T20:59:55.639Z"
   },
   {
    "duration": 7,
    "start_time": "2024-05-16T20:59:55.649Z"
   },
   {
    "duration": 8,
    "start_time": "2024-05-16T20:59:55.659Z"
   },
   {
    "duration": 54,
    "start_time": "2024-05-16T20:59:55.671Z"
   },
   {
    "duration": 9,
    "start_time": "2024-05-16T20:59:55.728Z"
   },
   {
    "duration": 8,
    "start_time": "2024-05-16T20:59:55.741Z"
   },
   {
    "duration": 16,
    "start_time": "2024-05-16T20:59:55.752Z"
   },
   {
    "duration": 60,
    "start_time": "2024-05-16T20:59:55.772Z"
   },
   {
    "duration": 25,
    "start_time": "2024-05-16T20:59:55.842Z"
   },
   {
    "duration": 12,
    "start_time": "2024-05-16T20:59:55.871Z"
   },
   {
    "duration": 46,
    "start_time": "2024-05-16T20:59:55.888Z"
   },
   {
    "duration": 9,
    "start_time": "2024-05-16T20:59:55.938Z"
   },
   {
    "duration": 9,
    "start_time": "2024-05-16T20:59:55.950Z"
   },
   {
    "duration": 73,
    "start_time": "2024-05-16T20:59:55.963Z"
   },
   {
    "duration": 16,
    "start_time": "2024-05-16T20:59:56.039Z"
   },
   {
    "duration": 8,
    "start_time": "2024-05-16T20:59:56.059Z"
   },
   {
    "duration": 56,
    "start_time": "2024-05-16T20:59:56.071Z"
   },
   {
    "duration": 59,
    "start_time": "2024-05-16T20:59:56.131Z"
   },
   {
    "duration": 37,
    "start_time": "2024-05-16T20:59:56.193Z"
   },
   {
    "duration": 22,
    "start_time": "2024-05-16T20:59:56.233Z"
   },
   {
    "duration": 13,
    "start_time": "2024-05-16T20:59:56.258Z"
   },
   {
    "duration": 52,
    "start_time": "2024-05-16T20:59:56.275Z"
   },
   {
    "duration": 32,
    "start_time": "2024-05-16T20:59:56.330Z"
   },
   {
    "duration": 10,
    "start_time": "2024-05-16T20:59:56.366Z"
   },
   {
    "duration": 60,
    "start_time": "2024-05-16T20:59:56.379Z"
   },
   {
    "duration": 17,
    "start_time": "2024-05-16T20:59:56.442Z"
   },
   {
    "duration": 9,
    "start_time": "2024-05-16T20:59:56.462Z"
   },
   {
    "duration": 56,
    "start_time": "2024-05-16T20:59:56.475Z"
   },
   {
    "duration": 71,
    "start_time": "2024-05-16T20:59:56.534Z"
   },
   {
    "duration": 18,
    "start_time": "2024-05-16T20:59:56.627Z"
   },
   {
    "duration": 15,
    "start_time": "2024-05-16T20:59:56.648Z"
   },
   {
    "duration": 146,
    "start_time": "2024-05-16T20:59:56.666Z"
   },
   {
    "duration": 103,
    "start_time": "2024-05-16T20:59:56.815Z"
   },
   {
    "duration": 55,
    "start_time": "2024-05-16T20:59:56.921Z"
   },
   {
    "duration": 138,
    "start_time": "2024-05-16T20:59:56.979Z"
   },
   {
    "duration": 43,
    "start_time": "2024-05-16T20:59:57.127Z"
   },
   {
    "duration": 52,
    "start_time": "2024-05-16T20:59:57.174Z"
   },
   {
    "duration": 43,
    "start_time": "2024-05-16T20:59:57.229Z"
   },
   {
    "duration": 201,
    "start_time": "2024-05-16T20:59:57.275Z"
   },
   {
    "duration": 826,
    "start_time": "2024-05-16T20:59:57.479Z"
   },
   {
    "duration": 764,
    "start_time": "2024-05-16T20:59:58.308Z"
   },
   {
    "duration": 6,
    "start_time": "2024-05-16T20:59:59.075Z"
   },
   {
    "duration": 237,
    "start_time": "2024-05-16T20:59:59.085Z"
   },
   {
    "duration": 231,
    "start_time": "2024-05-16T20:59:59.327Z"
   },
   {
    "duration": 248,
    "start_time": "2024-05-16T20:59:59.562Z"
   },
   {
    "duration": 15,
    "start_time": "2024-05-16T20:59:59.813Z"
   },
   {
    "duration": 5,
    "start_time": "2024-05-16T20:59:59.831Z"
   },
   {
    "duration": 459,
    "start_time": "2024-05-16T21:05:29.955Z"
   },
   {
    "duration": 35,
    "start_time": "2024-05-16T21:14:00.199Z"
   },
   {
    "duration": 1408,
    "start_time": "2024-05-16T21:14:07.404Z"
   },
   {
    "duration": 299,
    "start_time": "2024-05-16T21:14:08.816Z"
   },
   {
    "duration": 17,
    "start_time": "2024-05-16T21:14:09.118Z"
   },
   {
    "duration": 20,
    "start_time": "2024-05-16T21:14:09.141Z"
   },
   {
    "duration": 70,
    "start_time": "2024-05-16T21:14:09.164Z"
   },
   {
    "duration": 7,
    "start_time": "2024-05-16T21:14:09.237Z"
   },
   {
    "duration": 8,
    "start_time": "2024-05-16T21:14:09.247Z"
   },
   {
    "duration": 8,
    "start_time": "2024-05-16T21:14:09.259Z"
   },
   {
    "duration": 6,
    "start_time": "2024-05-16T21:14:09.270Z"
   },
   {
    "duration": 17,
    "start_time": "2024-05-16T21:14:09.327Z"
   },
   {
    "duration": 12,
    "start_time": "2024-05-16T21:14:09.348Z"
   },
   {
    "duration": 19,
    "start_time": "2024-05-16T21:14:09.364Z"
   },
   {
    "duration": 51,
    "start_time": "2024-05-16T21:14:09.386Z"
   },
   {
    "duration": 21,
    "start_time": "2024-05-16T21:14:09.440Z"
   },
   {
    "duration": 8,
    "start_time": "2024-05-16T21:14:09.465Z"
   },
   {
    "duration": 53,
    "start_time": "2024-05-16T21:14:09.477Z"
   },
   {
    "duration": 10,
    "start_time": "2024-05-16T21:14:09.534Z"
   },
   {
    "duration": 10,
    "start_time": "2024-05-16T21:14:09.548Z"
   },
   {
    "duration": 74,
    "start_time": "2024-05-16T21:14:09.561Z"
   },
   {
    "duration": 18,
    "start_time": "2024-05-16T21:14:09.638Z"
   },
   {
    "duration": 8,
    "start_time": "2024-05-16T21:14:09.659Z"
   },
   {
    "duration": 56,
    "start_time": "2024-05-16T21:14:09.671Z"
   },
   {
    "duration": 63,
    "start_time": "2024-05-16T21:14:09.731Z"
   },
   {
    "duration": 35,
    "start_time": "2024-05-16T21:14:09.797Z"
   },
   {
    "duration": 27,
    "start_time": "2024-05-16T21:14:09.835Z"
   },
   {
    "duration": 19,
    "start_time": "2024-05-16T21:14:09.868Z"
   },
   {
    "duration": 40,
    "start_time": "2024-05-16T21:14:09.896Z"
   },
   {
    "duration": 31,
    "start_time": "2024-05-16T21:14:09.944Z"
   },
   {
    "duration": 10,
    "start_time": "2024-05-16T21:14:09.978Z"
   },
   {
    "duration": 24,
    "start_time": "2024-05-16T21:14:10.027Z"
   },
   {
    "duration": 16,
    "start_time": "2024-05-16T21:14:10.055Z"
   },
   {
    "duration": 51,
    "start_time": "2024-05-16T21:14:10.075Z"
   },
   {
    "duration": 19,
    "start_time": "2024-05-16T21:14:10.129Z"
   },
   {
    "duration": 99,
    "start_time": "2024-05-16T21:14:10.151Z"
   },
   {
    "duration": 11,
    "start_time": "2024-05-16T21:14:10.254Z"
   },
   {
    "duration": 13,
    "start_time": "2024-05-16T21:14:10.269Z"
   },
   {
    "duration": 136,
    "start_time": "2024-05-16T21:14:10.286Z"
   },
   {
    "duration": 99,
    "start_time": "2024-05-16T21:14:10.424Z"
   },
   {
    "duration": 55,
    "start_time": "2024-05-16T21:14:10.527Z"
   },
   {
    "duration": 153,
    "start_time": "2024-05-16T21:14:10.585Z"
   },
   {
    "duration": 42,
    "start_time": "2024-05-16T21:14:10.740Z"
   },
   {
    "duration": 42,
    "start_time": "2024-05-16T21:14:10.785Z"
   },
   {
    "duration": 42,
    "start_time": "2024-05-16T21:14:10.830Z"
   },
   {
    "duration": 166,
    "start_time": "2024-05-16T21:14:10.875Z"
   },
   {
    "duration": 976,
    "start_time": "2024-05-16T21:14:11.044Z"
   },
   {
    "duration": 793,
    "start_time": "2024-05-16T21:14:12.023Z"
   },
   {
    "duration": 7,
    "start_time": "2024-05-16T21:14:12.819Z"
   },
   {
    "duration": 287,
    "start_time": "2024-05-16T21:14:12.830Z"
   },
   {
    "duration": 221,
    "start_time": "2024-05-16T21:14:13.128Z"
   },
   {
    "duration": 252,
    "start_time": "2024-05-16T21:14:13.351Z"
   },
   {
    "duration": 445,
    "start_time": "2024-05-16T21:14:13.607Z"
   },
   {
    "duration": 0,
    "start_time": "2024-05-16T21:14:14.055Z"
   },
   {
    "duration": 1516,
    "start_time": "2024-05-16T21:14:25.700Z"
   },
   {
    "duration": 317,
    "start_time": "2024-05-16T21:14:27.220Z"
   },
   {
    "duration": 20,
    "start_time": "2024-05-16T21:14:27.540Z"
   },
   {
    "duration": 22,
    "start_time": "2024-05-16T21:14:27.564Z"
   },
   {
    "duration": 73,
    "start_time": "2024-05-16T21:14:27.591Z"
   },
   {
    "duration": 13,
    "start_time": "2024-05-16T21:14:27.675Z"
   },
   {
    "duration": 7,
    "start_time": "2024-05-16T21:14:27.692Z"
   },
   {
    "duration": 10,
    "start_time": "2024-05-16T21:14:27.725Z"
   },
   {
    "duration": 9,
    "start_time": "2024-05-16T21:14:27.740Z"
   },
   {
    "duration": 9,
    "start_time": "2024-05-16T21:14:27.752Z"
   },
   {
    "duration": 8,
    "start_time": "2024-05-16T21:14:27.765Z"
   },
   {
    "duration": 68,
    "start_time": "2024-05-16T21:14:27.776Z"
   },
   {
    "duration": 17,
    "start_time": "2024-05-16T21:14:27.848Z"
   },
   {
    "duration": 56,
    "start_time": "2024-05-16T21:14:27.872Z"
   },
   {
    "duration": 9,
    "start_time": "2024-05-16T21:14:27.934Z"
   },
   {
    "duration": 9,
    "start_time": "2024-05-16T21:14:27.948Z"
   },
   {
    "duration": 13,
    "start_time": "2024-05-16T21:14:27.960Z"
   },
   {
    "duration": 51,
    "start_time": "2024-05-16T21:14:27.976Z"
   },
   {
    "duration": 31,
    "start_time": "2024-05-16T21:14:28.031Z"
   },
   {
    "duration": 22,
    "start_time": "2024-05-16T21:14:28.068Z"
   },
   {
    "duration": 45,
    "start_time": "2024-05-16T21:14:28.093Z"
   },
   {
    "duration": 27,
    "start_time": "2024-05-16T21:14:28.142Z"
   },
   {
    "duration": 101,
    "start_time": "2024-05-16T21:14:28.172Z"
   },
   {
    "duration": 14,
    "start_time": "2024-05-16T21:14:28.276Z"
   },
   {
    "duration": 45,
    "start_time": "2024-05-16T21:14:28.292Z"
   },
   {
    "duration": 18,
    "start_time": "2024-05-16T21:14:28.339Z"
   },
   {
    "duration": 21,
    "start_time": "2024-05-16T21:14:28.361Z"
   },
   {
    "duration": 67,
    "start_time": "2024-05-16T21:14:28.385Z"
   },
   {
    "duration": 11,
    "start_time": "2024-05-16T21:14:28.455Z"
   },
   {
    "duration": 24,
    "start_time": "2024-05-16T21:14:28.469Z"
   },
   {
    "duration": 20,
    "start_time": "2024-05-16T21:14:28.527Z"
   },
   {
    "duration": 13,
    "start_time": "2024-05-16T21:14:28.550Z"
   },
   {
    "duration": 24,
    "start_time": "2024-05-16T21:14:28.566Z"
   },
   {
    "duration": 104,
    "start_time": "2024-05-16T21:14:28.592Z"
   },
   {
    "duration": 29,
    "start_time": "2024-05-16T21:14:28.699Z"
   },
   {
    "duration": 14,
    "start_time": "2024-05-16T21:14:28.732Z"
   },
   {
    "duration": 157,
    "start_time": "2024-05-16T21:14:28.750Z"
   },
   {
    "duration": 114,
    "start_time": "2024-05-16T21:14:28.910Z"
   },
   {
    "duration": 67,
    "start_time": "2024-05-16T21:14:29.027Z"
   },
   {
    "duration": 147,
    "start_time": "2024-05-16T21:14:29.097Z"
   },
   {
    "duration": 53,
    "start_time": "2024-05-16T21:14:29.254Z"
   },
   {
    "duration": 43,
    "start_time": "2024-05-16T21:14:29.310Z"
   },
   {
    "duration": 45,
    "start_time": "2024-05-16T21:14:29.358Z"
   },
   {
    "duration": 168,
    "start_time": "2024-05-16T21:14:29.427Z"
   },
   {
    "duration": 856,
    "start_time": "2024-05-16T21:14:29.599Z"
   },
   {
    "duration": 725,
    "start_time": "2024-05-16T21:14:30.458Z"
   },
   {
    "duration": 6,
    "start_time": "2024-05-16T21:14:31.186Z"
   },
   {
    "duration": 257,
    "start_time": "2024-05-16T21:14:31.195Z"
   },
   {
    "duration": 244,
    "start_time": "2024-05-16T21:14:31.459Z"
   },
   {
    "duration": 251,
    "start_time": "2024-05-16T21:14:31.706Z"
   },
   {
    "duration": 478,
    "start_time": "2024-05-16T21:14:31.960Z"
   },
   {
    "duration": 0,
    "start_time": "2024-05-16T21:14:32.441Z"
   },
   {
    "duration": 136,
    "start_time": "2024-05-16T21:15:05.557Z"
   },
   {
    "duration": 148,
    "start_time": "2024-05-16T21:15:43.459Z"
   },
   {
    "duration": 74,
    "start_time": "2024-05-16T21:16:01.268Z"
   },
   {
    "duration": 7,
    "start_time": "2024-05-16T21:18:04.500Z"
   },
   {
    "duration": 8,
    "start_time": "2024-05-16T21:18:40.647Z"
   },
   {
    "duration": 33,
    "start_time": "2024-05-16T21:18:45.559Z"
   },
   {
    "duration": 1286,
    "start_time": "2024-05-16T21:19:11.692Z"
   },
   {
    "duration": 281,
    "start_time": "2024-05-16T21:19:12.982Z"
   },
   {
    "duration": 16,
    "start_time": "2024-05-16T21:19:13.266Z"
   },
   {
    "duration": 18,
    "start_time": "2024-05-16T21:19:13.287Z"
   },
   {
    "duration": 38,
    "start_time": "2024-05-16T21:19:13.327Z"
   },
   {
    "duration": 7,
    "start_time": "2024-05-16T21:19:13.367Z"
   },
   {
    "duration": 8,
    "start_time": "2024-05-16T21:19:13.377Z"
   },
   {
    "duration": 7,
    "start_time": "2024-05-16T21:19:13.426Z"
   },
   {
    "duration": 6,
    "start_time": "2024-05-16T21:19:13.437Z"
   },
   {
    "duration": 12,
    "start_time": "2024-05-16T21:19:13.450Z"
   },
   {
    "duration": 8,
    "start_time": "2024-05-16T21:19:13.466Z"
   },
   {
    "duration": 62,
    "start_time": "2024-05-16T21:19:13.476Z"
   },
   {
    "duration": 15,
    "start_time": "2024-05-16T21:19:13.540Z"
   },
   {
    "duration": 20,
    "start_time": "2024-05-16T21:19:13.558Z"
   },
   {
    "duration": 46,
    "start_time": "2024-05-16T21:19:13.581Z"
   },
   {
    "duration": 8,
    "start_time": "2024-05-16T21:19:13.631Z"
   },
   {
    "duration": 21,
    "start_time": "2024-05-16T21:19:13.643Z"
   },
   {
    "duration": 8,
    "start_time": "2024-05-16T21:19:13.668Z"
   },
   {
    "duration": 61,
    "start_time": "2024-05-16T21:19:13.679Z"
   },
   {
    "duration": 17,
    "start_time": "2024-05-16T21:19:13.744Z"
   },
   {
    "duration": 8,
    "start_time": "2024-05-16T21:19:13.764Z"
   },
   {
    "duration": 56,
    "start_time": "2024-05-16T21:19:13.775Z"
   },
   {
    "duration": 59,
    "start_time": "2024-05-16T21:19:13.833Z"
   },
   {
    "duration": 36,
    "start_time": "2024-05-16T21:19:13.895Z"
   },
   {
    "duration": 20,
    "start_time": "2024-05-16T21:19:13.934Z"
   },
   {
    "duration": 14,
    "start_time": "2024-05-16T21:19:13.957Z"
   },
   {
    "duration": 51,
    "start_time": "2024-05-16T21:19:13.974Z"
   },
   {
    "duration": 28,
    "start_time": "2024-05-16T21:19:14.034Z"
   },
   {
    "duration": 12,
    "start_time": "2024-05-16T21:19:14.064Z"
   },
   {
    "duration": 60,
    "start_time": "2024-05-16T21:19:14.079Z"
   },
   {
    "duration": 16,
    "start_time": "2024-05-16T21:19:14.143Z"
   },
   {
    "duration": 9,
    "start_time": "2024-05-16T21:19:14.163Z"
   },
   {
    "duration": 54,
    "start_time": "2024-05-16T21:19:14.176Z"
   },
   {
    "duration": 68,
    "start_time": "2024-05-16T21:19:14.233Z"
   },
   {
    "duration": 11,
    "start_time": "2024-05-16T21:19:14.326Z"
   },
   {
    "duration": 14,
    "start_time": "2024-05-16T21:19:14.340Z"
   },
   {
    "duration": 131,
    "start_time": "2024-05-16T21:19:14.357Z"
   },
   {
    "duration": 96,
    "start_time": "2024-05-16T21:19:14.491Z"
   },
   {
    "duration": 53,
    "start_time": "2024-05-16T21:19:14.590Z"
   },
   {
    "duration": 131,
    "start_time": "2024-05-16T21:19:14.646Z"
   },
   {
    "duration": 39,
    "start_time": "2024-05-16T21:19:14.779Z"
   },
   {
    "duration": 27,
    "start_time": "2024-05-16T21:19:14.821Z"
   },
   {
    "duration": 41,
    "start_time": "2024-05-16T21:19:14.852Z"
   },
   {
    "duration": 170,
    "start_time": "2024-05-16T21:19:14.895Z"
   },
   {
    "duration": 805,
    "start_time": "2024-05-16T21:19:15.068Z"
   },
   {
    "duration": 774,
    "start_time": "2024-05-16T21:19:15.878Z"
   },
   {
    "duration": 7,
    "start_time": "2024-05-16T21:19:16.655Z"
   },
   {
    "duration": 237,
    "start_time": "2024-05-16T21:19:16.665Z"
   },
   {
    "duration": 253,
    "start_time": "2024-05-16T21:19:16.906Z"
   },
   {
    "duration": 238,
    "start_time": "2024-05-16T21:19:17.162Z"
   },
   {
    "duration": 435,
    "start_time": "2024-05-16T21:19:17.402Z"
   },
   {
    "duration": 0,
    "start_time": "2024-05-16T21:19:17.840Z"
   },
   {
    "duration": 1383,
    "start_time": "2024-05-16T21:23:21.239Z"
   },
   {
    "duration": 299,
    "start_time": "2024-05-16T21:23:22.628Z"
   },
   {
    "duration": 22,
    "start_time": "2024-05-16T21:23:22.931Z"
   },
   {
    "duration": 20,
    "start_time": "2024-05-16T21:23:22.958Z"
   },
   {
    "duration": 77,
    "start_time": "2024-05-16T21:23:22.982Z"
   },
   {
    "duration": 6,
    "start_time": "2024-05-16T21:23:23.065Z"
   },
   {
    "duration": 7,
    "start_time": "2024-05-16T21:23:23.075Z"
   },
   {
    "duration": 42,
    "start_time": "2024-05-16T21:23:23.085Z"
   },
   {
    "duration": 10,
    "start_time": "2024-05-16T21:23:23.132Z"
   },
   {
    "duration": 9,
    "start_time": "2024-05-16T21:23:23.148Z"
   },
   {
    "duration": 8,
    "start_time": "2024-05-16T21:23:23.161Z"
   },
   {
    "duration": 62,
    "start_time": "2024-05-16T21:23:23.172Z"
   },
   {
    "duration": 17,
    "start_time": "2024-05-16T21:23:23.238Z"
   },
   {
    "duration": 21,
    "start_time": "2024-05-16T21:23:23.258Z"
   },
   {
    "duration": 48,
    "start_time": "2024-05-16T21:23:23.283Z"
   },
   {
    "duration": 8,
    "start_time": "2024-05-16T21:23:23.336Z"
   },
   {
    "duration": 12,
    "start_time": "2024-05-16T21:23:23.347Z"
   },
   {
    "duration": 9,
    "start_time": "2024-05-16T21:23:23.363Z"
   },
   {
    "duration": 70,
    "start_time": "2024-05-16T21:23:23.375Z"
   },
   {
    "duration": 19,
    "start_time": "2024-05-16T21:23:23.448Z"
   },
   {
    "duration": 8,
    "start_time": "2024-05-16T21:23:23.470Z"
   },
   {
    "duration": 61,
    "start_time": "2024-05-16T21:23:23.483Z"
   },
   {
    "duration": 82,
    "start_time": "2024-05-16T21:23:23.547Z"
   },
   {
    "duration": 13,
    "start_time": "2024-05-16T21:23:23.632Z"
   },
   {
    "duration": 21,
    "start_time": "2024-05-16T21:23:23.650Z"
   },
   {
    "duration": 14,
    "start_time": "2024-05-16T21:23:23.674Z"
   },
   {
    "duration": 16,
    "start_time": "2024-05-16T21:23:23.731Z"
   },
   {
    "duration": 31,
    "start_time": "2024-05-16T21:23:23.757Z"
   },
   {
    "duration": 43,
    "start_time": "2024-05-16T21:23:23.792Z"
   },
   {
    "duration": 24,
    "start_time": "2024-05-16T21:23:23.838Z"
   },
   {
    "duration": 17,
    "start_time": "2024-05-16T21:23:23.865Z"
   },
   {
    "duration": 8,
    "start_time": "2024-05-16T21:23:23.926Z"
   },
   {
    "duration": 18,
    "start_time": "2024-05-16T21:23:23.938Z"
   },
   {
    "duration": 107,
    "start_time": "2024-05-16T21:23:23.959Z"
   },
   {
    "duration": 15,
    "start_time": "2024-05-16T21:23:24.070Z"
   },
   {
    "duration": 46,
    "start_time": "2024-05-16T21:23:24.090Z"
   },
   {
    "duration": 123,
    "start_time": "2024-05-16T21:23:24.142Z"
   },
   {
    "duration": 109,
    "start_time": "2024-05-16T21:23:24.268Z"
   },
   {
    "duration": 60,
    "start_time": "2024-05-16T21:23:24.383Z"
   },
   {
    "duration": 127,
    "start_time": "2024-05-16T21:23:24.450Z"
   },
   {
    "duration": 49,
    "start_time": "2024-05-16T21:23:24.584Z"
   },
   {
    "duration": 36,
    "start_time": "2024-05-16T21:23:24.636Z"
   },
   {
    "duration": 79,
    "start_time": "2024-05-16T21:23:24.679Z"
   },
   {
    "duration": 179,
    "start_time": "2024-05-16T21:23:24.763Z"
   },
   {
    "duration": 916,
    "start_time": "2024-05-16T21:23:24.946Z"
   },
   {
    "duration": 787,
    "start_time": "2024-05-16T21:23:25.868Z"
   },
   {
    "duration": 7,
    "start_time": "2024-05-16T21:23:26.658Z"
   },
   {
    "duration": 268,
    "start_time": "2024-05-16T21:23:26.669Z"
   },
   {
    "duration": 253,
    "start_time": "2024-05-16T21:23:26.941Z"
   },
   {
    "duration": 309,
    "start_time": "2024-05-16T21:23:27.197Z"
   },
   {
    "duration": 20,
    "start_time": "2024-05-16T21:23:27.511Z"
   },
   {
    "duration": 4,
    "start_time": "2024-05-16T21:23:27.534Z"
   },
   {
    "duration": 1277,
    "start_time": "2024-05-16T21:25:23.913Z"
   },
   {
    "duration": 94,
    "start_time": "2024-05-16T21:25:51.440Z"
   },
   {
    "duration": 1339,
    "start_time": "2024-05-16T21:26:33.651Z"
   },
   {
    "duration": 286,
    "start_time": "2024-05-16T21:26:34.993Z"
   },
   {
    "duration": 16,
    "start_time": "2024-05-16T21:26:35.282Z"
   },
   {
    "duration": 31,
    "start_time": "2024-05-16T21:26:35.303Z"
   },
   {
    "duration": 38,
    "start_time": "2024-05-16T21:26:35.336Z"
   },
   {
    "duration": 7,
    "start_time": "2024-05-16T21:26:35.378Z"
   },
   {
    "duration": 39,
    "start_time": "2024-05-16T21:26:35.388Z"
   },
   {
    "duration": 8,
    "start_time": "2024-05-16T21:26:35.430Z"
   },
   {
    "duration": 7,
    "start_time": "2024-05-16T21:26:35.442Z"
   },
   {
    "duration": 9,
    "start_time": "2024-05-16T21:26:35.457Z"
   },
   {
    "duration": 57,
    "start_time": "2024-05-16T21:26:35.470Z"
   },
   {
    "duration": 18,
    "start_time": "2024-05-16T21:26:35.531Z"
   },
   {
    "duration": 14,
    "start_time": "2024-05-16T21:26:35.552Z"
   },
   {
    "duration": 60,
    "start_time": "2024-05-16T21:26:35.570Z"
   },
   {
    "duration": 9,
    "start_time": "2024-05-16T21:26:35.632Z"
   },
   {
    "duration": 8,
    "start_time": "2024-05-16T21:26:35.644Z"
   },
   {
    "duration": 8,
    "start_time": "2024-05-16T21:26:35.655Z"
   },
   {
    "duration": 9,
    "start_time": "2024-05-16T21:26:35.666Z"
   },
   {
    "duration": 71,
    "start_time": "2024-05-16T21:26:35.679Z"
   },
   {
    "duration": 17,
    "start_time": "2024-05-16T21:26:35.753Z"
   },
   {
    "duration": 9,
    "start_time": "2024-05-16T21:26:35.772Z"
   },
   {
    "duration": 60,
    "start_time": "2024-05-16T21:26:35.784Z"
   },
   {
    "duration": 81,
    "start_time": "2024-05-16T21:26:35.851Z"
   },
   {
    "duration": 11,
    "start_time": "2024-05-16T21:26:35.936Z"
   },
   {
    "duration": 21,
    "start_time": "2024-05-16T21:26:35.951Z"
   },
   {
    "duration": 13,
    "start_time": "2024-05-16T21:26:35.974Z"
   },
   {
    "duration": 14,
    "start_time": "2024-05-16T21:26:36.028Z"
   },
   {
    "duration": 31,
    "start_time": "2024-05-16T21:26:36.052Z"
   },
   {
    "duration": 42,
    "start_time": "2024-05-16T21:26:36.086Z"
   },
   {
    "duration": 26,
    "start_time": "2024-05-16T21:26:36.131Z"
   },
   {
    "duration": 16,
    "start_time": "2024-05-16T21:26:36.160Z"
   },
   {
    "duration": 47,
    "start_time": "2024-05-16T21:26:36.179Z"
   },
   {
    "duration": 18,
    "start_time": "2024-05-16T21:26:36.229Z"
   },
   {
    "duration": 106,
    "start_time": "2024-05-16T21:26:36.251Z"
   },
   {
    "duration": 12,
    "start_time": "2024-05-16T21:26:36.360Z"
   },
   {
    "duration": 13,
    "start_time": "2024-05-16T21:26:36.375Z"
   },
   {
    "duration": 134,
    "start_time": "2024-05-16T21:26:36.392Z"
   },
   {
    "duration": 103,
    "start_time": "2024-05-16T21:26:36.529Z"
   },
   {
    "duration": 57,
    "start_time": "2024-05-16T21:26:36.635Z"
   },
   {
    "duration": 133,
    "start_time": "2024-05-16T21:26:36.696Z"
   },
   {
    "duration": 45,
    "start_time": "2024-05-16T21:26:36.831Z"
   },
   {
    "duration": 47,
    "start_time": "2024-05-16T21:26:36.879Z"
   },
   {
    "duration": 42,
    "start_time": "2024-05-16T21:26:36.929Z"
   },
   {
    "duration": 163,
    "start_time": "2024-05-16T21:26:36.974Z"
   },
   {
    "duration": 844,
    "start_time": "2024-05-16T21:26:37.141Z"
   },
   {
    "duration": 772,
    "start_time": "2024-05-16T21:26:37.988Z"
   },
   {
    "duration": 7,
    "start_time": "2024-05-16T21:26:38.763Z"
   },
   {
    "duration": 257,
    "start_time": "2024-05-16T21:26:38.773Z"
   },
   {
    "duration": 239,
    "start_time": "2024-05-16T21:26:39.034Z"
   },
   {
    "duration": 281,
    "start_time": "2024-05-16T21:26:39.277Z"
   },
   {
    "duration": 11,
    "start_time": "2024-05-16T21:26:39.562Z"
   },
   {
    "duration": 1331,
    "start_time": "2024-05-16T21:26:39.577Z"
   },
   {
    "duration": 50,
    "start_time": "2024-05-16T21:27:03.092Z"
   },
   {
    "duration": 85,
    "start_time": "2024-05-16T21:27:12.102Z"
   },
   {
    "duration": 1332,
    "start_time": "2024-05-17T01:45:21.076Z"
   },
   {
    "duration": 331,
    "start_time": "2024-05-17T01:45:22.412Z"
   },
   {
    "duration": 17,
    "start_time": "2024-05-17T01:45:22.746Z"
   },
   {
    "duration": 20,
    "start_time": "2024-05-17T01:45:22.767Z"
   },
   {
    "duration": 68,
    "start_time": "2024-05-17T01:45:22.790Z"
   },
   {
    "duration": 6,
    "start_time": "2024-05-17T01:45:22.863Z"
   },
   {
    "duration": 9,
    "start_time": "2024-05-17T01:45:22.872Z"
   },
   {
    "duration": 41,
    "start_time": "2024-05-17T01:45:22.885Z"
   },
   {
    "duration": 8,
    "start_time": "2024-05-17T01:45:22.929Z"
   },
   {
    "duration": 12,
    "start_time": "2024-05-17T01:45:22.942Z"
   },
   {
    "duration": 9,
    "start_time": "2024-05-17T01:45:22.960Z"
   },
   {
    "duration": 61,
    "start_time": "2024-05-17T01:45:22.972Z"
   },
   {
    "duration": 15,
    "start_time": "2024-05-17T01:45:23.037Z"
   },
   {
    "duration": 21,
    "start_time": "2024-05-17T01:45:23.055Z"
   },
   {
    "duration": 48,
    "start_time": "2024-05-17T01:45:23.079Z"
   },
   {
    "duration": 8,
    "start_time": "2024-05-17T01:45:23.130Z"
   },
   {
    "duration": 8,
    "start_time": "2024-05-17T01:45:23.142Z"
   },
   {
    "duration": 8,
    "start_time": "2024-05-17T01:45:23.153Z"
   },
   {
    "duration": 72,
    "start_time": "2024-05-17T01:45:23.165Z"
   },
   {
    "duration": 17,
    "start_time": "2024-05-17T01:45:23.240Z"
   },
   {
    "duration": 8,
    "start_time": "2024-05-17T01:45:23.260Z"
   },
   {
    "duration": 62,
    "start_time": "2024-05-17T01:45:23.272Z"
   },
   {
    "duration": 62,
    "start_time": "2024-05-17T01:45:23.337Z"
   },
   {
    "duration": 14,
    "start_time": "2024-05-17T01:45:23.426Z"
   },
   {
    "duration": 26,
    "start_time": "2024-05-17T01:45:23.443Z"
   },
   {
    "duration": 20,
    "start_time": "2024-05-17T01:45:23.472Z"
   },
   {
    "duration": 43,
    "start_time": "2024-05-17T01:45:23.496Z"
   },
   {
    "duration": 30,
    "start_time": "2024-05-17T01:45:23.546Z"
   },
   {
    "duration": 11,
    "start_time": "2024-05-17T01:45:23.579Z"
   },
   {
    "duration": 25,
    "start_time": "2024-05-17T01:45:23.628Z"
   },
   {
    "duration": 16,
    "start_time": "2024-05-17T01:45:23.656Z"
   },
   {
    "duration": 8,
    "start_time": "2024-05-17T01:45:23.675Z"
   },
   {
    "duration": 17,
    "start_time": "2024-05-17T01:45:23.726Z"
   },
   {
    "duration": 91,
    "start_time": "2024-05-17T01:45:23.746Z"
   },
   {
    "duration": 13,
    "start_time": "2024-05-17T01:45:23.840Z"
   },
   {
    "duration": 15,
    "start_time": "2024-05-17T01:45:23.856Z"
   },
   {
    "duration": 151,
    "start_time": "2024-05-17T01:45:23.875Z"
   },
   {
    "duration": 114,
    "start_time": "2024-05-17T01:45:24.029Z"
   },
   {
    "duration": 53,
    "start_time": "2024-05-17T01:45:24.146Z"
   },
   {
    "duration": 139,
    "start_time": "2024-05-17T01:45:24.203Z"
   },
   {
    "duration": 40,
    "start_time": "2024-05-17T01:45:24.345Z"
   },
   {
    "duration": 39,
    "start_time": "2024-05-17T01:45:24.388Z"
   },
   {
    "duration": 45,
    "start_time": "2024-05-17T01:45:24.431Z"
   },
   {
    "duration": 200,
    "start_time": "2024-05-17T01:45:24.479Z"
   },
   {
    "duration": 784,
    "start_time": "2024-05-17T01:45:24.682Z"
   },
   {
    "duration": 782,
    "start_time": "2024-05-17T01:45:25.469Z"
   },
   {
    "duration": 7,
    "start_time": "2024-05-17T01:45:26.254Z"
   },
   {
    "duration": 245,
    "start_time": "2024-05-17T01:45:26.264Z"
   },
   {
    "duration": 235,
    "start_time": "2024-05-17T01:45:26.512Z"
   },
   {
    "duration": 276,
    "start_time": "2024-05-17T01:45:26.750Z"
   },
   {
    "duration": 13,
    "start_time": "2024-05-17T01:45:27.029Z"
   },
   {
    "duration": 11,
    "start_time": "2024-05-17T01:45:27.046Z"
   },
   {
    "duration": 1306,
    "start_time": "2024-05-17T01:53:19.694Z"
   },
   {
    "duration": 276,
    "start_time": "2024-05-17T01:53:21.003Z"
   },
   {
    "duration": 16,
    "start_time": "2024-05-17T01:53:21.282Z"
   },
   {
    "duration": 30,
    "start_time": "2024-05-17T01:53:21.303Z"
   },
   {
    "duration": 36,
    "start_time": "2024-05-17T01:53:21.336Z"
   },
   {
    "duration": 7,
    "start_time": "2024-05-17T01:53:21.375Z"
   },
   {
    "duration": 43,
    "start_time": "2024-05-17T01:53:21.385Z"
   },
   {
    "duration": 6,
    "start_time": "2024-05-17T01:53:21.432Z"
   },
   {
    "duration": 6,
    "start_time": "2024-05-17T01:53:21.441Z"
   },
   {
    "duration": 9,
    "start_time": "2024-05-17T01:53:21.455Z"
   },
   {
    "duration": 9,
    "start_time": "2024-05-17T01:53:21.467Z"
   },
   {
    "duration": 15,
    "start_time": "2024-05-17T01:53:21.527Z"
   },
   {
    "duration": 15,
    "start_time": "2024-05-17T01:53:21.545Z"
   },
   {
    "duration": 19,
    "start_time": "2024-05-17T01:53:21.564Z"
   },
   {
    "duration": 8,
    "start_time": "2024-05-17T01:53:21.626Z"
   },
   {
    "duration": 8,
    "start_time": "2024-05-17T01:53:21.637Z"
   },
   {
    "duration": 8,
    "start_time": "2024-05-17T01:53:21.649Z"
   },
   {
    "duration": 8,
    "start_time": "2024-05-17T01:53:21.660Z"
   },
   {
    "duration": 80,
    "start_time": "2024-05-17T01:53:21.672Z"
   },
   {
    "duration": 21,
    "start_time": "2024-05-17T01:53:21.755Z"
   },
   {
    "duration": 12,
    "start_time": "2024-05-17T01:53:21.779Z"
   },
   {
    "duration": 49,
    "start_time": "2024-05-17T01:53:21.794Z"
   },
   {
    "duration": 89,
    "start_time": "2024-05-17T01:53:21.845Z"
   },
   {
    "duration": 11,
    "start_time": "2024-05-17T01:53:21.937Z"
   },
   {
    "duration": 21,
    "start_time": "2024-05-17T01:53:21.951Z"
   },
   {
    "duration": 14,
    "start_time": "2024-05-17T01:53:21.975Z"
   },
   {
    "duration": 15,
    "start_time": "2024-05-17T01:53:22.027Z"
   },
   {
    "duration": 28,
    "start_time": "2024-05-17T01:53:22.050Z"
   },
   {
    "duration": 46,
    "start_time": "2024-05-17T01:53:22.081Z"
   },
   {
    "duration": 23,
    "start_time": "2024-05-17T01:53:22.129Z"
   },
   {
    "duration": 15,
    "start_time": "2024-05-17T01:53:22.155Z"
   },
   {
    "duration": 8,
    "start_time": "2024-05-17T01:53:22.173Z"
   },
   {
    "duration": 57,
    "start_time": "2024-05-17T01:53:22.184Z"
   },
   {
    "duration": 89,
    "start_time": "2024-05-17T01:53:22.245Z"
   },
   {
    "duration": 13,
    "start_time": "2024-05-17T01:53:22.338Z"
   },
   {
    "duration": 13,
    "start_time": "2024-05-17T01:53:22.354Z"
   },
   {
    "duration": 140,
    "start_time": "2024-05-17T01:53:22.370Z"
   },
   {
    "duration": 104,
    "start_time": "2024-05-17T01:53:22.513Z"
   },
   {
    "duration": 52,
    "start_time": "2024-05-17T01:53:22.619Z"
   },
   {
    "duration": 133,
    "start_time": "2024-05-17T01:53:22.674Z"
   },
   {
    "duration": 50,
    "start_time": "2024-05-17T01:53:22.810Z"
   },
   {
    "duration": 30,
    "start_time": "2024-05-17T01:53:22.866Z"
   },
   {
    "duration": 69,
    "start_time": "2024-05-17T01:53:22.899Z"
   },
   {
    "duration": 164,
    "start_time": "2024-05-17T01:53:22.971Z"
   },
   {
    "duration": 821,
    "start_time": "2024-05-17T01:53:23.138Z"
   },
   {
    "duration": 696,
    "start_time": "2024-05-17T01:53:23.963Z"
   },
   {
    "duration": 6,
    "start_time": "2024-05-17T01:53:24.662Z"
   },
   {
    "duration": 227,
    "start_time": "2024-05-17T01:53:24.671Z"
   },
   {
    "duration": 229,
    "start_time": "2024-05-17T01:53:24.901Z"
   },
   {
    "duration": 260,
    "start_time": "2024-05-17T01:53:25.135Z"
   },
   {
    "duration": 12,
    "start_time": "2024-05-17T01:53:25.398Z"
   },
   {
    "duration": 11,
    "start_time": "2024-05-17T01:53:25.427Z"
   },
   {
    "duration": 753,
    "start_time": "2024-05-17T02:41:46.709Z"
   },
   {
    "duration": 694,
    "start_time": "2024-05-17T02:42:03.732Z"
   },
   {
    "duration": 7,
    "start_time": "2024-05-17T03:11:23.262Z"
   },
   {
    "duration": 6,
    "start_time": "2024-05-17T03:11:30.903Z"
   },
   {
    "duration": 143,
    "start_time": "2024-05-17T03:22:27.362Z"
   },
   {
    "duration": 1313,
    "start_time": "2024-05-17T03:27:35.092Z"
   },
   {
    "duration": 306,
    "start_time": "2024-05-17T03:27:36.408Z"
   },
   {
    "duration": 24,
    "start_time": "2024-05-17T03:27:36.717Z"
   },
   {
    "duration": 24,
    "start_time": "2024-05-17T03:27:36.746Z"
   },
   {
    "duration": 73,
    "start_time": "2024-05-17T03:27:36.774Z"
   },
   {
    "duration": 7,
    "start_time": "2024-05-17T03:27:36.851Z"
   },
   {
    "duration": 7,
    "start_time": "2024-05-17T03:27:36.862Z"
   },
   {
    "duration": 52,
    "start_time": "2024-05-17T03:27:36.873Z"
   },
   {
    "duration": 7,
    "start_time": "2024-05-17T03:27:36.928Z"
   },
   {
    "duration": 9,
    "start_time": "2024-05-17T03:27:36.942Z"
   },
   {
    "duration": 9,
    "start_time": "2024-05-17T03:27:36.954Z"
   },
   {
    "duration": 62,
    "start_time": "2024-05-17T03:27:36.966Z"
   },
   {
    "duration": 15,
    "start_time": "2024-05-17T03:27:37.031Z"
   },
   {
    "duration": 20,
    "start_time": "2024-05-17T03:27:37.050Z"
   },
   {
    "duration": 9,
    "start_time": "2024-05-17T03:27:37.073Z"
   },
   {
    "duration": 11,
    "start_time": "2024-05-17T03:27:37.129Z"
   },
   {
    "duration": 12,
    "start_time": "2024-05-17T03:27:37.146Z"
   },
   {
    "duration": 17,
    "start_time": "2024-05-17T03:27:37.161Z"
   },
   {
    "duration": 56,
    "start_time": "2024-05-17T03:27:37.182Z"
   },
   {
    "duration": 18,
    "start_time": "2024-05-17T03:27:37.241Z"
   },
   {
    "duration": 10,
    "start_time": "2024-05-17T03:27:37.262Z"
   },
   {
    "duration": 61,
    "start_time": "2024-05-17T03:27:37.275Z"
   },
   {
    "duration": 61,
    "start_time": "2024-05-17T03:27:37.339Z"
   },
   {
    "duration": 12,
    "start_time": "2024-05-17T03:27:37.427Z"
   },
   {
    "duration": 23,
    "start_time": "2024-05-17T03:27:37.443Z"
   },
   {
    "duration": 15,
    "start_time": "2024-05-17T03:27:37.469Z"
   },
   {
    "duration": 59,
    "start_time": "2024-05-17T03:27:37.487Z"
   },
   {
    "duration": 30,
    "start_time": "2024-05-17T03:27:37.554Z"
   },
   {
    "duration": 39,
    "start_time": "2024-05-17T03:27:37.587Z"
   },
   {
    "duration": 27,
    "start_time": "2024-05-17T03:27:37.631Z"
   },
   {
    "duration": 17,
    "start_time": "2024-05-17T03:27:37.662Z"
   },
   {
    "duration": 54,
    "start_time": "2024-05-17T03:27:37.684Z"
   },
   {
    "duration": 19,
    "start_time": "2024-05-17T03:27:37.742Z"
   },
   {
    "duration": 115,
    "start_time": "2024-05-17T03:27:37.764Z"
   },
   {
    "duration": 14,
    "start_time": "2024-05-17T03:27:37.884Z"
   },
   {
    "duration": 31,
    "start_time": "2024-05-17T03:27:37.905Z"
   },
   {
    "duration": 137,
    "start_time": "2024-05-17T03:27:37.940Z"
   },
   {
    "duration": 104,
    "start_time": "2024-05-17T03:27:38.080Z"
   },
   {
    "duration": 56,
    "start_time": "2024-05-17T03:27:38.187Z"
   },
   {
    "duration": 131,
    "start_time": "2024-05-17T03:27:38.246Z"
   },
   {
    "duration": 43,
    "start_time": "2024-05-17T03:27:38.380Z"
   },
   {
    "duration": 28,
    "start_time": "2024-05-17T03:27:38.427Z"
   },
   {
    "duration": 71,
    "start_time": "2024-05-17T03:27:38.459Z"
   },
   {
    "duration": 168,
    "start_time": "2024-05-17T03:27:38.533Z"
   },
   {
    "duration": 851,
    "start_time": "2024-05-17T03:27:38.705Z"
   },
   {
    "duration": 827,
    "start_time": "2024-05-17T03:27:39.560Z"
   },
   {
    "duration": 8,
    "start_time": "2024-05-17T03:27:40.390Z"
   },
   {
    "duration": 246,
    "start_time": "2024-05-17T03:27:40.402Z"
   },
   {
    "duration": 234,
    "start_time": "2024-05-17T03:27:40.651Z"
   },
   {
    "duration": 252,
    "start_time": "2024-05-17T03:27:40.888Z"
   },
   {
    "duration": 12,
    "start_time": "2024-05-17T03:27:41.144Z"
   },
   {
    "duration": 12,
    "start_time": "2024-05-17T03:27:41.159Z"
   },
   {
    "duration": 1382,
    "start_time": "2024-05-17T03:41:49.128Z"
   },
   {
    "duration": 310,
    "start_time": "2024-05-17T03:41:50.514Z"
   },
   {
    "duration": 19,
    "start_time": "2024-05-17T03:41:50.827Z"
   },
   {
    "duration": 18,
    "start_time": "2024-05-17T03:41:50.851Z"
   },
   {
    "duration": 77,
    "start_time": "2024-05-17T03:41:50.872Z"
   },
   {
    "duration": 6,
    "start_time": "2024-05-17T03:41:50.952Z"
   },
   {
    "duration": 7,
    "start_time": "2024-05-17T03:41:50.963Z"
   },
   {
    "duration": 52,
    "start_time": "2024-05-17T03:41:50.974Z"
   },
   {
    "duration": 8,
    "start_time": "2024-05-17T03:41:51.032Z"
   },
   {
    "duration": 10,
    "start_time": "2024-05-17T03:41:51.046Z"
   },
   {
    "duration": 8,
    "start_time": "2024-05-17T03:41:51.059Z"
   },
   {
    "duration": 58,
    "start_time": "2024-05-17T03:41:51.070Z"
   },
   {
    "duration": 17,
    "start_time": "2024-05-17T03:41:51.132Z"
   },
   {
    "duration": 22,
    "start_time": "2024-05-17T03:41:51.153Z"
   },
   {
    "duration": 49,
    "start_time": "2024-05-17T03:41:51.179Z"
   },
   {
    "duration": 8,
    "start_time": "2024-05-17T03:41:51.232Z"
   },
   {
    "duration": 9,
    "start_time": "2024-05-17T03:41:51.244Z"
   },
   {
    "duration": 11,
    "start_time": "2024-05-17T03:41:51.257Z"
   },
   {
    "duration": 74,
    "start_time": "2024-05-17T03:41:51.271Z"
   },
   {
    "duration": 19,
    "start_time": "2024-05-17T03:41:51.348Z"
   },
   {
    "duration": 8,
    "start_time": "2024-05-17T03:41:51.370Z"
   },
   {
    "duration": 58,
    "start_time": "2024-05-17T03:41:51.382Z"
   },
   {
    "duration": 88,
    "start_time": "2024-05-17T03:41:51.443Z"
   },
   {
    "duration": 12,
    "start_time": "2024-05-17T03:41:51.534Z"
   },
   {
    "duration": 22,
    "start_time": "2024-05-17T03:41:51.549Z"
   },
   {
    "duration": 53,
    "start_time": "2024-05-17T03:41:51.574Z"
   },
   {
    "duration": 15,
    "start_time": "2024-05-17T03:41:51.630Z"
   },
   {
    "duration": 30,
    "start_time": "2024-05-17T03:41:51.654Z"
   },
   {
    "duration": 46,
    "start_time": "2024-05-17T03:41:51.688Z"
   },
   {
    "duration": 25,
    "start_time": "2024-05-17T03:41:51.737Z"
   },
   {
    "duration": 17,
    "start_time": "2024-05-17T03:41:51.765Z"
   },
   {
    "duration": 46,
    "start_time": "2024-05-17T03:41:51.786Z"
   },
   {
    "duration": 19,
    "start_time": "2024-05-17T03:41:51.836Z"
   },
   {
    "duration": 111,
    "start_time": "2024-05-17T03:41:51.858Z"
   },
   {
    "duration": 12,
    "start_time": "2024-05-17T03:41:51.972Z"
   },
   {
    "duration": 39,
    "start_time": "2024-05-17T03:41:51.988Z"
   },
   {
    "duration": 120,
    "start_time": "2024-05-17T03:41:52.031Z"
   },
   {
    "duration": 102,
    "start_time": "2024-05-17T03:41:52.154Z"
   },
   {
    "duration": 62,
    "start_time": "2024-05-17T03:41:52.260Z"
   },
   {
    "duration": 127,
    "start_time": "2024-05-17T03:41:52.325Z"
   },
   {
    "duration": 40,
    "start_time": "2024-05-17T03:41:52.455Z"
   },
   {
    "duration": 39,
    "start_time": "2024-05-17T03:41:52.499Z"
   },
   {
    "duration": 46,
    "start_time": "2024-05-17T03:41:52.541Z"
   },
   {
    "duration": 167,
    "start_time": "2024-05-17T03:41:52.592Z"
   },
   {
    "duration": 837,
    "start_time": "2024-05-17T03:41:52.762Z"
   },
   {
    "duration": 752,
    "start_time": "2024-05-17T03:41:53.603Z"
   },
   {
    "duration": 11,
    "start_time": "2024-05-17T03:41:54.359Z"
   },
   {
    "duration": 305,
    "start_time": "2024-05-17T03:41:54.375Z"
   },
   {
    "duration": 263,
    "start_time": "2024-05-17T03:41:54.684Z"
   },
   {
    "duration": 264,
    "start_time": "2024-05-17T03:41:54.950Z"
   },
   {
    "duration": 25,
    "start_time": "2024-05-17T03:41:55.217Z"
   },
   {
    "duration": 18,
    "start_time": "2024-05-17T03:41:55.246Z"
   },
   {
    "duration": 308,
    "start_time": "2024-05-18T18:36:31.656Z"
   },
   {
    "duration": 4980,
    "start_time": "2024-05-18T18:36:40.937Z"
   },
   {
    "duration": 361,
    "start_time": "2024-05-18T18:36:45.921Z"
   },
   {
    "duration": 19,
    "start_time": "2024-05-18T18:36:46.284Z"
   },
   {
    "duration": 22,
    "start_time": "2024-05-18T18:36:46.306Z"
   },
   {
    "duration": 36,
    "start_time": "2024-05-18T18:36:46.331Z"
   },
   {
    "duration": 6,
    "start_time": "2024-05-18T18:36:46.370Z"
   },
   {
    "duration": 41,
    "start_time": "2024-05-18T18:36:46.378Z"
   },
   {
    "duration": 8,
    "start_time": "2024-05-18T18:36:46.422Z"
   },
   {
    "duration": 7,
    "start_time": "2024-05-18T18:36:46.432Z"
   },
   {
    "duration": 8,
    "start_time": "2024-05-18T18:36:46.446Z"
   },
   {
    "duration": 61,
    "start_time": "2024-05-18T18:36:46.458Z"
   },
   {
    "duration": 14,
    "start_time": "2024-05-18T18:36:46.522Z"
   },
   {
    "duration": 15,
    "start_time": "2024-05-18T18:36:46.539Z"
   },
   {
    "duration": 58,
    "start_time": "2024-05-18T18:36:46.557Z"
   },
   {
    "duration": 7,
    "start_time": "2024-05-18T18:36:46.618Z"
   },
   {
    "duration": 7,
    "start_time": "2024-05-18T18:36:46.628Z"
   },
   {
    "duration": 8,
    "start_time": "2024-05-18T18:36:46.638Z"
   },
   {
    "duration": 8,
    "start_time": "2024-05-18T18:36:46.649Z"
   },
   {
    "duration": 72,
    "start_time": "2024-05-18T18:36:46.660Z"
   },
   {
    "duration": 16,
    "start_time": "2024-05-18T18:36:46.735Z"
   },
   {
    "duration": 9,
    "start_time": "2024-05-18T18:36:46.754Z"
   },
   {
    "duration": 56,
    "start_time": "2024-05-18T18:36:46.766Z"
   },
   {
    "duration": 57,
    "start_time": "2024-05-18T18:36:46.825Z"
   },
   {
    "duration": 36,
    "start_time": "2024-05-18T18:36:46.885Z"
   },
   {
    "duration": 19,
    "start_time": "2024-05-18T18:36:46.924Z"
   },
   {
    "duration": 16,
    "start_time": "2024-05-18T18:36:46.946Z"
   },
   {
    "duration": 50,
    "start_time": "2024-05-18T18:36:46.965Z"
   },
   {
    "duration": 28,
    "start_time": "2024-05-18T18:36:47.023Z"
   },
   {
    "duration": 11,
    "start_time": "2024-05-18T18:36:47.054Z"
   },
   {
    "duration": 54,
    "start_time": "2024-05-18T18:36:47.070Z"
   },
   {
    "duration": 15,
    "start_time": "2024-05-18T18:36:47.127Z"
   },
   {
    "duration": 8,
    "start_time": "2024-05-18T18:36:47.145Z"
   },
   {
    "duration": 57,
    "start_time": "2024-05-18T18:36:47.156Z"
   },
   {
    "duration": 66,
    "start_time": "2024-05-18T18:36:47.216Z"
   },
   {
    "duration": 30,
    "start_time": "2024-05-18T18:36:47.284Z"
   },
   {
    "duration": 14,
    "start_time": "2024-05-18T18:36:47.317Z"
   },
   {
    "duration": 142,
    "start_time": "2024-05-18T18:36:47.334Z"
   },
   {
    "duration": 104,
    "start_time": "2024-05-18T18:36:47.480Z"
   },
   {
    "duration": 51,
    "start_time": "2024-05-18T18:36:47.586Z"
   },
   {
    "duration": 125,
    "start_time": "2024-05-18T18:36:47.640Z"
   },
   {
    "duration": 38,
    "start_time": "2024-05-18T18:36:47.769Z"
   },
   {
    "duration": 26,
    "start_time": "2024-05-18T18:36:47.809Z"
   },
   {
    "duration": 42,
    "start_time": "2024-05-18T18:36:47.838Z"
   },
   {
    "duration": 165,
    "start_time": "2024-05-18T18:36:47.883Z"
   },
   {
    "duration": 715,
    "start_time": "2024-05-18T18:36:48.050Z"
   },
   {
    "duration": 765,
    "start_time": "2024-05-18T18:36:48.768Z"
   },
   {
    "duration": 7,
    "start_time": "2024-05-18T18:36:49.536Z"
   },
   {
    "duration": 233,
    "start_time": "2024-05-18T18:36:49.546Z"
   },
   {
    "duration": 284,
    "start_time": "2024-05-18T18:36:49.783Z"
   },
   {
    "duration": 232,
    "start_time": "2024-05-18T18:36:50.070Z"
   },
   {
    "duration": 15,
    "start_time": "2024-05-18T18:36:50.305Z"
   },
   {
    "duration": 12,
    "start_time": "2024-05-18T18:36:50.322Z"
   },
   {
    "duration": 9,
    "start_time": "2024-05-18T18:37:48.560Z"
   },
   {
    "duration": 8,
    "start_time": "2024-05-18T18:38:02.186Z"
   },
   {
    "duration": 1289,
    "start_time": "2024-05-18T18:38:10.532Z"
   },
   {
    "duration": 284,
    "start_time": "2024-05-18T18:38:11.825Z"
   },
   {
    "duration": 16,
    "start_time": "2024-05-18T18:38:12.111Z"
   },
   {
    "duration": 17,
    "start_time": "2024-05-18T18:38:12.132Z"
   },
   {
    "duration": 63,
    "start_time": "2024-05-18T18:38:12.152Z"
   },
   {
    "duration": 6,
    "start_time": "2024-05-18T18:38:12.218Z"
   },
   {
    "duration": 7,
    "start_time": "2024-05-18T18:38:12.227Z"
   },
   {
    "duration": 7,
    "start_time": "2024-05-18T18:38:12.237Z"
   },
   {
    "duration": 7,
    "start_time": "2024-05-18T18:38:12.247Z"
   },
   {
    "duration": 8,
    "start_time": "2024-05-18T18:38:12.312Z"
   },
   {
    "duration": 8,
    "start_time": "2024-05-18T18:38:12.323Z"
   },
   {
    "duration": 14,
    "start_time": "2024-05-18T18:38:12.334Z"
   },
   {
    "duration": 22,
    "start_time": "2024-05-18T18:38:12.351Z"
   },
   {
    "duration": 51,
    "start_time": "2024-05-18T18:38:12.376Z"
   },
   {
    "duration": 9,
    "start_time": "2024-05-18T18:38:12.429Z"
   },
   {
    "duration": 8,
    "start_time": "2024-05-18T18:38:12.441Z"
   },
   {
    "duration": 4,
    "start_time": "2024-05-18T18:38:12.452Z"
   },
   {
    "duration": 0,
    "start_time": "2024-05-18T18:38:12.461Z"
   },
   {
    "duration": 0,
    "start_time": "2024-05-18T18:38:12.464Z"
   },
   {
    "duration": 0,
    "start_time": "2024-05-18T18:38:12.513Z"
   },
   {
    "duration": 0,
    "start_time": "2024-05-18T18:38:12.515Z"
   },
   {
    "duration": 0,
    "start_time": "2024-05-18T18:38:12.518Z"
   },
   {
    "duration": 0,
    "start_time": "2024-05-18T18:38:12.520Z"
   },
   {
    "duration": 0,
    "start_time": "2024-05-18T18:38:12.523Z"
   },
   {
    "duration": 0,
    "start_time": "2024-05-18T18:38:12.525Z"
   },
   {
    "duration": 0,
    "start_time": "2024-05-18T18:38:12.527Z"
   },
   {
    "duration": 0,
    "start_time": "2024-05-18T18:38:12.529Z"
   },
   {
    "duration": 0,
    "start_time": "2024-05-18T18:38:12.532Z"
   },
   {
    "duration": 0,
    "start_time": "2024-05-18T18:38:12.534Z"
   },
   {
    "duration": 0,
    "start_time": "2024-05-18T18:38:12.536Z"
   },
   {
    "duration": 0,
    "start_time": "2024-05-18T18:38:12.539Z"
   },
   {
    "duration": 0,
    "start_time": "2024-05-18T18:38:12.541Z"
   },
   {
    "duration": 0,
    "start_time": "2024-05-18T18:38:12.543Z"
   },
   {
    "duration": 0,
    "start_time": "2024-05-18T18:38:12.545Z"
   },
   {
    "duration": 0,
    "start_time": "2024-05-18T18:38:12.547Z"
   },
   {
    "duration": 0,
    "start_time": "2024-05-18T18:38:12.550Z"
   },
   {
    "duration": 0,
    "start_time": "2024-05-18T18:38:12.613Z"
   },
   {
    "duration": 0,
    "start_time": "2024-05-18T18:38:12.616Z"
   },
   {
    "duration": 0,
    "start_time": "2024-05-18T18:38:12.618Z"
   },
   {
    "duration": 0,
    "start_time": "2024-05-18T18:38:12.620Z"
   },
   {
    "duration": 0,
    "start_time": "2024-05-18T18:38:12.623Z"
   },
   {
    "duration": 0,
    "start_time": "2024-05-18T18:38:12.625Z"
   },
   {
    "duration": 0,
    "start_time": "2024-05-18T18:38:12.628Z"
   },
   {
    "duration": 0,
    "start_time": "2024-05-18T18:38:12.630Z"
   },
   {
    "duration": 0,
    "start_time": "2024-05-18T18:38:12.633Z"
   },
   {
    "duration": 0,
    "start_time": "2024-05-18T18:38:12.636Z"
   },
   {
    "duration": 0,
    "start_time": "2024-05-18T18:38:12.639Z"
   },
   {
    "duration": 0,
    "start_time": "2024-05-18T18:38:12.641Z"
   },
   {
    "duration": 0,
    "start_time": "2024-05-18T18:38:12.643Z"
   },
   {
    "duration": 0,
    "start_time": "2024-05-18T18:38:12.645Z"
   },
   {
    "duration": 0,
    "start_time": "2024-05-18T18:38:12.647Z"
   },
   {
    "duration": 0,
    "start_time": "2024-05-18T18:38:12.712Z"
   },
   {
    "duration": 9,
    "start_time": "2024-05-18T18:38:29.201Z"
   },
   {
    "duration": 8,
    "start_time": "2024-05-18T18:39:37.523Z"
   },
   {
    "duration": 470,
    "start_time": "2024-05-18T18:42:45.622Z"
   },
   {
    "duration": 12,
    "start_time": "2024-05-18T18:43:10.119Z"
   },
   {
    "duration": 1247,
    "start_time": "2024-05-18T18:43:19.273Z"
   },
   {
    "duration": 277,
    "start_time": "2024-05-18T18:43:20.524Z"
   },
   {
    "duration": 18,
    "start_time": "2024-05-18T18:43:20.804Z"
   },
   {
    "duration": 17,
    "start_time": "2024-05-18T18:43:20.826Z"
   },
   {
    "duration": 36,
    "start_time": "2024-05-18T18:43:20.846Z"
   },
   {
    "duration": 6,
    "start_time": "2024-05-18T18:43:20.913Z"
   },
   {
    "duration": 8,
    "start_time": "2024-05-18T18:43:20.922Z"
   },
   {
    "duration": 7,
    "start_time": "2024-05-18T18:43:20.934Z"
   },
   {
    "duration": 6,
    "start_time": "2024-05-18T18:43:20.944Z"
   },
   {
    "duration": 56,
    "start_time": "2024-05-18T18:43:20.957Z"
   },
   {
    "duration": 8,
    "start_time": "2024-05-18T18:43:21.017Z"
   },
   {
    "duration": 15,
    "start_time": "2024-05-18T18:43:21.028Z"
   },
   {
    "duration": 17,
    "start_time": "2024-05-18T18:43:21.045Z"
   },
   {
    "duration": 60,
    "start_time": "2024-05-18T18:43:21.066Z"
   },
   {
    "duration": 7,
    "start_time": "2024-05-18T18:43:21.130Z"
   },
   {
    "duration": 8,
    "start_time": "2024-05-18T18:43:21.140Z"
   },
   {
    "duration": 11,
    "start_time": "2024-05-18T18:43:21.151Z"
   },
   {
    "duration": 53,
    "start_time": "2024-05-18T18:43:21.165Z"
   },
   {
    "duration": 12,
    "start_time": "2024-05-18T18:43:21.221Z"
   },
   {
    "duration": 25,
    "start_time": "2024-05-18T18:43:21.236Z"
   },
   {
    "duration": 52,
    "start_time": "2024-05-18T18:43:21.264Z"
   },
   {
    "duration": 8,
    "start_time": "2024-05-18T18:43:21.320Z"
   },
   {
    "duration": 19,
    "start_time": "2024-05-18T18:43:21.332Z"
   },
   {
    "duration": 92,
    "start_time": "2024-05-18T18:43:21.355Z"
   },
   {
    "duration": 11,
    "start_time": "2024-05-18T18:43:21.451Z"
   },
   {
    "duration": 46,
    "start_time": "2024-05-18T18:43:21.466Z"
   },
   {
    "duration": 15,
    "start_time": "2024-05-18T18:43:21.515Z"
   },
   {
    "duration": 13,
    "start_time": "2024-05-18T18:43:21.540Z"
   },
   {
    "duration": 62,
    "start_time": "2024-05-18T18:43:21.556Z"
   },
   {
    "duration": 10,
    "start_time": "2024-05-18T18:43:21.621Z"
   },
   {
    "duration": 23,
    "start_time": "2024-05-18T18:43:21.634Z"
   },
   {
    "duration": 52,
    "start_time": "2024-05-18T18:43:21.660Z"
   },
   {
    "duration": 7,
    "start_time": "2024-05-18T18:43:21.715Z"
   },
   {
    "duration": 18,
    "start_time": "2024-05-18T18:43:21.725Z"
   },
   {
    "duration": 104,
    "start_time": "2024-05-18T18:43:21.745Z"
   },
   {
    "duration": 11,
    "start_time": "2024-05-18T18:43:21.852Z"
   },
   {
    "duration": 12,
    "start_time": "2024-05-18T18:43:21.866Z"
   },
   {
    "duration": 125,
    "start_time": "2024-05-18T18:43:21.882Z"
   },
   {
    "duration": 94,
    "start_time": "2024-05-18T18:43:22.010Z"
   },
   {
    "duration": 52,
    "start_time": "2024-05-18T18:43:22.106Z"
   },
   {
    "duration": 127,
    "start_time": "2024-05-18T18:43:22.164Z"
   },
   {
    "duration": 37,
    "start_time": "2024-05-18T18:43:22.294Z"
   },
   {
    "duration": 25,
    "start_time": "2024-05-18T18:43:22.334Z"
   },
   {
    "duration": 66,
    "start_time": "2024-05-18T18:43:22.362Z"
   },
   {
    "duration": 149,
    "start_time": "2024-05-18T18:43:22.431Z"
   },
   {
    "duration": 777,
    "start_time": "2024-05-18T18:43:22.583Z"
   },
   {
    "duration": 885,
    "start_time": "2024-05-18T18:43:23.364Z"
   },
   {
    "duration": 10,
    "start_time": "2024-05-18T18:43:24.252Z"
   },
   {
    "duration": 295,
    "start_time": "2024-05-18T18:43:24.265Z"
   },
   {
    "duration": 290,
    "start_time": "2024-05-18T18:43:24.564Z"
   },
   {
    "duration": 287,
    "start_time": "2024-05-18T18:43:24.857Z"
   },
   {
    "duration": 16,
    "start_time": "2024-05-18T18:43:25.149Z"
   },
   {
    "duration": 15,
    "start_time": "2024-05-18T18:43:25.168Z"
   },
   {
    "duration": 92,
    "start_time": "2024-05-18T18:56:57.521Z"
   },
   {
    "duration": 1266,
    "start_time": "2024-05-18T18:57:07.941Z"
   },
   {
    "duration": 266,
    "start_time": "2024-05-18T18:57:09.213Z"
   },
   {
    "duration": 15,
    "start_time": "2024-05-18T18:57:09.482Z"
   },
   {
    "duration": 21,
    "start_time": "2024-05-18T18:57:09.502Z"
   },
   {
    "duration": 36,
    "start_time": "2024-05-18T18:57:09.525Z"
   },
   {
    "duration": 6,
    "start_time": "2024-05-18T18:57:09.564Z"
   },
   {
    "duration": 41,
    "start_time": "2024-05-18T18:57:09.573Z"
   },
   {
    "duration": 7,
    "start_time": "2024-05-18T18:57:09.617Z"
   },
   {
    "duration": 7,
    "start_time": "2024-05-18T18:57:09.627Z"
   },
   {
    "duration": 8,
    "start_time": "2024-05-18T18:57:09.641Z"
   },
   {
    "duration": 8,
    "start_time": "2024-05-18T18:57:09.652Z"
   },
   {
    "duration": 14,
    "start_time": "2024-05-18T18:57:09.714Z"
   },
   {
    "duration": 14,
    "start_time": "2024-05-18T18:57:09.731Z"
   },
   {
    "duration": 19,
    "start_time": "2024-05-18T18:57:09.748Z"
   },
   {
    "duration": 44,
    "start_time": "2024-05-18T18:57:09.770Z"
   },
   {
    "duration": 8,
    "start_time": "2024-05-18T18:57:09.817Z"
   },
   {
    "duration": 9,
    "start_time": "2024-05-18T18:57:09.827Z"
   },
   {
    "duration": 8,
    "start_time": "2024-05-18T18:57:09.839Z"
   },
   {
    "duration": 12,
    "start_time": "2024-05-18T18:57:09.850Z"
   },
   {
    "duration": 26,
    "start_time": "2024-05-18T18:57:09.913Z"
   },
   {
    "duration": 16,
    "start_time": "2024-05-18T18:57:09.942Z"
   },
   {
    "duration": 8,
    "start_time": "2024-05-18T18:57:09.961Z"
   },
   {
    "duration": 56,
    "start_time": "2024-05-18T18:57:09.973Z"
   },
   {
    "duration": 57,
    "start_time": "2024-05-18T18:57:10.032Z"
   },
   {
    "duration": 32,
    "start_time": "2024-05-18T18:57:10.091Z"
   },
   {
    "duration": 20,
    "start_time": "2024-05-18T18:57:10.125Z"
   },
   {
    "duration": 13,
    "start_time": "2024-05-18T18:57:10.148Z"
   },
   {
    "duration": 52,
    "start_time": "2024-05-18T18:57:10.170Z"
   },
   {
    "duration": 30,
    "start_time": "2024-05-18T18:57:10.225Z"
   },
   {
    "duration": 10,
    "start_time": "2024-05-18T18:57:10.258Z"
   },
   {
    "duration": 63,
    "start_time": "2024-05-18T18:57:10.272Z"
   },
   {
    "duration": 17,
    "start_time": "2024-05-18T18:57:10.338Z"
   },
   {
    "duration": 8,
    "start_time": "2024-05-18T18:57:10.361Z"
   },
   {
    "duration": 49,
    "start_time": "2024-05-18T18:57:10.373Z"
   },
   {
    "duration": 67,
    "start_time": "2024-05-18T18:57:10.425Z"
   },
   {
    "duration": 12,
    "start_time": "2024-05-18T18:57:10.513Z"
   },
   {
    "duration": 11,
    "start_time": "2024-05-18T18:57:10.528Z"
   },
   {
    "duration": 131,
    "start_time": "2024-05-18T18:57:10.542Z"
   },
   {
    "duration": 96,
    "start_time": "2024-05-18T18:57:10.675Z"
   },
   {
    "duration": 51,
    "start_time": "2024-05-18T18:57:10.774Z"
   },
   {
    "duration": 119,
    "start_time": "2024-05-18T18:57:10.827Z"
   },
   {
    "duration": 44,
    "start_time": "2024-05-18T18:57:10.949Z"
   },
   {
    "duration": 30,
    "start_time": "2024-05-18T18:57:10.997Z"
   },
   {
    "duration": 42,
    "start_time": "2024-05-18T18:57:11.029Z"
   },
   {
    "duration": 1624,
    "start_time": "2024-05-18T18:57:11.074Z"
   },
   {
    "duration": 0,
    "start_time": "2024-05-18T18:57:12.701Z"
   },
   {
    "duration": 0,
    "start_time": "2024-05-18T18:57:12.703Z"
   },
   {
    "duration": 0,
    "start_time": "2024-05-18T18:57:12.712Z"
   },
   {
    "duration": 0,
    "start_time": "2024-05-18T18:57:12.715Z"
   },
   {
    "duration": 0,
    "start_time": "2024-05-18T18:57:12.717Z"
   },
   {
    "duration": 0,
    "start_time": "2024-05-18T18:57:12.719Z"
   },
   {
    "duration": 0,
    "start_time": "2024-05-18T18:57:12.721Z"
   },
   {
    "duration": 0,
    "start_time": "2024-05-18T18:57:12.723Z"
   },
   {
    "duration": 137,
    "start_time": "2024-05-18T18:59:18.978Z"
   },
   {
    "duration": 128,
    "start_time": "2024-05-18T19:01:11.148Z"
   },
   {
    "duration": 769,
    "start_time": "2024-05-18T19:01:33.204Z"
   },
   {
    "duration": 16,
    "start_time": "2024-05-18T19:06:45.329Z"
   },
   {
    "duration": 1235,
    "start_time": "2024-05-18T19:08:19.542Z"
   },
   {
    "duration": 279,
    "start_time": "2024-05-18T19:08:20.780Z"
   },
   {
    "duration": 16,
    "start_time": "2024-05-18T19:08:21.062Z"
   },
   {
    "duration": 31,
    "start_time": "2024-05-18T19:08:21.082Z"
   },
   {
    "duration": 35,
    "start_time": "2024-05-18T19:08:21.116Z"
   },
   {
    "duration": 7,
    "start_time": "2024-05-18T19:08:21.156Z"
   },
   {
    "duration": 8,
    "start_time": "2024-05-18T19:08:21.167Z"
   },
   {
    "duration": 7,
    "start_time": "2024-05-18T19:08:21.213Z"
   },
   {
    "duration": 6,
    "start_time": "2024-05-18T19:08:21.223Z"
   },
   {
    "duration": 8,
    "start_time": "2024-05-18T19:08:21.237Z"
   },
   {
    "duration": 9,
    "start_time": "2024-05-18T19:08:21.247Z"
   },
   {
    "duration": 60,
    "start_time": "2024-05-18T19:08:21.259Z"
   },
   {
    "duration": 13,
    "start_time": "2024-05-18T19:08:21.323Z"
   },
   {
    "duration": 19,
    "start_time": "2024-05-18T19:08:21.339Z"
   },
   {
    "duration": 8,
    "start_time": "2024-05-18T19:08:21.361Z"
   },
   {
    "duration": 44,
    "start_time": "2024-05-18T19:08:21.373Z"
   },
   {
    "duration": 8,
    "start_time": "2024-05-18T19:08:21.421Z"
   },
   {
    "duration": 9,
    "start_time": "2024-05-18T19:08:21.432Z"
   },
   {
    "duration": 12,
    "start_time": "2024-05-18T19:08:21.443Z"
   },
   {
    "duration": 80,
    "start_time": "2024-05-18T19:08:21.458Z"
   },
   {
    "duration": 16,
    "start_time": "2024-05-18T19:08:21.541Z"
   },
   {
    "duration": 9,
    "start_time": "2024-05-18T19:08:21.560Z"
   },
   {
    "duration": 52,
    "start_time": "2024-05-18T19:08:21.572Z"
   },
   {
    "duration": 58,
    "start_time": "2024-05-18T19:08:21.626Z"
   },
   {
    "duration": 36,
    "start_time": "2024-05-18T19:08:21.687Z"
   },
   {
    "duration": 24,
    "start_time": "2024-05-18T19:08:21.726Z"
   },
   {
    "duration": 17,
    "start_time": "2024-05-18T19:08:21.753Z"
   },
   {
    "duration": 15,
    "start_time": "2024-05-18T19:08:21.815Z"
   },
   {
    "duration": 29,
    "start_time": "2024-05-18T19:08:21.833Z"
   },
   {
    "duration": 10,
    "start_time": "2024-05-18T19:08:21.864Z"
   },
   {
    "duration": 56,
    "start_time": "2024-05-18T19:08:21.877Z"
   },
   {
    "duration": 15,
    "start_time": "2024-05-18T19:08:21.936Z"
   },
   {
    "duration": 8,
    "start_time": "2024-05-18T19:08:21.954Z"
   },
   {
    "duration": 48,
    "start_time": "2024-05-18T19:08:21.965Z"
   },
   {
    "duration": 64,
    "start_time": "2024-05-18T19:08:22.017Z"
   },
   {
    "duration": 35,
    "start_time": "2024-05-18T19:08:22.084Z"
   },
   {
    "duration": 12,
    "start_time": "2024-05-18T19:08:22.122Z"
   },
   {
    "duration": 129,
    "start_time": "2024-05-18T19:08:22.137Z"
   },
   {
    "duration": 96,
    "start_time": "2024-05-18T19:08:22.269Z"
   },
   {
    "duration": 51,
    "start_time": "2024-05-18T19:08:22.368Z"
   },
   {
    "duration": 118,
    "start_time": "2024-05-18T19:08:22.421Z"
   },
   {
    "duration": 40,
    "start_time": "2024-05-18T19:08:22.542Z"
   },
   {
    "duration": 30,
    "start_time": "2024-05-18T19:08:22.584Z"
   },
   {
    "duration": 44,
    "start_time": "2024-05-18T19:08:22.617Z"
   },
   {
    "duration": 171,
    "start_time": "2024-05-18T19:08:22.664Z"
   },
   {
    "duration": 791,
    "start_time": "2024-05-18T19:08:22.838Z"
   },
   {
    "duration": 709,
    "start_time": "2024-05-18T19:08:23.632Z"
   },
   {
    "duration": 18,
    "start_time": "2024-05-18T19:08:24.344Z"
   },
   {
    "duration": 970,
    "start_time": "2024-05-18T19:08:24.365Z"
   },
   {
    "duration": 0,
    "start_time": "2024-05-18T19:08:25.341Z"
   },
   {
    "duration": 0,
    "start_time": "2024-05-18T19:08:25.343Z"
   },
   {
    "duration": 0,
    "start_time": "2024-05-18T19:08:25.346Z"
   },
   {
    "duration": 0,
    "start_time": "2024-05-18T19:08:25.349Z"
   },
   {
    "duration": 320,
    "start_time": "2024-05-18T19:09:15.081Z"
   },
   {
    "duration": 207,
    "start_time": "2024-05-18T19:09:50.588Z"
   },
   {
    "duration": 239,
    "start_time": "2024-05-18T19:09:53.253Z"
   },
   {
    "duration": 612,
    "start_time": "2024-05-18T19:12:47.803Z"
   },
   {
    "duration": 204,
    "start_time": "2024-05-18T19:12:58.025Z"
   },
   {
    "duration": 406,
    "start_time": "2024-05-18T19:13:16.812Z"
   },
   {
    "duration": 208,
    "start_time": "2024-05-18T19:13:24.010Z"
   },
   {
    "duration": 450,
    "start_time": "2024-05-18T19:14:36.535Z"
   },
   {
    "duration": 1343,
    "start_time": "2024-05-18T19:14:42.847Z"
   },
   {
    "duration": 275,
    "start_time": "2024-05-18T19:14:44.196Z"
   },
   {
    "duration": 22,
    "start_time": "2024-05-18T19:14:44.473Z"
   },
   {
    "duration": 29,
    "start_time": "2024-05-18T19:14:44.502Z"
   },
   {
    "duration": 39,
    "start_time": "2024-05-18T19:14:44.535Z"
   },
   {
    "duration": 6,
    "start_time": "2024-05-18T19:14:44.577Z"
   },
   {
    "duration": 7,
    "start_time": "2024-05-18T19:14:44.613Z"
   },
   {
    "duration": 8,
    "start_time": "2024-05-18T19:14:44.624Z"
   },
   {
    "duration": 6,
    "start_time": "2024-05-18T19:14:44.635Z"
   },
   {
    "duration": 8,
    "start_time": "2024-05-18T19:14:44.647Z"
   },
   {
    "duration": 59,
    "start_time": "2024-05-18T19:14:44.659Z"
   },
   {
    "duration": 15,
    "start_time": "2024-05-18T19:14:44.722Z"
   },
   {
    "duration": 14,
    "start_time": "2024-05-18T19:14:44.740Z"
   },
   {
    "duration": 57,
    "start_time": "2024-05-18T19:14:44.757Z"
   },
   {
    "duration": 8,
    "start_time": "2024-05-18T19:14:44.816Z"
   },
   {
    "duration": 8,
    "start_time": "2024-05-18T19:14:44.827Z"
   },
   {
    "duration": 8,
    "start_time": "2024-05-18T19:14:44.838Z"
   },
   {
    "duration": 9,
    "start_time": "2024-05-18T19:14:44.849Z"
   },
   {
    "duration": 60,
    "start_time": "2024-05-18T19:14:44.861Z"
   },
   {
    "duration": 27,
    "start_time": "2024-05-18T19:14:44.924Z"
   },
   {
    "duration": 18,
    "start_time": "2024-05-18T19:14:44.954Z"
   },
   {
    "duration": 41,
    "start_time": "2024-05-18T19:14:44.975Z"
   },
   {
    "duration": 18,
    "start_time": "2024-05-18T19:14:45.020Z"
   },
   {
    "duration": 92,
    "start_time": "2024-05-18T19:14:45.041Z"
   },
   {
    "duration": 11,
    "start_time": "2024-05-18T19:14:45.136Z"
   },
   {
    "duration": 21,
    "start_time": "2024-05-18T19:14:45.151Z"
   },
   {
    "duration": 46,
    "start_time": "2024-05-18T19:14:45.175Z"
   },
   {
    "duration": 15,
    "start_time": "2024-05-18T19:14:45.229Z"
   },
   {
    "duration": 31,
    "start_time": "2024-05-18T19:14:45.247Z"
   },
   {
    "duration": 10,
    "start_time": "2024-05-18T19:14:45.313Z"
   },
   {
    "duration": 22,
    "start_time": "2024-05-18T19:14:45.327Z"
   },
   {
    "duration": 16,
    "start_time": "2024-05-18T19:14:45.352Z"
   },
   {
    "duration": 44,
    "start_time": "2024-05-18T19:14:45.371Z"
   },
   {
    "duration": 18,
    "start_time": "2024-05-18T19:14:45.418Z"
   },
   {
    "duration": 92,
    "start_time": "2024-05-18T19:14:45.439Z"
   },
   {
    "duration": 11,
    "start_time": "2024-05-18T19:14:45.534Z"
   },
   {
    "duration": 12,
    "start_time": "2024-05-18T19:14:45.548Z"
   },
   {
    "duration": 134,
    "start_time": "2024-05-18T19:14:45.563Z"
   },
   {
    "duration": 95,
    "start_time": "2024-05-18T19:14:45.700Z"
   },
   {
    "duration": 52,
    "start_time": "2024-05-18T19:14:45.799Z"
   },
   {
    "duration": 124,
    "start_time": "2024-05-18T19:14:45.854Z"
   },
   {
    "duration": 38,
    "start_time": "2024-05-18T19:14:45.981Z"
   },
   {
    "duration": 25,
    "start_time": "2024-05-18T19:14:46.021Z"
   },
   {
    "duration": 67,
    "start_time": "2024-05-18T19:14:46.049Z"
   },
   {
    "duration": 156,
    "start_time": "2024-05-18T19:14:46.119Z"
   },
   {
    "duration": 772,
    "start_time": "2024-05-18T19:14:46.278Z"
   },
   {
    "duration": 704,
    "start_time": "2024-05-18T19:14:47.053Z"
   },
   {
    "duration": 17,
    "start_time": "2024-05-18T19:14:47.761Z"
   },
   {
    "duration": 225,
    "start_time": "2024-05-18T19:14:47.781Z"
   },
   {
    "duration": 237,
    "start_time": "2024-05-18T19:14:48.013Z"
   },
   {
    "duration": 408,
    "start_time": "2024-05-18T19:14:48.253Z"
   },
   {
    "duration": 240,
    "start_time": "2024-05-18T19:14:48.664Z"
   },
   {
    "duration": 448,
    "start_time": "2024-05-18T19:14:48.907Z"
   },
   {
    "duration": 12,
    "start_time": "2024-05-18T19:14:49.358Z"
   },
   {
    "duration": 39,
    "start_time": "2024-05-18T19:14:49.373Z"
   },
   {
    "duration": 635,
    "start_time": "2024-05-18T19:34:30.827Z"
   },
   {
    "duration": 341,
    "start_time": "2024-05-18T21:00:06.640Z"
   },
   {
    "duration": 4943,
    "start_time": "2024-05-18T21:00:13.399Z"
   },
   {
    "duration": 333,
    "start_time": "2024-05-18T21:00:18.346Z"
   },
   {
    "duration": 16,
    "start_time": "2024-05-18T21:00:18.683Z"
   },
   {
    "duration": 30,
    "start_time": "2024-05-18T21:00:18.704Z"
   },
   {
    "duration": 37,
    "start_time": "2024-05-18T21:00:18.736Z"
   },
   {
    "duration": 6,
    "start_time": "2024-05-18T21:00:18.776Z"
   },
   {
    "duration": 46,
    "start_time": "2024-05-18T21:00:18.786Z"
   },
   {
    "duration": 7,
    "start_time": "2024-05-18T21:00:18.834Z"
   },
   {
    "duration": 7,
    "start_time": "2024-05-18T21:00:18.844Z"
   },
   {
    "duration": 8,
    "start_time": "2024-05-18T21:00:18.858Z"
   },
   {
    "duration": 9,
    "start_time": "2024-05-18T21:00:18.869Z"
   },
   {
    "duration": 18,
    "start_time": "2024-05-18T21:00:18.932Z"
   },
   {
    "duration": 18,
    "start_time": "2024-05-18T21:00:18.953Z"
   },
   {
    "duration": 56,
    "start_time": "2024-05-18T21:00:18.975Z"
   },
   {
    "duration": 9,
    "start_time": "2024-05-18T21:00:19.034Z"
   },
   {
    "duration": 10,
    "start_time": "2024-05-18T21:00:19.046Z"
   },
   {
    "duration": 9,
    "start_time": "2024-05-18T21:00:19.059Z"
   },
   {
    "duration": 8,
    "start_time": "2024-05-18T21:00:19.075Z"
   },
   {
    "duration": 12,
    "start_time": "2024-05-18T21:00:19.131Z"
   },
   {
    "duration": 25,
    "start_time": "2024-05-18T21:00:19.146Z"
   },
   {
    "duration": 15,
    "start_time": "2024-05-18T21:00:19.174Z"
   },
   {
    "duration": 7,
    "start_time": "2024-05-18T21:00:19.230Z"
   },
   {
    "duration": 20,
    "start_time": "2024-05-18T21:00:19.241Z"
   },
   {
    "duration": 92,
    "start_time": "2024-05-18T21:00:19.264Z"
   },
   {
    "duration": 11,
    "start_time": "2024-05-18T21:00:19.360Z"
   },
   {
    "duration": 20,
    "start_time": "2024-05-18T21:00:19.374Z"
   },
   {
    "duration": 42,
    "start_time": "2024-05-18T21:00:19.397Z"
   },
   {
    "duration": 14,
    "start_time": "2024-05-18T21:00:19.448Z"
   },
   {
    "duration": 30,
    "start_time": "2024-05-18T21:00:19.465Z"
   },
   {
    "duration": 10,
    "start_time": "2024-05-18T21:00:19.530Z"
   },
   {
    "duration": 23,
    "start_time": "2024-05-18T21:00:19.543Z"
   },
   {
    "duration": 15,
    "start_time": "2024-05-18T21:00:19.569Z"
   },
   {
    "duration": 45,
    "start_time": "2024-05-18T21:00:19.587Z"
   },
   {
    "duration": 18,
    "start_time": "2024-05-18T21:00:19.636Z"
   },
   {
    "duration": 94,
    "start_time": "2024-05-18T21:00:19.657Z"
   },
   {
    "duration": 13,
    "start_time": "2024-05-18T21:00:19.754Z"
   },
   {
    "duration": 12,
    "start_time": "2024-05-18T21:00:19.771Z"
   },
   {
    "duration": 135,
    "start_time": "2024-05-18T21:00:19.786Z"
   },
   {
    "duration": 96,
    "start_time": "2024-05-18T21:00:19.924Z"
   },
   {
    "duration": 52,
    "start_time": "2024-05-18T21:00:20.023Z"
   },
   {
    "duration": 146,
    "start_time": "2024-05-18T21:00:20.079Z"
   },
   {
    "duration": 38,
    "start_time": "2024-05-18T21:00:20.229Z"
   },
   {
    "duration": 25,
    "start_time": "2024-05-18T21:00:20.271Z"
   },
   {
    "duration": 71,
    "start_time": "2024-05-18T21:00:20.299Z"
   },
   {
    "duration": 168,
    "start_time": "2024-05-18T21:00:20.373Z"
   },
   {
    "duration": 761,
    "start_time": "2024-05-18T21:00:20.544Z"
   },
   {
    "duration": 765,
    "start_time": "2024-05-18T21:00:21.310Z"
   },
   {
    "duration": 16,
    "start_time": "2024-05-18T21:00:22.079Z"
   },
   {
    "duration": 736,
    "start_time": "2024-05-18T21:00:22.098Z"
   },
   {
    "duration": 242,
    "start_time": "2024-05-18T21:00:22.837Z"
   },
   {
    "duration": 231,
    "start_time": "2024-05-18T21:00:23.082Z"
   },
   {
    "duration": 422,
    "start_time": "2024-05-18T21:00:23.316Z"
   },
   {
    "duration": 239,
    "start_time": "2024-05-18T21:00:23.743Z"
   },
   {
    "duration": 455,
    "start_time": "2024-05-18T21:00:23.985Z"
   },
   {
    "duration": 14,
    "start_time": "2024-05-18T21:00:24.443Z"
   },
   {
    "duration": 13,
    "start_time": "2024-05-18T21:00:24.460Z"
   },
   {
    "duration": 12,
    "start_time": "2024-05-18T21:01:58.777Z"
   },
   {
    "duration": 14,
    "start_time": "2024-05-18T21:05:31.753Z"
   },
   {
    "duration": 1285,
    "start_time": "2024-05-18T21:05:48.027Z"
   },
   {
    "duration": 268,
    "start_time": "2024-05-18T21:05:49.316Z"
   },
   {
    "duration": 16,
    "start_time": "2024-05-18T21:05:49.586Z"
   },
   {
    "duration": 30,
    "start_time": "2024-05-18T21:05:49.607Z"
   },
   {
    "duration": 37,
    "start_time": "2024-05-18T21:05:49.639Z"
   },
   {
    "duration": 6,
    "start_time": "2024-05-18T21:05:49.679Z"
   },
   {
    "duration": 43,
    "start_time": "2024-05-18T21:05:49.687Z"
   },
   {
    "duration": 7,
    "start_time": "2024-05-18T21:05:49.733Z"
   },
   {
    "duration": 7,
    "start_time": "2024-05-18T21:05:49.743Z"
   },
   {
    "duration": 9,
    "start_time": "2024-05-18T21:05:49.757Z"
   },
   {
    "duration": 8,
    "start_time": "2024-05-18T21:05:49.769Z"
   },
   {
    "duration": 14,
    "start_time": "2024-05-18T21:05:49.832Z"
   },
   {
    "duration": 14,
    "start_time": "2024-05-18T21:05:49.849Z"
   },
   {
    "duration": 19,
    "start_time": "2024-05-18T21:05:49.867Z"
   },
   {
    "duration": 47,
    "start_time": "2024-05-18T21:05:49.888Z"
   },
   {
    "duration": 8,
    "start_time": "2024-05-18T21:05:49.938Z"
   },
   {
    "duration": 13,
    "start_time": "2024-05-18T21:05:49.948Z"
   },
   {
    "duration": 11,
    "start_time": "2024-05-18T21:05:49.964Z"
   },
   {
    "duration": 55,
    "start_time": "2024-05-18T21:05:49.978Z"
   },
   {
    "duration": 26,
    "start_time": "2024-05-18T21:05:50.036Z"
   },
   {
    "duration": 17,
    "start_time": "2024-05-18T21:05:50.065Z"
   },
   {
    "duration": 48,
    "start_time": "2024-05-18T21:05:50.085Z"
   },
   {
    "duration": 24,
    "start_time": "2024-05-18T21:05:50.137Z"
   },
   {
    "duration": 92,
    "start_time": "2024-05-18T21:05:50.165Z"
   },
   {
    "duration": 11,
    "start_time": "2024-05-18T21:05:50.260Z"
   },
   {
    "duration": 20,
    "start_time": "2024-05-18T21:05:50.275Z"
   },
   {
    "duration": 43,
    "start_time": "2024-05-18T21:05:50.298Z"
   },
   {
    "duration": 14,
    "start_time": "2024-05-18T21:05:50.349Z"
   },
   {
    "duration": 30,
    "start_time": "2024-05-18T21:05:50.366Z"
   },
   {
    "duration": 12,
    "start_time": "2024-05-18T21:05:50.431Z"
   },
   {
    "duration": 22,
    "start_time": "2024-05-18T21:05:50.447Z"
   },
   {
    "duration": 15,
    "start_time": "2024-05-18T21:05:50.473Z"
   },
   {
    "duration": 8,
    "start_time": "2024-05-18T21:05:50.530Z"
   },
   {
    "duration": 19,
    "start_time": "2024-05-18T21:05:50.540Z"
   },
   {
    "duration": 98,
    "start_time": "2024-05-18T21:05:50.562Z"
   },
   {
    "duration": 12,
    "start_time": "2024-05-18T21:05:50.663Z"
   },
   {
    "duration": 13,
    "start_time": "2024-05-18T21:05:50.679Z"
   },
   {
    "duration": 129,
    "start_time": "2024-05-18T21:05:50.695Z"
   },
   {
    "duration": 96,
    "start_time": "2024-05-18T21:05:50.827Z"
   },
   {
    "duration": 51,
    "start_time": "2024-05-18T21:05:50.925Z"
   },
   {
    "duration": 125,
    "start_time": "2024-05-18T21:05:50.979Z"
   },
   {
    "duration": 39,
    "start_time": "2024-05-18T21:05:51.107Z"
   },
   {
    "duration": 25,
    "start_time": "2024-05-18T21:05:51.148Z"
   },
   {
    "duration": 73,
    "start_time": "2024-05-18T21:05:51.176Z"
   },
   {
    "duration": 162,
    "start_time": "2024-05-18T21:05:51.253Z"
   },
   {
    "duration": 776,
    "start_time": "2024-05-18T21:05:51.418Z"
   },
   {
    "duration": 760,
    "start_time": "2024-05-18T21:05:52.199Z"
   },
   {
    "duration": 17,
    "start_time": "2024-05-18T21:05:52.962Z"
   },
   {
    "duration": 681,
    "start_time": "2024-05-18T21:05:52.982Z"
   },
   {
    "duration": 238,
    "start_time": "2024-05-18T21:05:53.667Z"
   },
   {
    "duration": 231,
    "start_time": "2024-05-18T21:05:53.908Z"
   },
   {
    "duration": 398,
    "start_time": "2024-05-18T21:05:54.142Z"
   },
   {
    "duration": 266,
    "start_time": "2024-05-18T21:05:54.543Z"
   },
   {
    "duration": 445,
    "start_time": "2024-05-18T21:05:54.811Z"
   },
   {
    "duration": 14,
    "start_time": "2024-05-18T21:05:55.262Z"
   },
   {
    "duration": 12,
    "start_time": "2024-05-18T21:05:55.280Z"
   },
   {
    "duration": 1331,
    "start_time": "2024-05-19T07:29:44.127Z"
   },
   {
    "duration": 293,
    "start_time": "2024-05-19T07:29:45.462Z"
   },
   {
    "duration": 15,
    "start_time": "2024-05-19T07:29:45.758Z"
   },
   {
    "duration": 34,
    "start_time": "2024-05-19T07:29:45.776Z"
   },
   {
    "duration": 37,
    "start_time": "2024-05-19T07:29:45.815Z"
   },
   {
    "duration": 10,
    "start_time": "2024-05-19T07:29:45.854Z"
   },
   {
    "duration": 41,
    "start_time": "2024-05-19T07:29:45.867Z"
   },
   {
    "duration": 11,
    "start_time": "2024-05-19T07:29:45.912Z"
   },
   {
    "duration": 8,
    "start_time": "2024-05-19T07:29:45.926Z"
   },
   {
    "duration": 14,
    "start_time": "2024-05-19T07:29:45.937Z"
   },
   {
    "duration": 13,
    "start_time": "2024-05-19T07:29:45.955Z"
   },
   {
    "duration": 44,
    "start_time": "2024-05-19T07:29:45.970Z"
   },
   {
    "duration": 21,
    "start_time": "2024-05-19T07:29:46.018Z"
   },
   {
    "duration": 21,
    "start_time": "2024-05-19T07:29:46.049Z"
   },
   {
    "duration": 8,
    "start_time": "2024-05-19T07:29:46.103Z"
   },
   {
    "duration": 7,
    "start_time": "2024-05-19T07:29:46.114Z"
   },
   {
    "duration": 12,
    "start_time": "2024-05-19T07:29:46.125Z"
   },
   {
    "duration": 12,
    "start_time": "2024-05-19T07:29:46.141Z"
   },
   {
    "duration": 20,
    "start_time": "2024-05-19T07:29:46.201Z"
   },
   {
    "duration": 25,
    "start_time": "2024-05-19T07:29:46.224Z"
   },
   {
    "duration": 51,
    "start_time": "2024-05-19T07:29:46.252Z"
   },
   {
    "duration": 8,
    "start_time": "2024-05-19T07:29:46.307Z"
   },
   {
    "duration": 20,
    "start_time": "2024-05-19T07:29:46.318Z"
   },
   {
    "duration": 92,
    "start_time": "2024-05-19T07:29:46.341Z"
   },
   {
    "duration": 11,
    "start_time": "2024-05-19T07:29:46.436Z"
   },
   {
    "duration": 20,
    "start_time": "2024-05-19T07:29:46.453Z"
   },
   {
    "duration": 39,
    "start_time": "2024-05-19T07:29:46.476Z"
   },
   {
    "duration": 17,
    "start_time": "2024-05-19T07:29:46.519Z"
   },
   {
    "duration": 29,
    "start_time": "2024-05-19T07:29:46.539Z"
   },
   {
    "duration": 41,
    "start_time": "2024-05-19T07:29:46.570Z"
   },
   {
    "duration": 22,
    "start_time": "2024-05-19T07:29:46.614Z"
   },
   {
    "duration": 17,
    "start_time": "2024-05-19T07:29:46.640Z"
   },
   {
    "duration": 57,
    "start_time": "2024-05-19T07:29:46.660Z"
   },
   {
    "duration": 17,
    "start_time": "2024-05-19T07:29:46.721Z"
   },
   {
    "duration": 87,
    "start_time": "2024-05-19T07:29:46.741Z"
   },
   {
    "duration": 11,
    "start_time": "2024-05-19T07:29:46.832Z"
   },
   {
    "duration": 14,
    "start_time": "2024-05-19T07:29:46.846Z"
   },
   {
    "duration": 145,
    "start_time": "2024-05-19T07:29:46.863Z"
   },
   {
    "duration": 22,
    "start_time": "2024-05-19T07:29:47.011Z"
   },
   {
    "duration": 9,
    "start_time": "2024-05-19T07:30:10.291Z"
   },
   {
    "duration": 484,
    "start_time": "2024-05-19T07:56:04.500Z"
   },
   {
    "duration": 5,
    "start_time": "2024-05-19T07:56:10.258Z"
   },
   {
    "duration": 300,
    "start_time": "2024-05-19T07:56:10.267Z"
   },
   {
    "duration": 26,
    "start_time": "2024-05-19T07:56:10.571Z"
   },
   {
    "duration": 14,
    "start_time": "2024-05-19T07:56:10.603Z"
   },
   {
    "duration": 45,
    "start_time": "2024-05-19T07:56:10.625Z"
   },
   {
    "duration": 7,
    "start_time": "2024-05-19T07:56:10.673Z"
   },
   {
    "duration": 7,
    "start_time": "2024-05-19T07:56:10.703Z"
   },
   {
    "duration": 18,
    "start_time": "2024-05-19T07:56:10.715Z"
   },
   {
    "duration": 9,
    "start_time": "2024-05-19T07:56:10.736Z"
   },
   {
    "duration": 9,
    "start_time": "2024-05-19T07:56:10.751Z"
   },
   {
    "duration": 8,
    "start_time": "2024-05-19T07:56:10.801Z"
   },
   {
    "duration": 14,
    "start_time": "2024-05-19T07:56:10.812Z"
   },
   {
    "duration": 15,
    "start_time": "2024-05-19T07:56:10.829Z"
   },
   {
    "duration": 59,
    "start_time": "2024-05-19T07:56:10.847Z"
   },
   {
    "duration": 8,
    "start_time": "2024-05-19T07:56:10.910Z"
   },
   {
    "duration": 8,
    "start_time": "2024-05-19T07:56:10.921Z"
   },
   {
    "duration": 12,
    "start_time": "2024-05-19T07:56:10.931Z"
   },
   {
    "duration": 13,
    "start_time": "2024-05-19T07:56:10.946Z"
   },
   {
    "duration": 14,
    "start_time": "2024-05-19T07:56:11.001Z"
   },
   {
    "duration": 31,
    "start_time": "2024-05-19T07:56:11.019Z"
   },
   {
    "duration": 50,
    "start_time": "2024-05-19T07:56:11.053Z"
   },
   {
    "duration": 8,
    "start_time": "2024-05-19T07:56:11.106Z"
   },
   {
    "duration": 20,
    "start_time": "2024-05-19T07:56:11.118Z"
   },
   {
    "duration": 97,
    "start_time": "2024-05-19T07:56:11.141Z"
   },
   {
    "duration": 13,
    "start_time": "2024-05-19T07:56:11.241Z"
   },
   {
    "duration": 20,
    "start_time": "2024-05-19T07:56:11.257Z"
   },
   {
    "duration": 15,
    "start_time": "2024-05-19T07:56:11.303Z"
   },
   {
    "duration": 15,
    "start_time": "2024-05-19T07:56:11.326Z"
   },
   {
    "duration": 59,
    "start_time": "2024-05-19T07:56:11.344Z"
   },
   {
    "duration": 10,
    "start_time": "2024-05-19T07:56:11.406Z"
   },
   {
    "duration": 23,
    "start_time": "2024-05-19T07:56:11.420Z"
   },
   {
    "duration": 18,
    "start_time": "2024-05-19T07:56:11.446Z"
   },
   {
    "duration": 44,
    "start_time": "2024-05-19T07:56:11.466Z"
   },
   {
    "duration": 31,
    "start_time": "2024-05-19T07:56:11.515Z"
   },
   {
    "duration": 85,
    "start_time": "2024-05-19T07:56:11.553Z"
   },
   {
    "duration": 13,
    "start_time": "2024-05-19T07:56:11.641Z"
   },
   {
    "duration": 13,
    "start_time": "2024-05-19T07:56:11.657Z"
   },
   {
    "duration": 129,
    "start_time": "2024-05-19T07:56:11.673Z"
   },
   {
    "duration": 104,
    "start_time": "2024-05-19T07:56:11.805Z"
   },
   {
    "duration": 53,
    "start_time": "2024-05-19T07:56:11.912Z"
   },
   {
    "duration": 138,
    "start_time": "2024-05-19T07:56:11.970Z"
   },
   {
    "duration": 48,
    "start_time": "2024-05-19T07:56:12.111Z"
   },
   {
    "duration": 27,
    "start_time": "2024-05-19T07:56:12.162Z"
   },
   {
    "duration": 41,
    "start_time": "2024-05-19T07:56:12.201Z"
   },
   {
    "duration": 163,
    "start_time": "2024-05-19T07:56:12.245Z"
   },
   {
    "duration": 745,
    "start_time": "2024-05-19T07:56:12.411Z"
   },
   {
    "duration": 735,
    "start_time": "2024-05-19T07:56:13.162Z"
   },
   {
    "duration": 18,
    "start_time": "2024-05-19T07:56:13.903Z"
   },
   {
    "duration": 689,
    "start_time": "2024-05-19T07:56:13.924Z"
   },
   {
    "duration": 245,
    "start_time": "2024-05-19T07:56:14.616Z"
   },
   {
    "duration": 232,
    "start_time": "2024-05-19T07:56:14.864Z"
   },
   {
    "duration": 506,
    "start_time": "2024-05-19T07:56:15.103Z"
   },
   {
    "duration": 240,
    "start_time": "2024-05-19T07:56:15.613Z"
   },
   {
    "duration": 498,
    "start_time": "2024-05-19T07:56:15.856Z"
   },
   {
    "duration": 58,
    "start_time": "2024-05-19T07:56:16.357Z"
   },
   {
    "duration": 14,
    "start_time": "2024-05-19T07:56:16.422Z"
   },
   {
    "duration": 15,
    "start_time": "2024-05-19T07:56:16.440Z"
   },
   {
    "duration": 6,
    "start_time": "2024-05-19T07:56:47.420Z"
   },
   {
    "duration": 326,
    "start_time": "2024-05-19T20:32:23.311Z"
   },
   {
    "duration": 5052,
    "start_time": "2024-05-19T20:32:33.064Z"
   },
   {
    "duration": 372,
    "start_time": "2024-05-19T20:32:38.120Z"
   },
   {
    "duration": 19,
    "start_time": "2024-05-19T20:32:38.495Z"
   },
   {
    "duration": 25,
    "start_time": "2024-05-19T20:32:38.520Z"
   },
   {
    "duration": 47,
    "start_time": "2024-05-19T20:32:38.550Z"
   },
   {
    "duration": 34,
    "start_time": "2024-05-19T20:32:38.601Z"
   },
   {
    "duration": 9,
    "start_time": "2024-05-19T20:32:38.639Z"
   },
   {
    "duration": 7,
    "start_time": "2024-05-19T20:32:38.651Z"
   },
   {
    "duration": 6,
    "start_time": "2024-05-19T20:32:38.662Z"
   },
   {
    "duration": 60,
    "start_time": "2024-05-19T20:32:38.676Z"
   },
   {
    "duration": 9,
    "start_time": "2024-05-19T20:32:38.738Z"
   },
   {
    "duration": 16,
    "start_time": "2024-05-19T20:32:38.750Z"
   },
   {
    "duration": 15,
    "start_time": "2024-05-19T20:32:38.769Z"
   },
   {
    "duration": 22,
    "start_time": "2024-05-19T20:32:38.831Z"
   },
   {
    "duration": 8,
    "start_time": "2024-05-19T20:32:38.856Z"
   },
   {
    "duration": 9,
    "start_time": "2024-05-19T20:32:38.868Z"
   },
   {
    "duration": 8,
    "start_time": "2024-05-19T20:32:38.881Z"
   },
   {
    "duration": 11,
    "start_time": "2024-05-19T20:32:38.932Z"
   },
   {
    "duration": 12,
    "start_time": "2024-05-19T20:32:38.946Z"
   },
   {
    "duration": 26,
    "start_time": "2024-05-19T20:32:38.961Z"
   },
   {
    "duration": 16,
    "start_time": "2024-05-19T20:32:39.032Z"
   },
   {
    "duration": 8,
    "start_time": "2024-05-19T20:32:39.051Z"
   },
   {
    "duration": 21,
    "start_time": "2024-05-19T20:32:39.063Z"
   },
   {
    "duration": 98,
    "start_time": "2024-05-19T20:32:39.086Z"
   },
   {
    "duration": 11,
    "start_time": "2024-05-19T20:32:39.187Z"
   },
   {
    "duration": 43,
    "start_time": "2024-05-19T20:32:39.201Z"
   },
   {
    "duration": 12,
    "start_time": "2024-05-19T20:32:39.247Z"
   },
   {
    "duration": 16,
    "start_time": "2024-05-19T20:32:39.268Z"
   },
   {
    "duration": 70,
    "start_time": "2024-05-19T20:32:39.287Z"
   },
   {
    "duration": 11,
    "start_time": "2024-05-19T20:32:39.361Z"
   },
   {
    "duration": 56,
    "start_time": "2024-05-19T20:32:39.377Z"
   },
   {
    "duration": 17,
    "start_time": "2024-05-19T20:32:39.436Z"
   },
   {
    "duration": 8,
    "start_time": "2024-05-19T20:32:39.457Z"
   },
   {
    "duration": 19,
    "start_time": "2024-05-19T20:32:39.469Z"
   },
   {
    "duration": 71,
    "start_time": "2024-05-19T20:32:39.532Z"
   },
   {
    "duration": 34,
    "start_time": "2024-05-19T20:32:39.606Z"
   },
   {
    "duration": 15,
    "start_time": "2024-05-19T20:32:39.644Z"
   },
   {
    "duration": 158,
    "start_time": "2024-05-19T20:32:39.663Z"
   },
   {
    "duration": 106,
    "start_time": "2024-05-19T20:32:39.824Z"
   },
   {
    "duration": 53,
    "start_time": "2024-05-19T20:32:39.934Z"
   },
   {
    "duration": 148,
    "start_time": "2024-05-19T20:32:39.991Z"
   },
   {
    "duration": 49,
    "start_time": "2024-05-19T20:32:40.142Z"
   },
   {
    "duration": 47,
    "start_time": "2024-05-19T20:32:40.195Z"
   },
   {
    "duration": 45,
    "start_time": "2024-05-19T20:32:40.245Z"
   },
   {
    "duration": 184,
    "start_time": "2024-05-19T20:32:40.294Z"
   },
   {
    "duration": 951,
    "start_time": "2024-05-19T20:32:40.482Z"
   },
   {
    "duration": 883,
    "start_time": "2024-05-19T20:32:41.436Z"
   },
   {
    "duration": 22,
    "start_time": "2024-05-19T20:32:42.326Z"
   },
   {
    "duration": 683,
    "start_time": "2024-05-19T20:32:42.352Z"
   },
   {
    "duration": 262,
    "start_time": "2024-05-19T20:32:43.039Z"
   },
   {
    "duration": 232,
    "start_time": "2024-05-19T20:32:43.304Z"
   },
   {
    "duration": 428,
    "start_time": "2024-05-19T20:32:43.540Z"
   },
   {
    "duration": 268,
    "start_time": "2024-05-19T20:32:43.971Z"
   },
   {
    "duration": 482,
    "start_time": "2024-05-19T20:32:44.243Z"
   },
   {
    "duration": 12,
    "start_time": "2024-05-19T20:32:44.732Z"
   },
   {
    "duration": 8,
    "start_time": "2024-05-19T20:32:44.750Z"
   },
   {
    "duration": 14,
    "start_time": "2024-05-19T20:32:44.761Z"
   },
   {
    "duration": 717,
    "start_time": "2024-05-19T20:34:57.208Z"
   },
   {
    "duration": 598,
    "start_time": "2024-05-19T20:35:34.849Z"
   },
   {
    "duration": 666,
    "start_time": "2024-05-19T20:36:01.629Z"
   },
   {
    "duration": 714,
    "start_time": "2024-05-19T20:37:15.053Z"
   },
   {
    "duration": 15,
    "start_time": "2024-05-19T20:37:32.900Z"
   },
   {
    "duration": 689,
    "start_time": "2024-05-19T20:38:07.942Z"
   },
   {
    "duration": 933,
    "start_time": "2024-05-19T20:39:03.258Z"
   },
   {
    "duration": 864,
    "start_time": "2024-05-19T20:39:17.768Z"
   },
   {
    "duration": 825,
    "start_time": "2024-05-19T20:39:27.606Z"
   },
   {
    "duration": 737,
    "start_time": "2024-05-19T20:42:42.444Z"
   },
   {
    "duration": 669,
    "start_time": "2024-05-19T20:43:06.857Z"
   },
   {
    "duration": 2021,
    "start_time": "2024-05-19T20:49:01.232Z"
   },
   {
    "duration": 1405,
    "start_time": "2024-05-19T20:49:27.341Z"
   },
   {
    "duration": 308,
    "start_time": "2024-05-19T20:49:28.749Z"
   },
   {
    "duration": 20,
    "start_time": "2024-05-19T20:49:29.060Z"
   },
   {
    "duration": 45,
    "start_time": "2024-05-19T20:49:29.087Z"
   },
   {
    "duration": 48,
    "start_time": "2024-05-19T20:49:29.136Z"
   },
   {
    "duration": 9,
    "start_time": "2024-05-19T20:49:29.187Z"
   },
   {
    "duration": 36,
    "start_time": "2024-05-19T20:49:29.200Z"
   },
   {
    "duration": 9,
    "start_time": "2024-05-19T20:49:29.240Z"
   },
   {
    "duration": 8,
    "start_time": "2024-05-19T20:49:29.253Z"
   },
   {
    "duration": 12,
    "start_time": "2024-05-19T20:49:29.269Z"
   },
   {
    "duration": 55,
    "start_time": "2024-05-19T20:49:29.284Z"
   },
   {
    "duration": 21,
    "start_time": "2024-05-19T20:49:29.344Z"
   },
   {
    "duration": 25,
    "start_time": "2024-05-19T20:49:29.369Z"
   },
   {
    "duration": 20,
    "start_time": "2024-05-19T20:49:29.434Z"
   },
   {
    "duration": 10,
    "start_time": "2024-05-19T20:49:29.458Z"
   },
   {
    "duration": 10,
    "start_time": "2024-05-19T20:49:29.472Z"
   },
   {
    "duration": 53,
    "start_time": "2024-05-19T20:49:29.485Z"
   },
   {
    "duration": 10,
    "start_time": "2024-05-19T20:49:29.542Z"
   },
   {
    "duration": 13,
    "start_time": "2024-05-19T20:49:29.556Z"
   },
   {
    "duration": 79,
    "start_time": "2024-05-19T20:49:29.573Z"
   },
   {
    "duration": 18,
    "start_time": "2024-05-19T20:49:29.656Z"
   },
   {
    "duration": 8,
    "start_time": "2024-05-19T20:49:29.678Z"
   },
   {
    "duration": 53,
    "start_time": "2024-05-19T20:49:29.689Z"
   },
   {
    "duration": 86,
    "start_time": "2024-05-19T20:49:29.746Z"
   },
   {
    "duration": 12,
    "start_time": "2024-05-19T20:49:29.835Z"
   },
   {
    "duration": 20,
    "start_time": "2024-05-19T20:49:29.851Z"
   },
   {
    "duration": 14,
    "start_time": "2024-05-19T20:49:29.874Z"
   },
   {
    "duration": 14,
    "start_time": "2024-05-19T20:49:29.937Z"
   },
   {
    "duration": 32,
    "start_time": "2024-05-19T20:49:29.955Z"
   },
   {
    "duration": 40,
    "start_time": "2024-05-19T20:49:29.991Z"
   },
   {
    "duration": 23,
    "start_time": "2024-05-19T20:49:30.034Z"
   },
   {
    "duration": 16,
    "start_time": "2024-05-19T20:49:30.060Z"
   },
   {
    "duration": 9,
    "start_time": "2024-05-19T20:49:30.080Z"
   },
   {
    "duration": 18,
    "start_time": "2024-05-19T20:49:30.133Z"
   },
   {
    "duration": 100,
    "start_time": "2024-05-19T20:49:30.154Z"
   },
   {
    "duration": 16,
    "start_time": "2024-05-19T20:49:30.257Z"
   },
   {
    "duration": 13,
    "start_time": "2024-05-19T20:49:30.276Z"
   },
   {
    "duration": 139,
    "start_time": "2024-05-19T20:49:30.292Z"
   },
   {
    "duration": 102,
    "start_time": "2024-05-19T20:49:30.435Z"
   },
   {
    "duration": 64,
    "start_time": "2024-05-19T20:49:30.541Z"
   },
   {
    "duration": 152,
    "start_time": "2024-05-19T20:49:30.609Z"
   },
   {
    "duration": 45,
    "start_time": "2024-05-19T20:49:30.765Z"
   },
   {
    "duration": 38,
    "start_time": "2024-05-19T20:49:30.814Z"
   },
   {
    "duration": 77,
    "start_time": "2024-05-19T20:49:30.855Z"
   },
   {
    "duration": 158,
    "start_time": "2024-05-19T20:49:30.938Z"
   },
   {
    "duration": 923,
    "start_time": "2024-05-19T20:49:31.100Z"
   },
   {
    "duration": 763,
    "start_time": "2024-05-19T20:49:32.031Z"
   },
   {
    "duration": 19,
    "start_time": "2024-05-19T20:49:32.797Z"
   },
   {
    "duration": 1872,
    "start_time": "2024-05-19T20:49:32.820Z"
   },
   {
    "duration": 0,
    "start_time": "2024-05-19T20:49:34.695Z"
   },
   {
    "duration": 0,
    "start_time": "2024-05-19T20:49:34.698Z"
   },
   {
    "duration": 0,
    "start_time": "2024-05-19T20:49:34.700Z"
   },
   {
    "duration": 0,
    "start_time": "2024-05-19T20:49:34.704Z"
   },
   {
    "duration": 0,
    "start_time": "2024-05-19T20:49:34.706Z"
   },
   {
    "duration": 0,
    "start_time": "2024-05-19T20:49:34.732Z"
   },
   {
    "duration": 0,
    "start_time": "2024-05-19T20:49:34.735Z"
   },
   {
    "duration": 0,
    "start_time": "2024-05-19T20:49:34.736Z"
   },
   {
    "duration": 674,
    "start_time": "2024-05-19T20:54:42.506Z"
   },
   {
    "duration": 661,
    "start_time": "2024-05-19T21:00:54.434Z"
   },
   {
    "duration": 735,
    "start_time": "2024-05-19T21:00:59.624Z"
   },
   {
    "duration": 1401,
    "start_time": "2024-05-19T21:01:09.402Z"
   },
   {
    "duration": 311,
    "start_time": "2024-05-19T21:01:10.808Z"
   },
   {
    "duration": 19,
    "start_time": "2024-05-19T21:01:11.122Z"
   },
   {
    "duration": 20,
    "start_time": "2024-05-19T21:01:11.147Z"
   },
   {
    "duration": 71,
    "start_time": "2024-05-19T21:01:11.171Z"
   },
   {
    "duration": 7,
    "start_time": "2024-05-19T21:01:11.245Z"
   },
   {
    "duration": 8,
    "start_time": "2024-05-19T21:01:11.256Z"
   },
   {
    "duration": 7,
    "start_time": "2024-05-19T21:01:11.268Z"
   },
   {
    "duration": 50,
    "start_time": "2024-05-19T21:01:11.280Z"
   },
   {
    "duration": 8,
    "start_time": "2024-05-19T21:01:11.337Z"
   },
   {
    "duration": 8,
    "start_time": "2024-05-19T21:01:11.349Z"
   },
   {
    "duration": 17,
    "start_time": "2024-05-19T21:01:11.360Z"
   },
   {
    "duration": 61,
    "start_time": "2024-05-19T21:01:11.381Z"
   },
   {
    "duration": 22,
    "start_time": "2024-05-19T21:01:11.447Z"
   },
   {
    "duration": 10,
    "start_time": "2024-05-19T21:01:11.473Z"
   },
   {
    "duration": 49,
    "start_time": "2024-05-19T21:01:11.487Z"
   },
   {
    "duration": 9,
    "start_time": "2024-05-19T21:01:11.540Z"
   },
   {
    "duration": 11,
    "start_time": "2024-05-19T21:01:11.552Z"
   },
   {
    "duration": 16,
    "start_time": "2024-05-19T21:01:11.566Z"
   },
   {
    "duration": 26,
    "start_time": "2024-05-19T21:01:11.632Z"
   },
   {
    "duration": 18,
    "start_time": "2024-05-19T21:01:11.661Z"
   },
   {
    "duration": 9,
    "start_time": "2024-05-19T21:01:11.681Z"
   },
   {
    "duration": 21,
    "start_time": "2024-05-19T21:01:11.732Z"
   },
   {
    "duration": 91,
    "start_time": "2024-05-19T21:01:11.757Z"
   },
   {
    "duration": 12,
    "start_time": "2024-05-19T21:01:11.852Z"
   },
   {
    "duration": 24,
    "start_time": "2024-05-19T21:01:11.868Z"
   },
   {
    "duration": 48,
    "start_time": "2024-05-19T21:01:11.896Z"
   },
   {
    "duration": 19,
    "start_time": "2024-05-19T21:01:11.956Z"
   },
   {
    "duration": 76,
    "start_time": "2024-05-19T21:01:11.978Z"
   },
   {
    "duration": 11,
    "start_time": "2024-05-19T21:01:12.057Z"
   },
   {
    "duration": 34,
    "start_time": "2024-05-19T21:01:12.072Z"
   },
   {
    "duration": 19,
    "start_time": "2024-05-19T21:01:12.132Z"
   },
   {
    "duration": 10,
    "start_time": "2024-05-19T21:01:12.156Z"
   },
   {
    "duration": 18,
    "start_time": "2024-05-19T21:01:12.170Z"
   },
   {
    "duration": 76,
    "start_time": "2024-05-19T21:01:12.232Z"
   },
   {
    "duration": 16,
    "start_time": "2024-05-19T21:01:12.331Z"
   },
   {
    "duration": 13,
    "start_time": "2024-05-19T21:01:12.351Z"
   },
   {
    "duration": 146,
    "start_time": "2024-05-19T21:01:12.368Z"
   },
   {
    "duration": 100,
    "start_time": "2024-05-19T21:01:12.517Z"
   },
   {
    "duration": 56,
    "start_time": "2024-05-19T21:01:12.621Z"
   },
   {
    "duration": 130,
    "start_time": "2024-05-19T21:01:12.681Z"
   },
   {
    "duration": 44,
    "start_time": "2024-05-19T21:01:12.815Z"
   },
   {
    "duration": 29,
    "start_time": "2024-05-19T21:01:12.862Z"
   },
   {
    "duration": 72,
    "start_time": "2024-05-19T21:01:12.894Z"
   },
   {
    "duration": 180,
    "start_time": "2024-05-19T21:01:12.970Z"
   },
   {
    "duration": 814,
    "start_time": "2024-05-19T21:01:13.157Z"
   },
   {
    "duration": 801,
    "start_time": "2024-05-19T21:01:13.974Z"
   },
   {
    "duration": 18,
    "start_time": "2024-05-19T21:01:14.778Z"
   },
   {
    "duration": 652,
    "start_time": "2024-05-19T21:01:14.798Z"
   },
   {
    "duration": 245,
    "start_time": "2024-05-19T21:01:15.453Z"
   },
   {
    "duration": 225,
    "start_time": "2024-05-19T21:01:15.701Z"
   },
   {
    "duration": 412,
    "start_time": "2024-05-19T21:01:15.932Z"
   },
   {
    "duration": 267,
    "start_time": "2024-05-19T21:01:16.348Z"
   },
   {
    "duration": 463,
    "start_time": "2024-05-19T21:01:16.619Z"
   },
   {
    "duration": 13,
    "start_time": "2024-05-19T21:01:17.085Z"
   },
   {
    "duration": 31,
    "start_time": "2024-05-19T21:01:17.102Z"
   },
   {
    "duration": 15,
    "start_time": "2024-05-19T21:01:17.136Z"
   },
   {
    "duration": 718,
    "start_time": "2024-05-19T21:02:04.618Z"
   },
   {
    "duration": 317,
    "start_time": "2024-05-20T14:13:36.215Z"
   },
   {
    "duration": 4845,
    "start_time": "2024-05-20T14:13:45.191Z"
   },
   {
    "duration": 376,
    "start_time": "2024-05-20T14:13:50.040Z"
   },
   {
    "duration": 15,
    "start_time": "2024-05-20T14:13:50.419Z"
   },
   {
    "duration": 20,
    "start_time": "2024-05-20T14:13:50.438Z"
   },
   {
    "duration": 70,
    "start_time": "2024-05-20T14:13:50.462Z"
   },
   {
    "duration": 10,
    "start_time": "2024-05-20T14:13:50.535Z"
   },
   {
    "duration": 8,
    "start_time": "2024-05-20T14:13:50.549Z"
   },
   {
    "duration": 8,
    "start_time": "2024-05-20T14:13:50.560Z"
   },
   {
    "duration": 7,
    "start_time": "2024-05-20T14:13:50.572Z"
   },
   {
    "duration": 8,
    "start_time": "2024-05-20T14:13:50.630Z"
   },
   {
    "duration": 8,
    "start_time": "2024-05-20T14:13:50.641Z"
   },
   {
    "duration": 15,
    "start_time": "2024-05-20T14:13:50.653Z"
   },
   {
    "duration": 15,
    "start_time": "2024-05-20T14:13:50.671Z"
   },
   {
    "duration": 18,
    "start_time": "2024-05-20T14:13:50.732Z"
   },
   {
    "duration": 10,
    "start_time": "2024-05-20T14:13:50.753Z"
   },
   {
    "duration": 8,
    "start_time": "2024-05-20T14:13:50.766Z"
   },
   {
    "duration": 51,
    "start_time": "2024-05-20T14:13:50.779Z"
   },
   {
    "duration": 10,
    "start_time": "2024-05-20T14:13:50.833Z"
   },
   {
    "duration": 11,
    "start_time": "2024-05-20T14:13:50.846Z"
   },
   {
    "duration": 26,
    "start_time": "2024-05-20T14:13:50.860Z"
   },
   {
    "duration": 56,
    "start_time": "2024-05-20T14:13:50.889Z"
   },
   {
    "duration": 8,
    "start_time": "2024-05-20T14:13:50.948Z"
   },
   {
    "duration": 20,
    "start_time": "2024-05-20T14:13:50.959Z"
   },
   {
    "duration": 95,
    "start_time": "2024-05-20T14:13:50.982Z"
   },
   {
    "duration": 11,
    "start_time": "2024-05-20T14:13:51.080Z"
   },
   {
    "duration": 44,
    "start_time": "2024-05-20T14:13:51.095Z"
   },
   {
    "duration": 13,
    "start_time": "2024-05-20T14:13:51.142Z"
   },
   {
    "duration": 14,
    "start_time": "2024-05-20T14:13:51.165Z"
   },
   {
    "duration": 68,
    "start_time": "2024-05-20T14:13:51.182Z"
   },
   {
    "duration": 11,
    "start_time": "2024-05-20T14:13:51.252Z"
   },
   {
    "duration": 23,
    "start_time": "2024-05-20T14:13:51.266Z"
   },
   {
    "duration": 46,
    "start_time": "2024-05-20T14:13:51.292Z"
   },
   {
    "duration": 9,
    "start_time": "2024-05-20T14:13:51.340Z"
   },
   {
    "duration": 17,
    "start_time": "2024-05-20T14:13:51.352Z"
   },
   {
    "duration": 99,
    "start_time": "2024-05-20T14:13:51.372Z"
   },
   {
    "duration": 11,
    "start_time": "2024-05-20T14:13:51.474Z"
   },
   {
    "duration": 12,
    "start_time": "2024-05-20T14:13:51.488Z"
   },
   {
    "duration": 118,
    "start_time": "2024-05-20T14:13:51.531Z"
   },
   {
    "duration": 121,
    "start_time": "2024-05-20T14:13:51.652Z"
   },
   {
    "duration": 62,
    "start_time": "2024-05-20T14:13:51.776Z"
   },
   {
    "duration": 128,
    "start_time": "2024-05-20T14:13:51.842Z"
   },
   {
    "duration": 45,
    "start_time": "2024-05-20T14:13:51.977Z"
   },
   {
    "duration": 32,
    "start_time": "2024-05-20T14:13:52.025Z"
   },
   {
    "duration": 45,
    "start_time": "2024-05-20T14:13:52.062Z"
   },
   {
    "duration": 178,
    "start_time": "2024-05-20T14:13:52.109Z"
   },
   {
    "duration": 749,
    "start_time": "2024-05-20T14:13:52.290Z"
   },
   {
    "duration": 709,
    "start_time": "2024-05-20T14:13:53.042Z"
   },
   {
    "duration": 16,
    "start_time": "2024-05-20T14:13:53.754Z"
   },
   {
    "duration": 1816,
    "start_time": "2024-05-20T14:13:53.773Z"
   },
   {
    "duration": 0,
    "start_time": "2024-05-20T14:13:55.592Z"
   },
   {
    "duration": 0,
    "start_time": "2024-05-20T14:13:55.594Z"
   },
   {
    "duration": 0,
    "start_time": "2024-05-20T14:13:55.595Z"
   },
   {
    "duration": 0,
    "start_time": "2024-05-20T14:13:55.598Z"
   },
   {
    "duration": 0,
    "start_time": "2024-05-20T14:13:55.599Z"
   },
   {
    "duration": 0,
    "start_time": "2024-05-20T14:13:55.603Z"
   },
   {
    "duration": 0,
    "start_time": "2024-05-20T14:13:55.605Z"
   },
   {
    "duration": 0,
    "start_time": "2024-05-20T14:13:55.607Z"
   },
   {
    "duration": 775,
    "start_time": "2024-05-20T14:14:16.660Z"
   },
   {
    "duration": 548,
    "start_time": "2024-05-20T14:19:29.504Z"
   },
   {
    "duration": 618,
    "start_time": "2024-05-20T14:21:12.139Z"
   },
   {
    "duration": 465,
    "start_time": "2024-05-20T14:27:16.629Z"
   },
   {
    "duration": 484,
    "start_time": "2024-05-20T14:27:30.422Z"
   },
   {
    "duration": 218,
    "start_time": "2024-05-20T14:39:00.111Z"
   },
   {
    "duration": 576,
    "start_time": "2024-05-20T14:39:10.835Z"
   },
   {
    "duration": 8,
    "start_time": "2024-05-20T14:41:22.092Z"
   },
   {
    "duration": 22,
    "start_time": "2024-05-20T14:42:25.510Z"
   },
   {
    "duration": 1300,
    "start_time": "2024-05-20T14:43:08.389Z"
   },
   {
    "duration": 267,
    "start_time": "2024-05-20T14:43:09.693Z"
   },
   {
    "duration": 17,
    "start_time": "2024-05-20T14:43:09.963Z"
   },
   {
    "duration": 17,
    "start_time": "2024-05-20T14:43:09.985Z"
   },
   {
    "duration": 56,
    "start_time": "2024-05-20T14:43:10.004Z"
   },
   {
    "duration": 7,
    "start_time": "2024-05-20T14:43:10.062Z"
   },
   {
    "duration": 8,
    "start_time": "2024-05-20T14:43:10.074Z"
   },
   {
    "duration": 45,
    "start_time": "2024-05-20T14:43:10.085Z"
   },
   {
    "duration": 7,
    "start_time": "2024-05-20T14:43:10.133Z"
   },
   {
    "duration": 16,
    "start_time": "2024-05-20T14:43:10.146Z"
   },
   {
    "duration": 9,
    "start_time": "2024-05-20T14:43:10.166Z"
   },
   {
    "duration": 52,
    "start_time": "2024-05-20T14:43:10.178Z"
   },
   {
    "duration": 15,
    "start_time": "2024-05-20T14:43:10.233Z"
   },
   {
    "duration": 19,
    "start_time": "2024-05-20T14:43:10.251Z"
   },
   {
    "duration": 8,
    "start_time": "2024-05-20T14:43:10.273Z"
   },
   {
    "duration": 48,
    "start_time": "2024-05-20T14:43:10.284Z"
   },
   {
    "duration": 9,
    "start_time": "2024-05-20T14:43:10.334Z"
   },
   {
    "duration": 8,
    "start_time": "2024-05-20T14:43:10.347Z"
   },
   {
    "duration": 12,
    "start_time": "2024-05-20T14:43:10.357Z"
   },
   {
    "duration": 71,
    "start_time": "2024-05-20T14:43:10.372Z"
   },
   {
    "duration": 17,
    "start_time": "2024-05-20T14:43:10.446Z"
   },
   {
    "duration": 10,
    "start_time": "2024-05-20T14:43:10.466Z"
   },
   {
    "duration": 55,
    "start_time": "2024-05-20T14:43:10.480Z"
   },
   {
    "duration": 57,
    "start_time": "2024-05-20T14:43:10.537Z"
   },
   {
    "duration": 33,
    "start_time": "2024-05-20T14:43:10.597Z"
   },
   {
    "duration": 22,
    "start_time": "2024-05-20T14:43:10.635Z"
   },
   {
    "duration": 16,
    "start_time": "2024-05-20T14:43:10.660Z"
   },
   {
    "duration": 52,
    "start_time": "2024-05-20T14:43:10.685Z"
   },
   {
    "duration": 29,
    "start_time": "2024-05-20T14:43:10.741Z"
   },
   {
    "duration": 11,
    "start_time": "2024-05-20T14:43:10.773Z"
   },
   {
    "duration": 55,
    "start_time": "2024-05-20T14:43:10.786Z"
   },
   {
    "duration": 14,
    "start_time": "2024-05-20T14:43:10.844Z"
   },
   {
    "duration": 8,
    "start_time": "2024-05-20T14:43:10.862Z"
   },
   {
    "duration": 57,
    "start_time": "2024-05-20T14:43:10.873Z"
   },
   {
    "duration": 65,
    "start_time": "2024-05-20T14:43:10.933Z"
   },
   {
    "duration": 30,
    "start_time": "2024-05-20T14:43:11.002Z"
   },
   {
    "duration": 12,
    "start_time": "2024-05-20T14:43:11.034Z"
   },
   {
    "duration": 125,
    "start_time": "2024-05-20T14:43:11.049Z"
   },
   {
    "duration": 94,
    "start_time": "2024-05-20T14:43:11.177Z"
   },
   {
    "duration": 52,
    "start_time": "2024-05-20T14:43:11.275Z"
   },
   {
    "duration": 121,
    "start_time": "2024-05-20T14:43:11.330Z"
   },
   {
    "duration": 40,
    "start_time": "2024-05-20T14:43:11.453Z"
   },
   {
    "duration": 25,
    "start_time": "2024-05-20T14:43:11.496Z"
   },
   {
    "duration": 47,
    "start_time": "2024-05-20T14:43:11.524Z"
   },
   {
    "duration": 172,
    "start_time": "2024-05-20T14:43:11.574Z"
   },
   {
    "duration": 874,
    "start_time": "2024-05-20T14:43:11.751Z"
   },
   {
    "duration": 764,
    "start_time": "2024-05-20T14:43:12.631Z"
   },
   {
    "duration": 18,
    "start_time": "2024-05-20T14:43:13.398Z"
   },
   {
    "duration": 514,
    "start_time": "2024-05-20T14:43:13.419Z"
   },
   {
    "duration": 274,
    "start_time": "2024-05-20T14:43:13.937Z"
   },
   {
    "duration": 243,
    "start_time": "2024-05-20T14:43:14.216Z"
   },
   {
    "duration": 444,
    "start_time": "2024-05-20T14:43:14.462Z"
   },
   {
    "duration": 248,
    "start_time": "2024-05-20T14:43:14.910Z"
   },
   {
    "duration": 577,
    "start_time": "2024-05-20T14:43:15.162Z"
   },
   {
    "duration": 13,
    "start_time": "2024-05-20T14:43:15.743Z"
   },
   {
    "duration": 9,
    "start_time": "2024-05-20T14:43:15.760Z"
   },
   {
    "duration": 17,
    "start_time": "2024-05-20T14:43:15.773Z"
   },
   {
    "duration": 9,
    "start_time": "2024-05-20T14:59:18.704Z"
   },
   {
    "duration": 1315,
    "start_time": "2024-05-20T14:59:39.570Z"
   },
   {
    "duration": 271,
    "start_time": "2024-05-20T14:59:40.888Z"
   },
   {
    "duration": 15,
    "start_time": "2024-05-20T14:59:41.162Z"
   },
   {
    "duration": 19,
    "start_time": "2024-05-20T14:59:41.182Z"
   },
   {
    "duration": 67,
    "start_time": "2024-05-20T14:59:41.204Z"
   },
   {
    "duration": 7,
    "start_time": "2024-05-20T14:59:41.275Z"
   },
   {
    "duration": 48,
    "start_time": "2024-05-20T14:59:41.286Z"
   },
   {
    "duration": 7,
    "start_time": "2024-05-20T14:59:41.336Z"
   },
   {
    "duration": 6,
    "start_time": "2024-05-20T14:59:41.346Z"
   },
   {
    "duration": 8,
    "start_time": "2024-05-20T14:59:41.360Z"
   },
   {
    "duration": 8,
    "start_time": "2024-05-20T14:59:41.372Z"
   },
   {
    "duration": 60,
    "start_time": "2024-05-20T14:59:41.383Z"
   },
   {
    "duration": 15,
    "start_time": "2024-05-20T14:59:41.446Z"
   },
   {
    "duration": 18,
    "start_time": "2024-05-20T14:59:41.464Z"
   },
   {
    "duration": 45,
    "start_time": "2024-05-20T14:59:41.485Z"
   },
   {
    "duration": 8,
    "start_time": "2024-05-20T14:59:41.533Z"
   },
   {
    "duration": 10,
    "start_time": "2024-05-20T14:59:41.543Z"
   },
   {
    "duration": 9,
    "start_time": "2024-05-20T14:59:41.556Z"
   },
   {
    "duration": 12,
    "start_time": "2024-05-20T14:59:41.567Z"
   },
   {
    "duration": 24,
    "start_time": "2024-05-20T14:59:41.630Z"
   },
   {
    "duration": 18,
    "start_time": "2024-05-20T14:59:41.657Z"
   },
   {
    "duration": 9,
    "start_time": "2024-05-20T14:59:41.677Z"
   },
   {
    "duration": 60,
    "start_time": "2024-05-20T14:59:41.688Z"
   },
   {
    "duration": 82,
    "start_time": "2024-05-20T14:59:41.751Z"
   },
   {
    "duration": 11,
    "start_time": "2024-05-20T14:59:41.836Z"
   },
   {
    "duration": 20,
    "start_time": "2024-05-20T14:59:41.850Z"
   },
   {
    "duration": 13,
    "start_time": "2024-05-20T14:59:41.875Z"
   },
   {
    "duration": 14,
    "start_time": "2024-05-20T14:59:41.937Z"
   },
   {
    "duration": 29,
    "start_time": "2024-05-20T14:59:41.954Z"
   },
   {
    "duration": 46,
    "start_time": "2024-05-20T14:59:41.986Z"
   },
   {
    "duration": 36,
    "start_time": "2024-05-20T14:59:42.036Z"
   },
   {
    "duration": 17,
    "start_time": "2024-05-20T14:59:42.075Z"
   },
   {
    "duration": 8,
    "start_time": "2024-05-20T14:59:42.095Z"
   },
   {
    "duration": 19,
    "start_time": "2024-05-20T14:59:42.131Z"
   },
   {
    "duration": 90,
    "start_time": "2024-05-20T14:59:42.153Z"
   },
   {
    "duration": 12,
    "start_time": "2024-05-20T14:59:42.247Z"
   },
   {
    "duration": 13,
    "start_time": "2024-05-20T14:59:42.262Z"
   },
   {
    "duration": 147,
    "start_time": "2024-05-20T14:59:42.278Z"
   },
   {
    "duration": 102,
    "start_time": "2024-05-20T14:59:42.428Z"
   },
   {
    "duration": 54,
    "start_time": "2024-05-20T14:59:42.532Z"
   },
   {
    "duration": 139,
    "start_time": "2024-05-20T14:59:42.589Z"
   },
   {
    "duration": 42,
    "start_time": "2024-05-20T14:59:42.732Z"
   },
   {
    "duration": 25,
    "start_time": "2024-05-20T14:59:42.777Z"
   },
   {
    "duration": 67,
    "start_time": "2024-05-20T14:59:42.805Z"
   },
   {
    "duration": 170,
    "start_time": "2024-05-20T14:59:42.876Z"
   },
   {
    "duration": 800,
    "start_time": "2024-05-20T14:59:43.049Z"
   },
   {
    "duration": 719,
    "start_time": "2024-05-20T14:59:43.852Z"
   },
   {
    "duration": 18,
    "start_time": "2024-05-20T14:59:44.575Z"
   },
   {
    "duration": 8,
    "start_time": "2024-05-20T14:59:44.596Z"
   },
   {
    "duration": 0,
    "start_time": "2024-05-20T14:59:44.608Z"
   },
   {
    "duration": 0,
    "start_time": "2024-05-20T14:59:44.609Z"
   },
   {
    "duration": 0,
    "start_time": "2024-05-20T14:59:44.612Z"
   },
   {
    "duration": 0,
    "start_time": "2024-05-20T14:59:44.614Z"
   },
   {
    "duration": 0,
    "start_time": "2024-05-20T14:59:44.632Z"
   },
   {
    "duration": 0,
    "start_time": "2024-05-20T14:59:44.635Z"
   },
   {
    "duration": 0,
    "start_time": "2024-05-20T14:59:44.638Z"
   },
   {
    "duration": 0,
    "start_time": "2024-05-20T14:59:44.640Z"
   },
   {
    "duration": 8,
    "start_time": "2024-05-20T15:00:08.474Z"
   },
   {
    "duration": 9,
    "start_time": "2024-05-20T15:00:32.580Z"
   },
   {
    "duration": 816,
    "start_time": "2024-05-20T15:00:51.085Z"
   },
   {
    "duration": 867,
    "start_time": "2024-05-20T15:01:02.517Z"
   },
   {
    "duration": 1452,
    "start_time": "2024-05-20T15:01:44.232Z"
   },
   {
    "duration": 9,
    "start_time": "2024-05-20T15:01:58.236Z"
   },
   {
    "duration": 723,
    "start_time": "2024-05-20T15:02:10.245Z"
   },
   {
    "duration": 694,
    "start_time": "2024-05-20T15:02:27.584Z"
   },
   {
    "duration": 712,
    "start_time": "2024-05-20T15:02:48.457Z"
   },
   {
    "duration": 89,
    "start_time": "2024-05-20T15:04:20.544Z"
   },
   {
    "duration": 1341,
    "start_time": "2024-05-20T15:04:52.742Z"
   },
   {
    "duration": 269,
    "start_time": "2024-05-20T15:04:54.087Z"
   },
   {
    "duration": 15,
    "start_time": "2024-05-20T15:04:54.359Z"
   },
   {
    "duration": 22,
    "start_time": "2024-05-20T15:04:54.378Z"
   },
   {
    "duration": 45,
    "start_time": "2024-05-20T15:04:54.431Z"
   },
   {
    "duration": 6,
    "start_time": "2024-05-20T15:04:54.480Z"
   },
   {
    "duration": 7,
    "start_time": "2024-05-20T15:04:54.490Z"
   },
   {
    "duration": 6,
    "start_time": "2024-05-20T15:04:54.532Z"
   },
   {
    "duration": 6,
    "start_time": "2024-05-20T15:04:54.542Z"
   },
   {
    "duration": 9,
    "start_time": "2024-05-20T15:04:54.554Z"
   },
   {
    "duration": 8,
    "start_time": "2024-05-20T15:04:54.566Z"
   },
   {
    "duration": 65,
    "start_time": "2024-05-20T15:04:54.577Z"
   },
   {
    "duration": 15,
    "start_time": "2024-05-20T15:04:54.645Z"
   },
   {
    "duration": 22,
    "start_time": "2024-05-20T15:04:54.663Z"
   },
   {
    "duration": 45,
    "start_time": "2024-05-20T15:04:54.688Z"
   },
   {
    "duration": 9,
    "start_time": "2024-05-20T15:04:54.736Z"
   },
   {
    "duration": 9,
    "start_time": "2024-05-20T15:04:54.748Z"
   },
   {
    "duration": 10,
    "start_time": "2024-05-20T15:04:54.759Z"
   },
   {
    "duration": 61,
    "start_time": "2024-05-20T15:04:54.772Z"
   },
   {
    "duration": 26,
    "start_time": "2024-05-20T15:04:54.836Z"
   },
   {
    "duration": 16,
    "start_time": "2024-05-20T15:04:54.865Z"
   },
   {
    "duration": 46,
    "start_time": "2024-05-20T15:04:54.884Z"
   },
   {
    "duration": 20,
    "start_time": "2024-05-20T15:04:54.933Z"
   },
   {
    "duration": 77,
    "start_time": "2024-05-20T15:04:54.956Z"
   },
   {
    "duration": 11,
    "start_time": "2024-05-20T15:04:55.036Z"
   },
   {
    "duration": 19,
    "start_time": "2024-05-20T15:04:55.050Z"
   },
   {
    "duration": 13,
    "start_time": "2024-05-20T15:04:55.072Z"
   },
   {
    "duration": 14,
    "start_time": "2024-05-20T15:04:55.130Z"
   },
   {
    "duration": 29,
    "start_time": "2024-05-20T15:04:55.147Z"
   },
   {
    "duration": 10,
    "start_time": "2024-05-20T15:04:55.179Z"
   },
   {
    "duration": 23,
    "start_time": "2024-05-20T15:04:55.231Z"
   },
   {
    "duration": 18,
    "start_time": "2024-05-20T15:04:55.257Z"
   },
   {
    "duration": 9,
    "start_time": "2024-05-20T15:04:55.278Z"
   },
   {
    "duration": 55,
    "start_time": "2024-05-20T15:04:55.290Z"
   },
   {
    "duration": 85,
    "start_time": "2024-05-20T15:04:55.348Z"
   },
   {
    "duration": 12,
    "start_time": "2024-05-20T15:04:55.437Z"
   },
   {
    "duration": 11,
    "start_time": "2024-05-20T15:04:55.452Z"
   },
   {
    "duration": 146,
    "start_time": "2024-05-20T15:04:55.467Z"
   },
   {
    "duration": 100,
    "start_time": "2024-05-20T15:04:55.616Z"
   },
   {
    "duration": 51,
    "start_time": "2024-05-20T15:04:55.719Z"
   },
   {
    "duration": 140,
    "start_time": "2024-05-20T15:04:55.772Z"
   },
   {
    "duration": 41,
    "start_time": "2024-05-20T15:04:55.914Z"
   },
   {
    "duration": 25,
    "start_time": "2024-05-20T15:04:55.958Z"
   },
   {
    "duration": 65,
    "start_time": "2024-05-20T15:04:55.986Z"
   },
   {
    "duration": 156,
    "start_time": "2024-05-20T15:04:56.054Z"
   },
   {
    "duration": 796,
    "start_time": "2024-05-20T15:04:56.213Z"
   },
   {
    "duration": 747,
    "start_time": "2024-05-20T15:04:57.012Z"
   },
   {
    "duration": 18,
    "start_time": "2024-05-20T15:04:57.762Z"
   },
   {
    "duration": 684,
    "start_time": "2024-05-20T15:04:57.783Z"
   },
   {
    "duration": 223,
    "start_time": "2024-05-20T15:04:58.471Z"
   },
   {
    "duration": 234,
    "start_time": "2024-05-20T15:04:58.698Z"
   },
   {
    "duration": 409,
    "start_time": "2024-05-20T15:04:58.936Z"
   },
   {
    "duration": 241,
    "start_time": "2024-05-20T15:04:59.348Z"
   },
   {
    "duration": 453,
    "start_time": "2024-05-20T15:04:59.592Z"
   },
   {
    "duration": 11,
    "start_time": "2024-05-20T15:05:00.049Z"
   },
   {
    "duration": 9,
    "start_time": "2024-05-20T15:05:00.063Z"
   },
   {
    "duration": 14,
    "start_time": "2024-05-20T15:05:00.074Z"
   },
   {
    "duration": 781,
    "start_time": "2024-05-20T15:05:42.483Z"
   },
   {
    "duration": 379,
    "start_time": "2024-05-20T15:07:17.656Z"
   },
   {
    "duration": 6,
    "start_time": "2024-05-20T15:07:47.586Z"
   },
   {
    "duration": 14,
    "start_time": "2024-05-20T15:08:22.040Z"
   },
   {
    "duration": 16,
    "start_time": "2024-05-20T15:09:27.370Z"
   },
   {
    "duration": 16,
    "start_time": "2024-05-20T15:09:38.501Z"
   },
   {
    "duration": 20,
    "start_time": "2024-05-20T15:12:41.455Z"
   },
   {
    "duration": 1254,
    "start_time": "2024-05-20T15:12:48.564Z"
   },
   {
    "duration": 17,
    "start_time": "2024-05-20T15:15:20.454Z"
   },
   {
    "duration": 17,
    "start_time": "2024-05-20T15:47:11.657Z"
   },
   {
    "duration": 1327,
    "start_time": "2024-05-20T15:47:17.849Z"
   },
   {
    "duration": 268,
    "start_time": "2024-05-20T15:47:19.180Z"
   },
   {
    "duration": 16,
    "start_time": "2024-05-20T15:47:19.451Z"
   },
   {
    "duration": 17,
    "start_time": "2024-05-20T15:47:19.473Z"
   },
   {
    "duration": 63,
    "start_time": "2024-05-20T15:47:19.493Z"
   },
   {
    "duration": 6,
    "start_time": "2024-05-20T15:47:19.559Z"
   },
   {
    "duration": 8,
    "start_time": "2024-05-20T15:47:19.568Z"
   },
   {
    "duration": 7,
    "start_time": "2024-05-20T15:47:19.579Z"
   },
   {
    "duration": 7,
    "start_time": "2024-05-20T15:47:19.630Z"
   },
   {
    "duration": 8,
    "start_time": "2024-05-20T15:47:19.643Z"
   },
   {
    "duration": 7,
    "start_time": "2024-05-20T15:47:19.654Z"
   },
   {
    "duration": 18,
    "start_time": "2024-05-20T15:47:19.664Z"
   },
   {
    "duration": 15,
    "start_time": "2024-05-20T15:47:19.732Z"
   },
   {
    "duration": 20,
    "start_time": "2024-05-20T15:47:19.750Z"
   },
   {
    "duration": 8,
    "start_time": "2024-05-20T15:47:19.773Z"
   },
   {
    "duration": 51,
    "start_time": "2024-05-20T15:47:19.784Z"
   },
   {
    "duration": 8,
    "start_time": "2024-05-20T15:47:19.839Z"
   },
   {
    "duration": 9,
    "start_time": "2024-05-20T15:47:19.850Z"
   },
   {
    "duration": 13,
    "start_time": "2024-05-20T15:47:19.862Z"
   },
   {
    "duration": 64,
    "start_time": "2024-05-20T15:47:19.878Z"
   },
   {
    "duration": 17,
    "start_time": "2024-05-20T15:47:19.945Z"
   },
   {
    "duration": 8,
    "start_time": "2024-05-20T15:47:19.965Z"
   },
   {
    "duration": 56,
    "start_time": "2024-05-20T15:47:19.975Z"
   },
   {
    "duration": 58,
    "start_time": "2024-05-20T15:47:20.033Z"
   },
   {
    "duration": 11,
    "start_time": "2024-05-20T15:47:20.094Z"
   },
   {
    "duration": 19,
    "start_time": "2024-05-20T15:47:20.132Z"
   },
   {
    "duration": 14,
    "start_time": "2024-05-20T15:47:20.154Z"
   },
   {
    "duration": 15,
    "start_time": "2024-05-20T15:47:20.178Z"
   },
   {
    "duration": 30,
    "start_time": "2024-05-20T15:47:20.231Z"
   },
   {
    "duration": 13,
    "start_time": "2024-05-20T15:47:20.264Z"
   },
   {
    "duration": 55,
    "start_time": "2024-05-20T15:47:20.281Z"
   },
   {
    "duration": 15,
    "start_time": "2024-05-20T15:47:20.339Z"
   },
   {
    "duration": 8,
    "start_time": "2024-05-20T15:47:20.357Z"
   },
   {
    "duration": 18,
    "start_time": "2024-05-20T15:47:20.369Z"
   },
   {
    "duration": 107,
    "start_time": "2024-05-20T15:47:20.389Z"
   },
   {
    "duration": 35,
    "start_time": "2024-05-20T15:47:20.499Z"
   },
   {
    "duration": 15,
    "start_time": "2024-05-20T15:47:20.537Z"
   },
   {
    "duration": 124,
    "start_time": "2024-05-20T15:47:20.555Z"
   },
   {
    "duration": 97,
    "start_time": "2024-05-20T15:47:20.682Z"
   },
   {
    "duration": 50,
    "start_time": "2024-05-20T15:47:20.782Z"
   },
   {
    "duration": 113,
    "start_time": "2024-05-20T15:47:20.835Z"
   },
   {
    "duration": 39,
    "start_time": "2024-05-20T15:47:20.951Z"
   },
   {
    "duration": 25,
    "start_time": "2024-05-20T15:47:20.992Z"
   },
   {
    "duration": 43,
    "start_time": "2024-05-20T15:47:21.030Z"
   },
   {
    "duration": 163,
    "start_time": "2024-05-20T15:47:21.076Z"
   },
   {
    "duration": 823,
    "start_time": "2024-05-20T15:47:21.241Z"
   },
   {
    "duration": 724,
    "start_time": "2024-05-20T15:47:22.067Z"
   },
   {
    "duration": 16,
    "start_time": "2024-05-20T15:47:22.794Z"
   },
   {
    "duration": 661,
    "start_time": "2024-05-20T15:47:22.813Z"
   },
   {
    "duration": 262,
    "start_time": "2024-05-20T15:47:23.478Z"
   },
   {
    "duration": 219,
    "start_time": "2024-05-20T15:47:23.745Z"
   },
   {
    "duration": 392,
    "start_time": "2024-05-20T15:47:23.967Z"
   },
   {
    "duration": 16,
    "start_time": "2024-05-20T15:47:24.362Z"
   },
   {
    "duration": 255,
    "start_time": "2024-05-20T15:47:24.381Z"
   },
   {
    "duration": 476,
    "start_time": "2024-05-20T15:47:24.639Z"
   },
   {
    "duration": 24,
    "start_time": "2024-05-20T15:47:25.118Z"
   },
   {
    "duration": 13,
    "start_time": "2024-05-20T15:47:25.145Z"
   },
   {
    "duration": 7,
    "start_time": "2024-05-20T15:47:25.161Z"
   },
   {
    "duration": 58,
    "start_time": "2024-05-20T15:47:25.171Z"
   },
   {
    "duration": 8,
    "start_time": "2024-05-20T15:56:06.317Z"
   },
   {
    "duration": 14,
    "start_time": "2024-05-20T16:27:43.021Z"
   },
   {
    "duration": 1249,
    "start_time": "2024-05-20T16:27:49.355Z"
   },
   {
    "duration": 269,
    "start_time": "2024-05-20T16:27:50.608Z"
   },
   {
    "duration": 16,
    "start_time": "2024-05-20T16:27:50.879Z"
   },
   {
    "duration": 35,
    "start_time": "2024-05-20T16:27:50.898Z"
   },
   {
    "duration": 34,
    "start_time": "2024-05-20T16:27:50.937Z"
   },
   {
    "duration": 6,
    "start_time": "2024-05-20T16:27:50.974Z"
   },
   {
    "duration": 7,
    "start_time": "2024-05-20T16:27:50.983Z"
   },
   {
    "duration": 43,
    "start_time": "2024-05-20T16:27:50.993Z"
   },
   {
    "duration": 7,
    "start_time": "2024-05-20T16:27:51.039Z"
   },
   {
    "duration": 10,
    "start_time": "2024-05-20T16:27:51.049Z"
   },
   {
    "duration": 8,
    "start_time": "2024-05-20T16:27:51.062Z"
   },
   {
    "duration": 64,
    "start_time": "2024-05-20T16:27:51.074Z"
   },
   {
    "duration": 15,
    "start_time": "2024-05-20T16:27:51.141Z"
   },
   {
    "duration": 18,
    "start_time": "2024-05-20T16:27:51.163Z"
   },
   {
    "duration": 8,
    "start_time": "2024-05-20T16:27:51.185Z"
   },
   {
    "duration": 8,
    "start_time": "2024-05-20T16:27:51.232Z"
   },
   {
    "duration": 9,
    "start_time": "2024-05-20T16:27:51.242Z"
   },
   {
    "duration": 9,
    "start_time": "2024-05-20T16:27:51.254Z"
   },
   {
    "duration": 12,
    "start_time": "2024-05-20T16:27:51.266Z"
   },
   {
    "duration": 29,
    "start_time": "2024-05-20T16:27:51.334Z"
   },
   {
    "duration": 18,
    "start_time": "2024-05-20T16:27:51.370Z"
   },
   {
    "duration": 8,
    "start_time": "2024-05-20T16:27:51.393Z"
   },
   {
    "duration": 19,
    "start_time": "2024-05-20T16:27:51.432Z"
   },
   {
    "duration": 78,
    "start_time": "2024-05-20T16:27:51.454Z"
   },
   {
    "duration": 11,
    "start_time": "2024-05-20T16:27:51.535Z"
   },
   {
    "duration": 20,
    "start_time": "2024-05-20T16:27:51.549Z"
   },
   {
    "duration": 12,
    "start_time": "2024-05-20T16:27:51.572Z"
   },
   {
    "duration": 51,
    "start_time": "2024-05-20T16:27:51.588Z"
   },
   {
    "duration": 30,
    "start_time": "2024-05-20T16:27:51.642Z"
   },
   {
    "duration": 10,
    "start_time": "2024-05-20T16:27:51.675Z"
   },
   {
    "duration": 59,
    "start_time": "2024-05-20T16:27:51.688Z"
   },
   {
    "duration": 17,
    "start_time": "2024-05-20T16:27:51.750Z"
   },
   {
    "duration": 10,
    "start_time": "2024-05-20T16:27:51.774Z"
   },
   {
    "duration": 50,
    "start_time": "2024-05-20T16:27:51.788Z"
   },
   {
    "duration": 63,
    "start_time": "2024-05-20T16:27:51.842Z"
   },
   {
    "duration": 31,
    "start_time": "2024-05-20T16:27:51.909Z"
   },
   {
    "duration": 12,
    "start_time": "2024-05-20T16:27:51.944Z"
   },
   {
    "duration": 148,
    "start_time": "2024-05-20T16:27:51.959Z"
   },
   {
    "duration": 95,
    "start_time": "2024-05-20T16:27:52.110Z"
   },
   {
    "duration": 53,
    "start_time": "2024-05-20T16:27:52.208Z"
   },
   {
    "duration": 127,
    "start_time": "2024-05-20T16:27:52.269Z"
   },
   {
    "duration": 45,
    "start_time": "2024-05-20T16:27:52.399Z"
   },
   {
    "duration": 30,
    "start_time": "2024-05-20T16:27:52.447Z"
   },
   {
    "duration": 73,
    "start_time": "2024-05-20T16:27:52.482Z"
   },
   {
    "duration": 162,
    "start_time": "2024-05-20T16:27:52.558Z"
   },
   {
    "duration": 786,
    "start_time": "2024-05-20T16:27:52.730Z"
   },
   {
    "duration": 752,
    "start_time": "2024-05-20T16:27:53.519Z"
   },
   {
    "duration": 17,
    "start_time": "2024-05-20T16:27:54.275Z"
   },
   {
    "duration": 682,
    "start_time": "2024-05-20T16:27:54.295Z"
   },
   {
    "duration": 237,
    "start_time": "2024-05-20T16:27:54.980Z"
   },
   {
    "duration": 230,
    "start_time": "2024-05-20T16:27:55.220Z"
   },
   {
    "duration": 399,
    "start_time": "2024-05-20T16:27:55.454Z"
   },
   {
    "duration": 18,
    "start_time": "2024-05-20T16:27:55.856Z"
   },
   {
    "duration": 253,
    "start_time": "2024-05-20T16:27:55.877Z"
   },
   {
    "duration": 444,
    "start_time": "2024-05-20T16:27:56.133Z"
   },
   {
    "duration": 17,
    "start_time": "2024-05-20T16:27:56.580Z"
   },
   {
    "duration": 34,
    "start_time": "2024-05-20T16:27:56.600Z"
   },
   {
    "duration": 8,
    "start_time": "2024-05-20T16:27:56.637Z"
   },
   {
    "duration": 12,
    "start_time": "2024-05-20T16:27:56.648Z"
   },
   {
    "duration": 6,
    "start_time": "2024-05-20T16:27:56.664Z"
   },
   {
    "duration": 5054,
    "start_time": "2024-05-20T20:06:42.815Z"
   },
   {
    "duration": 353,
    "start_time": "2024-05-20T20:06:47.873Z"
   },
   {
    "duration": 17,
    "start_time": "2024-05-20T20:06:48.229Z"
   },
   {
    "duration": 18,
    "start_time": "2024-05-20T20:06:48.250Z"
   },
   {
    "duration": 58,
    "start_time": "2024-05-20T20:06:48.271Z"
   },
   {
    "duration": 6,
    "start_time": "2024-05-20T20:06:48.332Z"
   },
   {
    "duration": 8,
    "start_time": "2024-05-20T20:06:48.341Z"
   },
   {
    "duration": 9,
    "start_time": "2024-05-20T20:06:48.352Z"
   },
   {
    "duration": 45,
    "start_time": "2024-05-20T20:06:48.365Z"
   },
   {
    "duration": 8,
    "start_time": "2024-05-20T20:06:48.416Z"
   },
   {
    "duration": 8,
    "start_time": "2024-05-20T20:06:48.427Z"
   },
   {
    "duration": 15,
    "start_time": "2024-05-20T20:06:48.438Z"
   },
   {
    "duration": 59,
    "start_time": "2024-05-20T20:06:48.456Z"
   },
   {
    "duration": 21,
    "start_time": "2024-05-20T20:06:48.519Z"
   },
   {
    "duration": 9,
    "start_time": "2024-05-20T20:06:48.543Z"
   },
   {
    "duration": 53,
    "start_time": "2024-05-20T20:06:48.556Z"
   },
   {
    "duration": 8,
    "start_time": "2024-05-20T20:06:48.612Z"
   },
   {
    "duration": 9,
    "start_time": "2024-05-20T20:06:48.623Z"
   },
   {
    "duration": 19,
    "start_time": "2024-05-20T20:06:48.635Z"
   },
   {
    "duration": 62,
    "start_time": "2024-05-20T20:06:48.661Z"
   },
   {
    "duration": 19,
    "start_time": "2024-05-20T20:06:48.728Z"
   },
   {
    "duration": 16,
    "start_time": "2024-05-20T20:06:48.754Z"
   },
   {
    "duration": 55,
    "start_time": "2024-05-20T20:06:48.773Z"
   },
   {
    "duration": 78,
    "start_time": "2024-05-20T20:06:48.832Z"
   },
   {
    "duration": 11,
    "start_time": "2024-05-20T20:06:48.913Z"
   },
   {
    "duration": 20,
    "start_time": "2024-05-20T20:06:48.928Z"
   },
   {
    "duration": 19,
    "start_time": "2024-05-20T20:06:48.952Z"
   },
   {
    "duration": 15,
    "start_time": "2024-05-20T20:06:49.013Z"
   },
   {
    "duration": 30,
    "start_time": "2024-05-20T20:06:49.031Z"
   },
   {
    "duration": 43,
    "start_time": "2024-05-20T20:06:49.064Z"
   },
   {
    "duration": 23,
    "start_time": "2024-05-20T20:06:49.110Z"
   },
   {
    "duration": 14,
    "start_time": "2024-05-20T20:06:49.136Z"
   },
   {
    "duration": 8,
    "start_time": "2024-05-20T20:06:49.153Z"
   },
   {
    "duration": 53,
    "start_time": "2024-05-20T20:06:49.164Z"
   },
   {
    "duration": 63,
    "start_time": "2024-05-20T20:06:49.220Z"
   },
   {
    "duration": 11,
    "start_time": "2024-05-20T20:06:49.310Z"
   },
   {
    "duration": 12,
    "start_time": "2024-05-20T20:06:49.324Z"
   },
   {
    "duration": 147,
    "start_time": "2024-05-20T20:06:49.339Z"
   },
   {
    "duration": 105,
    "start_time": "2024-05-20T20:06:49.489Z"
   },
   {
    "duration": 53,
    "start_time": "2024-05-20T20:06:49.596Z"
   },
   {
    "duration": 158,
    "start_time": "2024-05-20T20:06:49.652Z"
   },
   {
    "duration": 41,
    "start_time": "2024-05-20T20:06:49.813Z"
   },
   {
    "duration": 28,
    "start_time": "2024-05-20T20:06:49.856Z"
   },
   {
    "duration": 53,
    "start_time": "2024-05-20T20:06:49.911Z"
   },
   {
    "duration": 172,
    "start_time": "2024-05-20T20:06:49.968Z"
   },
   {
    "duration": 714,
    "start_time": "2024-05-20T20:06:50.142Z"
   },
   {
    "duration": 786,
    "start_time": "2024-05-20T20:06:50.859Z"
   },
   {
    "duration": 17,
    "start_time": "2024-05-20T20:06:51.649Z"
   },
   {
    "duration": 754,
    "start_time": "2024-05-20T20:06:51.669Z"
   },
   {
    "duration": 232,
    "start_time": "2024-05-20T20:06:52.426Z"
   },
   {
    "duration": 224,
    "start_time": "2024-05-20T20:06:52.661Z"
   },
   {
    "duration": 455,
    "start_time": "2024-05-20T20:06:52.888Z"
   },
   {
    "duration": 19,
    "start_time": "2024-05-20T20:06:53.346Z"
   },
   {
    "duration": 254,
    "start_time": "2024-05-20T20:06:53.370Z"
   },
   {
    "duration": 476,
    "start_time": "2024-05-20T20:06:53.627Z"
   },
   {
    "duration": 16,
    "start_time": "2024-05-20T20:06:54.111Z"
   },
   {
    "duration": 11,
    "start_time": "2024-05-20T20:06:54.130Z"
   },
   {
    "duration": 7,
    "start_time": "2024-05-20T20:06:54.144Z"
   },
   {
    "duration": 57,
    "start_time": "2024-05-20T20:06:54.155Z"
   },
   {
    "duration": 6,
    "start_time": "2024-05-20T20:06:54.215Z"
   },
   {
    "duration": 38,
    "start_time": "2024-05-20T20:08:16.206Z"
   },
   {
    "duration": 19,
    "start_time": "2024-05-21T17:00:14.356Z"
   },
   {
    "duration": 393,
    "start_time": "2024-05-21T17:00:27.661Z"
   },
   {
    "duration": 5406,
    "start_time": "2024-05-21T17:00:37.834Z"
   },
   {
    "duration": 382,
    "start_time": "2024-05-21T17:00:43.246Z"
   },
   {
    "duration": 16,
    "start_time": "2024-05-21T17:00:43.631Z"
   },
   {
    "duration": 18,
    "start_time": "2024-05-21T17:00:43.651Z"
   },
   {
    "duration": 71,
    "start_time": "2024-05-21T17:00:43.673Z"
   },
   {
    "duration": 6,
    "start_time": "2024-05-21T17:00:43.747Z"
   },
   {
    "duration": 7,
    "start_time": "2024-05-21T17:00:43.757Z"
   },
   {
    "duration": 7,
    "start_time": "2024-05-21T17:00:43.767Z"
   },
   {
    "duration": 53,
    "start_time": "2024-05-21T17:00:43.778Z"
   },
   {
    "duration": 10,
    "start_time": "2024-05-21T17:00:43.834Z"
   },
   {
    "duration": 9,
    "start_time": "2024-05-21T17:00:43.847Z"
   },
   {
    "duration": 16,
    "start_time": "2024-05-21T17:00:43.860Z"
   },
   {
    "duration": 14,
    "start_time": "2024-05-21T17:00:43.926Z"
   },
   {
    "duration": 18,
    "start_time": "2024-05-21T17:00:43.948Z"
   },
   {
    "duration": 8,
    "start_time": "2024-05-21T17:00:43.969Z"
   },
   {
    "duration": 49,
    "start_time": "2024-05-21T17:00:43.979Z"
   },
   {
    "duration": 9,
    "start_time": "2024-05-21T17:00:44.032Z"
   },
   {
    "duration": 10,
    "start_time": "2024-05-21T17:00:44.045Z"
   },
   {
    "duration": 11,
    "start_time": "2024-05-21T17:00:44.058Z"
   },
   {
    "duration": 77,
    "start_time": "2024-05-21T17:00:44.072Z"
   },
   {
    "duration": 16,
    "start_time": "2024-05-21T17:00:44.154Z"
   },
   {
    "duration": 8,
    "start_time": "2024-05-21T17:00:44.173Z"
   },
   {
    "duration": 48,
    "start_time": "2024-05-21T17:00:44.184Z"
   },
   {
    "duration": 57,
    "start_time": "2024-05-21T17:00:44.236Z"
   },
   {
    "duration": 38,
    "start_time": "2024-05-21T17:00:44.296Z"
   },
   {
    "duration": 20,
    "start_time": "2024-05-21T17:00:44.338Z"
   },
   {
    "duration": 13,
    "start_time": "2024-05-21T17:00:44.361Z"
   },
   {
    "duration": 53,
    "start_time": "2024-05-21T17:00:44.377Z"
   },
   {
    "duration": 31,
    "start_time": "2024-05-21T17:00:44.433Z"
   },
   {
    "duration": 12,
    "start_time": "2024-05-21T17:00:44.467Z"
   },
   {
    "duration": 57,
    "start_time": "2024-05-21T17:00:44.482Z"
   },
   {
    "duration": 15,
    "start_time": "2024-05-21T17:00:44.543Z"
   },
   {
    "duration": 10,
    "start_time": "2024-05-21T17:00:44.560Z"
   },
   {
    "duration": 57,
    "start_time": "2024-05-21T17:00:44.573Z"
   },
   {
    "duration": 73,
    "start_time": "2024-05-21T17:00:44.633Z"
   },
   {
    "duration": 11,
    "start_time": "2024-05-21T17:00:44.727Z"
   },
   {
    "duration": 13,
    "start_time": "2024-05-21T17:00:44.742Z"
   },
   {
    "duration": 146,
    "start_time": "2024-05-21T17:00:44.758Z"
   },
   {
    "duration": 109,
    "start_time": "2024-05-21T17:00:44.907Z"
   },
   {
    "duration": 53,
    "start_time": "2024-05-21T17:00:45.018Z"
   },
   {
    "duration": 159,
    "start_time": "2024-05-21T17:00:45.080Z"
   },
   {
    "duration": 41,
    "start_time": "2024-05-21T17:00:45.242Z"
   },
   {
    "duration": 46,
    "start_time": "2024-05-21T17:00:45.286Z"
   },
   {
    "duration": 45,
    "start_time": "2024-05-21T17:00:45.335Z"
   },
   {
    "duration": 176,
    "start_time": "2024-05-21T17:00:45.384Z"
   },
   {
    "duration": 770,
    "start_time": "2024-05-21T17:00:45.564Z"
   },
   {
    "duration": 730,
    "start_time": "2024-05-21T17:00:46.337Z"
   },
   {
    "duration": 17,
    "start_time": "2024-05-21T17:00:47.071Z"
   },
   {
    "duration": 690,
    "start_time": "2024-05-21T17:00:47.092Z"
   },
   {
    "duration": 346,
    "start_time": "2024-05-21T17:00:47.786Z"
   },
   {
    "duration": 224,
    "start_time": "2024-05-21T17:00:48.135Z"
   },
   {
    "duration": 413,
    "start_time": "2024-05-21T17:00:48.362Z"
   },
   {
    "duration": 17,
    "start_time": "2024-05-21T17:00:48.778Z"
   },
   {
    "duration": 253,
    "start_time": "2024-05-21T17:00:48.799Z"
   },
   {
    "duration": 476,
    "start_time": "2024-05-21T17:00:49.057Z"
   },
   {
    "duration": 21,
    "start_time": "2024-05-21T17:00:49.536Z"
   },
   {
    "duration": 13,
    "start_time": "2024-05-21T17:00:49.560Z"
   },
   {
    "duration": 474,
    "start_time": "2024-05-21T17:00:49.578Z"
   },
   {
    "duration": 0,
    "start_time": "2024-05-21T17:00:50.056Z"
   },
   {
    "duration": 0,
    "start_time": "2024-05-21T17:00:50.058Z"
   },
   {
    "duration": 0,
    "start_time": "2024-05-21T17:00:50.061Z"
   },
   {
    "duration": 27,
    "start_time": "2024-05-21T17:01:49.022Z"
   },
   {
    "duration": 1312,
    "start_time": "2024-05-21T17:02:02.102Z"
   },
   {
    "duration": 291,
    "start_time": "2024-05-21T17:02:03.425Z"
   },
   {
    "duration": 18,
    "start_time": "2024-05-21T17:02:03.719Z"
   },
   {
    "duration": 19,
    "start_time": "2024-05-21T17:02:03.743Z"
   },
   {
    "duration": 65,
    "start_time": "2024-05-21T17:02:03.765Z"
   },
   {
    "duration": 6,
    "start_time": "2024-05-21T17:02:03.834Z"
   },
   {
    "duration": 8,
    "start_time": "2024-05-21T17:02:03.843Z"
   },
   {
    "duration": 8,
    "start_time": "2024-05-21T17:02:03.854Z"
   },
   {
    "duration": 7,
    "start_time": "2024-05-21T17:02:03.866Z"
   },
   {
    "duration": 9,
    "start_time": "2024-05-21T17:02:03.931Z"
   },
   {
    "duration": 9,
    "start_time": "2024-05-21T17:02:03.943Z"
   },
   {
    "duration": 16,
    "start_time": "2024-05-21T17:02:03.955Z"
   },
   {
    "duration": 63,
    "start_time": "2024-05-21T17:02:03.975Z"
   },
   {
    "duration": 20,
    "start_time": "2024-05-21T17:02:04.040Z"
   },
   {
    "duration": 8,
    "start_time": "2024-05-21T17:02:04.063Z"
   },
   {
    "duration": 8,
    "start_time": "2024-05-21T17:02:04.074Z"
   },
   {
    "duration": 9,
    "start_time": "2024-05-21T17:02:04.127Z"
   },
   {
    "duration": 9,
    "start_time": "2024-05-21T17:02:04.140Z"
   },
   {
    "duration": 12,
    "start_time": "2024-05-21T17:02:04.152Z"
   },
   {
    "duration": 67,
    "start_time": "2024-05-21T17:02:04.167Z"
   },
   {
    "duration": 17,
    "start_time": "2024-05-21T17:02:04.238Z"
   },
   {
    "duration": 9,
    "start_time": "2024-05-21T17:02:04.257Z"
   },
   {
    "duration": 56,
    "start_time": "2024-05-21T17:02:04.269Z"
   },
   {
    "duration": 59,
    "start_time": "2024-05-21T17:02:04.328Z"
   },
   {
    "duration": 11,
    "start_time": "2024-05-21T17:02:04.389Z"
   },
   {
    "duration": 46,
    "start_time": "2024-05-21T17:02:04.403Z"
   },
   {
    "duration": 15,
    "start_time": "2024-05-21T17:02:04.456Z"
   },
   {
    "duration": 48,
    "start_time": "2024-05-21T17:02:04.481Z"
   },
   {
    "duration": 34,
    "start_time": "2024-05-21T17:02:04.533Z"
   },
   {
    "duration": 11,
    "start_time": "2024-05-21T17:02:04.570Z"
   },
   {
    "duration": 61,
    "start_time": "2024-05-21T17:02:04.585Z"
   },
   {
    "duration": 15,
    "start_time": "2024-05-21T17:02:04.649Z"
   },
   {
    "duration": 9,
    "start_time": "2024-05-21T17:02:04.667Z"
   },
   {
    "duration": 57,
    "start_time": "2024-05-21T17:02:04.679Z"
   },
   {
    "duration": 87,
    "start_time": "2024-05-21T17:02:04.739Z"
   },
   {
    "duration": 12,
    "start_time": "2024-05-21T17:02:04.829Z"
   },
   {
    "duration": 12,
    "start_time": "2024-05-21T17:02:04.844Z"
   },
   {
    "duration": 141,
    "start_time": "2024-05-21T17:02:04.860Z"
   },
   {
    "duration": 98,
    "start_time": "2024-05-21T17:02:05.004Z"
   },
   {
    "duration": 53,
    "start_time": "2024-05-21T17:02:05.105Z"
   },
   {
    "duration": 131,
    "start_time": "2024-05-21T17:02:05.161Z"
   },
   {
    "duration": 41,
    "start_time": "2024-05-21T17:02:05.295Z"
   },
   {
    "duration": 28,
    "start_time": "2024-05-21T17:02:05.339Z"
   },
   {
    "duration": 71,
    "start_time": "2024-05-21T17:02:05.371Z"
   },
   {
    "duration": 171,
    "start_time": "2024-05-21T17:02:05.446Z"
   },
   {
    "duration": 807,
    "start_time": "2024-05-21T17:02:05.628Z"
   },
   {
    "duration": 727,
    "start_time": "2024-05-21T17:02:06.441Z"
   },
   {
    "duration": 17,
    "start_time": "2024-05-21T17:02:07.171Z"
   },
   {
    "duration": 706,
    "start_time": "2024-05-21T17:02:07.191Z"
   },
   {
    "duration": 246,
    "start_time": "2024-05-21T17:02:07.901Z"
   },
   {
    "duration": 229,
    "start_time": "2024-05-21T17:02:08.150Z"
   },
   {
    "duration": 417,
    "start_time": "2024-05-21T17:02:08.383Z"
   },
   {
    "duration": 33,
    "start_time": "2024-05-21T17:02:08.803Z"
   },
   {
    "duration": 251,
    "start_time": "2024-05-21T17:02:08.842Z"
   },
   {
    "duration": 485,
    "start_time": "2024-05-21T17:02:09.097Z"
   },
   {
    "duration": 17,
    "start_time": "2024-05-21T17:02:09.585Z"
   },
   {
    "duration": 565,
    "start_time": "2024-05-21T17:02:09.605Z"
   },
   {
    "duration": 0,
    "start_time": "2024-05-21T17:02:10.172Z"
   },
   {
    "duration": 0,
    "start_time": "2024-05-21T17:02:10.174Z"
   },
   {
    "duration": 0,
    "start_time": "2024-05-21T17:02:10.177Z"
   },
   {
    "duration": 0,
    "start_time": "2024-05-21T17:02:10.179Z"
   },
   {
    "duration": 9,
    "start_time": "2024-05-21T17:05:18.124Z"
   },
   {
    "duration": 4,
    "start_time": "2024-05-21T17:08:15.780Z"
   },
   {
    "duration": 1351,
    "start_time": "2024-05-21T17:08:21.275Z"
   },
   {
    "duration": 310,
    "start_time": "2024-05-21T17:08:22.629Z"
   },
   {
    "duration": 20,
    "start_time": "2024-05-21T17:08:22.943Z"
   },
   {
    "duration": 22,
    "start_time": "2024-05-21T17:08:22.969Z"
   },
   {
    "duration": 69,
    "start_time": "2024-05-21T17:08:22.995Z"
   },
   {
    "duration": 7,
    "start_time": "2024-05-21T17:08:23.067Z"
   },
   {
    "duration": 9,
    "start_time": "2024-05-21T17:08:23.078Z"
   },
   {
    "duration": 7,
    "start_time": "2024-05-21T17:08:23.125Z"
   },
   {
    "duration": 8,
    "start_time": "2024-05-21T17:08:23.136Z"
   },
   {
    "duration": 10,
    "start_time": "2024-05-21T17:08:23.152Z"
   },
   {
    "duration": 8,
    "start_time": "2024-05-21T17:08:23.165Z"
   },
   {
    "duration": 65,
    "start_time": "2024-05-21T17:08:23.176Z"
   },
   {
    "duration": 16,
    "start_time": "2024-05-21T17:08:23.245Z"
   },
   {
    "duration": 67,
    "start_time": "2024-05-21T17:08:23.264Z"
   },
   {
    "duration": 9,
    "start_time": "2024-05-21T17:08:23.335Z"
   },
   {
    "duration": 8,
    "start_time": "2024-05-21T17:08:23.347Z"
   },
   {
    "duration": 9,
    "start_time": "2024-05-21T17:08:23.359Z"
   },
   {
    "duration": 56,
    "start_time": "2024-05-21T17:08:23.372Z"
   },
   {
    "duration": 15,
    "start_time": "2024-05-21T17:08:23.431Z"
   },
   {
    "duration": 27,
    "start_time": "2024-05-21T17:08:23.450Z"
   },
   {
    "duration": 51,
    "start_time": "2024-05-21T17:08:23.480Z"
   },
   {
    "duration": 10,
    "start_time": "2024-05-21T17:08:23.534Z"
   },
   {
    "duration": 20,
    "start_time": "2024-05-21T17:08:23.547Z"
   },
   {
    "duration": 106,
    "start_time": "2024-05-21T17:08:23.571Z"
   },
   {
    "duration": 12,
    "start_time": "2024-05-21T17:08:23.681Z"
   },
   {
    "duration": 45,
    "start_time": "2024-05-21T17:08:23.698Z"
   },
   {
    "duration": 15,
    "start_time": "2024-05-21T17:08:23.747Z"
   },
   {
    "duration": 16,
    "start_time": "2024-05-21T17:08:23.771Z"
   },
   {
    "duration": 32,
    "start_time": "2024-05-21T17:08:23.827Z"
   },
   {
    "duration": 14,
    "start_time": "2024-05-21T17:08:23.862Z"
   },
   {
    "duration": 58,
    "start_time": "2024-05-21T17:08:23.879Z"
   },
   {
    "duration": 16,
    "start_time": "2024-05-21T17:08:23.940Z"
   },
   {
    "duration": 12,
    "start_time": "2024-05-21T17:08:23.959Z"
   },
   {
    "duration": 60,
    "start_time": "2024-05-21T17:08:23.974Z"
   },
   {
    "duration": 99,
    "start_time": "2024-05-21T17:08:24.038Z"
   },
   {
    "duration": 14,
    "start_time": "2024-05-21T17:08:24.140Z"
   },
   {
    "duration": 13,
    "start_time": "2024-05-21T17:08:24.158Z"
   },
   {
    "duration": 144,
    "start_time": "2024-05-21T17:08:24.175Z"
   },
   {
    "duration": 98,
    "start_time": "2024-05-21T17:08:24.323Z"
   },
   {
    "duration": 56,
    "start_time": "2024-05-21T17:08:24.424Z"
   },
   {
    "duration": 149,
    "start_time": "2024-05-21T17:08:24.483Z"
   },
   {
    "duration": 42,
    "start_time": "2024-05-21T17:08:24.636Z"
   },
   {
    "duration": 29,
    "start_time": "2024-05-21T17:08:24.681Z"
   },
   {
    "duration": 46,
    "start_time": "2024-05-21T17:08:24.728Z"
   },
   {
    "duration": 179,
    "start_time": "2024-05-21T17:08:24.778Z"
   },
   {
    "duration": 1073,
    "start_time": "2024-05-21T17:08:24.962Z"
   },
   {
    "duration": 952,
    "start_time": "2024-05-21T17:08:26.042Z"
   },
   {
    "duration": 22,
    "start_time": "2024-05-21T17:08:26.998Z"
   },
   {
    "duration": 766,
    "start_time": "2024-05-21T17:08:27.023Z"
   },
   {
    "duration": 288,
    "start_time": "2024-05-21T17:08:27.794Z"
   },
   {
    "duration": 260,
    "start_time": "2024-05-21T17:08:28.085Z"
   },
   {
    "duration": 490,
    "start_time": "2024-05-21T17:08:28.349Z"
   },
   {
    "duration": 21,
    "start_time": "2024-05-21T17:08:28.845Z"
   },
   {
    "duration": 285,
    "start_time": "2024-05-21T17:08:28.870Z"
   },
   {
    "duration": 617,
    "start_time": "2024-05-21T17:08:29.159Z"
   },
   {
    "duration": 22,
    "start_time": "2024-05-21T17:08:29.780Z"
   },
   {
    "duration": 647,
    "start_time": "2024-05-21T17:08:29.831Z"
   },
   {
    "duration": 0,
    "start_time": "2024-05-21T17:08:30.483Z"
   },
   {
    "duration": 1,
    "start_time": "2024-05-21T17:08:30.485Z"
   },
   {
    "duration": 0,
    "start_time": "2024-05-21T17:08:30.489Z"
   },
   {
    "duration": 12,
    "start_time": "2024-05-21T17:08:44.061Z"
   },
   {
    "duration": 33,
    "start_time": "2024-05-21T17:08:48.846Z"
   },
   {
    "duration": 13,
    "start_time": "2024-05-21T17:08:54.710Z"
   },
   {
    "duration": 15,
    "start_time": "2024-05-21T17:13:11.135Z"
   },
   {
    "duration": 1373,
    "start_time": "2024-05-21T17:13:33.320Z"
   },
   {
    "duration": 297,
    "start_time": "2024-05-21T17:13:34.696Z"
   },
   {
    "duration": 19,
    "start_time": "2024-05-21T17:13:34.996Z"
   },
   {
    "duration": 19,
    "start_time": "2024-05-21T17:13:35.029Z"
   },
   {
    "duration": 37,
    "start_time": "2024-05-21T17:13:35.051Z"
   },
   {
    "duration": 37,
    "start_time": "2024-05-21T17:13:35.092Z"
   },
   {
    "duration": 10,
    "start_time": "2024-05-21T17:13:35.133Z"
   },
   {
    "duration": 7,
    "start_time": "2024-05-21T17:13:35.146Z"
   },
   {
    "duration": 7,
    "start_time": "2024-05-21T17:13:35.157Z"
   },
   {
    "duration": 59,
    "start_time": "2024-05-21T17:13:35.172Z"
   },
   {
    "duration": 8,
    "start_time": "2024-05-21T17:13:35.234Z"
   },
   {
    "duration": 18,
    "start_time": "2024-05-21T17:13:35.244Z"
   },
   {
    "duration": 15,
    "start_time": "2024-05-21T17:13:35.265Z"
   },
   {
    "duration": 55,
    "start_time": "2024-05-21T17:13:35.284Z"
   },
   {
    "duration": 8,
    "start_time": "2024-05-21T17:13:35.343Z"
   },
   {
    "duration": 10,
    "start_time": "2024-05-21T17:13:35.354Z"
   },
   {
    "duration": 9,
    "start_time": "2024-05-21T17:13:35.367Z"
   },
   {
    "duration": 9,
    "start_time": "2024-05-21T17:13:35.428Z"
   },
   {
    "duration": 12,
    "start_time": "2024-05-21T17:13:35.440Z"
   },
   {
    "duration": 26,
    "start_time": "2024-05-21T17:13:35.457Z"
   },
   {
    "duration": 19,
    "start_time": "2024-05-21T17:13:35.528Z"
   },
   {
    "duration": 8,
    "start_time": "2024-05-21T17:13:35.550Z"
   },
   {
    "duration": 20,
    "start_time": "2024-05-21T17:13:35.562Z"
   },
   {
    "duration": 103,
    "start_time": "2024-05-21T17:13:35.584Z"
   },
   {
    "duration": 12,
    "start_time": "2024-05-21T17:13:35.690Z"
   },
   {
    "duration": 26,
    "start_time": "2024-05-21T17:13:35.727Z"
   },
   {
    "duration": 15,
    "start_time": "2024-05-21T17:13:35.758Z"
   },
   {
    "duration": 52,
    "start_time": "2024-05-21T17:13:35.783Z"
   },
   {
    "duration": 31,
    "start_time": "2024-05-21T17:13:35.839Z"
   },
   {
    "duration": 11,
    "start_time": "2024-05-21T17:13:35.873Z"
   },
   {
    "duration": 23,
    "start_time": "2024-05-21T17:13:35.925Z"
   },
   {
    "duration": 16,
    "start_time": "2024-05-21T17:13:35.951Z"
   },
   {
    "duration": 10,
    "start_time": "2024-05-21T17:13:35.970Z"
   },
   {
    "duration": 53,
    "start_time": "2024-05-21T17:13:35.982Z"
   },
   {
    "duration": 90,
    "start_time": "2024-05-21T17:13:36.039Z"
   },
   {
    "duration": 13,
    "start_time": "2024-05-21T17:13:36.133Z"
   },
   {
    "duration": 14,
    "start_time": "2024-05-21T17:13:36.149Z"
   },
   {
    "duration": 145,
    "start_time": "2024-05-21T17:13:36.166Z"
   },
   {
    "duration": 103,
    "start_time": "2024-05-21T17:13:36.314Z"
   },
   {
    "duration": 52,
    "start_time": "2024-05-21T17:13:36.420Z"
   },
   {
    "duration": 142,
    "start_time": "2024-05-21T17:13:36.476Z"
   },
   {
    "duration": 40,
    "start_time": "2024-05-21T17:13:36.622Z"
   },
   {
    "duration": 27,
    "start_time": "2024-05-21T17:13:36.666Z"
   },
   {
    "duration": 71,
    "start_time": "2024-05-21T17:13:36.695Z"
   },
   {
    "duration": 186,
    "start_time": "2024-05-21T17:13:36.769Z"
   },
   {
    "duration": 13,
    "start_time": "2024-05-21T17:13:36.958Z"
   },
   {
    "duration": 813,
    "start_time": "2024-05-21T17:13:36.974Z"
   },
   {
    "duration": 769,
    "start_time": "2024-05-21T17:13:37.790Z"
   },
   {
    "duration": 19,
    "start_time": "2024-05-21T17:13:38.562Z"
   },
   {
    "duration": 690,
    "start_time": "2024-05-21T17:13:38.584Z"
   },
   {
    "duration": 265,
    "start_time": "2024-05-21T17:13:39.277Z"
   },
   {
    "duration": 223,
    "start_time": "2024-05-21T17:13:39.547Z"
   },
   {
    "duration": 422,
    "start_time": "2024-05-21T17:13:39.774Z"
   },
   {
    "duration": 32,
    "start_time": "2024-05-21T17:13:40.199Z"
   },
   {
    "duration": 246,
    "start_time": "2024-05-21T17:13:40.237Z"
   },
   {
    "duration": 454,
    "start_time": "2024-05-21T17:13:40.486Z"
   },
   {
    "duration": 16,
    "start_time": "2024-05-21T17:13:40.943Z"
   },
   {
    "duration": 11,
    "start_time": "2024-05-21T17:13:40.963Z"
   },
   {
    "duration": 6,
    "start_time": "2024-05-21T17:13:40.977Z"
   },
   {
    "duration": 47,
    "start_time": "2024-05-21T17:13:40.986Z"
   },
   {
    "duration": 6,
    "start_time": "2024-05-21T17:13:41.037Z"
   },
   {
    "duration": 13,
    "start_time": "2024-05-21T17:14:17.397Z"
   },
   {
    "duration": 1452,
    "start_time": "2024-05-21T17:15:26.582Z"
   },
   {
    "duration": 94,
    "start_time": "2024-05-21T17:15:28.961Z"
   },
   {
    "duration": 16,
    "start_time": "2024-05-21T17:15:45.654Z"
   },
   {
    "duration": 90,
    "start_time": "2024-05-21T17:16:18.284Z"
   },
   {
    "duration": 1357,
    "start_time": "2024-05-21T17:16:38.374Z"
   },
   {
    "duration": 304,
    "start_time": "2024-05-21T17:16:39.734Z"
   },
   {
    "duration": 17,
    "start_time": "2024-05-21T17:16:40.041Z"
   },
   {
    "duration": 18,
    "start_time": "2024-05-21T17:16:40.063Z"
   },
   {
    "duration": 74,
    "start_time": "2024-05-21T17:16:40.084Z"
   },
   {
    "duration": 10,
    "start_time": "2024-05-21T17:16:40.161Z"
   },
   {
    "duration": 8,
    "start_time": "2024-05-21T17:16:40.174Z"
   },
   {
    "duration": 44,
    "start_time": "2024-05-21T17:16:40.186Z"
   },
   {
    "duration": 7,
    "start_time": "2024-05-21T17:16:40.237Z"
   },
   {
    "duration": 9,
    "start_time": "2024-05-21T17:16:40.252Z"
   },
   {
    "duration": 10,
    "start_time": "2024-05-21T17:16:40.265Z"
   },
   {
    "duration": 62,
    "start_time": "2024-05-21T17:16:40.279Z"
   },
   {
    "duration": 15,
    "start_time": "2024-05-21T17:16:40.344Z"
   },
   {
    "duration": 20,
    "start_time": "2024-05-21T17:16:40.363Z"
   },
   {
    "duration": 8,
    "start_time": "2024-05-21T17:16:40.425Z"
   },
   {
    "duration": 9,
    "start_time": "2024-05-21T17:16:40.437Z"
   },
   {
    "duration": 9,
    "start_time": "2024-05-21T17:16:40.449Z"
   },
   {
    "duration": 9,
    "start_time": "2024-05-21T17:16:40.461Z"
   },
   {
    "duration": 12,
    "start_time": "2024-05-21T17:16:40.525Z"
   },
   {
    "duration": 26,
    "start_time": "2024-05-21T17:16:40.542Z"
   },
   {
    "duration": 55,
    "start_time": "2024-05-21T17:16:40.572Z"
   },
   {
    "duration": 10,
    "start_time": "2024-05-21T17:16:40.631Z"
   },
   {
    "duration": 21,
    "start_time": "2024-05-21T17:16:40.644Z"
   },
   {
    "duration": 102,
    "start_time": "2024-05-21T17:16:40.668Z"
   },
   {
    "duration": 11,
    "start_time": "2024-05-21T17:16:40.774Z"
   },
   {
    "duration": 44,
    "start_time": "2024-05-21T17:16:40.789Z"
   },
   {
    "duration": 14,
    "start_time": "2024-05-21T17:16:40.836Z"
   },
   {
    "duration": 14,
    "start_time": "2024-05-21T17:16:40.860Z"
   },
   {
    "duration": 67,
    "start_time": "2024-05-21T17:16:40.877Z"
   },
   {
    "duration": 11,
    "start_time": "2024-05-21T17:16:40.947Z"
   },
   {
    "duration": 23,
    "start_time": "2024-05-21T17:16:40.962Z"
   },
   {
    "duration": 49,
    "start_time": "2024-05-21T17:16:40.988Z"
   },
   {
    "duration": 9,
    "start_time": "2024-05-21T17:16:41.042Z"
   },
   {
    "duration": 18,
    "start_time": "2024-05-21T17:16:41.055Z"
   },
   {
    "duration": 112,
    "start_time": "2024-05-21T17:16:41.076Z"
   },
   {
    "duration": 34,
    "start_time": "2024-05-21T17:16:41.191Z"
   },
   {
    "duration": 13,
    "start_time": "2024-05-21T17:16:41.228Z"
   },
   {
    "duration": 129,
    "start_time": "2024-05-21T17:16:41.245Z"
   },
   {
    "duration": 106,
    "start_time": "2024-05-21T17:16:41.377Z"
   },
   {
    "duration": 56,
    "start_time": "2024-05-21T17:16:41.486Z"
   },
   {
    "duration": 123,
    "start_time": "2024-05-21T17:16:41.547Z"
   },
   {
    "duration": 41,
    "start_time": "2024-05-21T17:16:41.673Z"
   },
   {
    "duration": 27,
    "start_time": "2024-05-21T17:16:41.718Z"
   },
   {
    "duration": 51,
    "start_time": "2024-05-21T17:16:41.748Z"
   },
   {
    "duration": 165,
    "start_time": "2024-05-21T17:16:41.801Z"
   },
   {
    "duration": 15,
    "start_time": "2024-05-21T17:16:41.969Z"
   },
   {
    "duration": 829,
    "start_time": "2024-05-21T17:16:41.987Z"
   },
   {
    "duration": 760,
    "start_time": "2024-05-21T17:16:42.827Z"
   },
   {
    "duration": 20,
    "start_time": "2024-05-21T17:16:43.595Z"
   },
   {
    "duration": 734,
    "start_time": "2024-05-21T17:16:43.620Z"
   },
   {
    "duration": 242,
    "start_time": "2024-05-21T17:16:44.357Z"
   },
   {
    "duration": 261,
    "start_time": "2024-05-21T17:16:44.603Z"
   },
   {
    "duration": 421,
    "start_time": "2024-05-21T17:16:44.868Z"
   },
   {
    "duration": 36,
    "start_time": "2024-05-21T17:16:45.292Z"
   },
   {
    "duration": 262,
    "start_time": "2024-05-21T17:16:45.331Z"
   },
   {
    "duration": 508,
    "start_time": "2024-05-21T17:16:45.596Z"
   },
   {
    "duration": 32,
    "start_time": "2024-05-21T17:16:46.107Z"
   },
   {
    "duration": 1412,
    "start_time": "2024-05-21T17:16:46.141Z"
   },
   {
    "duration": 0,
    "start_time": "2024-05-21T17:16:47.557Z"
   },
   {
    "duration": 1,
    "start_time": "2024-05-21T17:16:47.560Z"
   },
   {
    "duration": 1,
    "start_time": "2024-05-21T17:16:47.562Z"
   },
   {
    "duration": 14,
    "start_time": "2024-05-21T17:17:26.126Z"
   },
   {
    "duration": 87,
    "start_time": "2024-05-21T17:18:31.139Z"
   },
   {
    "duration": 13,
    "start_time": "2024-05-21T17:18:53.696Z"
   },
   {
    "duration": 13,
    "start_time": "2024-05-21T17:19:34.846Z"
   },
   {
    "duration": 19,
    "start_time": "2024-05-21T17:28:40.885Z"
   },
   {
    "duration": 1403,
    "start_time": "2024-05-21T17:28:56.180Z"
   },
   {
    "duration": 312,
    "start_time": "2024-05-21T17:28:57.587Z"
   },
   {
    "duration": 25,
    "start_time": "2024-05-21T17:28:57.902Z"
   },
   {
    "duration": 19,
    "start_time": "2024-05-21T17:28:57.933Z"
   },
   {
    "duration": 40,
    "start_time": "2024-05-21T17:28:57.955Z"
   },
   {
    "duration": 9,
    "start_time": "2024-05-21T17:28:58.026Z"
   },
   {
    "duration": 8,
    "start_time": "2024-05-21T17:28:58.039Z"
   },
   {
    "duration": 7,
    "start_time": "2024-05-21T17:28:58.050Z"
   },
   {
    "duration": 8,
    "start_time": "2024-05-21T17:28:58.061Z"
   },
   {
    "duration": 58,
    "start_time": "2024-05-21T17:28:58.076Z"
   },
   {
    "duration": 11,
    "start_time": "2024-05-21T17:28:58.138Z"
   },
   {
    "duration": 18,
    "start_time": "2024-05-21T17:28:58.152Z"
   },
   {
    "duration": 56,
    "start_time": "2024-05-21T17:28:58.173Z"
   },
   {
    "duration": 22,
    "start_time": "2024-05-21T17:28:58.234Z"
   },
   {
    "duration": 10,
    "start_time": "2024-05-21T17:28:58.260Z"
   },
   {
    "duration": 53,
    "start_time": "2024-05-21T17:28:58.273Z"
   },
   {
    "duration": 10,
    "start_time": "2024-05-21T17:28:58.329Z"
   },
   {
    "duration": 12,
    "start_time": "2024-05-21T17:28:58.342Z"
   },
   {
    "duration": 13,
    "start_time": "2024-05-21T17:28:58.357Z"
   },
   {
    "duration": 76,
    "start_time": "2024-05-21T17:28:58.374Z"
   },
   {
    "duration": 18,
    "start_time": "2024-05-21T17:28:58.454Z"
   },
   {
    "duration": 10,
    "start_time": "2024-05-21T17:28:58.475Z"
   },
   {
    "duration": 59,
    "start_time": "2024-05-21T17:28:58.488Z"
   },
   {
    "duration": 83,
    "start_time": "2024-05-21T17:28:58.551Z"
   },
   {
    "duration": 11,
    "start_time": "2024-05-21T17:28:58.637Z"
   },
   {
    "duration": 21,
    "start_time": "2024-05-21T17:28:58.651Z"
   },
   {
    "duration": 13,
    "start_time": "2024-05-21T17:28:58.675Z"
   },
   {
    "duration": 15,
    "start_time": "2024-05-21T17:28:58.735Z"
   },
   {
    "duration": 30,
    "start_time": "2024-05-21T17:28:58.753Z"
   },
   {
    "duration": 42,
    "start_time": "2024-05-21T17:28:58.786Z"
   },
   {
    "duration": 24,
    "start_time": "2024-05-21T17:28:58.832Z"
   },
   {
    "duration": 17,
    "start_time": "2024-05-21T17:28:58.859Z"
   },
   {
    "duration": 9,
    "start_time": "2024-05-21T17:28:58.879Z"
   },
   {
    "duration": 20,
    "start_time": "2024-05-21T17:28:58.928Z"
   },
   {
    "duration": 98,
    "start_time": "2024-05-21T17:28:58.951Z"
   },
   {
    "duration": 13,
    "start_time": "2024-05-21T17:28:59.052Z"
   },
   {
    "duration": 26,
    "start_time": "2024-05-21T17:28:59.068Z"
   },
   {
    "duration": 135,
    "start_time": "2024-05-21T17:28:59.098Z"
   },
   {
    "duration": 100,
    "start_time": "2024-05-21T17:28:59.236Z"
   },
   {
    "duration": 67,
    "start_time": "2024-05-21T17:28:59.339Z"
   },
   {
    "duration": 130,
    "start_time": "2024-05-21T17:28:59.410Z"
   },
   {
    "duration": 42,
    "start_time": "2024-05-21T17:28:59.543Z"
   },
   {
    "duration": 42,
    "start_time": "2024-05-21T17:28:59.588Z"
   },
   {
    "duration": 44,
    "start_time": "2024-05-21T17:28:59.634Z"
   },
   {
    "duration": 181,
    "start_time": "2024-05-21T17:28:59.682Z"
   },
   {
    "duration": 26,
    "start_time": "2024-05-21T17:28:59.867Z"
   },
   {
    "duration": 36,
    "start_time": "2024-05-21T17:28:59.896Z"
   },
   {
    "duration": 837,
    "start_time": "2024-05-21T17:28:59.936Z"
   },
   {
    "duration": 799,
    "start_time": "2024-05-21T17:29:00.776Z"
   },
   {
    "duration": 19,
    "start_time": "2024-05-21T17:29:01.579Z"
   },
   {
    "duration": 662,
    "start_time": "2024-05-21T17:29:01.602Z"
   },
   {
    "duration": 241,
    "start_time": "2024-05-21T17:29:02.268Z"
   },
   {
    "duration": 246,
    "start_time": "2024-05-21T17:29:02.512Z"
   },
   {
    "duration": 427,
    "start_time": "2024-05-21T17:29:02.761Z"
   },
   {
    "duration": 17,
    "start_time": "2024-05-21T17:29:03.191Z"
   },
   {
    "duration": 242,
    "start_time": "2024-05-21T17:29:03.228Z"
   },
   {
    "duration": 465,
    "start_time": "2024-05-21T17:29:03.472Z"
   },
   {
    "duration": 20,
    "start_time": "2024-05-21T17:29:03.940Z"
   },
   {
    "duration": 12,
    "start_time": "2024-05-21T17:29:03.963Z"
   },
   {
    "duration": 6,
    "start_time": "2024-05-21T17:29:03.978Z"
   },
   {
    "duration": 49,
    "start_time": "2024-05-21T17:29:03.988Z"
   },
   {
    "duration": 7,
    "start_time": "2024-05-21T17:29:04.039Z"
   },
   {
    "duration": 535,
    "start_time": "2024-05-21T17:32:34.118Z"
   },
   {
    "duration": 9,
    "start_time": "2024-05-21T17:32:46.211Z"
   },
   {
    "duration": 795,
    "start_time": "2024-05-21T17:37:16.656Z"
   },
   {
    "duration": 90,
    "start_time": "2024-05-21T17:37:57.834Z"
   },
   {
    "duration": 23,
    "start_time": "2024-05-21T17:38:17.252Z"
   },
   {
    "duration": 13,
    "start_time": "2024-05-21T17:38:56.746Z"
   },
   {
    "duration": 11,
    "start_time": "2024-05-21T17:39:00.056Z"
   },
   {
    "duration": 22,
    "start_time": "2024-05-21T18:15:00.306Z"
   },
   {
    "duration": 1435,
    "start_time": "2024-05-21T18:15:59.380Z"
   },
   {
    "duration": 313,
    "start_time": "2024-05-21T18:16:00.831Z"
   },
   {
    "duration": 18,
    "start_time": "2024-05-21T18:16:01.148Z"
   },
   {
    "duration": 19,
    "start_time": "2024-05-21T18:16:01.170Z"
   },
   {
    "duration": 70,
    "start_time": "2024-05-21T18:16:01.193Z"
   },
   {
    "duration": 7,
    "start_time": "2024-05-21T18:16:01.266Z"
   },
   {
    "duration": 48,
    "start_time": "2024-05-21T18:16:01.277Z"
   },
   {
    "duration": 8,
    "start_time": "2024-05-21T18:16:01.330Z"
   },
   {
    "duration": 7,
    "start_time": "2024-05-21T18:16:01.344Z"
   },
   {
    "duration": 9,
    "start_time": "2024-05-21T18:16:01.355Z"
   },
   {
    "duration": 9,
    "start_time": "2024-05-21T18:16:01.368Z"
   },
   {
    "duration": 23,
    "start_time": "2024-05-21T18:16:01.427Z"
   },
   {
    "duration": 19,
    "start_time": "2024-05-21T18:16:01.453Z"
   },
   {
    "duration": 48,
    "start_time": "2024-05-21T18:16:01.478Z"
   },
   {
    "duration": 9,
    "start_time": "2024-05-21T18:16:01.529Z"
   },
   {
    "duration": 7,
    "start_time": "2024-05-21T18:16:01.542Z"
   },
   {
    "duration": 9,
    "start_time": "2024-05-21T18:16:01.552Z"
   },
   {
    "duration": 11,
    "start_time": "2024-05-21T18:16:01.565Z"
   },
   {
    "duration": 13,
    "start_time": "2024-05-21T18:16:01.627Z"
   },
   {
    "duration": 26,
    "start_time": "2024-05-21T18:16:01.644Z"
   },
   {
    "duration": 55,
    "start_time": "2024-05-21T18:16:01.673Z"
   },
   {
    "duration": 8,
    "start_time": "2024-05-21T18:16:01.731Z"
   },
   {
    "duration": 21,
    "start_time": "2024-05-21T18:16:01.743Z"
   },
   {
    "duration": 105,
    "start_time": "2024-05-21T18:16:01.768Z"
   },
   {
    "duration": 13,
    "start_time": "2024-05-21T18:16:01.877Z"
   },
   {
    "duration": 43,
    "start_time": "2024-05-21T18:16:01.895Z"
   },
   {
    "duration": 15,
    "start_time": "2024-05-21T18:16:01.948Z"
   },
   {
    "duration": 17,
    "start_time": "2024-05-21T18:16:01.967Z"
   },
   {
    "duration": 31,
    "start_time": "2024-05-21T18:16:02.027Z"
   },
   {
    "duration": 11,
    "start_time": "2024-05-21T18:16:02.061Z"
   },
   {
    "duration": 59,
    "start_time": "2024-05-21T18:16:02.076Z"
   },
   {
    "duration": 17,
    "start_time": "2024-05-21T18:16:02.139Z"
   },
   {
    "duration": 9,
    "start_time": "2024-05-21T18:16:02.160Z"
   },
   {
    "duration": 58,
    "start_time": "2024-05-21T18:16:02.173Z"
   },
   {
    "duration": 93,
    "start_time": "2024-05-21T18:16:02.235Z"
   },
   {
    "duration": 13,
    "start_time": "2024-05-21T18:16:02.331Z"
   },
   {
    "duration": 15,
    "start_time": "2024-05-21T18:16:02.348Z"
   },
   {
    "duration": 149,
    "start_time": "2024-05-21T18:16:02.366Z"
   },
   {
    "duration": 101,
    "start_time": "2024-05-21T18:16:02.519Z"
   },
   {
    "duration": 54,
    "start_time": "2024-05-21T18:16:02.622Z"
   },
   {
    "duration": 143,
    "start_time": "2024-05-21T18:16:02.679Z"
   },
   {
    "duration": 43,
    "start_time": "2024-05-21T18:16:02.825Z"
   },
   {
    "duration": 30,
    "start_time": "2024-05-21T18:16:02.871Z"
   },
   {
    "duration": 63,
    "start_time": "2024-05-21T18:16:02.905Z"
   },
   {
    "duration": 193,
    "start_time": "2024-05-21T18:16:02.971Z"
   },
   {
    "duration": 15,
    "start_time": "2024-05-21T18:16:03.167Z"
   },
   {
    "duration": 45,
    "start_time": "2024-05-21T18:16:03.185Z"
   },
   {
    "duration": 21,
    "start_time": "2024-05-21T18:16:03.233Z"
   },
   {
    "duration": 815,
    "start_time": "2024-05-21T18:16:03.257Z"
   },
   {
    "duration": 803,
    "start_time": "2024-05-21T18:16:04.076Z"
   },
   {
    "duration": 18,
    "start_time": "2024-05-21T18:16:04.882Z"
   },
   {
    "duration": 772,
    "start_time": "2024-05-21T18:16:04.904Z"
   },
   {
    "duration": 252,
    "start_time": "2024-05-21T18:16:05.679Z"
   },
   {
    "duration": 236,
    "start_time": "2024-05-21T18:16:05.934Z"
   },
   {
    "duration": 456,
    "start_time": "2024-05-21T18:16:06.173Z"
   },
   {
    "duration": 19,
    "start_time": "2024-05-21T18:16:06.632Z"
   },
   {
    "duration": 267,
    "start_time": "2024-05-21T18:16:06.654Z"
   },
   {
    "duration": 458,
    "start_time": "2024-05-21T18:16:06.928Z"
   },
   {
    "duration": 18,
    "start_time": "2024-05-21T18:16:07.389Z"
   },
   {
    "duration": 14,
    "start_time": "2024-05-21T18:16:07.427Z"
   },
   {
    "duration": 7,
    "start_time": "2024-05-21T18:16:07.444Z"
   },
   {
    "duration": 13,
    "start_time": "2024-05-21T18:16:07.455Z"
   },
   {
    "duration": 63,
    "start_time": "2024-05-21T18:16:07.471Z"
   },
   {
    "duration": 10,
    "start_time": "2024-05-21T18:20:48.363Z"
   },
   {
    "duration": 1622,
    "start_time": "2024-05-21T18:34:53.978Z"
   },
   {
    "duration": 1540,
    "start_time": "2024-05-21T18:35:03.036Z"
   },
   {
    "duration": 334,
    "start_time": "2024-05-21T18:35:04.581Z"
   },
   {
    "duration": 25,
    "start_time": "2024-05-21T18:35:04.918Z"
   },
   {
    "duration": 24,
    "start_time": "2024-05-21T18:35:04.947Z"
   },
   {
    "duration": 51,
    "start_time": "2024-05-21T18:35:04.981Z"
   },
   {
    "duration": 12,
    "start_time": "2024-05-21T18:35:05.036Z"
   },
   {
    "duration": 11,
    "start_time": "2024-05-21T18:35:05.053Z"
   },
   {
    "duration": 7,
    "start_time": "2024-05-21T18:35:05.077Z"
   },
   {
    "duration": 7,
    "start_time": "2024-05-21T18:35:05.087Z"
   },
   {
    "duration": 34,
    "start_time": "2024-05-21T18:35:05.098Z"
   },
   {
    "duration": 10,
    "start_time": "2024-05-21T18:35:05.138Z"
   },
   {
    "duration": 16,
    "start_time": "2024-05-21T18:35:05.157Z"
   },
   {
    "duration": 17,
    "start_time": "2024-05-21T18:35:05.176Z"
   },
   {
    "duration": 48,
    "start_time": "2024-05-21T18:35:05.200Z"
   },
   {
    "duration": 11,
    "start_time": "2024-05-21T18:35:05.251Z"
   },
   {
    "duration": 11,
    "start_time": "2024-05-21T18:35:05.268Z"
   },
   {
    "duration": 44,
    "start_time": "2024-05-21T18:35:05.282Z"
   },
   {
    "duration": 9,
    "start_time": "2024-05-21T18:35:05.329Z"
   },
   {
    "duration": 15,
    "start_time": "2024-05-21T18:35:05.341Z"
   },
   {
    "duration": 66,
    "start_time": "2024-05-21T18:35:05.360Z"
   },
   {
    "duration": 19,
    "start_time": "2024-05-21T18:35:05.430Z"
   },
   {
    "duration": 8,
    "start_time": "2024-05-21T18:35:05.452Z"
   },
   {
    "duration": 25,
    "start_time": "2024-05-21T18:35:05.468Z"
   },
   {
    "duration": 102,
    "start_time": "2024-05-21T18:35:05.500Z"
   },
   {
    "duration": 28,
    "start_time": "2024-05-21T18:35:05.605Z"
   },
   {
    "duration": 29,
    "start_time": "2024-05-21T18:35:05.637Z"
   },
   {
    "duration": 15,
    "start_time": "2024-05-21T18:35:05.669Z"
   },
   {
    "duration": 48,
    "start_time": "2024-05-21T18:35:05.687Z"
   },
   {
    "duration": 35,
    "start_time": "2024-05-21T18:35:05.746Z"
   },
   {
    "duration": 12,
    "start_time": "2024-05-21T18:35:05.785Z"
   },
   {
    "duration": 56,
    "start_time": "2024-05-21T18:35:05.801Z"
   },
   {
    "duration": 23,
    "start_time": "2024-05-21T18:35:05.860Z"
   },
   {
    "duration": 10,
    "start_time": "2024-05-21T18:35:05.886Z"
   },
   {
    "duration": 43,
    "start_time": "2024-05-21T18:35:05.899Z"
   },
   {
    "duration": 98,
    "start_time": "2024-05-21T18:35:05.946Z"
   },
   {
    "duration": 15,
    "start_time": "2024-05-21T18:35:06.052Z"
   },
   {
    "duration": 13,
    "start_time": "2024-05-21T18:35:06.076Z"
   },
   {
    "duration": 142,
    "start_time": "2024-05-21T18:35:06.092Z"
   },
   {
    "duration": 121,
    "start_time": "2024-05-21T18:35:06.238Z"
   },
   {
    "duration": 61,
    "start_time": "2024-05-21T18:35:06.367Z"
   },
   {
    "duration": 146,
    "start_time": "2024-05-21T18:35:06.438Z"
   },
   {
    "duration": 42,
    "start_time": "2024-05-21T18:35:06.587Z"
   },
   {
    "duration": 35,
    "start_time": "2024-05-21T18:35:06.633Z"
   },
   {
    "duration": 73,
    "start_time": "2024-05-21T18:35:06.672Z"
   },
   {
    "duration": 186,
    "start_time": "2024-05-21T18:35:06.749Z"
   },
   {
    "duration": 15,
    "start_time": "2024-05-21T18:35:06.939Z"
   },
   {
    "duration": 21,
    "start_time": "2024-05-21T18:35:06.957Z"
   },
   {
    "duration": 46,
    "start_time": "2024-05-21T18:35:06.982Z"
   },
   {
    "duration": 878,
    "start_time": "2024-05-21T18:35:07.031Z"
   },
   {
    "duration": 815,
    "start_time": "2024-05-21T18:35:07.912Z"
   },
   {
    "duration": 26,
    "start_time": "2024-05-21T18:35:08.730Z"
   },
   {
    "duration": 820,
    "start_time": "2024-05-21T18:35:08.760Z"
   },
   {
    "duration": 268,
    "start_time": "2024-05-21T18:35:09.583Z"
   },
   {
    "duration": 288,
    "start_time": "2024-05-21T18:35:09.854Z"
   },
   {
    "duration": 495,
    "start_time": "2024-05-21T18:35:10.145Z"
   },
   {
    "duration": 25,
    "start_time": "2024-05-21T18:35:10.644Z"
   },
   {
    "duration": 308,
    "start_time": "2024-05-21T18:35:10.673Z"
   },
   {
    "duration": 561,
    "start_time": "2024-05-21T18:35:10.985Z"
   },
   {
    "duration": 21,
    "start_time": "2024-05-21T18:35:11.549Z"
   },
   {
    "duration": 1622,
    "start_time": "2024-05-21T18:35:11.581Z"
   },
   {
    "duration": 0,
    "start_time": "2024-05-21T18:35:13.207Z"
   },
   {
    "duration": 0,
    "start_time": "2024-05-21T18:35:13.210Z"
   },
   {
    "duration": 0,
    "start_time": "2024-05-21T18:35:13.212Z"
   },
   {
    "duration": 353,
    "start_time": "2024-05-21T18:38:39.557Z"
   },
   {
    "duration": 1513,
    "start_time": "2024-05-21T18:39:28.429Z"
   },
   {
    "duration": 319,
    "start_time": "2024-05-21T18:39:29.946Z"
   },
   {
    "duration": 18,
    "start_time": "2024-05-21T18:39:30.275Z"
   },
   {
    "duration": 18,
    "start_time": "2024-05-21T18:39:30.298Z"
   },
   {
    "duration": 56,
    "start_time": "2024-05-21T18:39:30.328Z"
   },
   {
    "duration": 13,
    "start_time": "2024-05-21T18:39:30.387Z"
   },
   {
    "duration": 26,
    "start_time": "2024-05-21T18:39:30.405Z"
   },
   {
    "duration": 7,
    "start_time": "2024-05-21T18:39:30.434Z"
   },
   {
    "duration": 7,
    "start_time": "2024-05-21T18:39:30.445Z"
   },
   {
    "duration": 14,
    "start_time": "2024-05-21T18:39:30.458Z"
   },
   {
    "duration": 9,
    "start_time": "2024-05-21T18:39:30.479Z"
   },
   {
    "duration": 48,
    "start_time": "2024-05-21T18:39:30.491Z"
   },
   {
    "duration": 21,
    "start_time": "2024-05-21T18:39:30.545Z"
   },
   {
    "duration": 25,
    "start_time": "2024-05-21T18:39:30.569Z"
   },
   {
    "duration": 34,
    "start_time": "2024-05-21T18:39:30.599Z"
   },
   {
    "duration": 7,
    "start_time": "2024-05-21T18:39:30.643Z"
   },
   {
    "duration": 16,
    "start_time": "2024-05-21T18:39:30.653Z"
   },
   {
    "duration": 11,
    "start_time": "2024-05-21T18:39:30.674Z"
   },
   {
    "duration": 15,
    "start_time": "2024-05-21T18:39:30.688Z"
   },
   {
    "duration": 31,
    "start_time": "2024-05-21T18:39:30.731Z"
   },
   {
    "duration": 20,
    "start_time": "2024-05-21T18:39:30.765Z"
   },
   {
    "duration": 8,
    "start_time": "2024-05-21T18:39:30.788Z"
   },
   {
    "duration": 25,
    "start_time": "2024-05-21T18:39:30.827Z"
   },
   {
    "duration": 89,
    "start_time": "2024-05-21T18:39:30.856Z"
   },
   {
    "duration": 14,
    "start_time": "2024-05-21T18:39:30.949Z"
   },
   {
    "duration": 25,
    "start_time": "2024-05-21T18:39:30.970Z"
   },
   {
    "duration": 41,
    "start_time": "2024-05-21T18:39:30.999Z"
   },
   {
    "duration": 16,
    "start_time": "2024-05-21T18:39:31.051Z"
   },
   {
    "duration": 38,
    "start_time": "2024-05-21T18:39:31.070Z"
   },
   {
    "duration": 26,
    "start_time": "2024-05-21T18:39:31.113Z"
   },
   {
    "duration": 30,
    "start_time": "2024-05-21T18:39:31.143Z"
   },
   {
    "duration": 18,
    "start_time": "2024-05-21T18:39:31.176Z"
   },
   {
    "duration": 34,
    "start_time": "2024-05-21T18:39:31.197Z"
   },
   {
    "duration": 23,
    "start_time": "2024-05-21T18:39:31.237Z"
   },
   {
    "duration": 101,
    "start_time": "2024-05-21T18:39:31.263Z"
   },
   {
    "duration": 17,
    "start_time": "2024-05-21T18:39:31.369Z"
   },
   {
    "duration": 14,
    "start_time": "2024-05-21T18:39:31.390Z"
   },
   {
    "duration": 130,
    "start_time": "2024-05-21T18:39:31.440Z"
   },
   {
    "duration": 117,
    "start_time": "2024-05-21T18:39:31.573Z"
   },
   {
    "duration": 60,
    "start_time": "2024-05-21T18:39:31.692Z"
   },
   {
    "duration": 151,
    "start_time": "2024-05-21T18:39:31.761Z"
   },
   {
    "duration": 48,
    "start_time": "2024-05-21T18:39:31.915Z"
   },
   {
    "duration": 29,
    "start_time": "2024-05-21T18:39:31.968Z"
   },
   {
    "duration": 587,
    "start_time": "2024-05-21T18:39:32.000Z"
   },
   {
    "duration": 0,
    "start_time": "2024-05-21T18:39:32.590Z"
   },
   {
    "duration": 0,
    "start_time": "2024-05-21T18:39:32.593Z"
   },
   {
    "duration": 0,
    "start_time": "2024-05-21T18:39:32.596Z"
   },
   {
    "duration": 0,
    "start_time": "2024-05-21T18:39:32.598Z"
   },
   {
    "duration": 0,
    "start_time": "2024-05-21T18:39:32.600Z"
   },
   {
    "duration": 0,
    "start_time": "2024-05-21T18:39:32.602Z"
   },
   {
    "duration": 0,
    "start_time": "2024-05-21T18:39:32.630Z"
   },
   {
    "duration": 0,
    "start_time": "2024-05-21T18:39:32.635Z"
   },
   {
    "duration": 0,
    "start_time": "2024-05-21T18:39:32.636Z"
   },
   {
    "duration": 0,
    "start_time": "2024-05-21T18:39:32.639Z"
   },
   {
    "duration": 0,
    "start_time": "2024-05-21T18:39:32.640Z"
   },
   {
    "duration": 0,
    "start_time": "2024-05-21T18:39:32.642Z"
   },
   {
    "duration": 0,
    "start_time": "2024-05-21T18:39:32.646Z"
   },
   {
    "duration": 0,
    "start_time": "2024-05-21T18:39:32.648Z"
   },
   {
    "duration": 0,
    "start_time": "2024-05-21T18:39:32.652Z"
   },
   {
    "duration": 0,
    "start_time": "2024-05-21T18:39:32.654Z"
   },
   {
    "duration": 0,
    "start_time": "2024-05-21T18:39:32.664Z"
   },
   {
    "duration": 0,
    "start_time": "2024-05-21T18:39:32.669Z"
   },
   {
    "duration": 0,
    "start_time": "2024-05-21T18:39:32.672Z"
   },
   {
    "duration": 27,
    "start_time": "2024-05-21T18:40:14.516Z"
   },
   {
    "duration": 33,
    "start_time": "2024-05-21T18:40:22.075Z"
   },
   {
    "duration": 312,
    "start_time": "2024-05-21T18:41:36.005Z"
   },
   {
    "duration": 25,
    "start_time": "2024-05-21T18:41:53.798Z"
   },
   {
    "duration": 38,
    "start_time": "2024-05-21T18:43:30.123Z"
   },
   {
    "duration": 29,
    "start_time": "2024-05-21T18:43:33.001Z"
   },
   {
    "duration": 1538,
    "start_time": "2024-05-21T18:43:58.855Z"
   },
   {
    "duration": 380,
    "start_time": "2024-05-21T18:44:00.396Z"
   },
   {
    "duration": 22,
    "start_time": "2024-05-21T18:44:00.779Z"
   },
   {
    "duration": 22,
    "start_time": "2024-05-21T18:44:00.806Z"
   },
   {
    "duration": 52,
    "start_time": "2024-05-21T18:44:00.832Z"
   },
   {
    "duration": 10,
    "start_time": "2024-05-21T18:44:00.889Z"
   },
   {
    "duration": 24,
    "start_time": "2024-05-21T18:44:00.906Z"
   },
   {
    "duration": 11,
    "start_time": "2024-05-21T18:44:00.935Z"
   },
   {
    "duration": 8,
    "start_time": "2024-05-21T18:44:00.951Z"
   },
   {
    "duration": 10,
    "start_time": "2024-05-21T18:44:00.969Z"
   },
   {
    "duration": 43,
    "start_time": "2024-05-21T18:44:00.984Z"
   },
   {
    "duration": 20,
    "start_time": "2024-05-21T18:44:01.035Z"
   },
   {
    "duration": 17,
    "start_time": "2024-05-21T18:44:01.059Z"
   },
   {
    "duration": 55,
    "start_time": "2024-05-21T18:44:01.079Z"
   },
   {
    "duration": 13,
    "start_time": "2024-05-21T18:44:01.144Z"
   },
   {
    "duration": 8,
    "start_time": "2024-05-21T18:44:01.160Z"
   },
   {
    "duration": 9,
    "start_time": "2024-05-21T18:44:01.172Z"
   },
   {
    "duration": 10,
    "start_time": "2024-05-21T18:44:01.184Z"
   },
   {
    "duration": 40,
    "start_time": "2024-05-21T18:44:01.198Z"
   },
   {
    "duration": 40,
    "start_time": "2024-05-21T18:44:01.246Z"
   },
   {
    "duration": 17,
    "start_time": "2024-05-21T18:44:01.289Z"
   },
   {
    "duration": 13,
    "start_time": "2024-05-21T18:44:01.327Z"
   },
   {
    "duration": 24,
    "start_time": "2024-05-21T18:44:01.348Z"
   },
   {
    "duration": 105,
    "start_time": "2024-05-21T18:44:01.376Z"
   },
   {
    "duration": 24,
    "start_time": "2024-05-21T18:44:01.489Z"
   },
   {
    "duration": 30,
    "start_time": "2024-05-21T18:44:01.516Z"
   },
   {
    "duration": 15,
    "start_time": "2024-05-21T18:44:01.550Z"
   },
   {
    "duration": 18,
    "start_time": "2024-05-21T18:44:01.575Z"
   },
   {
    "duration": 70,
    "start_time": "2024-05-21T18:44:01.597Z"
   },
   {
    "duration": 12,
    "start_time": "2024-05-21T18:44:01.672Z"
   },
   {
    "duration": 21,
    "start_time": "2024-05-21T18:44:01.690Z"
   },
   {
    "duration": 21,
    "start_time": "2024-05-21T18:44:01.728Z"
   },
   {
    "duration": 14,
    "start_time": "2024-05-21T18:44:01.755Z"
   },
   {
    "duration": 26,
    "start_time": "2024-05-21T18:44:01.775Z"
   },
   {
    "duration": 97,
    "start_time": "2024-05-21T18:44:01.805Z"
   },
   {
    "duration": 43,
    "start_time": "2024-05-21T18:44:01.906Z"
   },
   {
    "duration": 20,
    "start_time": "2024-05-21T18:44:01.954Z"
   },
   {
    "duration": 131,
    "start_time": "2024-05-21T18:44:01.977Z"
   },
   {
    "duration": 115,
    "start_time": "2024-05-21T18:44:02.111Z"
   },
   {
    "duration": 65,
    "start_time": "2024-05-21T18:44:02.229Z"
   },
   {
    "duration": 153,
    "start_time": "2024-05-21T18:44:02.297Z"
   },
   {
    "duration": 48,
    "start_time": "2024-05-21T18:44:02.454Z"
   },
   {
    "duration": 35,
    "start_time": "2024-05-21T18:44:02.505Z"
   },
   {
    "duration": 1219,
    "start_time": "2024-05-21T18:44:02.543Z"
   },
   {
    "duration": 0,
    "start_time": "2024-05-21T18:44:03.767Z"
   },
   {
    "duration": 0,
    "start_time": "2024-05-21T18:44:03.768Z"
   },
   {
    "duration": 0,
    "start_time": "2024-05-21T18:44:03.770Z"
   },
   {
    "duration": 0,
    "start_time": "2024-05-21T18:44:03.772Z"
   },
   {
    "duration": 0,
    "start_time": "2024-05-21T18:44:03.774Z"
   },
   {
    "duration": 0,
    "start_time": "2024-05-21T18:44:03.776Z"
   },
   {
    "duration": 0,
    "start_time": "2024-05-21T18:44:03.779Z"
   },
   {
    "duration": 0,
    "start_time": "2024-05-21T18:44:03.781Z"
   },
   {
    "duration": 0,
    "start_time": "2024-05-21T18:44:03.782Z"
   },
   {
    "duration": 0,
    "start_time": "2024-05-21T18:44:03.785Z"
   },
   {
    "duration": 0,
    "start_time": "2024-05-21T18:44:03.787Z"
   },
   {
    "duration": 0,
    "start_time": "2024-05-21T18:44:03.789Z"
   },
   {
    "duration": 0,
    "start_time": "2024-05-21T18:44:03.792Z"
   },
   {
    "duration": 0,
    "start_time": "2024-05-21T18:44:03.794Z"
   },
   {
    "duration": 0,
    "start_time": "2024-05-21T18:44:03.828Z"
   },
   {
    "duration": 0,
    "start_time": "2024-05-21T18:44:03.832Z"
   },
   {
    "duration": 0,
    "start_time": "2024-05-21T18:44:03.835Z"
   },
   {
    "duration": 0,
    "start_time": "2024-05-21T18:44:03.840Z"
   },
   {
    "duration": 0,
    "start_time": "2024-05-21T18:44:03.846Z"
   },
   {
    "duration": 60,
    "start_time": "2024-05-21T18:44:36.711Z"
   },
   {
    "duration": 168,
    "start_time": "2024-05-21T18:44:39.766Z"
   },
   {
    "duration": 14,
    "start_time": "2024-05-21T18:44:42.679Z"
   },
   {
    "duration": 33,
    "start_time": "2024-05-21T18:44:45.132Z"
   },
   {
    "duration": 24,
    "start_time": "2024-05-21T18:44:47.742Z"
   },
   {
    "duration": 650,
    "start_time": "2024-05-21T18:45:37.229Z"
   },
   {
    "duration": 16,
    "start_time": "2024-05-21T18:45:51.150Z"
   },
   {
    "duration": 1536,
    "start_time": "2024-05-21T18:46:05.412Z"
   },
   {
    "duration": 347,
    "start_time": "2024-05-21T18:46:06.953Z"
   },
   {
    "duration": 26,
    "start_time": "2024-05-21T18:46:07.304Z"
   },
   {
    "duration": 20,
    "start_time": "2024-05-21T18:46:07.334Z"
   },
   {
    "duration": 47,
    "start_time": "2024-05-21T18:46:07.358Z"
   },
   {
    "duration": 12,
    "start_time": "2024-05-21T18:46:07.428Z"
   },
   {
    "duration": 8,
    "start_time": "2024-05-21T18:46:07.443Z"
   },
   {
    "duration": 7,
    "start_time": "2024-05-21T18:46:07.455Z"
   },
   {
    "duration": 10,
    "start_time": "2024-05-21T18:46:07.468Z"
   },
   {
    "duration": 52,
    "start_time": "2024-05-21T18:46:07.486Z"
   },
   {
    "duration": 13,
    "start_time": "2024-05-21T18:46:07.546Z"
   },
   {
    "duration": 26,
    "start_time": "2024-05-21T18:46:07.566Z"
   },
   {
    "duration": 21,
    "start_time": "2024-05-21T18:46:07.596Z"
   },
   {
    "duration": 28,
    "start_time": "2024-05-21T18:46:07.633Z"
   },
   {
    "duration": 10,
    "start_time": "2024-05-21T18:46:07.672Z"
   },
   {
    "duration": 12,
    "start_time": "2024-05-21T18:46:07.689Z"
   },
   {
    "duration": 28,
    "start_time": "2024-05-21T18:46:07.704Z"
   },
   {
    "duration": 13,
    "start_time": "2024-05-21T18:46:07.741Z"
   },
   {
    "duration": 13,
    "start_time": "2024-05-21T18:46:07.758Z"
   },
   {
    "duration": 32,
    "start_time": "2024-05-21T18:46:07.774Z"
   },
   {
    "duration": 24,
    "start_time": "2024-05-21T18:46:07.832Z"
   },
   {
    "duration": 11,
    "start_time": "2024-05-21T18:46:07.859Z"
   },
   {
    "duration": 27,
    "start_time": "2024-05-21T18:46:07.874Z"
   },
   {
    "duration": 72,
    "start_time": "2024-05-21T18:46:07.928Z"
   },
   {
    "duration": 35,
    "start_time": "2024-05-21T18:46:08.003Z"
   },
   {
    "duration": 31,
    "start_time": "2024-05-21T18:46:08.043Z"
   },
   {
    "duration": 16,
    "start_time": "2024-05-21T18:46:08.077Z"
   },
   {
    "duration": 46,
    "start_time": "2024-05-21T18:46:08.105Z"
   },
   {
    "duration": 37,
    "start_time": "2024-05-21T18:46:08.154Z"
   },
   {
    "duration": 11,
    "start_time": "2024-05-21T18:46:08.194Z"
   },
   {
    "duration": 34,
    "start_time": "2024-05-21T18:46:08.227Z"
   },
   {
    "duration": 20,
    "start_time": "2024-05-21T18:46:08.265Z"
   },
   {
    "duration": 10,
    "start_time": "2024-05-21T18:46:08.290Z"
   },
   {
    "duration": 23,
    "start_time": "2024-05-21T18:46:08.331Z"
   },
   {
    "duration": 99,
    "start_time": "2024-05-21T18:46:08.358Z"
   },
   {
    "duration": 17,
    "start_time": "2024-05-21T18:46:08.461Z"
   },
   {
    "duration": 25,
    "start_time": "2024-05-21T18:46:08.488Z"
   },
   {
    "duration": 135,
    "start_time": "2024-05-21T18:46:08.521Z"
   },
   {
    "duration": 120,
    "start_time": "2024-05-21T18:46:08.675Z"
   },
   {
    "duration": 60,
    "start_time": "2024-05-21T18:46:08.798Z"
   },
   {
    "duration": 144,
    "start_time": "2024-05-21T18:46:08.862Z"
   },
   {
    "duration": 51,
    "start_time": "2024-05-21T18:46:09.010Z"
   },
   {
    "duration": 34,
    "start_time": "2024-05-21T18:46:09.064Z"
   },
   {
    "duration": 75,
    "start_time": "2024-05-21T18:46:09.102Z"
   },
   {
    "duration": 185,
    "start_time": "2024-05-21T18:46:09.182Z"
   },
   {
    "duration": 16,
    "start_time": "2024-05-21T18:46:09.371Z"
   },
   {
    "duration": 40,
    "start_time": "2024-05-21T18:46:09.393Z"
   },
   {
    "duration": 30,
    "start_time": "2024-05-21T18:46:09.437Z"
   },
   {
    "duration": 870,
    "start_time": "2024-05-21T18:46:09.477Z"
   },
   {
    "duration": 739,
    "start_time": "2024-05-21T18:46:10.350Z"
   },
   {
    "duration": 24,
    "start_time": "2024-05-21T18:46:11.092Z"
   },
   {
    "duration": 811,
    "start_time": "2024-05-21T18:46:11.120Z"
   },
   {
    "duration": 272,
    "start_time": "2024-05-21T18:46:11.935Z"
   },
   {
    "duration": 276,
    "start_time": "2024-05-21T18:46:12.210Z"
   },
   {
    "duration": 479,
    "start_time": "2024-05-21T18:46:12.492Z"
   },
   {
    "duration": 18,
    "start_time": "2024-05-21T18:46:12.974Z"
   },
   {
    "duration": 287,
    "start_time": "2024-05-21T18:46:12.995Z"
   },
   {
    "duration": 573,
    "start_time": "2024-05-21T18:46:13.287Z"
   },
   {
    "duration": 20,
    "start_time": "2024-05-21T18:46:13.865Z"
   },
   {
    "duration": 12,
    "start_time": "2024-05-21T18:46:13.889Z"
   },
   {
    "duration": 9,
    "start_time": "2024-05-21T18:46:13.927Z"
   },
   {
    "duration": 23,
    "start_time": "2024-05-21T18:46:13.945Z"
   },
   {
    "duration": 11,
    "start_time": "2024-05-21T18:46:13.977Z"
   },
   {
    "duration": 1454,
    "start_time": "2024-05-21T18:47:36.192Z"
   },
   {
    "duration": 1367,
    "start_time": "2024-05-21T18:47:52.930Z"
   },
   {
    "duration": 307,
    "start_time": "2024-05-21T18:47:54.301Z"
   },
   {
    "duration": 20,
    "start_time": "2024-05-21T18:47:54.611Z"
   },
   {
    "duration": 18,
    "start_time": "2024-05-21T18:47:54.635Z"
   },
   {
    "duration": 69,
    "start_time": "2024-05-21T18:47:54.656Z"
   },
   {
    "duration": 7,
    "start_time": "2024-05-21T18:47:54.728Z"
   },
   {
    "duration": 8,
    "start_time": "2024-05-21T18:47:54.738Z"
   },
   {
    "duration": 8,
    "start_time": "2024-05-21T18:47:54.749Z"
   },
   {
    "duration": 7,
    "start_time": "2024-05-21T18:47:54.760Z"
   },
   {
    "duration": 10,
    "start_time": "2024-05-21T18:47:54.827Z"
   },
   {
    "duration": 8,
    "start_time": "2024-05-21T18:47:54.839Z"
   },
   {
    "duration": 17,
    "start_time": "2024-05-21T18:47:54.851Z"
   },
   {
    "duration": 55,
    "start_time": "2024-05-21T18:47:54.871Z"
   },
   {
    "duration": 21,
    "start_time": "2024-05-21T18:47:54.930Z"
   },
   {
    "duration": 8,
    "start_time": "2024-05-21T18:47:54.954Z"
   },
   {
    "duration": 7,
    "start_time": "2024-05-21T18:47:54.965Z"
   },
   {
    "duration": 52,
    "start_time": "2024-05-21T18:47:54.975Z"
   },
   {
    "duration": 9,
    "start_time": "2024-05-21T18:47:55.030Z"
   },
   {
    "duration": 12,
    "start_time": "2024-05-21T18:47:55.042Z"
   },
   {
    "duration": 26,
    "start_time": "2024-05-21T18:47:55.057Z"
   },
   {
    "duration": 18,
    "start_time": "2024-05-21T18:47:55.129Z"
   },
   {
    "duration": 8,
    "start_time": "2024-05-21T18:47:55.150Z"
   },
   {
    "duration": 24,
    "start_time": "2024-05-21T18:47:55.161Z"
   },
   {
    "duration": 101,
    "start_time": "2024-05-21T18:47:55.187Z"
   },
   {
    "duration": 40,
    "start_time": "2024-05-21T18:47:55.291Z"
   },
   {
    "duration": 20,
    "start_time": "2024-05-21T18:47:55.334Z"
   },
   {
    "duration": 14,
    "start_time": "2024-05-21T18:47:55.358Z"
   },
   {
    "duration": 45,
    "start_time": "2024-05-21T18:47:55.382Z"
   },
   {
    "duration": 30,
    "start_time": "2024-05-21T18:47:55.431Z"
   },
   {
    "duration": 10,
    "start_time": "2024-05-21T18:47:55.464Z"
   },
   {
    "duration": 57,
    "start_time": "2024-05-21T18:47:55.477Z"
   },
   {
    "duration": 16,
    "start_time": "2024-05-21T18:47:55.536Z"
   },
   {
    "duration": 9,
    "start_time": "2024-05-21T18:47:55.555Z"
   },
   {
    "duration": 17,
    "start_time": "2024-05-21T18:47:55.567Z"
   },
   {
    "duration": 99,
    "start_time": "2024-05-21T18:47:55.627Z"
   },
   {
    "duration": 13,
    "start_time": "2024-05-21T18:47:55.729Z"
   },
   {
    "duration": 12,
    "start_time": "2024-05-21T18:47:55.745Z"
   },
   {
    "duration": 143,
    "start_time": "2024-05-21T18:47:55.760Z"
   },
   {
    "duration": 100,
    "start_time": "2024-05-21T18:47:55.906Z"
   },
   {
    "duration": 52,
    "start_time": "2024-05-21T18:47:56.008Z"
   },
   {
    "duration": 130,
    "start_time": "2024-05-21T18:47:56.063Z"
   },
   {
    "duration": 38,
    "start_time": "2024-05-21T18:47:56.198Z"
   },
   {
    "duration": 25,
    "start_time": "2024-05-21T18:47:56.240Z"
   },
   {
    "duration": 70,
    "start_time": "2024-05-21T18:47:56.268Z"
   },
   {
    "duration": 164,
    "start_time": "2024-05-21T18:47:56.341Z"
   },
   {
    "duration": 23,
    "start_time": "2024-05-21T18:47:56.508Z"
   },
   {
    "duration": 22,
    "start_time": "2024-05-21T18:47:56.534Z"
   },
   {
    "duration": 20,
    "start_time": "2024-05-21T18:47:56.559Z"
   },
   {
    "duration": 879,
    "start_time": "2024-05-21T18:47:56.582Z"
   },
   {
    "duration": 733,
    "start_time": "2024-05-21T18:47:57.467Z"
   },
   {
    "duration": 18,
    "start_time": "2024-05-21T18:47:58.203Z"
   },
   {
    "duration": 653,
    "start_time": "2024-05-21T18:47:58.225Z"
   },
   {
    "duration": 257,
    "start_time": "2024-05-21T18:47:58.882Z"
   },
   {
    "duration": 231,
    "start_time": "2024-05-21T18:47:59.143Z"
   },
   {
    "duration": 417,
    "start_time": "2024-05-21T18:47:59.378Z"
   },
   {
    "duration": 30,
    "start_time": "2024-05-21T18:47:59.799Z"
   },
   {
    "duration": 252,
    "start_time": "2024-05-21T18:47:59.832Z"
   },
   {
    "duration": 479,
    "start_time": "2024-05-21T18:48:00.088Z"
   },
   {
    "duration": 17,
    "start_time": "2024-05-21T18:48:00.570Z"
   },
   {
    "duration": 1417,
    "start_time": "2024-05-21T18:48:00.591Z"
   },
   {
    "duration": 0,
    "start_time": "2024-05-21T18:48:02.012Z"
   },
   {
    "duration": 0,
    "start_time": "2024-05-21T18:48:02.014Z"
   },
   {
    "duration": 0,
    "start_time": "2024-05-21T18:48:02.016Z"
   },
   {
    "duration": 13,
    "start_time": "2024-05-21T18:48:54.829Z"
   },
   {
    "duration": 25,
    "start_time": "2024-05-21T18:49:56.549Z"
   },
   {
    "duration": 8,
    "start_time": "2024-05-21T18:50:04.956Z"
   },
   {
    "duration": 24,
    "start_time": "2024-05-21T18:50:32.470Z"
   },
   {
    "duration": 1437,
    "start_time": "2024-05-21T18:50:37.997Z"
   },
   {
    "duration": 298,
    "start_time": "2024-05-21T18:50:39.440Z"
   },
   {
    "duration": 17,
    "start_time": "2024-05-21T18:50:39.740Z"
   },
   {
    "duration": 18,
    "start_time": "2024-05-21T18:50:39.763Z"
   },
   {
    "duration": 69,
    "start_time": "2024-05-21T18:50:39.784Z"
   },
   {
    "duration": 8,
    "start_time": "2024-05-21T18:50:39.857Z"
   },
   {
    "duration": 9,
    "start_time": "2024-05-21T18:50:39.869Z"
   },
   {
    "duration": 44,
    "start_time": "2024-05-21T18:50:39.884Z"
   },
   {
    "duration": 8,
    "start_time": "2024-05-21T18:50:39.931Z"
   },
   {
    "duration": 9,
    "start_time": "2024-05-21T18:50:39.944Z"
   },
   {
    "duration": 9,
    "start_time": "2024-05-21T18:50:39.956Z"
   },
   {
    "duration": 62,
    "start_time": "2024-05-21T18:50:39.968Z"
   },
   {
    "duration": 18,
    "start_time": "2024-05-21T18:50:40.033Z"
   },
   {
    "duration": 21,
    "start_time": "2024-05-21T18:50:40.054Z"
   },
   {
    "duration": 48,
    "start_time": "2024-05-21T18:50:40.078Z"
   },
   {
    "duration": 8,
    "start_time": "2024-05-21T18:50:40.129Z"
   },
   {
    "duration": 9,
    "start_time": "2024-05-21T18:50:40.140Z"
   },
   {
    "duration": 10,
    "start_time": "2024-05-21T18:50:40.153Z"
   },
   {
    "duration": 12,
    "start_time": "2024-05-21T18:50:40.166Z"
   },
   {
    "duration": 26,
    "start_time": "2024-05-21T18:50:40.226Z"
   },
   {
    "duration": 17,
    "start_time": "2024-05-21T18:50:40.255Z"
   },
   {
    "duration": 51,
    "start_time": "2024-05-21T18:50:40.275Z"
   },
   {
    "duration": 21,
    "start_time": "2024-05-21T18:50:40.329Z"
   },
   {
    "duration": 90,
    "start_time": "2024-05-21T18:50:40.353Z"
   },
   {
    "duration": 13,
    "start_time": "2024-05-21T18:50:40.447Z"
   },
   {
    "duration": 20,
    "start_time": "2024-05-21T18:50:40.464Z"
   },
   {
    "duration": 47,
    "start_time": "2024-05-21T18:50:40.487Z"
   },
   {
    "duration": 20,
    "start_time": "2024-05-21T18:50:40.547Z"
   },
   {
    "duration": 64,
    "start_time": "2024-05-21T18:50:40.570Z"
   },
   {
    "duration": 14,
    "start_time": "2024-05-21T18:50:40.638Z"
   },
   {
    "duration": 23,
    "start_time": "2024-05-21T18:50:40.656Z"
   },
   {
    "duration": 52,
    "start_time": "2024-05-21T18:50:40.682Z"
   },
   {
    "duration": 8,
    "start_time": "2024-05-21T18:50:40.739Z"
   },
   {
    "duration": 17,
    "start_time": "2024-05-21T18:50:40.750Z"
   },
   {
    "duration": 113,
    "start_time": "2024-05-21T18:50:40.771Z"
   },
   {
    "duration": 11,
    "start_time": "2024-05-21T18:50:40.887Z"
   },
   {
    "duration": 36,
    "start_time": "2024-05-21T18:50:40.902Z"
   },
   {
    "duration": 122,
    "start_time": "2024-05-21T18:50:40.940Z"
   },
   {
    "duration": 104,
    "start_time": "2024-05-21T18:50:41.065Z"
   },
   {
    "duration": 54,
    "start_time": "2024-05-21T18:50:41.171Z"
   },
   {
    "duration": 121,
    "start_time": "2024-05-21T18:50:41.229Z"
   },
   {
    "duration": 41,
    "start_time": "2024-05-21T18:50:41.353Z"
   },
   {
    "duration": 31,
    "start_time": "2024-05-21T18:50:41.398Z"
   },
   {
    "duration": 45,
    "start_time": "2024-05-21T18:50:41.432Z"
   },
   {
    "duration": 174,
    "start_time": "2024-05-21T18:50:41.480Z"
   },
   {
    "duration": 19,
    "start_time": "2024-05-21T18:50:41.657Z"
   },
   {
    "duration": 53,
    "start_time": "2024-05-21T18:50:41.680Z"
   },
   {
    "duration": 22,
    "start_time": "2024-05-21T18:50:41.737Z"
   },
   {
    "duration": 815,
    "start_time": "2024-05-21T18:50:41.763Z"
   },
   {
    "duration": 790,
    "start_time": "2024-05-21T18:50:42.581Z"
   },
   {
    "duration": 17,
    "start_time": "2024-05-21T18:50:43.375Z"
   },
   {
    "duration": 698,
    "start_time": "2024-05-21T18:50:43.396Z"
   },
   {
    "duration": 245,
    "start_time": "2024-05-21T18:50:44.098Z"
   },
   {
    "duration": 241,
    "start_time": "2024-05-21T18:50:44.347Z"
   },
   {
    "duration": 426,
    "start_time": "2024-05-21T18:50:44.590Z"
   },
   {
    "duration": 22,
    "start_time": "2024-05-21T18:50:45.019Z"
   },
   {
    "duration": 281,
    "start_time": "2024-05-21T18:50:45.044Z"
   },
   {
    "duration": 475,
    "start_time": "2024-05-21T18:50:45.329Z"
   },
   {
    "duration": 30,
    "start_time": "2024-05-21T18:50:45.808Z"
   },
   {
    "duration": 13,
    "start_time": "2024-05-21T18:50:45.841Z"
   },
   {
    "duration": 7,
    "start_time": "2024-05-21T18:50:45.857Z"
   },
   {
    "duration": 60,
    "start_time": "2024-05-21T18:50:45.868Z"
   },
   {
    "duration": 7,
    "start_time": "2024-05-21T18:50:45.933Z"
   },
   {
    "duration": 4943,
    "start_time": "2024-05-21T21:04:53.681Z"
   },
   {
    "duration": 360,
    "start_time": "2024-05-21T21:04:58.628Z"
   },
   {
    "duration": 16,
    "start_time": "2024-05-21T21:04:58.991Z"
   },
   {
    "duration": 18,
    "start_time": "2024-05-21T21:04:59.013Z"
   },
   {
    "duration": 34,
    "start_time": "2024-05-21T21:04:59.034Z"
   },
   {
    "duration": 39,
    "start_time": "2024-05-21T21:04:59.072Z"
   },
   {
    "duration": 8,
    "start_time": "2024-05-21T21:04:59.115Z"
   },
   {
    "duration": 8,
    "start_time": "2024-05-21T21:04:59.126Z"
   },
   {
    "duration": 7,
    "start_time": "2024-05-21T21:04:59.138Z"
   },
   {
    "duration": 55,
    "start_time": "2024-05-21T21:04:59.151Z"
   },
   {
    "duration": 9,
    "start_time": "2024-05-21T21:04:59.210Z"
   },
   {
    "duration": 17,
    "start_time": "2024-05-21T21:04:59.222Z"
   },
   {
    "duration": 16,
    "start_time": "2024-05-21T21:04:59.242Z"
   },
   {
    "duration": 59,
    "start_time": "2024-05-21T21:04:59.261Z"
   },
   {
    "duration": 8,
    "start_time": "2024-05-21T21:04:59.324Z"
   },
   {
    "duration": 8,
    "start_time": "2024-05-21T21:04:59.335Z"
   },
   {
    "duration": 9,
    "start_time": "2024-05-21T21:04:59.346Z"
   },
   {
    "duration": 56,
    "start_time": "2024-05-21T21:04:59.358Z"
   },
   {
    "duration": 11,
    "start_time": "2024-05-21T21:04:59.417Z"
   },
   {
    "duration": 26,
    "start_time": "2024-05-21T21:04:59.432Z"
   },
   {
    "duration": 51,
    "start_time": "2024-05-21T21:04:59.460Z"
   },
   {
    "duration": 9,
    "start_time": "2024-05-21T21:04:59.514Z"
   },
   {
    "duration": 19,
    "start_time": "2024-05-21T21:04:59.526Z"
   },
   {
    "duration": 92,
    "start_time": "2024-05-21T21:04:59.548Z"
   },
   {
    "duration": 11,
    "start_time": "2024-05-21T21:04:59.643Z"
   },
   {
    "duration": 23,
    "start_time": "2024-05-21T21:04:59.657Z"
   },
   {
    "duration": 13,
    "start_time": "2024-05-21T21:04:59.707Z"
   },
   {
    "duration": 14,
    "start_time": "2024-05-21T21:04:59.728Z"
   },
   {
    "duration": 61,
    "start_time": "2024-05-21T21:04:59.746Z"
   },
   {
    "duration": 13,
    "start_time": "2024-05-21T21:04:59.809Z"
   },
   {
    "duration": 23,
    "start_time": "2024-05-21T21:04:59.825Z"
   },
   {
    "duration": 14,
    "start_time": "2024-05-21T21:04:59.851Z"
   },
   {
    "duration": 40,
    "start_time": "2024-05-21T21:04:59.868Z"
   },
   {
    "duration": 17,
    "start_time": "2024-05-21T21:04:59.912Z"
   },
   {
    "duration": 93,
    "start_time": "2024-05-21T21:04:59.931Z"
   },
   {
    "duration": 11,
    "start_time": "2024-05-21T21:05:00.028Z"
   },
   {
    "duration": 13,
    "start_time": "2024-05-21T21:05:00.043Z"
   },
   {
    "duration": 139,
    "start_time": "2024-05-21T21:05:00.059Z"
   },
   {
    "duration": 110,
    "start_time": "2024-05-21T21:05:00.201Z"
   },
   {
    "duration": 51,
    "start_time": "2024-05-21T21:05:00.318Z"
   },
   {
    "duration": 139,
    "start_time": "2024-05-21T21:05:00.371Z"
   },
   {
    "duration": 43,
    "start_time": "2024-05-21T21:05:00.513Z"
   },
   {
    "duration": 47,
    "start_time": "2024-05-21T21:05:00.561Z"
   },
   {
    "duration": 44,
    "start_time": "2024-05-21T21:05:00.611Z"
   },
   {
    "duration": 168,
    "start_time": "2024-05-21T21:05:00.658Z"
   },
   {
    "duration": 13,
    "start_time": "2024-05-21T21:05:00.829Z"
   },
   {
    "duration": 21,
    "start_time": "2024-05-21T21:05:00.844Z"
   },
   {
    "duration": 51,
    "start_time": "2024-05-21T21:05:00.868Z"
   },
   {
    "duration": 726,
    "start_time": "2024-05-21T21:05:00.924Z"
   },
   {
    "duration": 802,
    "start_time": "2024-05-21T21:05:01.653Z"
   },
   {
    "duration": 25,
    "start_time": "2024-05-21T21:05:02.459Z"
   },
   {
    "duration": 728,
    "start_time": "2024-05-21T21:05:02.488Z"
   },
   {
    "duration": 239,
    "start_time": "2024-05-21T21:05:03.220Z"
   },
   {
    "duration": 225,
    "start_time": "2024-05-21T21:05:03.462Z"
   },
   {
    "duration": 384,
    "start_time": "2024-05-21T21:05:03.690Z"
   },
   {
    "duration": 31,
    "start_time": "2024-05-21T21:05:04.078Z"
   },
   {
    "duration": 241,
    "start_time": "2024-05-21T21:05:04.112Z"
   },
   {
    "duration": 467,
    "start_time": "2024-05-21T21:05:04.356Z"
   },
   {
    "duration": 18,
    "start_time": "2024-05-21T21:05:04.826Z"
   },
   {
    "duration": 58,
    "start_time": "2024-05-21T21:05:04.849Z"
   },
   {
    "duration": 12,
    "start_time": "2024-05-21T21:05:04.910Z"
   },
   {
    "duration": 7,
    "start_time": "2024-05-21T21:05:04.925Z"
   },
   {
    "duration": 13,
    "start_time": "2024-05-21T21:05:04.935Z"
   },
   {
    "duration": 7,
    "start_time": "2024-05-21T21:05:04.950Z"
   },
   {
    "duration": 12,
    "start_time": "2024-05-21T21:05:22.992Z"
   },
   {
    "duration": 7,
    "start_time": "2024-05-21T21:05:49.919Z"
   },
   {
    "duration": 6,
    "start_time": "2024-05-21T21:05:58.574Z"
   },
   {
    "duration": 1269,
    "start_time": "2024-05-21T21:12:24.528Z"
   },
   {
    "duration": 10,
    "start_time": "2024-05-21T21:15:59.453Z"
   },
   {
    "duration": 18,
    "start_time": "2024-05-21T21:16:23.272Z"
   },
   {
    "duration": 1357,
    "start_time": "2024-05-21T21:16:54.604Z"
   },
   {
    "duration": 279,
    "start_time": "2024-05-21T21:16:55.965Z"
   },
   {
    "duration": 17,
    "start_time": "2024-05-21T21:16:56.246Z"
   },
   {
    "duration": 38,
    "start_time": "2024-05-21T21:16:56.268Z"
   },
   {
    "duration": 36,
    "start_time": "2024-05-21T21:16:56.308Z"
   },
   {
    "duration": 6,
    "start_time": "2024-05-21T21:16:56.347Z"
   },
   {
    "duration": 7,
    "start_time": "2024-05-21T21:16:56.356Z"
   },
   {
    "duration": 6,
    "start_time": "2024-05-21T21:16:56.406Z"
   },
   {
    "duration": 6,
    "start_time": "2024-05-21T21:16:56.416Z"
   },
   {
    "duration": 8,
    "start_time": "2024-05-21T21:16:56.430Z"
   },
   {
    "duration": 8,
    "start_time": "2024-05-21T21:16:56.441Z"
   },
   {
    "duration": 62,
    "start_time": "2024-05-21T21:16:56.452Z"
   },
   {
    "duration": 14,
    "start_time": "2024-05-21T21:16:56.517Z"
   },
   {
    "duration": 19,
    "start_time": "2024-05-21T21:16:56.534Z"
   },
   {
    "duration": 8,
    "start_time": "2024-05-21T21:16:56.556Z"
   },
   {
    "duration": 45,
    "start_time": "2024-05-21T21:16:56.566Z"
   },
   {
    "duration": 9,
    "start_time": "2024-05-21T21:16:56.614Z"
   },
   {
    "duration": 9,
    "start_time": "2024-05-21T21:16:56.626Z"
   },
   {
    "duration": 12,
    "start_time": "2024-05-21T21:16:56.638Z"
   },
   {
    "duration": 75,
    "start_time": "2024-05-21T21:16:56.653Z"
   },
   {
    "duration": 17,
    "start_time": "2024-05-21T21:16:56.731Z"
   },
   {
    "duration": 7,
    "start_time": "2024-05-21T21:16:56.751Z"
   },
   {
    "duration": 56,
    "start_time": "2024-05-21T21:16:56.763Z"
   },
   {
    "duration": 58,
    "start_time": "2024-05-21T21:16:56.823Z"
   },
   {
    "duration": 31,
    "start_time": "2024-05-21T21:16:56.884Z"
   },
   {
    "duration": 21,
    "start_time": "2024-05-21T21:16:56.917Z"
   },
   {
    "duration": 13,
    "start_time": "2024-05-21T21:16:56.941Z"
   },
   {
    "duration": 14,
    "start_time": "2024-05-21T21:16:57.005Z"
   },
   {
    "duration": 29,
    "start_time": "2024-05-21T21:16:57.022Z"
   },
   {
    "duration": 10,
    "start_time": "2024-05-21T21:16:57.054Z"
   },
   {
    "duration": 57,
    "start_time": "2024-05-21T21:16:57.068Z"
   },
   {
    "duration": 16,
    "start_time": "2024-05-21T21:16:57.127Z"
   },
   {
    "duration": 8,
    "start_time": "2024-05-21T21:16:57.146Z"
   },
   {
    "duration": 55,
    "start_time": "2024-05-21T21:16:57.156Z"
   },
   {
    "duration": 70,
    "start_time": "2024-05-21T21:16:57.214Z"
   },
   {
    "duration": 12,
    "start_time": "2024-05-21T21:16:57.306Z"
   },
   {
    "duration": 13,
    "start_time": "2024-05-21T21:16:57.321Z"
   },
   {
    "duration": 134,
    "start_time": "2024-05-21T21:16:57.339Z"
   },
   {
    "duration": 98,
    "start_time": "2024-05-21T21:16:57.476Z"
   },
   {
    "duration": 50,
    "start_time": "2024-05-21T21:16:57.577Z"
   },
   {
    "duration": 122,
    "start_time": "2024-05-21T21:16:57.630Z"
   },
   {
    "duration": 39,
    "start_time": "2024-05-21T21:16:57.754Z"
   },
   {
    "duration": 26,
    "start_time": "2024-05-21T21:16:57.796Z"
   },
   {
    "duration": 45,
    "start_time": "2024-05-21T21:16:57.824Z"
   },
   {
    "duration": 177,
    "start_time": "2024-05-21T21:16:57.872Z"
   },
   {
    "duration": 15,
    "start_time": "2024-05-21T21:16:58.052Z"
   },
   {
    "duration": 46,
    "start_time": "2024-05-21T21:16:58.070Z"
   },
   {
    "duration": 19,
    "start_time": "2024-05-21T21:16:58.119Z"
   },
   {
    "duration": 814,
    "start_time": "2024-05-21T21:16:58.141Z"
   },
   {
    "duration": 784,
    "start_time": "2024-05-21T21:16:58.959Z"
   },
   {
    "duration": 16,
    "start_time": "2024-05-21T21:16:59.746Z"
   },
   {
    "duration": 680,
    "start_time": "2024-05-21T21:16:59.766Z"
   },
   {
    "duration": 270,
    "start_time": "2024-05-21T21:17:00.449Z"
   },
   {
    "duration": 231,
    "start_time": "2024-05-21T21:17:00.722Z"
   },
   {
    "duration": 396,
    "start_time": "2024-05-21T21:17:00.957Z"
   },
   {
    "duration": 17,
    "start_time": "2024-05-21T21:17:01.356Z"
   },
   {
    "duration": 249,
    "start_time": "2024-05-21T21:17:01.375Z"
   },
   {
    "duration": 469,
    "start_time": "2024-05-21T21:17:01.627Z"
   },
   {
    "duration": 22,
    "start_time": "2024-05-21T21:17:02.099Z"
   },
   {
    "duration": 15,
    "start_time": "2024-05-21T21:17:02.124Z"
   },
   {
    "duration": 9,
    "start_time": "2024-05-21T21:17:02.142Z"
   },
   {
    "duration": 63,
    "start_time": "2024-05-21T21:17:02.155Z"
   },
   {
    "duration": 8,
    "start_time": "2024-05-21T21:17:02.221Z"
   },
   {
    "duration": 1381,
    "start_time": "2024-05-22T07:14:31.326Z"
   },
   {
    "duration": 346,
    "start_time": "2024-05-22T07:14:32.711Z"
   },
   {
    "duration": 17,
    "start_time": "2024-05-22T07:14:33.059Z"
   },
   {
    "duration": 18,
    "start_time": "2024-05-22T07:14:33.080Z"
   },
   {
    "duration": 63,
    "start_time": "2024-05-22T07:14:33.103Z"
   },
   {
    "duration": 6,
    "start_time": "2024-05-22T07:14:33.169Z"
   },
   {
    "duration": 7,
    "start_time": "2024-05-22T07:14:33.178Z"
   },
   {
    "duration": 43,
    "start_time": "2024-05-22T07:14:33.189Z"
   },
   {
    "duration": 8,
    "start_time": "2024-05-22T07:14:33.235Z"
   },
   {
    "duration": 9,
    "start_time": "2024-05-22T07:14:33.246Z"
   },
   {
    "duration": 8,
    "start_time": "2024-05-22T07:14:33.258Z"
   },
   {
    "duration": 63,
    "start_time": "2024-05-22T07:14:33.269Z"
   },
   {
    "duration": 15,
    "start_time": "2024-05-22T07:14:33.335Z"
   },
   {
    "duration": 18,
    "start_time": "2024-05-22T07:14:33.359Z"
   },
   {
    "duration": 8,
    "start_time": "2024-05-22T07:14:33.380Z"
   },
   {
    "duration": 46,
    "start_time": "2024-05-22T07:14:33.390Z"
   },
   {
    "duration": 8,
    "start_time": "2024-05-22T07:14:33.440Z"
   },
   {
    "duration": 8,
    "start_time": "2024-05-22T07:14:33.451Z"
   },
   {
    "duration": 68,
    "start_time": "2024-05-22T07:14:33.462Z"
   },
   {
    "duration": 25,
    "start_time": "2024-05-22T07:14:33.533Z"
   },
   {
    "duration": 16,
    "start_time": "2024-05-22T07:14:33.561Z"
   },
   {
    "duration": 57,
    "start_time": "2024-05-22T07:14:33.579Z"
   },
   {
    "duration": 28,
    "start_time": "2024-05-22T07:14:33.640Z"
   },
   {
    "duration": 165,
    "start_time": "2024-05-22T07:14:33.672Z"
   },
   {
    "duration": 13,
    "start_time": "2024-05-22T07:14:33.840Z"
   },
   {
    "duration": 76,
    "start_time": "2024-05-22T07:14:33.856Z"
   },
   {
    "duration": 13,
    "start_time": "2024-05-22T07:14:33.935Z"
   },
   {
    "duration": 14,
    "start_time": "2024-05-22T07:14:33.951Z"
   },
   {
    "duration": 76,
    "start_time": "2024-05-22T07:14:33.969Z"
   },
   {
    "duration": 10,
    "start_time": "2024-05-22T07:14:34.047Z"
   },
   {
    "duration": 76,
    "start_time": "2024-05-22T07:14:34.060Z"
   },
   {
    "duration": 14,
    "start_time": "2024-05-22T07:14:34.139Z"
   },
   {
    "duration": 10,
    "start_time": "2024-05-22T07:14:34.156Z"
   },
   {
    "duration": 73,
    "start_time": "2024-05-22T07:14:34.169Z"
   },
   {
    "duration": 129,
    "start_time": "2024-05-22T07:14:34.245Z"
   },
   {
    "duration": 66,
    "start_time": "2024-05-22T07:14:34.376Z"
   },
   {
    "duration": 13,
    "start_time": "2024-05-22T07:14:34.444Z"
   },
   {
    "duration": 224,
    "start_time": "2024-05-22T07:14:34.460Z"
   },
   {
    "duration": 243,
    "start_time": "2024-05-22T07:14:34.687Z"
   },
   {
    "duration": 114,
    "start_time": "2024-05-22T07:14:34.934Z"
   },
   {
    "duration": 221,
    "start_time": "2024-05-22T07:14:35.058Z"
   },
   {
    "duration": 39,
    "start_time": "2024-05-22T07:14:35.282Z"
   },
   {
    "duration": 27,
    "start_time": "2024-05-22T07:14:35.324Z"
   },
   {
    "duration": 43,
    "start_time": "2024-05-22T07:14:35.353Z"
   },
   {
    "duration": 175,
    "start_time": "2024-05-22T07:14:35.398Z"
   },
   {
    "duration": 14,
    "start_time": "2024-05-22T07:14:35.576Z"
   },
   {
    "duration": 53,
    "start_time": "2024-05-22T07:14:35.593Z"
   },
   {
    "duration": 19,
    "start_time": "2024-05-22T07:14:35.649Z"
   },
   {
    "duration": 797,
    "start_time": "2024-05-22T07:14:35.671Z"
   },
   {
    "duration": 789,
    "start_time": "2024-05-22T07:14:36.473Z"
   },
   {
    "duration": 16,
    "start_time": "2024-05-22T07:14:37.265Z"
   },
   {
    "duration": 677,
    "start_time": "2024-05-22T07:14:37.284Z"
   },
   {
    "duration": 281,
    "start_time": "2024-05-22T07:14:37.964Z"
   },
   {
    "duration": 424,
    "start_time": "2024-05-22T07:14:38.249Z"
   },
   {
    "duration": 439,
    "start_time": "2024-05-22T07:14:38.676Z"
   },
   {
    "duration": 24,
    "start_time": "2024-05-22T07:14:39.118Z"
   },
   {
    "duration": 256,
    "start_time": "2024-05-22T07:14:39.145Z"
   },
   {
    "duration": 459,
    "start_time": "2024-05-22T07:14:39.404Z"
   },
   {
    "duration": 18,
    "start_time": "2024-05-22T07:14:39.865Z"
   },
   {
    "duration": 44,
    "start_time": "2024-05-22T07:14:39.886Z"
   },
   {
    "duration": 7,
    "start_time": "2024-05-22T07:14:39.934Z"
   },
   {
    "duration": 16,
    "start_time": "2024-05-22T07:14:39.945Z"
   },
   {
    "duration": 8,
    "start_time": "2024-05-22T07:14:39.964Z"
   }
  ],
  "kernelspec": {
   "display_name": "Python 3 (ipykernel)",
   "language": "python",
   "name": "python3"
  },
  "language_info": {
   "codemirror_mode": {
    "name": "ipython",
    "version": 3
   },
   "file_extension": ".py",
   "mimetype": "text/x-python",
   "name": "python",
   "nbconvert_exporter": "python",
   "pygments_lexer": "ipython3",
   "version": "3.9.19"
  },
  "toc": {
   "base_numbering": 1,
   "nav_menu": {},
   "number_sections": true,
   "sideBar": true,
   "skip_h1_title": false,
   "title_cell": "Table of Contents",
   "title_sidebar": "Contents",
   "toc_cell": false,
   "toc_position": {
    "height": "calc(100% - 180px)",
    "left": "10px",
    "top": "150px",
    "width": "247.6px"
   },
   "toc_section_display": true,
   "toc_window_display": false
  }
 },
 "nbformat": 4,
 "nbformat_minor": 2
}
